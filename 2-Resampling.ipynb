{
 "cells": [
  {
   "cell_type": "code",
   "execution_count": 1,
   "id": "2b4ca9b0",
   "metadata": {},
   "outputs": [
    {
     "name": "stdout",
     "output_type": "stream",
     "text": [
      "Resampling complete. All files have been processed.\n"
     ]
    }
   ],
   "source": [
    "import os\n",
    "import pandas as pd\n",
    "import numpy as np\n",
    "\n",
    "# Root directory of the dataset\n",
    "main_directory = \"D:/Parkinson's/Euclidean_Norm/2019_1\"\n",
    "# Output directory\n",
    "output_directory = \"D:/Parkinson's/Euclidean_Norm/Resampled Eucledian Distance_2019\"\n",
    "\n",
    "\n",
    "os.makedirs(output_directory, exist_ok=True)\n",
    "\n",
    "# List all files in the main_directory\n",
    "for filename in os.listdir(main_directory):\n",
    "    if filename.endswith(\".csv\"):\n",
    "        # Construct full file path\n",
    "        file_path = os.path.join(main_directory, filename)\n",
    "        # Read the CSV file into a DataFrame\n",
    "        df = pd.read_csv(file_path)\n",
    "\n",
    "        # Assuming the datetime column is named 'Datetime_PST'\n",
    "        # Convert 'Datetime_PST' to datetime while coercing errors\n",
    "        df['Datetime_PST'] = pd.to_datetime(df['Datetime_PST'], errors='coerce')\n",
    "\n",
    "        # Drop rows where 'Datetime_PST' could not be parsed\n",
    "        df.dropna(subset=['Datetime_PST'], inplace=True)\n",
    "\n",
    "        # Set the 'Datetime_PST' as the index\n",
    "        df.set_index('Datetime_PST', inplace=True)\n",
    "\n",
    "        # Select only numeric columns for resampling\n",
    "        numeric_columns = df.select_dtypes(include=[np.number])\n",
    "\n",
    "        # Resample the numeric data at 100Hz (10ms intervals)\n",
    "        resampled_numeric_data = numeric_columns.resample('10L').mean().interpolate()\n",
    "\n",
    "        # Construct output file path\n",
    "        output_file_path = os.path.join(output_directory, filename)\n",
    "        # Save the resampled data back to CSV\n",
    "        resampled_numeric_data.to_csv(output_file_path)\n",
    "\n",
    "print(\"Resampling complete. All files have been processed.\")\n",
    "\n"
   ]
  },
  {
   "cell_type": "code",
   "execution_count": null,
   "id": "0391b6c8",
   "metadata": {},
   "outputs": [],
   "source": []
  },
  {
   "cell_type": "code",
   "execution_count": null,
   "id": "1a87c789",
   "metadata": {},
   "outputs": [],
   "source": []
  }
 ],
 "metadata": {
  "kernelspec": {
   "display_name": "Python 3 (ipykernel)",
   "language": "python",
   "name": "python3"
  },
  "language_info": {
   "codemirror_mode": {
    "name": "ipython",
    "version": 3
   },
   "file_extension": ".py",
   "mimetype": "text/x-python",
   "name": "python",
   "nbconvert_exporter": "python",
   "pygments_lexer": "ipython3",
   "version": "3.11.5"
  }
 },
 "nbformat": 4,
 "nbformat_minor": 5
}
