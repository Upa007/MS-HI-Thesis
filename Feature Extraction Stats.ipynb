{
 "cells": [
  {
   "cell_type": "code",
   "execution_count": 10,
   "id": "8e8a20ac",
   "metadata": {},
   "outputs": [
    {
     "name": "stdout",
     "output_type": "stream",
     "text": [
      "Not enough data for a full window in file D:/Parkinson's/Filtered_Data_9_to_5\\3119_03282019_filtered.csv. Has 5566 samples, needs 30000.\n",
      "*** Feature extraction started ***\n"
     ]
    },
    {
     "data": {
      "text/html": [
       "\n",
       "              <p>\n",
       "                  Progress: 100% Complete\n",
       "              <p/>\n",
       "              <progress\n",
       "                  value='50'\n",
       "                  max='50',\n",
       "                  style='width: 25%',\n",
       "              >\n",
       "                  50\n",
       "              </progress>\n",
       "\n",
       "    "
      ],
      "text/plain": [
       "<IPython.core.display.HTML object>"
      ]
     },
     "metadata": {},
     "output_type": "display_data"
    },
    {
     "name": "stdout",
     "output_type": "stream",
     "text": [
      "\n",
      "*** Feature extraction finished ***\n",
      "Descriptive statistics for patient 3169 on 12112019 saved to D:/Parkinson's/Features_Extraction\\3169_12112019_features.csv\n",
      "*** Feature extraction started ***\n"
     ]
    },
    {
     "data": {
      "text/html": [
       "\n",
       "              <p>\n",
       "                  Progress: 100% Complete\n",
       "              <p/>\n",
       "              <progress\n",
       "                  value='65'\n",
       "                  max='65',\n",
       "                  style='width: 25%',\n",
       "              >\n",
       "                  65\n",
       "              </progress>\n",
       "\n",
       "    "
      ],
      "text/plain": [
       "<IPython.core.display.HTML object>"
      ]
     },
     "metadata": {},
     "output_type": "display_data"
    },
    {
     "name": "stdout",
     "output_type": "stream",
     "text": [
      "\n",
      "*** Feature extraction finished ***\n",
      "Descriptive statistics for patient 3181 on 10282019 saved to D:/Parkinson's/Features_Extraction\\3181_10282019_features.csv\n",
      "*** Feature extraction started ***\n"
     ]
    },
    {
     "data": {
      "text/html": [
       "\n",
       "              <p>\n",
       "                  Progress: 100% Complete\n",
       "              <p/>\n",
       "              <progress\n",
       "                  value='95'\n",
       "                  max='95',\n",
       "                  style='width: 25%',\n",
       "              >\n",
       "                  95\n",
       "              </progress>\n",
       "\n",
       "    "
      ],
      "text/plain": [
       "<IPython.core.display.HTML object>"
      ]
     },
     "metadata": {},
     "output_type": "display_data"
    },
    {
     "name": "stdout",
     "output_type": "stream",
     "text": [
      "\n",
      "*** Feature extraction finished ***\n",
      "Descriptive statistics for patient 3207 on 03132019 saved to D:/Parkinson's/Features_Extraction\\3207_03132019_features.csv\n",
      "*** Feature extraction started ***\n"
     ]
    },
    {
     "data": {
      "text/html": [
       "\n",
       "              <p>\n",
       "                  Progress: 100% Complete\n",
       "              <p/>\n",
       "              <progress\n",
       "                  value='95'\n",
       "                  max='95',\n",
       "                  style='width: 25%',\n",
       "              >\n",
       "                  95\n",
       "              </progress>\n",
       "\n",
       "    "
      ],
      "text/plain": [
       "<IPython.core.display.HTML object>"
      ]
     },
     "metadata": {},
     "output_type": "display_data"
    },
    {
     "name": "stdout",
     "output_type": "stream",
     "text": [
      "\n",
      "*** Feature extraction finished ***\n",
      "Descriptive statistics for patient 3216 on 10072019 saved to D:/Parkinson's/Features_Extraction\\3216_10072019_features.csv\n",
      "*** Feature extraction started ***\n"
     ]
    },
    {
     "data": {
      "text/html": [
       "\n",
       "              <p>\n",
       "                  Progress: 100% Complete\n",
       "              <p/>\n",
       "              <progress\n",
       "                  value='95'\n",
       "                  max='95',\n",
       "                  style='width: 25%',\n",
       "              >\n",
       "                  95\n",
       "              </progress>\n",
       "\n",
       "    "
      ],
      "text/plain": [
       "<IPython.core.display.HTML object>"
      ]
     },
     "metadata": {},
     "output_type": "display_data"
    },
    {
     "name": "stdout",
     "output_type": "stream",
     "text": [
      "\n",
      "*** Feature extraction finished ***\n",
      "Descriptive statistics for patient 3218 on 10022019 saved to D:/Parkinson's/Features_Extraction\\3218_10022019_features.csv\n",
      "*** Feature extraction started ***\n"
     ]
    },
    {
     "data": {
      "text/html": [
       "\n",
       "              <p>\n",
       "                  Progress: 100% Complete\n",
       "              <p/>\n",
       "              <progress\n",
       "                  value='95'\n",
       "                  max='95',\n",
       "                  style='width: 25%',\n",
       "              >\n",
       "                  95\n",
       "              </progress>\n",
       "\n",
       "    "
      ],
      "text/plain": [
       "<IPython.core.display.HTML object>"
      ]
     },
     "metadata": {},
     "output_type": "display_data"
    },
    {
     "name": "stdout",
     "output_type": "stream",
     "text": [
      "\n",
      "*** Feature extraction finished ***\n",
      "Descriptive statistics for patient 3223 on 01092019 saved to D:/Parkinson's/Features_Extraction\\3223_01092019_features.csv\n",
      "*** Feature extraction started ***\n"
     ]
    },
    {
     "data": {
      "text/html": [
       "\n",
       "              <p>\n",
       "                  Progress: 100% Complete\n",
       "              <p/>\n",
       "              <progress\n",
       "                  value='95'\n",
       "                  max='95',\n",
       "                  style='width: 25%',\n",
       "              >\n",
       "                  95\n",
       "              </progress>\n",
       "\n",
       "    "
      ],
      "text/plain": [
       "<IPython.core.display.HTML object>"
      ]
     },
     "metadata": {},
     "output_type": "display_data"
    },
    {
     "name": "stdout",
     "output_type": "stream",
     "text": [
      "\n",
      "*** Feature extraction finished ***\n",
      "Descriptive statistics for patient 3224 on 04242019 saved to D:/Parkinson's/Features_Extraction\\3224_04242019_features.csv\n",
      "*** Feature extraction started ***\n"
     ]
    },
    {
     "data": {
      "text/html": [
       "\n",
       "              <p>\n",
       "                  Progress: 100% Complete\n",
       "              <p/>\n",
       "              <progress\n",
       "                  value='95'\n",
       "                  max='95',\n",
       "                  style='width: 25%',\n",
       "              >\n",
       "                  95\n",
       "              </progress>\n",
       "\n",
       "    "
      ],
      "text/plain": [
       "<IPython.core.display.HTML object>"
      ]
     },
     "metadata": {},
     "output_type": "display_data"
    },
    {
     "name": "stdout",
     "output_type": "stream",
     "text": [
      "\n",
      "*** Feature extraction finished ***\n",
      "Descriptive statistics for patient 3227 on 05302019 saved to D:/Parkinson's/Features_Extraction\\3227_05302019_features.csv\n",
      "*** Feature extraction started ***\n"
     ]
    },
    {
     "data": {
      "text/html": [
       "\n",
       "              <p>\n",
       "                  Progress: 100% Complete\n",
       "              <p/>\n",
       "              <progress\n",
       "                  value='95'\n",
       "                  max='95',\n",
       "                  style='width: 25%',\n",
       "              >\n",
       "                  95\n",
       "              </progress>\n",
       "\n",
       "    "
      ],
      "text/plain": [
       "<IPython.core.display.HTML object>"
      ]
     },
     "metadata": {},
     "output_type": "display_data"
    },
    {
     "name": "stdout",
     "output_type": "stream",
     "text": [
      "\n",
      "*** Feature extraction finished ***\n",
      "Descriptive statistics for patient 3234 on 04252019 saved to D:/Parkinson's/Features_Extraction\\3234_04252019_features.csv\n",
      "*** Feature extraction started ***\n"
     ]
    },
    {
     "data": {
      "text/html": [
       "\n",
       "              <p>\n",
       "                  Progress: 100% Complete\n",
       "              <p/>\n",
       "              <progress\n",
       "                  value='95'\n",
       "                  max='95',\n",
       "                  style='width: 25%',\n",
       "              >\n",
       "                  95\n",
       "              </progress>\n",
       "\n",
       "    "
      ],
      "text/plain": [
       "<IPython.core.display.HTML object>"
      ]
     },
     "metadata": {},
     "output_type": "display_data"
    },
    {
     "name": "stdout",
     "output_type": "stream",
     "text": [
      "\n",
      "*** Feature extraction finished ***\n",
      "Descriptive statistics for patient 3237 on 04022019 saved to D:/Parkinson's/Features_Extraction\\3237_04022019_features.csv\n",
      "*** Feature extraction started ***\n"
     ]
    },
    {
     "data": {
      "text/html": [
       "\n",
       "              <p>\n",
       "                  Progress: 100% Complete\n",
       "              <p/>\n",
       "              <progress\n",
       "                  value='94'\n",
       "                  max='94',\n",
       "                  style='width: 25%',\n",
       "              >\n",
       "                  94\n",
       "              </progress>\n",
       "\n",
       "    "
      ],
      "text/plain": [
       "<IPython.core.display.HTML object>"
      ]
     },
     "metadata": {},
     "output_type": "display_data"
    },
    {
     "name": "stdout",
     "output_type": "stream",
     "text": [
      "\n",
      "*** Feature extraction finished ***\n",
      "Descriptive statistics for patient 3354 on 05202019 saved to D:/Parkinson's/Features_Extraction\\3354_05202019_features.csv\n",
      "*** Feature extraction started ***\n"
     ]
    },
    {
     "data": {
      "text/html": [
       "\n",
       "              <p>\n",
       "                  Progress: 100% Complete\n",
       "              <p/>\n",
       "              <progress\n",
       "                  value='95'\n",
       "                  max='95',\n",
       "                  style='width: 25%',\n",
       "              >\n",
       "                  95\n",
       "              </progress>\n",
       "\n",
       "    "
      ],
      "text/plain": [
       "<IPython.core.display.HTML object>"
      ]
     },
     "metadata": {},
     "output_type": "display_data"
    },
    {
     "name": "stdout",
     "output_type": "stream",
     "text": [
      "\n",
      "*** Feature extraction finished ***\n",
      "Descriptive statistics for patient 3366 on 11112019 saved to D:/Parkinson's/Features_Extraction\\3366_11112019_features.csv\n",
      "*** Feature extraction started ***\n"
     ]
    },
    {
     "data": {
      "text/html": [
       "\n",
       "              <p>\n",
       "                  Progress: 100% Complete\n",
       "              <p/>\n",
       "              <progress\n",
       "                  value='95'\n",
       "                  max='95',\n",
       "                  style='width: 25%',\n",
       "              >\n",
       "                  95\n",
       "              </progress>\n",
       "\n",
       "    "
      ],
      "text/plain": [
       "<IPython.core.display.HTML object>"
      ]
     },
     "metadata": {},
     "output_type": "display_data"
    },
    {
     "name": "stdout",
     "output_type": "stream",
     "text": [
      "\n",
      "*** Feature extraction finished ***\n",
      "Descriptive statistics for patient 3367 on 08022019 saved to D:/Parkinson's/Features_Extraction\\3367_08022019_features.csv\n",
      "*** Feature extraction started ***\n"
     ]
    },
    {
     "data": {
      "text/html": [
       "\n",
       "              <p>\n",
       "                  Progress: 100% Complete\n",
       "              <p/>\n",
       "              <progress\n",
       "                  value='95'\n",
       "                  max='95',\n",
       "                  style='width: 25%',\n",
       "              >\n",
       "                  95\n",
       "              </progress>\n",
       "\n",
       "    "
      ],
      "text/plain": [
       "<IPython.core.display.HTML object>"
      ]
     },
     "metadata": {},
     "output_type": "display_data"
    },
    {
     "name": "stdout",
     "output_type": "stream",
     "text": [
      "\n",
      "*** Feature extraction finished ***\n",
      "Descriptive statistics for patient 3403 on 07082019 saved to D:/Parkinson's/Features_Extraction\\3403_07082019_features.csv\n",
      "Not enough data for a full window in file D:/Parkinson's/Filtered_Data_9_to_5\\3404_07012019_filtered.csv. Has 28802 samples, needs 30000.\n",
      "*** Feature extraction started ***\n"
     ]
    },
    {
     "data": {
      "text/html": [
       "\n",
       "              <p>\n",
       "                  Progress: 100% Complete\n",
       "              <p/>\n",
       "              <progress\n",
       "                  value='95'\n",
       "                  max='95',\n",
       "                  style='width: 25%',\n",
       "              >\n",
       "                  95\n",
       "              </progress>\n",
       "\n",
       "    "
      ],
      "text/plain": [
       "<IPython.core.display.HTML object>"
      ]
     },
     "metadata": {},
     "output_type": "display_data"
    },
    {
     "name": "stdout",
     "output_type": "stream",
     "text": [
      "\n",
      "*** Feature extraction finished ***\n",
      "Descriptive statistics for patient 3407 on 10042019 saved to D:/Parkinson's/Features_Extraction\\3407_10042019_features.csv\n",
      "*** Feature extraction started ***\n"
     ]
    },
    {
     "data": {
      "text/html": [
       "\n",
       "              <p>\n",
       "                  Progress: 100% Complete\n",
       "              <p/>\n",
       "              <progress\n",
       "                  value='95'\n",
       "                  max='95',\n",
       "                  style='width: 25%',\n",
       "              >\n",
       "                  95\n",
       "              </progress>\n",
       "\n",
       "    "
      ],
      "text/plain": [
       "<IPython.core.display.HTML object>"
      ]
     },
     "metadata": {},
     "output_type": "display_data"
    },
    {
     "name": "stdout",
     "output_type": "stream",
     "text": [
      "\n",
      "*** Feature extraction finished ***\n",
      "Descriptive statistics for patient 3415 on 03222019 saved to D:/Parkinson's/Features_Extraction\\3415_03222019_features.csv\n",
      "*** Feature extraction started ***\n"
     ]
    },
    {
     "data": {
      "text/html": [
       "\n",
       "              <p>\n",
       "                  Progress: 100% Complete\n",
       "              <p/>\n",
       "              <progress\n",
       "                  value='95'\n",
       "                  max='95',\n",
       "                  style='width: 25%',\n",
       "              >\n",
       "                  95\n",
       "              </progress>\n",
       "\n",
       "    "
      ],
      "text/plain": [
       "<IPython.core.display.HTML object>"
      ]
     },
     "metadata": {},
     "output_type": "display_data"
    },
    {
     "name": "stdout",
     "output_type": "stream",
     "text": [
      "\n",
      "*** Feature extraction finished ***\n",
      "Descriptive statistics for patient 3417 on 06202019 saved to D:/Parkinson's/Features_Extraction\\3417_06202019_features.csv\n",
      "Not enough data for a full window in file D:/Parkinson's/Filtered_Data_9_to_5\\3424_07012019_filtered.csv. Has 951 samples, needs 30000.\n",
      "Not enough data for a full window in file D:/Parkinson's/Filtered_Data_9_to_5\\3428_07012019_filtered.csv. Has 28802 samples, needs 30000.\n",
      "*** Feature extraction started ***\n"
     ]
    },
    {
     "data": {
      "text/html": [
       "\n",
       "              <p>\n",
       "                  Progress: 100% Complete\n",
       "              <p/>\n",
       "              <progress\n",
       "                  value='95'\n",
       "                  max='95',\n",
       "                  style='width: 25%',\n",
       "              >\n",
       "                  95\n",
       "              </progress>\n",
       "\n",
       "    "
      ],
      "text/plain": [
       "<IPython.core.display.HTML object>"
      ]
     },
     "metadata": {},
     "output_type": "display_data"
    },
    {
     "name": "stdout",
     "output_type": "stream",
     "text": [
      "\n",
      "*** Feature extraction finished ***\n",
      "Descriptive statistics for patient 3429 on 07012019 saved to D:/Parkinson's/Features_Extraction\\3429_07012019_features.csv\n",
      "*** Feature extraction started ***\n"
     ]
    },
    {
     "data": {
      "text/html": [
       "\n",
       "              <p>\n",
       "                  Progress: 100% Complete\n",
       "              <p/>\n",
       "              <progress\n",
       "                  value='34'\n",
       "                  max='34',\n",
       "                  style='width: 25%',\n",
       "              >\n",
       "                  34\n",
       "              </progress>\n",
       "\n",
       "    "
      ],
      "text/plain": [
       "<IPython.core.display.HTML object>"
      ]
     },
     "metadata": {},
     "output_type": "display_data"
    },
    {
     "name": "stdout",
     "output_type": "stream",
     "text": [
      "\n",
      "*** Feature extraction finished ***\n",
      "Descriptive statistics for patient 3431 on 09192019 saved to D:/Parkinson's/Features_Extraction\\3431_09192019_features.csv\n",
      "Not enough data for a full window in file D:/Parkinson's/Filtered_Data_9_to_5\\3433_11012019_filtered.csv. Has 23010 samples, needs 30000.\n",
      "Not enough data for a full window in file D:/Parkinson's/Filtered_Data_9_to_5\\3434_10012019_filtered.csv. Has 28802 samples, needs 30000.\n",
      "*** Feature extraction started ***\n"
     ]
    },
    {
     "data": {
      "text/html": [
       "\n",
       "              <p>\n",
       "                  Progress: 100% Complete\n",
       "              <p/>\n",
       "              <progress\n",
       "                  value='28'\n",
       "                  max='28',\n",
       "                  style='width: 25%',\n",
       "              >\n",
       "                  28\n",
       "              </progress>\n",
       "\n",
       "    "
      ],
      "text/plain": [
       "<IPython.core.display.HTML object>"
      ]
     },
     "metadata": {},
     "output_type": "display_data"
    },
    {
     "name": "stdout",
     "output_type": "stream",
     "text": [
      "\n",
      "*** Feature extraction finished ***\n",
      "Descriptive statistics for patient 3435 on 10012019 saved to D:/Parkinson's/Features_Extraction\\3435_10012019_features.csv\n",
      "*** Feature extraction started ***\n"
     ]
    },
    {
     "data": {
      "text/html": [
       "\n",
       "              <p>\n",
       "                  Progress: 100% Complete\n",
       "              <p/>\n",
       "              <progress\n",
       "                  value='95'\n",
       "                  max='95',\n",
       "                  style='width: 25%',\n",
       "              >\n",
       "                  95\n",
       "              </progress>\n",
       "\n",
       "    "
      ],
      "text/plain": [
       "<IPython.core.display.HTML object>"
      ]
     },
     "metadata": {},
     "output_type": "display_data"
    },
    {
     "name": "stdout",
     "output_type": "stream",
     "text": [
      "\n",
      "*** Feature extraction finished ***\n",
      "Descriptive statistics for patient 3439 on 01312019 saved to D:/Parkinson's/Features_Extraction\\3439_01312019_features.csv\n",
      "*** Feature extraction started ***\n"
     ]
    },
    {
     "data": {
      "text/html": [
       "\n",
       "              <p>\n",
       "                  Progress: 100% Complete\n",
       "              <p/>\n",
       "              <progress\n",
       "                  value='95'\n",
       "                  max='95',\n",
       "                  style='width: 25%',\n",
       "              >\n",
       "                  95\n",
       "              </progress>\n",
       "\n",
       "    "
      ],
      "text/plain": [
       "<IPython.core.display.HTML object>"
      ]
     },
     "metadata": {},
     "output_type": "display_data"
    },
    {
     "name": "stdout",
     "output_type": "stream",
     "text": [
      "\n",
      "*** Feature extraction finished ***\n",
      "Descriptive statistics for patient 3443 on 03202019 saved to D:/Parkinson's/Features_Extraction\\3443_03202019_features.csv\n",
      "*** Feature extraction started ***\n"
     ]
    },
    {
     "data": {
      "text/html": [
       "\n",
       "              <p>\n",
       "                  Progress: 100% Complete\n",
       "              <p/>\n",
       "              <progress\n",
       "                  value='95'\n",
       "                  max='95',\n",
       "                  style='width: 25%',\n",
       "              >\n",
       "                  95\n",
       "              </progress>\n",
       "\n",
       "    "
      ],
      "text/plain": [
       "<IPython.core.display.HTML object>"
      ]
     },
     "metadata": {},
     "output_type": "display_data"
    },
    {
     "name": "stdout",
     "output_type": "stream",
     "text": [
      "\n",
      "*** Feature extraction finished ***\n",
      "Descriptive statistics for patient 3444 on 04192019 saved to D:/Parkinson's/Features_Extraction\\3444_04192019_features.csv\n",
      "*** Feature extraction started ***\n"
     ]
    },
    {
     "data": {
      "text/html": [
       "\n",
       "              <p>\n",
       "                  Progress: 100% Complete\n",
       "              <p/>\n",
       "              <progress\n",
       "                  value='95'\n",
       "                  max='95',\n",
       "                  style='width: 25%',\n",
       "              >\n",
       "                  95\n",
       "              </progress>\n",
       "\n",
       "    "
      ],
      "text/plain": [
       "<IPython.core.display.HTML object>"
      ]
     },
     "metadata": {},
     "output_type": "display_data"
    },
    {
     "name": "stdout",
     "output_type": "stream",
     "text": [
      "\n",
      "*** Feature extraction finished ***\n",
      "Descriptive statistics for patient 3446 on 05312019 saved to D:/Parkinson's/Features_Extraction\\3446_05312019_features.csv\n",
      "*** Feature extraction started ***\n"
     ]
    },
    {
     "data": {
      "text/html": [
       "\n",
       "              <p>\n",
       "                  Progress: 100% Complete\n",
       "              <p/>\n",
       "              <progress\n",
       "                  value='95'\n",
       "                  max='95',\n",
       "                  style='width: 25%',\n",
       "              >\n",
       "                  95\n",
       "              </progress>\n",
       "\n",
       "    "
      ],
      "text/plain": [
       "<IPython.core.display.HTML object>"
      ]
     },
     "metadata": {},
     "output_type": "display_data"
    },
    {
     "name": "stdout",
     "output_type": "stream",
     "text": [
      "\n",
      "*** Feature extraction finished ***\n",
      "Descriptive statistics for patient 3448 on 05152019 saved to D:/Parkinson's/Features_Extraction\\3448_05152019_features.csv\n",
      "Not enough data for a full window in file D:/Parkinson's/Filtered_Data_9_to_5\\3451_12012019_filtered.csv. Has 25594 samples, needs 30000.\n",
      "*** Feature extraction started ***\n"
     ]
    },
    {
     "data": {
      "text/html": [
       "\n",
       "              <p>\n",
       "                  Progress: 100% Complete\n",
       "              <p/>\n",
       "              <progress\n",
       "                  value='84'\n",
       "                  max='84',\n",
       "                  style='width: 25%',\n",
       "              >\n",
       "                  84\n",
       "              </progress>\n",
       "\n",
       "    "
      ],
      "text/plain": [
       "<IPython.core.display.HTML object>"
      ]
     },
     "metadata": {},
     "output_type": "display_data"
    },
    {
     "name": "stdout",
     "output_type": "stream",
     "text": [
      "\n",
      "*** Feature extraction finished ***\n",
      "Descriptive statistics for patient 3453 on 11262019 saved to D:/Parkinson's/Features_Extraction\\3453_11262019_features.csv\n",
      "*** Feature extraction started ***\n"
     ]
    },
    {
     "data": {
      "text/html": [
       "\n",
       "              <p>\n",
       "                  Progress: 100% Complete\n",
       "              <p/>\n",
       "              <progress\n",
       "                  value='95'\n",
       "                  max='95',\n",
       "                  style='width: 25%',\n",
       "              >\n",
       "                  95\n",
       "              </progress>\n",
       "\n",
       "    "
      ],
      "text/plain": [
       "<IPython.core.display.HTML object>"
      ]
     },
     "metadata": {},
     "output_type": "display_data"
    },
    {
     "name": "stdout",
     "output_type": "stream",
     "text": [
      "\n",
      "*** Feature extraction finished ***\n",
      "Descriptive statistics for patient 3459 on 05292019 saved to D:/Parkinson's/Features_Extraction\\3459_05292019_features.csv\n",
      "*** Feature extraction started ***\n"
     ]
    },
    {
     "data": {
      "text/html": [
       "\n",
       "              <p>\n",
       "                  Progress: 100% Complete\n",
       "              <p/>\n",
       "              <progress\n",
       "                  value='95'\n",
       "                  max='95',\n",
       "                  style='width: 25%',\n",
       "              >\n",
       "                  95\n",
       "              </progress>\n",
       "\n",
       "    "
      ],
      "text/plain": [
       "<IPython.core.display.HTML object>"
      ]
     },
     "metadata": {},
     "output_type": "display_data"
    },
    {
     "name": "stdout",
     "output_type": "stream",
     "text": [
      "\n",
      "*** Feature extraction finished ***\n",
      "Descriptive statistics for patient 3460 on 05292019 saved to D:/Parkinson's/Features_Extraction\\3460_05292019_features.csv\n",
      "*** Feature extraction started ***\n"
     ]
    },
    {
     "data": {
      "text/html": [
       "\n",
       "              <p>\n",
       "                  Progress: 100% Complete\n",
       "              <p/>\n",
       "              <progress\n",
       "                  value='95'\n",
       "                  max='95',\n",
       "                  style='width: 25%',\n",
       "              >\n",
       "                  95\n",
       "              </progress>\n",
       "\n",
       "    "
      ],
      "text/plain": [
       "<IPython.core.display.HTML object>"
      ]
     },
     "metadata": {},
     "output_type": "display_data"
    },
    {
     "name": "stdout",
     "output_type": "stream",
     "text": [
      "\n",
      "*** Feature extraction finished ***\n",
      "Descriptive statistics for patient 3461 on 05212019 saved to D:/Parkinson's/Features_Extraction\\3461_05212019_features.csv\n",
      "*** Feature extraction started ***\n"
     ]
    },
    {
     "data": {
      "text/html": [
       "\n",
       "              <p>\n",
       "                  Progress: 100% Complete\n",
       "              <p/>\n",
       "              <progress\n",
       "                  value='95'\n",
       "                  max='95',\n",
       "                  style='width: 25%',\n",
       "              >\n",
       "                  95\n",
       "              </progress>\n",
       "\n",
       "    "
      ],
      "text/plain": [
       "<IPython.core.display.HTML object>"
      ]
     },
     "metadata": {},
     "output_type": "display_data"
    },
    {
     "name": "stdout",
     "output_type": "stream",
     "text": [
      "\n",
      "*** Feature extraction finished ***\n",
      "Descriptive statistics for patient 3464 on 10292019 saved to D:/Parkinson's/Features_Extraction\\3464_10292019_features.csv\n",
      "*** Feature extraction started ***\n"
     ]
    },
    {
     "data": {
      "text/html": [
       "\n",
       "              <p>\n",
       "                  Progress: 100% Complete\n",
       "              <p/>\n",
       "              <progress\n",
       "                  value='95'\n",
       "                  max='95',\n",
       "                  style='width: 25%',\n",
       "              >\n",
       "                  95\n",
       "              </progress>\n",
       "\n",
       "    "
      ],
      "text/plain": [
       "<IPython.core.display.HTML object>"
      ]
     },
     "metadata": {},
     "output_type": "display_data"
    },
    {
     "name": "stdout",
     "output_type": "stream",
     "text": [
      "\n",
      "*** Feature extraction finished ***\n",
      "Descriptive statistics for patient 3465 on 10222019 saved to D:/Parkinson's/Features_Extraction\\3465_10222019_features.csv\n",
      "*** Feature extraction started ***\n"
     ]
    },
    {
     "data": {
      "text/html": [
       "\n",
       "              <p>\n",
       "                  Progress: 100% Complete\n",
       "              <p/>\n",
       "              <progress\n",
       "                  value='95'\n",
       "                  max='95',\n",
       "                  style='width: 25%',\n",
       "              >\n",
       "                  95\n",
       "              </progress>\n",
       "\n",
       "    "
      ],
      "text/plain": [
       "<IPython.core.display.HTML object>"
      ]
     },
     "metadata": {},
     "output_type": "display_data"
    },
    {
     "name": "stdout",
     "output_type": "stream",
     "text": [
      "\n",
      "*** Feature extraction finished ***\n",
      "Descriptive statistics for patient 3467 on 12102019 saved to D:/Parkinson's/Features_Extraction\\3467_12102019_features.csv\n",
      "*** Feature extraction started ***\n"
     ]
    },
    {
     "data": {
      "text/html": [
       "\n",
       "              <p>\n",
       "                  Progress: 100% Complete\n",
       "              <p/>\n",
       "              <progress\n",
       "                  value='95'\n",
       "                  max='95',\n",
       "                  style='width: 25%',\n",
       "              >\n",
       "                  95\n",
       "              </progress>\n",
       "\n",
       "    "
      ],
      "text/plain": [
       "<IPython.core.display.HTML object>"
      ]
     },
     "metadata": {},
     "output_type": "display_data"
    },
    {
     "name": "stdout",
     "output_type": "stream",
     "text": [
      "\n",
      "*** Feature extraction finished ***\n",
      "Descriptive statistics for patient 3472 on 06182019 saved to D:/Parkinson's/Features_Extraction\\3472_06182019_features.csv\n",
      "*** Feature extraction started ***\n"
     ]
    },
    {
     "data": {
      "text/html": [
       "\n",
       "              <p>\n",
       "                  Progress: 100% Complete\n",
       "              <p/>\n",
       "              <progress\n",
       "                  value='95'\n",
       "                  max='95',\n",
       "                  style='width: 25%',\n",
       "              >\n",
       "                  95\n",
       "              </progress>\n",
       "\n",
       "    "
      ],
      "text/plain": [
       "<IPython.core.display.HTML object>"
      ]
     },
     "metadata": {},
     "output_type": "display_data"
    },
    {
     "name": "stdout",
     "output_type": "stream",
     "text": [
      "\n",
      "*** Feature extraction finished ***\n",
      "Descriptive statistics for patient 3503 on 02052019 saved to D:/Parkinson's/Features_Extraction\\3503_02052019_features.csv\n",
      "*** Feature extraction started ***\n"
     ]
    },
    {
     "data": {
      "text/html": [
       "\n",
       "              <p>\n",
       "                  Progress: 100% Complete\n",
       "              <p/>\n",
       "              <progress\n",
       "                  value='95'\n",
       "                  max='95',\n",
       "                  style='width: 25%',\n",
       "              >\n",
       "                  95\n",
       "              </progress>\n",
       "\n",
       "    "
      ],
      "text/plain": [
       "<IPython.core.display.HTML object>"
      ]
     },
     "metadata": {},
     "output_type": "display_data"
    },
    {
     "name": "stdout",
     "output_type": "stream",
     "text": [
      "\n",
      "*** Feature extraction finished ***\n",
      "Descriptive statistics for patient 3517 on 10012019 saved to D:/Parkinson's/Features_Extraction\\3517_10012019_features.csv\n",
      "*** Feature extraction started ***\n"
     ]
    },
    {
     "data": {
      "text/html": [
       "\n",
       "              <p>\n",
       "                  Progress: 100% Complete\n",
       "              <p/>\n",
       "              <progress\n",
       "                  value='95'\n",
       "                  max='95',\n",
       "                  style='width: 25%',\n",
       "              >\n",
       "                  95\n",
       "              </progress>\n",
       "\n",
       "    "
      ],
      "text/plain": [
       "<IPython.core.display.HTML object>"
      ]
     },
     "metadata": {},
     "output_type": "display_data"
    },
    {
     "name": "stdout",
     "output_type": "stream",
     "text": [
      "\n",
      "*** Feature extraction finished ***\n",
      "Descriptive statistics for patient 3521 on 12012019 saved to D:/Parkinson's/Features_Extraction\\3521_12012019_features.csv\n",
      "Not enough data for a full window in file D:/Parkinson's/Filtered_Data_9_to_5\\3522_12012019_filtered.csv. Has 28802 samples, needs 30000.\n",
      "*** Feature extraction started ***\n"
     ]
    },
    {
     "data": {
      "text/html": [
       "\n",
       "              <p>\n",
       "                  Progress: 100% Complete\n",
       "              <p/>\n",
       "              <progress\n",
       "                  value='95'\n",
       "                  max='95',\n",
       "                  style='width: 25%',\n",
       "              >\n",
       "                  95\n",
       "              </progress>\n",
       "\n",
       "    "
      ],
      "text/plain": [
       "<IPython.core.display.HTML object>"
      ]
     },
     "metadata": {},
     "output_type": "display_data"
    },
    {
     "name": "stdout",
     "output_type": "stream",
     "text": [
      "\n",
      "*** Feature extraction finished ***\n",
      "Descriptive statistics for patient 3528 on 01092019 saved to D:/Parkinson's/Features_Extraction\\3528_01092019_features.csv\n",
      "Not enough data for a full window in file D:/Parkinson's/Filtered_Data_9_to_5\\3532_03042019_filtered.csv. Has 28802 samples, needs 30000.\n",
      "Not enough data for a full window in file D:/Parkinson's/Filtered_Data_9_to_5\\3540_10012019_filtered.csv. Has 28802 samples, needs 30000.\n",
      "*** Feature extraction started ***\n"
     ]
    },
    {
     "data": {
      "text/html": [
       "\n",
       "              <p>\n",
       "                  Progress: 100% Complete\n",
       "              <p/>\n",
       "              <progress\n",
       "                  value='95'\n",
       "                  max='95',\n",
       "                  style='width: 25%',\n",
       "              >\n",
       "                  95\n",
       "              </progress>\n",
       "\n",
       "    "
      ],
      "text/plain": [
       "<IPython.core.display.HTML object>"
      ]
     },
     "metadata": {},
     "output_type": "display_data"
    },
    {
     "name": "stdout",
     "output_type": "stream",
     "text": [
      "\n",
      "*** Feature extraction finished ***\n",
      "Descriptive statistics for patient 3565 on 07122019 saved to D:/Parkinson's/Features_Extraction\\3565_07122019_features.csv\n",
      "*** Feature extraction started ***\n"
     ]
    },
    {
     "data": {
      "text/html": [
       "\n",
       "              <p>\n",
       "                  Progress: 100% Complete\n",
       "              <p/>\n",
       "              <progress\n",
       "                  value='95'\n",
       "                  max='95',\n",
       "                  style='width: 25%',\n",
       "              >\n",
       "                  95\n",
       "              </progress>\n",
       "\n",
       "    "
      ],
      "text/plain": [
       "<IPython.core.display.HTML object>"
      ]
     },
     "metadata": {},
     "output_type": "display_data"
    },
    {
     "name": "stdout",
     "output_type": "stream",
     "text": [
      "\n",
      "*** Feature extraction finished ***\n",
      "Descriptive statistics for patient 3567 on 07102019 saved to D:/Parkinson's/Features_Extraction\\3567_07102019_features.csv\n",
      "*** Feature extraction started ***\n"
     ]
    },
    {
     "data": {
      "text/html": [
       "\n",
       "              <p>\n",
       "                  Progress: 100% Complete\n",
       "              <p/>\n",
       "              <progress\n",
       "                  value='95'\n",
       "                  max='95',\n",
       "                  style='width: 25%',\n",
       "              >\n",
       "                  95\n",
       "              </progress>\n",
       "\n",
       "    "
      ],
      "text/plain": [
       "<IPython.core.display.HTML object>"
      ]
     },
     "metadata": {},
     "output_type": "display_data"
    },
    {
     "name": "stdout",
     "output_type": "stream",
     "text": [
      "\n",
      "*** Feature extraction finished ***\n",
      "Descriptive statistics for patient 3570 on 07012019 saved to D:/Parkinson's/Features_Extraction\\3570_07012019_features.csv\n",
      "*** Feature extraction started ***\n"
     ]
    },
    {
     "data": {
      "text/html": [
       "\n",
       "              <p>\n",
       "                  Progress: 100% Complete\n",
       "              <p/>\n",
       "              <progress\n",
       "                  value='61'\n",
       "                  max='61',\n",
       "                  style='width: 25%',\n",
       "              >\n",
       "                  61\n",
       "              </progress>\n",
       "\n",
       "    "
      ],
      "text/plain": [
       "<IPython.core.display.HTML object>"
      ]
     },
     "metadata": {},
     "output_type": "display_data"
    },
    {
     "name": "stdout",
     "output_type": "stream",
     "text": [
      "\n",
      "*** Feature extraction finished ***\n",
      "Descriptive statistics for patient 3572 on 08262019 saved to D:/Parkinson's/Features_Extraction\\3572_08262019_features.csv\n",
      "*** Feature extraction started ***\n"
     ]
    },
    {
     "data": {
      "text/html": [
       "\n",
       "              <p>\n",
       "                  Progress: 100% Complete\n",
       "              <p/>\n",
       "              <progress\n",
       "                  value='9'\n",
       "                  max='9',\n",
       "                  style='width: 25%',\n",
       "              >\n",
       "                  9\n",
       "              </progress>\n",
       "\n",
       "    "
      ],
      "text/plain": [
       "<IPython.core.display.HTML object>"
      ]
     },
     "metadata": {},
     "output_type": "display_data"
    },
    {
     "name": "stdout",
     "output_type": "stream",
     "text": [
      "\n",
      "*** Feature extraction finished ***\n",
      "Descriptive statistics for patient 3577 on 12092019 saved to D:/Parkinson's/Features_Extraction\\3577_12092019_features.csv\n",
      "*** Feature extraction started ***\n"
     ]
    },
    {
     "data": {
      "text/html": [
       "\n",
       "              <p>\n",
       "                  Progress: 100% Complete\n",
       "              <p/>\n",
       "              <progress\n",
       "                  value='95'\n",
       "                  max='95',\n",
       "                  style='width: 25%',\n",
       "              >\n",
       "                  95\n",
       "              </progress>\n",
       "\n",
       "    "
      ],
      "text/plain": [
       "<IPython.core.display.HTML object>"
      ]
     },
     "metadata": {},
     "output_type": "display_data"
    },
    {
     "name": "stdout",
     "output_type": "stream",
     "text": [
      "\n",
      "*** Feature extraction finished ***\n",
      "Descriptive statistics for patient 3585 on 07292019 saved to D:/Parkinson's/Features_Extraction\\3585_07292019_features.csv\n",
      "*** Feature extraction started ***\n"
     ]
    },
    {
     "data": {
      "text/html": [
       "\n",
       "              <p>\n",
       "                  Progress: 100% Complete\n",
       "              <p/>\n",
       "              <progress\n",
       "                  value='73'\n",
       "                  max='73',\n",
       "                  style='width: 25%',\n",
       "              >\n",
       "                  73\n",
       "              </progress>\n",
       "\n",
       "    "
      ],
      "text/plain": [
       "<IPython.core.display.HTML object>"
      ]
     },
     "metadata": {},
     "output_type": "display_data"
    },
    {
     "name": "stdout",
     "output_type": "stream",
     "text": [
      "\n",
      "*** Feature extraction finished ***\n",
      "Descriptive statistics for patient 3586 on 07082019 saved to D:/Parkinson's/Features_Extraction\\3586_07082019_features.csv\n",
      "*** Feature extraction started ***\n"
     ]
    },
    {
     "data": {
      "text/html": [
       "\n",
       "              <p>\n",
       "                  Progress: 100% Complete\n",
       "              <p/>\n",
       "              <progress\n",
       "                  value='56'\n",
       "                  max='56',\n",
       "                  style='width: 25%',\n",
       "              >\n",
       "                  56\n",
       "              </progress>\n",
       "\n",
       "    "
      ],
      "text/plain": [
       "<IPython.core.display.HTML object>"
      ]
     },
     "metadata": {},
     "output_type": "display_data"
    },
    {
     "name": "stdout",
     "output_type": "stream",
     "text": [
      "\n",
      "*** Feature extraction finished ***\n",
      "Descriptive statistics for patient 3619 on 11142019 saved to D:/Parkinson's/Features_Extraction\\3619_11142019_features.csv\n",
      "*** Feature extraction started ***\n"
     ]
    },
    {
     "data": {
      "text/html": [
       "\n",
       "              <p>\n",
       "                  Progress: 100% Complete\n",
       "              <p/>\n",
       "              <progress\n",
       "                  value='92'\n",
       "                  max='92',\n",
       "                  style='width: 25%',\n",
       "              >\n",
       "                  92\n",
       "              </progress>\n",
       "\n",
       "    "
      ],
      "text/plain": [
       "<IPython.core.display.HTML object>"
      ]
     },
     "metadata": {},
     "output_type": "display_data"
    },
    {
     "name": "stdout",
     "output_type": "stream",
     "text": [
      "\n",
      "*** Feature extraction finished ***\n",
      "Descriptive statistics for patient 3654 on 04222019 saved to D:/Parkinson's/Features_Extraction\\3654_04222019_features.csv\n",
      "*** Feature extraction started ***\n"
     ]
    },
    {
     "data": {
      "text/html": [
       "\n",
       "              <p>\n",
       "                  Progress: 100% Complete\n",
       "              <p/>\n",
       "              <progress\n",
       "                  value='84'\n",
       "                  max='84',\n",
       "                  style='width: 25%',\n",
       "              >\n",
       "                  84\n",
       "              </progress>\n",
       "\n",
       "    "
      ],
      "text/plain": [
       "<IPython.core.display.HTML object>"
      ]
     },
     "metadata": {},
     "output_type": "display_data"
    },
    {
     "name": "stdout",
     "output_type": "stream",
     "text": [
      "\n",
      "*** Feature extraction finished ***\n",
      "Descriptive statistics for patient 3666 on 04022019 saved to D:/Parkinson's/Features_Extraction\\3666_04022019_features.csv\n",
      "*** Feature extraction started ***\n"
     ]
    },
    {
     "data": {
      "text/html": [
       "\n",
       "              <p>\n",
       "                  Progress: 100% Complete\n",
       "              <p/>\n",
       "              <progress\n",
       "                  value='81'\n",
       "                  max='81',\n",
       "                  style='width: 25%',\n",
       "              >\n",
       "                  81\n",
       "              </progress>\n",
       "\n",
       "    "
      ],
      "text/plain": [
       "<IPython.core.display.HTML object>"
      ]
     },
     "metadata": {},
     "output_type": "display_data"
    },
    {
     "name": "stdout",
     "output_type": "stream",
     "text": [
      "\n",
      "*** Feature extraction finished ***\n",
      "Descriptive statistics for patient 3959 on 10042019 saved to D:/Parkinson's/Features_Extraction\\3959_10042019_features.csv\n",
      "*** Feature extraction started ***\n"
     ]
    },
    {
     "data": {
      "text/html": [
       "\n",
       "              <p>\n",
       "                  Progress: 100% Complete\n",
       "              <p/>\n",
       "              <progress\n",
       "                  value='95'\n",
       "                  max='95',\n",
       "                  style='width: 25%',\n",
       "              >\n",
       "                  95\n",
       "              </progress>\n",
       "\n",
       "    "
      ],
      "text/plain": [
       "<IPython.core.display.HTML object>"
      ]
     },
     "metadata": {},
     "output_type": "display_data"
    },
    {
     "name": "stdout",
     "output_type": "stream",
     "text": [
      "\n",
      "*** Feature extraction finished ***\n",
      "Descriptive statistics for patient 3960 on 12022019 saved to D:/Parkinson's/Features_Extraction\\3960_12022019_features.csv\n",
      "*** Feature extraction started ***\n"
     ]
    },
    {
     "data": {
      "text/html": [
       "\n",
       "              <p>\n",
       "                  Progress: 100% Complete\n",
       "              <p/>\n",
       "              <progress\n",
       "                  value='80'\n",
       "                  max='80',\n",
       "                  style='width: 25%',\n",
       "              >\n",
       "                  80\n",
       "              </progress>\n",
       "\n",
       "    "
      ],
      "text/plain": [
       "<IPython.core.display.HTML object>"
      ]
     },
     "metadata": {},
     "output_type": "display_data"
    },
    {
     "name": "stdout",
     "output_type": "stream",
     "text": [
      "\n",
      "*** Feature extraction finished ***\n",
      "Descriptive statistics for patient 3966 on 03082019 saved to D:/Parkinson's/Features_Extraction\\3966_03082019_features.csv\n",
      "*** Feature extraction started ***\n"
     ]
    },
    {
     "data": {
      "text/html": [
       "\n",
       "              <p>\n",
       "                  Progress: 100% Complete\n",
       "              <p/>\n",
       "              <progress\n",
       "                  value='72'\n",
       "                  max='72',\n",
       "                  style='width: 25%',\n",
       "              >\n",
       "                  72\n",
       "              </progress>\n",
       "\n",
       "    "
      ],
      "text/plain": [
       "<IPython.core.display.HTML object>"
      ]
     },
     "metadata": {},
     "output_type": "display_data"
    },
    {
     "name": "stdout",
     "output_type": "stream",
     "text": [
      "\n",
      "*** Feature extraction finished ***\n",
      "Descriptive statistics for patient 3969 on 03062019 saved to D:/Parkinson's/Features_Extraction\\3969_03062019_features.csv\n",
      "Not enough data for a full window in file D:/Parkinson's/Filtered_Data_9_to_5\\40067_12012019_filtered.csv. Has 28802 samples, needs 30000.\n",
      "*** Feature extraction started ***\n"
     ]
    },
    {
     "data": {
      "text/html": [
       "\n",
       "              <p>\n",
       "                  Progress: 100% Complete\n",
       "              <p/>\n",
       "              <progress\n",
       "                  value='95'\n",
       "                  max='95',\n",
       "                  style='width: 25%',\n",
       "              >\n",
       "                  95\n",
       "              </progress>\n",
       "\n",
       "    "
      ],
      "text/plain": [
       "<IPython.core.display.HTML object>"
      ]
     },
     "metadata": {},
     "output_type": "display_data"
    },
    {
     "name": "stdout",
     "output_type": "stream",
     "text": [
      "\n",
      "*** Feature extraction finished ***\n",
      "Descriptive statistics for patient 4051 on 05032019 saved to D:/Parkinson's/Features_Extraction\\4051_05032019_features.csv\n",
      "*** Feature extraction started ***\n"
     ]
    },
    {
     "data": {
      "text/html": [
       "\n",
       "              <p>\n",
       "                  Progress: 100% Complete\n",
       "              <p/>\n",
       "              <progress\n",
       "                  value='29'\n",
       "                  max='29',\n",
       "                  style='width: 25%',\n",
       "              >\n",
       "                  29\n",
       "              </progress>\n",
       "\n",
       "    "
      ],
      "text/plain": [
       "<IPython.core.display.HTML object>"
      ]
     },
     "metadata": {},
     "output_type": "display_data"
    },
    {
     "name": "stdout",
     "output_type": "stream",
     "text": [
      "\n",
      "*** Feature extraction finished ***\n",
      "Descriptive statistics for patient 4052 on 07102019 saved to D:/Parkinson's/Features_Extraction\\4052_07102019_features.csv\n",
      "*** Feature extraction started ***\n"
     ]
    },
    {
     "data": {
      "text/html": [
       "\n",
       "              <p>\n",
       "                  Progress: 100% Complete\n",
       "              <p/>\n",
       "              <progress\n",
       "                  value='95'\n",
       "                  max='95',\n",
       "                  style='width: 25%',\n",
       "              >\n",
       "                  95\n",
       "              </progress>\n",
       "\n",
       "    "
      ],
      "text/plain": [
       "<IPython.core.display.HTML object>"
      ]
     },
     "metadata": {},
     "output_type": "display_data"
    },
    {
     "name": "stdout",
     "output_type": "stream",
     "text": [
      "\n",
      "*** Feature extraction finished ***\n",
      "Descriptive statistics for patient 4054 on 06072019 saved to D:/Parkinson's/Features_Extraction\\4054_06072019_features.csv\n",
      "Not enough data for a full window in file D:/Parkinson's/Filtered_Data_9_to_5\\4055_07012019_filtered.csv. Has 28802 samples, needs 30000.\n",
      "Not enough data for a full window in file D:/Parkinson's/Filtered_Data_9_to_5\\4056_07012019_filtered.csv. Has 28802 samples, needs 30000.\n",
      "Not enough data for a full window in file D:/Parkinson's/Filtered_Data_9_to_5\\4057_07012019_filtered.csv. Has 28802 samples, needs 30000.\n",
      "Not enough data for a full window in file D:/Parkinson's/Filtered_Data_9_to_5\\4059_08092019_filtered.csv. Has 0 samples, needs 30000.\n",
      "*** Feature extraction started ***\n"
     ]
    },
    {
     "data": {
      "text/html": [
       "\n",
       "              <p>\n",
       "                  Progress: 100% Complete\n",
       "              <p/>\n",
       "              <progress\n",
       "                  value='95'\n",
       "                  max='95',\n",
       "                  style='width: 25%',\n",
       "              >\n",
       "                  95\n",
       "              </progress>\n",
       "\n",
       "    "
      ],
      "text/plain": [
       "<IPython.core.display.HTML object>"
      ]
     },
     "metadata": {},
     "output_type": "display_data"
    },
    {
     "name": "stdout",
     "output_type": "stream",
     "text": [
      "\n",
      "*** Feature extraction finished ***\n",
      "Descriptive statistics for patient 4071 on 08012019 saved to D:/Parkinson's/Features_Extraction\\4071_08012019_features.csv\n",
      "*** Feature extraction started ***\n"
     ]
    },
    {
     "data": {
      "text/html": [
       "\n",
       "              <p>\n",
       "                  Progress: 100% Complete\n",
       "              <p/>\n",
       "              <progress\n",
       "                  value='95'\n",
       "                  max='95',\n",
       "                  style='width: 25%',\n",
       "              >\n",
       "                  95\n",
       "              </progress>\n",
       "\n",
       "    "
      ],
      "text/plain": [
       "<IPython.core.display.HTML object>"
      ]
     },
     "metadata": {},
     "output_type": "display_data"
    },
    {
     "name": "stdout",
     "output_type": "stream",
     "text": [
      "\n",
      "*** Feature extraction finished ***\n",
      "Descriptive statistics for patient 4073 on 09162019 saved to D:/Parkinson's/Features_Extraction\\4073_09162019_features.csv\n",
      "*** Feature extraction started ***\n"
     ]
    },
    {
     "data": {
      "text/html": [
       "\n",
       "              <p>\n",
       "                  Progress: 100% Complete\n",
       "              <p/>\n",
       "              <progress\n",
       "                  value='95'\n",
       "                  max='95',\n",
       "                  style='width: 25%',\n",
       "              >\n",
       "                  95\n",
       "              </progress>\n",
       "\n",
       "    "
      ],
      "text/plain": [
       "<IPython.core.display.HTML object>"
      ]
     },
     "metadata": {},
     "output_type": "display_data"
    },
    {
     "name": "stdout",
     "output_type": "stream",
     "text": [
      "\n",
      "*** Feature extraction finished ***\n",
      "Descriptive statistics for patient 4074 on 10022019 saved to D:/Parkinson's/Features_Extraction\\4074_10022019_features.csv\n",
      "*** Feature extraction started ***\n"
     ]
    },
    {
     "data": {
      "text/html": [
       "\n",
       "              <p>\n",
       "                  Progress: 100% Complete\n",
       "              <p/>\n",
       "              <progress\n",
       "                  value='95'\n",
       "                  max='95',\n",
       "                  style='width: 25%',\n",
       "              >\n",
       "                  95\n",
       "              </progress>\n",
       "\n",
       "    "
      ],
      "text/plain": [
       "<IPython.core.display.HTML object>"
      ]
     },
     "metadata": {},
     "output_type": "display_data"
    },
    {
     "name": "stdout",
     "output_type": "stream",
     "text": [
      "\n",
      "*** Feature extraction finished ***\n",
      "Descriptive statistics for patient 4091 on 08012019 saved to D:/Parkinson's/Features_Extraction\\4091_08012019_features.csv\n",
      "*** Feature extraction started ***\n"
     ]
    },
    {
     "data": {
      "text/html": [
       "\n",
       "              <p>\n",
       "                  Progress: 100% Complete\n",
       "              <p/>\n",
       "              <progress\n",
       "                  value='95'\n",
       "                  max='95',\n",
       "                  style='width: 25%',\n",
       "              >\n",
       "                  95\n",
       "              </progress>\n",
       "\n",
       "    "
      ],
      "text/plain": [
       "<IPython.core.display.HTML object>"
      ]
     },
     "metadata": {},
     "output_type": "display_data"
    },
    {
     "name": "stdout",
     "output_type": "stream",
     "text": [
      "\n",
      "*** Feature extraction finished ***\n",
      "Descriptive statistics for patient 4096 on 09092019 saved to D:/Parkinson's/Features_Extraction\\4096_09092019_features.csv\n",
      "Not enough data for a full window in file D:/Parkinson's/Filtered_Data_9_to_5\\4098_11012019_filtered.csv. Has 28802 samples, needs 30000.\n",
      "*** Feature extraction started ***\n"
     ]
    },
    {
     "data": {
      "text/html": [
       "\n",
       "              <p>\n",
       "                  Progress: 100% Complete\n",
       "              <p/>\n",
       "              <progress\n",
       "                  value='95'\n",
       "                  max='95',\n",
       "                  style='width: 25%',\n",
       "              >\n",
       "                  95\n",
       "              </progress>\n",
       "\n",
       "    "
      ],
      "text/plain": [
       "<IPython.core.display.HTML object>"
      ]
     },
     "metadata": {},
     "output_type": "display_data"
    },
    {
     "name": "stdout",
     "output_type": "stream",
     "text": [
      "\n",
      "*** Feature extraction finished ***\n",
      "Descriptive statistics for patient 4099 on 12022019 saved to D:/Parkinson's/Features_Extraction\\4099_12022019_features.csv\n",
      "Not enough data for a full window in file D:/Parkinson's/Filtered_Data_9_to_5\\4101_11012019_filtered.csv. Has 28802 samples, needs 30000.\n",
      "Not enough data for a full window in file D:/Parkinson's/Filtered_Data_9_to_5\\4102_12012019_filtered.csv. Has 28802 samples, needs 30000.\n",
      "*** Feature extraction started ***\n"
     ]
    },
    {
     "data": {
      "text/html": [
       "\n",
       "              <p>\n",
       "                  Progress: 100% Complete\n",
       "              <p/>\n",
       "              <progress\n",
       "                  value='95'\n",
       "                  max='95',\n",
       "                  style='width: 25%',\n",
       "              >\n",
       "                  95\n",
       "              </progress>\n",
       "\n",
       "    "
      ],
      "text/plain": [
       "<IPython.core.display.HTML object>"
      ]
     },
     "metadata": {},
     "output_type": "display_data"
    },
    {
     "name": "stdout",
     "output_type": "stream",
     "text": [
      "\n",
      "*** Feature extraction finished ***\n",
      "Descriptive statistics for patient 4104 on 01252019 saved to D:/Parkinson's/Features_Extraction\\4104_01252019_features.csv\n",
      "*** Feature extraction started ***\n"
     ]
    },
    {
     "data": {
      "text/html": [
       "\n",
       "              <p>\n",
       "                  Progress: 100% Complete\n",
       "              <p/>\n",
       "              <progress\n",
       "                  value='95'\n",
       "                  max='95',\n",
       "                  style='width: 25%',\n",
       "              >\n",
       "                  95\n",
       "              </progress>\n",
       "\n",
       "    "
      ],
      "text/plain": [
       "<IPython.core.display.HTML object>"
      ]
     },
     "metadata": {},
     "output_type": "display_data"
    },
    {
     "name": "stdout",
     "output_type": "stream",
     "text": [
      "\n",
      "*** Feature extraction finished ***\n",
      "Descriptive statistics for patient 4106 on 01152019 saved to D:/Parkinson's/Features_Extraction\\4106_01152019_features.csv\n",
      "*** Feature extraction started ***\n"
     ]
    },
    {
     "data": {
      "text/html": [
       "\n",
       "              <p>\n",
       "                  Progress: 100% Complete\n",
       "              <p/>\n",
       "              <progress\n",
       "                  value='95'\n",
       "                  max='95',\n",
       "                  style='width: 25%',\n",
       "              >\n",
       "                  95\n",
       "              </progress>\n",
       "\n",
       "    "
      ],
      "text/plain": [
       "<IPython.core.display.HTML object>"
      ]
     },
     "metadata": {},
     "output_type": "display_data"
    },
    {
     "name": "stdout",
     "output_type": "stream",
     "text": [
      "\n",
      "*** Feature extraction finished ***\n",
      "Descriptive statistics for patient 4108 on 01282019 saved to D:/Parkinson's/Features_Extraction\\4108_01282019_features.csv\n",
      "*** Feature extraction started ***\n"
     ]
    },
    {
     "data": {
      "text/html": [
       "\n",
       "              <p>\n",
       "                  Progress: 100% Complete\n",
       "              <p/>\n",
       "              <progress\n",
       "                  value='95'\n",
       "                  max='95',\n",
       "                  style='width: 25%',\n",
       "              >\n",
       "                  95\n",
       "              </progress>\n",
       "\n",
       "    "
      ],
      "text/plain": [
       "<IPython.core.display.HTML object>"
      ]
     },
     "metadata": {},
     "output_type": "display_data"
    },
    {
     "name": "stdout",
     "output_type": "stream",
     "text": [
      "\n",
      "*** Feature extraction finished ***\n",
      "Descriptive statistics for patient 4111 on 02082019 saved to D:/Parkinson's/Features_Extraction\\4111_02082019_features.csv\n",
      "*** Feature extraction started ***\n"
     ]
    },
    {
     "data": {
      "text/html": [
       "\n",
       "              <p>\n",
       "                  Progress: 100% Complete\n",
       "              <p/>\n",
       "              <progress\n",
       "                  value='95'\n",
       "                  max='95',\n",
       "                  style='width: 25%',\n",
       "              >\n",
       "                  95\n",
       "              </progress>\n",
       "\n",
       "    "
      ],
      "text/plain": [
       "<IPython.core.display.HTML object>"
      ]
     },
     "metadata": {},
     "output_type": "display_data"
    },
    {
     "name": "stdout",
     "output_type": "stream",
     "text": [
      "\n",
      "*** Feature extraction finished ***\n",
      "Descriptive statistics for patient 4115 on 03262019 saved to D:/Parkinson's/Features_Extraction\\4115_03262019_features.csv\n",
      "*** Feature extraction started ***\n"
     ]
    },
    {
     "data": {
      "text/html": [
       "\n",
       "              <p>\n",
       "                  Progress: 100% Complete\n",
       "              <p/>\n",
       "              <progress\n",
       "                  value='95'\n",
       "                  max='95',\n",
       "                  style='width: 25%',\n",
       "              >\n",
       "                  95\n",
       "              </progress>\n",
       "\n",
       "    "
      ],
      "text/plain": [
       "<IPython.core.display.HTML object>"
      ]
     },
     "metadata": {},
     "output_type": "display_data"
    },
    {
     "name": "stdout",
     "output_type": "stream",
     "text": [
      "\n",
      "*** Feature extraction finished ***\n",
      "Descriptive statistics for patient 4117 on 05102019 saved to D:/Parkinson's/Features_Extraction\\4117_05102019_features.csv\n",
      "Not enough data for a full window in file D:/Parkinson's/Filtered_Data_9_to_5\\41184_04012019_filtered.csv. Has 28802 samples, needs 30000.\n",
      "*** Feature extraction started ***\n"
     ]
    },
    {
     "data": {
      "text/html": [
       "\n",
       "              <p>\n",
       "                  Progress: 100% Complete\n",
       "              <p/>\n",
       "              <progress\n",
       "                  value='95'\n",
       "                  max='95',\n",
       "                  style='width: 25%',\n",
       "              >\n",
       "                  95\n",
       "              </progress>\n",
       "\n",
       "    "
      ],
      "text/plain": [
       "<IPython.core.display.HTML object>"
      ]
     },
     "metadata": {},
     "output_type": "display_data"
    },
    {
     "name": "stdout",
     "output_type": "stream",
     "text": [
      "\n",
      "*** Feature extraction finished ***\n",
      "Descriptive statistics for patient 41749 on 07012019 saved to D:/Parkinson's/Features_Extraction\\41749_07012019_features.csv\n",
      "*** Feature extraction started ***\n"
     ]
    },
    {
     "data": {
      "text/html": [
       "\n",
       "              <p>\n",
       "                  Progress: 100% Complete\n",
       "              <p/>\n",
       "              <progress\n",
       "                  value='95'\n",
       "                  max='95',\n",
       "                  style='width: 25%',\n",
       "              >\n",
       "                  95\n",
       "              </progress>\n",
       "\n",
       "    "
      ],
      "text/plain": [
       "<IPython.core.display.HTML object>"
      ]
     },
     "metadata": {},
     "output_type": "display_data"
    },
    {
     "name": "stdout",
     "output_type": "stream",
     "text": [
      "\n",
      "*** Feature extraction finished ***\n",
      "Descriptive statistics for patient 42724 on 01222019 saved to D:/Parkinson's/Features_Extraction\\42724_01222019_features.csv\n",
      "*** Feature extraction started ***\n"
     ]
    },
    {
     "data": {
      "text/html": [
       "\n",
       "              <p>\n",
       "                  Progress: 100% Complete\n",
       "              <p/>\n",
       "              <progress\n",
       "                  value='95'\n",
       "                  max='95',\n",
       "                  style='width: 25%',\n",
       "              >\n",
       "                  95\n",
       "              </progress>\n",
       "\n",
       "    "
      ],
      "text/plain": [
       "<IPython.core.display.HTML object>"
      ]
     },
     "metadata": {},
     "output_type": "display_data"
    },
    {
     "name": "stdout",
     "output_type": "stream",
     "text": [
      "\n",
      "*** Feature extraction finished ***\n",
      "Descriptive statistics for patient 50009 on 04022019 saved to D:/Parkinson's/Features_Extraction\\50009_04022019_features.csv\n",
      "*** Feature extraction started ***\n"
     ]
    },
    {
     "data": {
      "text/html": [
       "\n",
       "              <p>\n",
       "                  Progress: 100% Complete\n",
       "              <p/>\n",
       "              <progress\n",
       "                  value='95'\n",
       "                  max='95',\n",
       "                  style='width: 25%',\n",
       "              >\n",
       "                  95\n",
       "              </progress>\n",
       "\n",
       "    "
      ],
      "text/plain": [
       "<IPython.core.display.HTML object>"
      ]
     },
     "metadata": {},
     "output_type": "display_data"
    },
    {
     "name": "stdout",
     "output_type": "stream",
     "text": [
      "\n",
      "*** Feature extraction finished ***\n",
      "Descriptive statistics for patient 50192 on 06012019 saved to D:/Parkinson's/Features_Extraction\\50192_06012019_features.csv\n",
      "*** Feature extraction started ***\n"
     ]
    },
    {
     "data": {
      "text/html": [
       "\n",
       "              <p>\n",
       "                  Progress: 100% Complete\n",
       "              <p/>\n",
       "              <progress\n",
       "                  value='66'\n",
       "                  max='66',\n",
       "                  style='width: 25%',\n",
       "              >\n",
       "                  66\n",
       "              </progress>\n",
       "\n",
       "    "
      ],
      "text/plain": [
       "<IPython.core.display.HTML object>"
      ]
     },
     "metadata": {},
     "output_type": "display_data"
    },
    {
     "name": "stdout",
     "output_type": "stream",
     "text": [
      "\n",
      "*** Feature extraction finished ***\n",
      "Descriptive statistics for patient 50222 on 08192019 saved to D:/Parkinson's/Features_Extraction\\50222_08192019_features.csv\n",
      "*** Feature extraction started ***\n"
     ]
    },
    {
     "data": {
      "text/html": [
       "\n",
       "              <p>\n",
       "                  Progress: 100% Complete\n",
       "              <p/>\n",
       "              <progress\n",
       "                  value='95'\n",
       "                  max='95',\n",
       "                  style='width: 25%',\n",
       "              >\n",
       "                  95\n",
       "              </progress>\n",
       "\n",
       "    "
      ],
      "text/plain": [
       "<IPython.core.display.HTML object>"
      ]
     },
     "metadata": {},
     "output_type": "display_data"
    },
    {
     "name": "stdout",
     "output_type": "stream",
     "text": [
      "\n",
      "*** Feature extraction finished ***\n",
      "Descriptive statistics for patient 50225 on 08192019 saved to D:/Parkinson's/Features_Extraction\\50225_08192019_features.csv\n",
      "*** Feature extraction started ***\n"
     ]
    },
    {
     "data": {
      "text/html": [
       "\n",
       "              <p>\n",
       "                  Progress: 100% Complete\n",
       "              <p/>\n",
       "              <progress\n",
       "                  value='95'\n",
       "                  max='95',\n",
       "                  style='width: 25%',\n",
       "              >\n",
       "                  95\n",
       "              </progress>\n",
       "\n",
       "    "
      ],
      "text/plain": [
       "<IPython.core.display.HTML object>"
      ]
     },
     "metadata": {},
     "output_type": "display_data"
    },
    {
     "name": "stdout",
     "output_type": "stream",
     "text": [
      "\n",
      "*** Feature extraction finished ***\n",
      "Descriptive statistics for patient 50621 on 06112019 saved to D:/Parkinson's/Features_Extraction\\50621_06112019_features.csv\n",
      "*** Feature extraction started ***\n"
     ]
    },
    {
     "data": {
      "text/html": [
       "\n",
       "              <p>\n",
       "                  Progress: 100% Complete\n",
       "              <p/>\n",
       "              <progress\n",
       "                  value='95'\n",
       "                  max='95',\n",
       "                  style='width: 25%',\n",
       "              >\n",
       "                  95\n",
       "              </progress>\n",
       "\n",
       "    "
      ],
      "text/plain": [
       "<IPython.core.display.HTML object>"
      ]
     },
     "metadata": {},
     "output_type": "display_data"
    },
    {
     "name": "stdout",
     "output_type": "stream",
     "text": [
      "\n",
      "*** Feature extraction finished ***\n",
      "Descriptive statistics for patient 50670 on 02132019 saved to D:/Parkinson's/Features_Extraction\\50670_02132019_features.csv\n",
      "Not enough data for a full window in file D:/Parkinson's/Filtered_Data_9_to_5\\50860_11012019_filtered.csv. Has 28802 samples, needs 30000.\n",
      "Not enough data for a full window in file D:/Parkinson's/Filtered_Data_9_to_5\\50901_12012019_filtered.csv. Has 28802 samples, needs 30000.\n",
      "*** Feature extraction started ***\n"
     ]
    },
    {
     "data": {
      "text/html": [
       "\n",
       "              <p>\n",
       "                  Progress: 100% Complete\n",
       "              <p/>\n",
       "              <progress\n",
       "                  value='95'\n",
       "                  max='95',\n",
       "                  style='width: 25%',\n",
       "              >\n",
       "                  95\n",
       "              </progress>\n",
       "\n",
       "    "
      ],
      "text/plain": [
       "<IPython.core.display.HTML object>"
      ]
     },
     "metadata": {},
     "output_type": "display_data"
    },
    {
     "name": "stdout",
     "output_type": "stream",
     "text": [
      "\n",
      "*** Feature extraction finished ***\n",
      "Descriptive statistics for patient 51186 on 05162019 saved to D:/Parkinson's/Features_Extraction\\51186_05162019_features.csv\n",
      "Not enough data for a full window in file D:/Parkinson's/Filtered_Data_9_to_5\\51252_07012019_filtered.csv. Has 28802 samples, needs 30000.\n",
      "*** Feature extraction started ***\n"
     ]
    },
    {
     "data": {
      "text/html": [
       "\n",
       "              <p>\n",
       "                  Progress: 100% Complete\n",
       "              <p/>\n",
       "              <progress\n",
       "                  value='95'\n",
       "                  max='95',\n",
       "                  style='width: 25%',\n",
       "              >\n",
       "                  95\n",
       "              </progress>\n",
       "\n",
       "    "
      ],
      "text/plain": [
       "<IPython.core.display.HTML object>"
      ]
     },
     "metadata": {},
     "output_type": "display_data"
    },
    {
     "name": "stdout",
     "output_type": "stream",
     "text": [
      "\n",
      "*** Feature extraction finished ***\n",
      "Descriptive statistics for patient 51311 on 06132019 saved to D:/Parkinson's/Features_Extraction\\51311_06132019_features.csv\n",
      "*** Feature extraction started ***\n"
     ]
    },
    {
     "data": {
      "text/html": [
       "\n",
       "              <p>\n",
       "                  Progress: 100% Complete\n",
       "              <p/>\n",
       "              <progress\n",
       "                  value='90'\n",
       "                  max='90',\n",
       "                  style='width: 25%',\n",
       "              >\n",
       "                  90\n",
       "              </progress>\n",
       "\n",
       "    "
      ],
      "text/plain": [
       "<IPython.core.display.HTML object>"
      ]
     },
     "metadata": {},
     "output_type": "display_data"
    },
    {
     "name": "stdout",
     "output_type": "stream",
     "text": [
      "\n",
      "*** Feature extraction finished ***\n",
      "Descriptive statistics for patient 51518 on 07222019 saved to D:/Parkinson's/Features_Extraction\\51518_07222019_features.csv\n",
      "Not enough data for a full window in file D:/Parkinson's/Filtered_Data_9_to_5\\51540_10012019_filtered.csv. Has 28802 samples, needs 30000.\n",
      "*** Feature extraction started ***\n"
     ]
    },
    {
     "data": {
      "text/html": [
       "\n",
       "              <p>\n",
       "                  Progress: 100% Complete\n",
       "              <p/>\n",
       "              <progress\n",
       "                  value='62'\n",
       "                  max='62',\n",
       "                  style='width: 25%',\n",
       "              >\n",
       "                  62\n",
       "              </progress>\n",
       "\n",
       "    "
      ],
      "text/plain": [
       "<IPython.core.display.HTML object>"
      ]
     },
     "metadata": {},
     "output_type": "display_data"
    },
    {
     "name": "stdout",
     "output_type": "stream",
     "text": [
      "\n",
      "*** Feature extraction finished ***\n",
      "Descriptive statistics for patient 51625 on 08012019 saved to D:/Parkinson's/Features_Extraction\\51625_08012019_features.csv\n",
      "*** Feature extraction started ***\n"
     ]
    },
    {
     "data": {
      "text/html": [
       "\n",
       "              <p>\n",
       "                  Progress: 100% Complete\n",
       "              <p/>\n",
       "              <progress\n",
       "                  value='95'\n",
       "                  max='95',\n",
       "                  style='width: 25%',\n",
       "              >\n",
       "                  95\n",
       "              </progress>\n",
       "\n",
       "    "
      ],
      "text/plain": [
       "<IPython.core.display.HTML object>"
      ]
     },
     "metadata": {},
     "output_type": "display_data"
    },
    {
     "name": "stdout",
     "output_type": "stream",
     "text": [
      "\n",
      "*** Feature extraction finished ***\n",
      "Descriptive statistics for patient 51731 on 10092019 saved to D:/Parkinson's/Features_Extraction\\51731_10092019_features.csv\n",
      "Not enough data for a full window in file D:/Parkinson's/Filtered_Data_9_to_5\\51867_09012019_filtered.csv. Has 28802 samples, needs 30000.\n",
      "*** Feature extraction started ***\n"
     ]
    },
    {
     "data": {
      "text/html": [
       "\n",
       "              <p>\n",
       "                  Progress: 100% Complete\n",
       "              <p/>\n",
       "              <progress\n",
       "                  value='95'\n",
       "                  max='95',\n",
       "                  style='width: 25%',\n",
       "              >\n",
       "                  95\n",
       "              </progress>\n",
       "\n",
       "    "
      ],
      "text/plain": [
       "<IPython.core.display.HTML object>"
      ]
     },
     "metadata": {},
     "output_type": "display_data"
    },
    {
     "name": "stdout",
     "output_type": "stream",
     "text": [
      "\n",
      "*** Feature extraction finished ***\n",
      "Descriptive statistics for patient 51971 on 10012019 saved to D:/Parkinson's/Features_Extraction\\51971_10012019_features.csv\n",
      "*** Feature extraction started ***\n"
     ]
    },
    {
     "data": {
      "text/html": [
       "\n",
       "              <p>\n",
       "                  Progress: 100% Complete\n",
       "              <p/>\n",
       "              <progress\n",
       "                  value='95'\n",
       "                  max='95',\n",
       "                  style='width: 25%',\n",
       "              >\n",
       "                  95\n",
       "              </progress>\n",
       "\n",
       "    "
      ],
      "text/plain": [
       "<IPython.core.display.HTML object>"
      ]
     },
     "metadata": {},
     "output_type": "display_data"
    },
    {
     "name": "stdout",
     "output_type": "stream",
     "text": [
      "\n",
      "*** Feature extraction finished ***\n",
      "Descriptive statistics for patient 52062 on 01032019 saved to D:/Parkinson's/Features_Extraction\\52062_01032019_features.csv\n",
      "*** Feature extraction started ***\n"
     ]
    },
    {
     "data": {
      "text/html": [
       "\n",
       "              <p>\n",
       "                  Progress: 100% Complete\n",
       "              <p/>\n",
       "              <progress\n",
       "                  value='95'\n",
       "                  max='95',\n",
       "                  style='width: 25%',\n",
       "              >\n",
       "                  95\n",
       "              </progress>\n",
       "\n",
       "    "
      ],
      "text/plain": [
       "<IPython.core.display.HTML object>"
      ]
     },
     "metadata": {},
     "output_type": "display_data"
    },
    {
     "name": "stdout",
     "output_type": "stream",
     "text": [
      "\n",
      "*** Feature extraction finished ***\n",
      "Descriptive statistics for patient 52353 on 11132019 saved to D:/Parkinson's/Features_Extraction\\52353_11132019_features.csv\n",
      "*** Feature extraction started ***\n"
     ]
    },
    {
     "data": {
      "text/html": [
       "\n",
       "              <p>\n",
       "                  Progress: 100% Complete\n",
       "              <p/>\n",
       "              <progress\n",
       "                  value='95'\n",
       "                  max='95',\n",
       "                  style='width: 25%',\n",
       "              >\n",
       "                  95\n",
       "              </progress>\n",
       "\n",
       "    "
      ],
      "text/plain": [
       "<IPython.core.display.HTML object>"
      ]
     },
     "metadata": {},
     "output_type": "display_data"
    },
    {
     "name": "stdout",
     "output_type": "stream",
     "text": [
      "\n",
      "*** Feature extraction finished ***\n",
      "Descriptive statistics for patient 52355 on 02202019 saved to D:/Parkinson's/Features_Extraction\\52355_02202019_features.csv\n",
      "Not enough data for a full window in file D:/Parkinson's/Filtered_Data_9_to_5\\52400_10012019_filtered.csv. Has 28802 samples, needs 30000.\n",
      "*** Feature extraction started ***\n"
     ]
    },
    {
     "data": {
      "text/html": [
       "\n",
       "              <p>\n",
       "                  Progress: 100% Complete\n",
       "              <p/>\n",
       "              <progress\n",
       "                  value='95'\n",
       "                  max='95',\n",
       "                  style='width: 25%',\n",
       "              >\n",
       "                  95\n",
       "              </progress>\n",
       "\n",
       "    "
      ],
      "text/plain": [
       "<IPython.core.display.HTML object>"
      ]
     },
     "metadata": {},
     "output_type": "display_data"
    },
    {
     "name": "stdout",
     "output_type": "stream",
     "text": [
      "\n",
      "*** Feature extraction finished ***\n",
      "Descriptive statistics for patient 52752 on 03012019 saved to D:/Parkinson's/Features_Extraction\\52752_03012019_features.csv\n",
      "*** Feature extraction started ***\n"
     ]
    },
    {
     "data": {
      "text/html": [
       "\n",
       "              <p>\n",
       "                  Progress: 100% Complete\n",
       "              <p/>\n",
       "              <progress\n",
       "                  value='78'\n",
       "                  max='78',\n",
       "                  style='width: 25%',\n",
       "              >\n",
       "                  78\n",
       "              </progress>\n",
       "\n",
       "    "
      ],
      "text/plain": [
       "<IPython.core.display.HTML object>"
      ]
     },
     "metadata": {},
     "output_type": "display_data"
    },
    {
     "name": "stdout",
     "output_type": "stream",
     "text": [
      "\n",
      "*** Feature extraction finished ***\n",
      "Descriptive statistics for patient 52872 on 07022019 saved to D:/Parkinson's/Features_Extraction\\52872_07022019_features.csv\n",
      "Not enough data for a full window in file D:/Parkinson's/Filtered_Data_9_to_5\\52874_11012019_filtered.csv. Has 28802 samples, needs 30000.\n",
      "Not enough data for a full window in file D:/Parkinson's/Filtered_Data_9_to_5\\52888_06012019_filtered.csv. Has 28802 samples, needs 30000.\n",
      "*** Feature extraction started ***\n"
     ]
    },
    {
     "data": {
      "text/html": [
       "\n",
       "              <p>\n",
       "                  Progress: 100% Complete\n",
       "              <p/>\n",
       "              <progress\n",
       "                  value='95'\n",
       "                  max='95',\n",
       "                  style='width: 25%',\n",
       "              >\n",
       "                  95\n",
       "              </progress>\n",
       "\n",
       "    "
      ],
      "text/plain": [
       "<IPython.core.display.HTML object>"
      ]
     },
     "metadata": {},
     "output_type": "display_data"
    },
    {
     "name": "stdout",
     "output_type": "stream",
     "text": [
      "\n",
      "*** Feature extraction finished ***\n",
      "Descriptive statistics for patient 52982 on 02012019 saved to D:/Parkinson's/Features_Extraction\\52982_02012019_features.csv\n",
      "Not enough data for a full window in file D:/Parkinson's/Filtered_Data_9_to_5\\53054_05012019_filtered.csv. Has 28802 samples, needs 30000.\n",
      "Not enough data for a full window in file D:/Parkinson's/Filtered_Data_9_to_5\\53258_05012019_filtered.csv. Has 0 samples, needs 30000.\n",
      "Not enough data for a full window in file D:/Parkinson's/Filtered_Data_9_to_5\\53308_06012019_filtered.csv. Has 28802 samples, needs 30000.\n",
      "*** Feature extraction started ***\n"
     ]
    },
    {
     "data": {
      "text/html": [
       "\n",
       "              <p>\n",
       "                  Progress: 100% Complete\n",
       "              <p/>\n",
       "              <progress\n",
       "                  value='53'\n",
       "                  max='53',\n",
       "                  style='width: 25%',\n",
       "              >\n",
       "                  53\n",
       "              </progress>\n",
       "\n",
       "    "
      ],
      "text/plain": [
       "<IPython.core.display.HTML object>"
      ]
     },
     "metadata": {},
     "output_type": "display_data"
    },
    {
     "name": "stdout",
     "output_type": "stream",
     "text": [
      "\n",
      "*** Feature extraction finished ***\n",
      "Descriptive statistics for patient 53595 on 07242019 saved to D:/Parkinson's/Features_Extraction\\53595_07242019_features.csv\n",
      "*** Feature extraction started ***\n"
     ]
    },
    {
     "data": {
      "text/html": [
       "\n",
       "              <p>\n",
       "                  Progress: 100% Complete\n",
       "              <p/>\n",
       "              <progress\n",
       "                  value='39'\n",
       "                  max='39',\n",
       "                  style='width: 25%',\n",
       "              >\n",
       "                  39\n",
       "              </progress>\n",
       "\n",
       "    "
      ],
      "text/plain": [
       "<IPython.core.display.HTML object>"
      ]
     },
     "metadata": {},
     "output_type": "display_data"
    },
    {
     "name": "stdout",
     "output_type": "stream",
     "text": [
      "\n",
      "*** Feature extraction finished ***\n",
      "Descriptive statistics for patient 53600 on 09112019 saved to D:/Parkinson's/Features_Extraction\\53600_09112019_features.csv\n",
      "*** Feature extraction started ***\n"
     ]
    },
    {
     "data": {
      "text/html": [
       "\n",
       "              <p>\n",
       "                  Progress: 100% Complete\n",
       "              <p/>\n",
       "              <progress\n",
       "                  value='95'\n",
       "                  max='95',\n",
       "                  style='width: 25%',\n",
       "              >\n",
       "                  95\n",
       "              </progress>\n",
       "\n",
       "    "
      ],
      "text/plain": [
       "<IPython.core.display.HTML object>"
      ]
     },
     "metadata": {},
     "output_type": "display_data"
    },
    {
     "name": "stdout",
     "output_type": "stream",
     "text": [
      "\n",
      "*** Feature extraction finished ***\n",
      "Descriptive statistics for patient 53866 on 05012019 saved to D:/Parkinson's/Features_Extraction\\53866_05012019_features.csv\n",
      "Not enough data for a full window in file D:/Parkinson's/Filtered_Data_9_to_5\\53925_06012019_filtered.csv. Has 0 samples, needs 30000.\n",
      "Not enough data for a full window in file D:/Parkinson's/Filtered_Data_9_to_5\\53988_02012019_filtered.csv. Has 28802 samples, needs 30000.\n",
      "*** Feature extraction started ***\n"
     ]
    },
    {
     "data": {
      "text/html": [
       "\n",
       "              <p>\n",
       "                  Progress: 100% Complete\n",
       "              <p/>\n",
       "              <progress\n",
       "                  value='56'\n",
       "                  max='56',\n",
       "                  style='width: 25%',\n",
       "              >\n",
       "                  56\n",
       "              </progress>\n",
       "\n",
       "    "
      ],
      "text/plain": [
       "<IPython.core.display.HTML object>"
      ]
     },
     "metadata": {},
     "output_type": "display_data"
    },
    {
     "name": "stdout",
     "output_type": "stream",
     "text": [
      "\n",
      "*** Feature extraction finished ***\n",
      "Descriptive statistics for patient 54110 on 12022019 saved to D:/Parkinson's/Features_Extraction\\54110_12022019_features.csv\n",
      "*** Feature extraction started ***\n"
     ]
    },
    {
     "data": {
      "text/html": [
       "\n",
       "              <p>\n",
       "                  Progress: 100% Complete\n",
       "              <p/>\n",
       "              <progress\n",
       "                  value='95'\n",
       "                  max='95',\n",
       "                  style='width: 25%',\n",
       "              >\n",
       "                  95\n",
       "              </progress>\n",
       "\n",
       "    "
      ],
      "text/plain": [
       "<IPython.core.display.HTML object>"
      ]
     },
     "metadata": {},
     "output_type": "display_data"
    },
    {
     "name": "stdout",
     "output_type": "stream",
     "text": [
      "\n",
      "*** Feature extraction finished ***\n",
      "Descriptive statistics for patient 54144 on 03012019 saved to D:/Parkinson's/Features_Extraction\\54144_03012019_features.csv\n",
      "*** Feature extraction started ***\n"
     ]
    },
    {
     "data": {
      "text/html": [
       "\n",
       "              <p>\n",
       "                  Progress: 100% Complete\n",
       "              <p/>\n",
       "              <progress\n",
       "                  value='52'\n",
       "                  max='52',\n",
       "                  style='width: 25%',\n",
       "              >\n",
       "                  52\n",
       "              </progress>\n",
       "\n",
       "    "
      ],
      "text/plain": [
       "<IPython.core.display.HTML object>"
      ]
     },
     "metadata": {},
     "output_type": "display_data"
    },
    {
     "name": "stdout",
     "output_type": "stream",
     "text": [
      "\n",
      "*** Feature extraction finished ***\n",
      "Descriptive statistics for patient 54161 on 10212019 saved to D:/Parkinson's/Features_Extraction\\54161_10212019_features.csv\n",
      "Not enough data for a full window in file D:/Parkinson's/Filtered_Data_9_to_5\\54196_08082019_filtered.csv. Has 28802 samples, needs 30000.\n",
      "*** Feature extraction started ***\n"
     ]
    },
    {
     "data": {
      "text/html": [
       "\n",
       "              <p>\n",
       "                  Progress: 100% Complete\n",
       "              <p/>\n",
       "              <progress\n",
       "                  value='33'\n",
       "                  max='33',\n",
       "                  style='width: 25%',\n",
       "              >\n",
       "                  33\n",
       "              </progress>\n",
       "\n",
       "    "
      ],
      "text/plain": [
       "<IPython.core.display.HTML object>"
      ]
     },
     "metadata": {},
     "output_type": "display_data"
    },
    {
     "name": "stdout",
     "output_type": "stream",
     "text": [
      "\n",
      "*** Feature extraction finished ***\n",
      "Descriptive statistics for patient 54197 on 06262019 saved to D:/Parkinson's/Features_Extraction\\54197_06262019_features.csv\n",
      "*** Feature extraction started ***\n"
     ]
    },
    {
     "data": {
      "text/html": [
       "\n",
       "              <p>\n",
       "                  Progress: 100% Complete\n",
       "              <p/>\n",
       "              <progress\n",
       "                  value='47'\n",
       "                  max='47',\n",
       "                  style='width: 25%',\n",
       "              >\n",
       "                  47\n",
       "              </progress>\n",
       "\n",
       "    "
      ],
      "text/plain": [
       "<IPython.core.display.HTML object>"
      ]
     },
     "metadata": {},
     "output_type": "display_data"
    },
    {
     "name": "stdout",
     "output_type": "stream",
     "text": [
      "\n",
      "*** Feature extraction finished ***\n",
      "Descriptive statistics for patient 54266 on 05042019 saved to D:/Parkinson's/Features_Extraction\\54266_05042019_features.csv\n",
      "Not enough data for a full window in file D:/Parkinson's/Filtered_Data_9_to_5\\54309_08012019_filtered.csv. Has 28802 samples, needs 30000.\n",
      "*** Feature extraction started ***\n"
     ]
    },
    {
     "data": {
      "text/html": [
       "\n",
       "              <p>\n",
       "                  Progress: 100% Complete\n",
       "              <p/>\n",
       "              <progress\n",
       "                  value='45'\n",
       "                  max='45',\n",
       "                  style='width: 25%',\n",
       "              >\n",
       "                  45\n",
       "              </progress>\n",
       "\n",
       "    "
      ],
      "text/plain": [
       "<IPython.core.display.HTML object>"
      ]
     },
     "metadata": {},
     "output_type": "display_data"
    },
    {
     "name": "stdout",
     "output_type": "stream",
     "text": [
      "\n",
      "*** Feature extraction finished ***\n",
      "Descriptive statistics for patient 54391 on 10072019 saved to D:/Parkinson's/Features_Extraction\\54391_10072019_features.csv\n",
      "*** Feature extraction started ***\n"
     ]
    },
    {
     "data": {
      "text/html": [
       "\n",
       "              <p>\n",
       "                  Progress: 100% Complete\n",
       "              <p/>\n",
       "              <progress\n",
       "                  value='95'\n",
       "                  max='95',\n",
       "                  style='width: 25%',\n",
       "              >\n",
       "                  95\n",
       "              </progress>\n",
       "\n",
       "    "
      ],
      "text/plain": [
       "<IPython.core.display.HTML object>"
      ]
     },
     "metadata": {},
     "output_type": "display_data"
    },
    {
     "name": "stdout",
     "output_type": "stream",
     "text": [
      "\n",
      "*** Feature extraction finished ***\n",
      "Descriptive statistics for patient 54991 on 11012019 saved to D:/Parkinson's/Features_Extraction\\54991_11012019_features.csv\n",
      "*** Feature extraction started ***\n"
     ]
    },
    {
     "data": {
      "text/html": [
       "\n",
       "              <p>\n",
       "                  Progress: 100% Complete\n",
       "              <p/>\n",
       "              <progress\n",
       "                  value='64'\n",
       "                  max='64',\n",
       "                  style='width: 25%',\n",
       "              >\n",
       "                  64\n",
       "              </progress>\n",
       "\n",
       "    "
      ],
      "text/plain": [
       "<IPython.core.display.HTML object>"
      ]
     },
     "metadata": {},
     "output_type": "display_data"
    },
    {
     "name": "stdout",
     "output_type": "stream",
     "text": [
      "\n",
      "*** Feature extraction finished ***\n",
      "Descriptive statistics for patient 55098 on 06072019 saved to D:/Parkinson's/Features_Extraction\\55098_06072019_features.csv\n",
      "Not enough data for a full window in file D:/Parkinson's/Filtered_Data_9_to_5\\55124_08012019_filtered.csv. Has 28802 samples, needs 30000.\n",
      "Not enough data for a full window in file D:/Parkinson's/Filtered_Data_9_to_5\\55151_07012019_filtered.csv. Has 28802 samples, needs 30000.\n",
      "*** Feature extraction started ***\n"
     ]
    },
    {
     "data": {
      "text/html": [
       "\n",
       "              <p>\n",
       "                  Progress: 100% Complete\n",
       "              <p/>\n",
       "              <progress\n",
       "                  value='95'\n",
       "                  max='95',\n",
       "                  style='width: 25%',\n",
       "              >\n",
       "                  95\n",
       "              </progress>\n",
       "\n",
       "    "
      ],
      "text/plain": [
       "<IPython.core.display.HTML object>"
      ]
     },
     "metadata": {},
     "output_type": "display_data"
    },
    {
     "name": "stdout",
     "output_type": "stream",
     "text": [
      "\n",
      "*** Feature extraction finished ***\n",
      "Descriptive statistics for patient 55251 on 09012019 saved to D:/Parkinson's/Features_Extraction\\55251_09012019_features.csv\n",
      "Not enough data for a full window in file D:/Parkinson's/Filtered_Data_9_to_5\\55282_07012019_filtered.csv. Has 28802 samples, needs 30000.\n",
      "*** Feature extraction started ***\n"
     ]
    },
    {
     "data": {
      "text/html": [
       "\n",
       "              <p>\n",
       "                  Progress: 100% Complete\n",
       "              <p/>\n",
       "              <progress\n",
       "                  value='95'\n",
       "                  max='95',\n",
       "                  style='width: 25%',\n",
       "              >\n",
       "                  95\n",
       "              </progress>\n",
       "\n",
       "    "
      ],
      "text/plain": [
       "<IPython.core.display.HTML object>"
      ]
     },
     "metadata": {},
     "output_type": "display_data"
    },
    {
     "name": "stdout",
     "output_type": "stream",
     "text": [
      "\n",
      "*** Feature extraction finished ***\n",
      "Descriptive statistics for patient 55349 on 07012019 saved to D:/Parkinson's/Features_Extraction\\55349_07012019_features.csv\n",
      "Not enough data for a full window in file D:/Parkinson's/Filtered_Data_9_to_5\\55380_09012019_filtered.csv. Has 0 samples, needs 30000.\n",
      "*** Feature extraction started ***\n"
     ]
    },
    {
     "data": {
      "text/html": [
       "\n",
       "              <p>\n",
       "                  Progress: 100% Complete\n",
       "              <p/>\n",
       "              <progress\n",
       "                  value='48'\n",
       "                  max='48',\n",
       "                  style='width: 25%',\n",
       "              >\n",
       "                  48\n",
       "              </progress>\n",
       "\n",
       "    "
      ],
      "text/plain": [
       "<IPython.core.display.HTML object>"
      ]
     },
     "metadata": {},
     "output_type": "display_data"
    },
    {
     "name": "stdout",
     "output_type": "stream",
     "text": [
      "\n",
      "*** Feature extraction finished ***\n",
      "Descriptive statistics for patient 55441 on 06272019 saved to D:/Parkinson's/Features_Extraction\\55441_06272019_features.csv\n",
      "*** Feature extraction started ***\n"
     ]
    },
    {
     "data": {
      "text/html": [
       "\n",
       "              <p>\n",
       "                  Progress: 100% Complete\n",
       "              <p/>\n",
       "              <progress\n",
       "                  value='95'\n",
       "                  max='95',\n",
       "                  style='width: 25%',\n",
       "              >\n",
       "                  95\n",
       "              </progress>\n",
       "\n",
       "    "
      ],
      "text/plain": [
       "<IPython.core.display.HTML object>"
      ]
     },
     "metadata": {},
     "output_type": "display_data"
    },
    {
     "name": "stdout",
     "output_type": "stream",
     "text": [
      "\n",
      "*** Feature extraction finished ***\n",
      "Descriptive statistics for patient 55560 on 08012019 saved to D:/Parkinson's/Features_Extraction\\55560_08012019_features.csv\n",
      "Not enough data for a full window in file D:/Parkinson's/Filtered_Data_9_to_5\\55615_06012019_filtered.csv. Has 28802 samples, needs 30000.\n",
      "*** Feature extraction started ***\n"
     ]
    },
    {
     "data": {
      "text/html": [
       "\n",
       "              <p>\n",
       "                  Progress: 100% Complete\n",
       "              <p/>\n",
       "              <progress\n",
       "                  value='20'\n",
       "                  max='20',\n",
       "                  style='width: 25%',\n",
       "              >\n",
       "                  20\n",
       "              </progress>\n",
       "\n",
       "    "
      ],
      "text/plain": [
       "<IPython.core.display.HTML object>"
      ]
     },
     "metadata": {},
     "output_type": "display_data"
    },
    {
     "name": "stdout",
     "output_type": "stream",
     "text": [
      "\n",
      "*** Feature extraction finished ***\n",
      "Descriptive statistics for patient 55822 on 08082019 saved to D:/Parkinson's/Features_Extraction\\55822_08082019_features.csv\n",
      "*** Feature extraction started ***\n"
     ]
    },
    {
     "data": {
      "text/html": [
       "\n",
       "              <p>\n",
       "                  Progress: 100% Complete\n",
       "              <p/>\n",
       "              <progress\n",
       "                  value='5'\n",
       "                  max='5',\n",
       "                  style='width: 25%',\n",
       "              >\n",
       "                  5\n",
       "              </progress>\n",
       "\n",
       "    "
      ],
      "text/plain": [
       "<IPython.core.display.HTML object>"
      ]
     },
     "metadata": {},
     "output_type": "display_data"
    },
    {
     "name": "stdout",
     "output_type": "stream",
     "text": [
      "\n",
      "*** Feature extraction finished ***\n",
      "Descriptive statistics for patient 55842 on 08232019 saved to D:/Parkinson's/Features_Extraction\\55842_08232019_features.csv\n",
      "*** Feature extraction started ***\n"
     ]
    },
    {
     "data": {
      "text/html": [
       "\n",
       "              <p>\n",
       "                  Progress: 100% Complete\n",
       "              <p/>\n",
       "              <progress\n",
       "                  value='76'\n",
       "                  max='76',\n",
       "                  style='width: 25%',\n",
       "              >\n",
       "                  76\n",
       "              </progress>\n",
       "\n",
       "    "
      ],
      "text/plain": [
       "<IPython.core.display.HTML object>"
      ]
     },
     "metadata": {},
     "output_type": "display_data"
    },
    {
     "name": "stdout",
     "output_type": "stream",
     "text": [
      "\n",
      "*** Feature extraction finished ***\n",
      "Descriptive statistics for patient 56048 on 02012019 saved to D:/Parkinson's/Features_Extraction\\56048_02012019_features.csv\n",
      "*** Feature extraction started ***\n"
     ]
    },
    {
     "data": {
      "text/html": [
       "\n",
       "              <p>\n",
       "                  Progress: 100% Complete\n",
       "              <p/>\n",
       "              <progress\n",
       "                  value='95'\n",
       "                  max='95',\n",
       "                  style='width: 25%',\n",
       "              >\n",
       "                  95\n",
       "              </progress>\n",
       "\n",
       "    "
      ],
      "text/plain": [
       "<IPython.core.display.HTML object>"
      ]
     },
     "metadata": {},
     "output_type": "display_data"
    },
    {
     "name": "stdout",
     "output_type": "stream",
     "text": [
      "\n",
      "*** Feature extraction finished ***\n",
      "Descriptive statistics for patient 56136 on 11012019 saved to D:/Parkinson's/Features_Extraction\\56136_11012019_features.csv\n",
      "Not enough data for a full window in file D:/Parkinson's/Filtered_Data_9_to_5\\56405_05012019_filtered.csv. Has 28802 samples, needs 30000.\n",
      "*** Feature extraction started ***\n"
     ]
    },
    {
     "data": {
      "text/html": [
       "\n",
       "              <p>\n",
       "                  Progress: 100% Complete\n",
       "              <p/>\n",
       "              <progress\n",
       "                  value='19'\n",
       "                  max='19',\n",
       "                  style='width: 25%',\n",
       "              >\n",
       "                  19\n",
       "              </progress>\n",
       "\n",
       "    "
      ],
      "text/plain": [
       "<IPython.core.display.HTML object>"
      ]
     },
     "metadata": {},
     "output_type": "display_data"
    },
    {
     "name": "stdout",
     "output_type": "stream",
     "text": [
      "\n",
      "*** Feature extraction finished ***\n",
      "Descriptive statistics for patient 56435 on 10032019 saved to D:/Parkinson's/Features_Extraction\\56435_10032019_features.csv\n",
      "*** Feature extraction started ***\n"
     ]
    },
    {
     "data": {
      "text/html": [
       "\n",
       "              <p>\n",
       "                  Progress: 100% Complete\n",
       "              <p/>\n",
       "              <progress\n",
       "                  value='95'\n",
       "                  max='95',\n",
       "                  style='width: 25%',\n",
       "              >\n",
       "                  95\n",
       "              </progress>\n",
       "\n",
       "    "
      ],
      "text/plain": [
       "<IPython.core.display.HTML object>"
      ]
     },
     "metadata": {},
     "output_type": "display_data"
    },
    {
     "name": "stdout",
     "output_type": "stream",
     "text": [
      "\n",
      "*** Feature extraction finished ***\n",
      "Descriptive statistics for patient 56492 on 10042019 saved to D:/Parkinson's/Features_Extraction\\56492_10042019_features.csv\n",
      "*** Feature extraction started ***\n"
     ]
    },
    {
     "data": {
      "text/html": [
       "\n",
       "              <p>\n",
       "                  Progress: 100% Complete\n",
       "              <p/>\n",
       "              <progress\n",
       "                  value='33'\n",
       "                  max='33',\n",
       "                  style='width: 25%',\n",
       "              >\n",
       "                  33\n",
       "              </progress>\n",
       "\n",
       "    "
      ],
      "text/plain": [
       "<IPython.core.display.HTML object>"
      ]
     },
     "metadata": {},
     "output_type": "display_data"
    },
    {
     "name": "stdout",
     "output_type": "stream",
     "text": [
      "\n",
      "*** Feature extraction finished ***\n",
      "Descriptive statistics for patient 56582 on 04122019 saved to D:/Parkinson's/Features_Extraction\\56582_04122019_features.csv\n",
      "Not enough data for a full window in file D:/Parkinson's/Filtered_Data_9_to_5\\56744_08012019_filtered.csv. Has 28802 samples, needs 30000.\n",
      "*** Feature extraction started ***\n"
     ]
    },
    {
     "data": {
      "text/html": [
       "\n",
       "              <p>\n",
       "                  Progress: 100% Complete\n",
       "              <p/>\n",
       "              <progress\n",
       "                  value='95'\n",
       "                  max='95',\n",
       "                  style='width: 25%',\n",
       "              >\n",
       "                  95\n",
       "              </progress>\n",
       "\n",
       "    "
      ],
      "text/plain": [
       "<IPython.core.display.HTML object>"
      ]
     },
     "metadata": {},
     "output_type": "display_data"
    },
    {
     "name": "stdout",
     "output_type": "stream",
     "text": [
      "\n",
      "*** Feature extraction finished ***\n",
      "Descriptive statistics for patient 56779 on 04052019 saved to D:/Parkinson's/Features_Extraction\\56779_04052019_features.csv\n",
      "*** Feature extraction started ***\n"
     ]
    },
    {
     "data": {
      "text/html": [
       "\n",
       "              <p>\n",
       "                  Progress: 100% Complete\n",
       "              <p/>\n",
       "              <progress\n",
       "                  value='95'\n",
       "                  max='95',\n",
       "                  style='width: 25%',\n",
       "              >\n",
       "                  95\n",
       "              </progress>\n",
       "\n",
       "    "
      ],
      "text/plain": [
       "<IPython.core.display.HTML object>"
      ]
     },
     "metadata": {},
     "output_type": "display_data"
    },
    {
     "name": "stdout",
     "output_type": "stream",
     "text": [
      "\n",
      "*** Feature extraction finished ***\n",
      "Descriptive statistics for patient 56800 on 03292019 saved to D:/Parkinson's/Features_Extraction\\56800_03292019_features.csv\n",
      "*** Feature extraction started ***\n"
     ]
    },
    {
     "data": {
      "text/html": [
       "\n",
       "              <p>\n",
       "                  Progress: 100% Complete\n",
       "              <p/>\n",
       "              <progress\n",
       "                  value='95'\n",
       "                  max='95',\n",
       "                  style='width: 25%',\n",
       "              >\n",
       "                  95\n",
       "              </progress>\n",
       "\n",
       "    "
      ],
      "text/plain": [
       "<IPython.core.display.HTML object>"
      ]
     },
     "metadata": {},
     "output_type": "display_data"
    },
    {
     "name": "stdout",
     "output_type": "stream",
     "text": [
      "\n",
      "*** Feature extraction finished ***\n",
      "Descriptive statistics for patient 57127 on 08012019 saved to D:/Parkinson's/Features_Extraction\\57127_08012019_features.csv\n",
      "Not enough data for a full window in file D:/Parkinson's/Filtered_Data_9_to_5\\57234_09012019_filtered.csv. Has 28802 samples, needs 30000.\n",
      "*** Feature extraction started ***\n"
     ]
    },
    {
     "data": {
      "text/html": [
       "\n",
       "              <p>\n",
       "                  Progress: 100% Complete\n",
       "              <p/>\n",
       "              <progress\n",
       "                  value='39'\n",
       "                  max='39',\n",
       "                  style='width: 25%',\n",
       "              >\n",
       "                  39\n",
       "              </progress>\n",
       "\n",
       "    "
      ],
      "text/plain": [
       "<IPython.core.display.HTML object>"
      ]
     },
     "metadata": {},
     "output_type": "display_data"
    },
    {
     "name": "stdout",
     "output_type": "stream",
     "text": [
      "\n",
      "*** Feature extraction finished ***\n",
      "Descriptive statistics for patient 57277 on 01032019 saved to D:/Parkinson's/Features_Extraction\\57277_01032019_features.csv\n",
      "*** Feature extraction started ***\n"
     ]
    },
    {
     "data": {
      "text/html": [
       "\n",
       "              <p>\n",
       "                  Progress: 100% Complete\n",
       "              <p/>\n",
       "              <progress\n",
       "                  value='57'\n",
       "                  max='57',\n",
       "                  style='width: 25%',\n",
       "              >\n",
       "                  57\n",
       "              </progress>\n",
       "\n",
       "    "
      ],
      "text/plain": [
       "<IPython.core.display.HTML object>"
      ]
     },
     "metadata": {},
     "output_type": "display_data"
    },
    {
     "name": "stdout",
     "output_type": "stream",
     "text": [
      "\n",
      "*** Feature extraction finished ***\n",
      "Descriptive statistics for patient 57398 on 09062019 saved to D:/Parkinson's/Features_Extraction\\57398_09062019_features.csv\n",
      "Not enough data for a full window in file D:/Parkinson's/Filtered_Data_9_to_5\\57605_02212019_filtered.csv. Has 0 samples, needs 30000.\n",
      "*** Feature extraction started ***\n"
     ]
    },
    {
     "data": {
      "text/html": [
       "\n",
       "              <p>\n",
       "                  Progress: 100% Complete\n",
       "              <p/>\n",
       "              <progress\n",
       "                  value='95'\n",
       "                  max='95',\n",
       "                  style='width: 25%',\n",
       "              >\n",
       "                  95\n",
       "              </progress>\n",
       "\n",
       "    "
      ],
      "text/plain": [
       "<IPython.core.display.HTML object>"
      ]
     },
     "metadata": {},
     "output_type": "display_data"
    },
    {
     "name": "stdout",
     "output_type": "stream",
     "text": [
      "\n",
      "*** Feature extraction finished ***\n",
      "Descriptive statistics for patient 57887 on 02132019 saved to D:/Parkinson's/Features_Extraction\\57887_02132019_features.csv\n",
      "*** Feature extraction started ***\n"
     ]
    },
    {
     "data": {
      "text/html": [
       "\n",
       "              <p>\n",
       "                  Progress: 100% Complete\n",
       "              <p/>\n",
       "              <progress\n",
       "                  value='46'\n",
       "                  max='46',\n",
       "                  style='width: 25%',\n",
       "              >\n",
       "                  46\n",
       "              </progress>\n",
       "\n",
       "    "
      ],
      "text/plain": [
       "<IPython.core.display.HTML object>"
      ]
     },
     "metadata": {},
     "output_type": "display_data"
    },
    {
     "name": "stdout",
     "output_type": "stream",
     "text": [
      "\n",
      "*** Feature extraction finished ***\n",
      "Descriptive statistics for patient 58026 on 08212019 saved to D:/Parkinson's/Features_Extraction\\58026_08212019_features.csv\n",
      "Not enough data for a full window in file D:/Parkinson's/Filtered_Data_9_to_5\\58030_05012019_filtered.csv. Has 28802 samples, needs 30000.\n",
      "*** Feature extraction started ***\n"
     ]
    },
    {
     "data": {
      "text/html": [
       "\n",
       "              <p>\n",
       "                  Progress: 100% Complete\n",
       "              <p/>\n",
       "              <progress\n",
       "                  value='48'\n",
       "                  max='48',\n",
       "                  style='width: 25%',\n",
       "              >\n",
       "                  48\n",
       "              </progress>\n",
       "\n",
       "    "
      ],
      "text/plain": [
       "<IPython.core.display.HTML object>"
      ]
     },
     "metadata": {},
     "output_type": "display_data"
    },
    {
     "name": "stdout",
     "output_type": "stream",
     "text": [
      "\n",
      "*** Feature extraction finished ***\n",
      "Descriptive statistics for patient 58074 on 06012019 saved to D:/Parkinson's/Features_Extraction\\58074_06012019_features.csv\n",
      "Not enough data for a full window in file D:/Parkinson's/Filtered_Data_9_to_5\\58111_11032019_filtered.csv. Has 0 samples, needs 30000.\n",
      "*** Feature extraction started ***\n"
     ]
    },
    {
     "data": {
      "text/html": [
       "\n",
       "              <p>\n",
       "                  Progress: 100% Complete\n",
       "              <p/>\n",
       "              <progress\n",
       "                  value='59'\n",
       "                  max='59',\n",
       "                  style='width: 25%',\n",
       "              >\n",
       "                  59\n",
       "              </progress>\n",
       "\n",
       "    "
      ],
      "text/plain": [
       "<IPython.core.display.HTML object>"
      ]
     },
     "metadata": {},
     "output_type": "display_data"
    },
    {
     "name": "stdout",
     "output_type": "stream",
     "text": [
      "\n",
      "*** Feature extraction finished ***\n",
      "Descriptive statistics for patient 58138 on 03012019 saved to D:/Parkinson's/Features_Extraction\\58138_03012019_features.csv\n",
      "*** Feature extraction started ***\n"
     ]
    },
    {
     "data": {
      "text/html": [
       "\n",
       "              <p>\n",
       "                  Progress: 100% Complete\n",
       "              <p/>\n",
       "              <progress\n",
       "                  value='77'\n",
       "                  max='77',\n",
       "                  style='width: 25%',\n",
       "              >\n",
       "                  77\n",
       "              </progress>\n",
       "\n",
       "    "
      ],
      "text/plain": [
       "<IPython.core.display.HTML object>"
      ]
     },
     "metadata": {},
     "output_type": "display_data"
    },
    {
     "name": "stdout",
     "output_type": "stream",
     "text": [
      "\n",
      "*** Feature extraction finished ***\n",
      "Descriptive statistics for patient 58164 on 06012019 saved to D:/Parkinson's/Features_Extraction\\58164_06012019_features.csv\n",
      "*** Feature extraction started ***\n"
     ]
    },
    {
     "data": {
      "text/html": [
       "\n",
       "              <p>\n",
       "                  Progress: 100% Complete\n",
       "              <p/>\n",
       "              <progress\n",
       "                  value='65'\n",
       "                  max='65',\n",
       "                  style='width: 25%',\n",
       "              >\n",
       "                  65\n",
       "              </progress>\n",
       "\n",
       "    "
      ],
      "text/plain": [
       "<IPython.core.display.HTML object>"
      ]
     },
     "metadata": {},
     "output_type": "display_data"
    },
    {
     "name": "stdout",
     "output_type": "stream",
     "text": [
      "\n",
      "*** Feature extraction finished ***\n",
      "Descriptive statistics for patient 58342 on 10312019 saved to D:/Parkinson's/Features_Extraction\\58342_10312019_features.csv\n",
      "*** Feature extraction started ***\n"
     ]
    },
    {
     "data": {
      "text/html": [
       "\n",
       "              <p>\n",
       "                  Progress: 100% Complete\n",
       "              <p/>\n",
       "              <progress\n",
       "                  value='72'\n",
       "                  max='72',\n",
       "                  style='width: 25%',\n",
       "              >\n",
       "                  72\n",
       "              </progress>\n",
       "\n",
       "    "
      ],
      "text/plain": [
       "<IPython.core.display.HTML object>"
      ]
     },
     "metadata": {},
     "output_type": "display_data"
    },
    {
     "name": "stdout",
     "output_type": "stream",
     "text": [
      "\n",
      "*** Feature extraction finished ***\n",
      "Descriptive statistics for patient 58454 on 07152019 saved to D:/Parkinson's/Features_Extraction\\58454_07152019_features.csv\n",
      "Not enough data for a full window in file D:/Parkinson's/Filtered_Data_9_to_5\\58510_06012019_filtered.csv. Has 28802 samples, needs 30000.\n",
      "Not enough data for a full window in file D:/Parkinson's/Filtered_Data_9_to_5\\58550_09012019_filtered.csv. Has 28802 samples, needs 30000.\n",
      "Not enough data for a full window in file D:/Parkinson's/Filtered_Data_9_to_5\\58671_08012019_filtered.csv. Has 28802 samples, needs 30000.\n",
      "*** Feature extraction started ***\n"
     ]
    },
    {
     "data": {
      "text/html": [
       "\n",
       "              <p>\n",
       "                  Progress: 100% Complete\n",
       "              <p/>\n",
       "              <progress\n",
       "                  value='95'\n",
       "                  max='95',\n",
       "                  style='width: 25%',\n",
       "              >\n",
       "                  95\n",
       "              </progress>\n",
       "\n",
       "    "
      ],
      "text/plain": [
       "<IPython.core.display.HTML object>"
      ]
     },
     "metadata": {},
     "output_type": "display_data"
    },
    {
     "name": "stdout",
     "output_type": "stream",
     "text": [
      "\n",
      "*** Feature extraction finished ***\n",
      "Descriptive statistics for patient 58680 on 08012019 saved to D:/Parkinson's/Features_Extraction\\58680_08012019_features.csv\n",
      "Not enough data for a full window in file D:/Parkinson's/Filtered_Data_9_to_5\\58721_07182019_filtered.csv. Has 28802 samples, needs 30000.\n",
      "Not enough data for a full window in file D:/Parkinson's/Filtered_Data_9_to_5\\58783_08012019_filtered.csv. Has 28802 samples, needs 30000.\n",
      "*** Feature extraction started ***\n"
     ]
    },
    {
     "data": {
      "text/html": [
       "\n",
       "              <p>\n",
       "                  Progress: 100% Complete\n",
       "              <p/>\n",
       "              <progress\n",
       "                  value='95'\n",
       "                  max='95',\n",
       "                  style='width: 25%',\n",
       "              >\n",
       "                  95\n",
       "              </progress>\n",
       "\n",
       "    "
      ],
      "text/plain": [
       "<IPython.core.display.HTML object>"
      ]
     },
     "metadata": {},
     "output_type": "display_data"
    },
    {
     "name": "stdout",
     "output_type": "stream",
     "text": [
      "\n",
      "*** Feature extraction finished ***\n",
      "Descriptive statistics for patient 58843 on 05012019 saved to D:/Parkinson's/Features_Extraction\\58843_05012019_features.csv\n",
      "*** Feature extraction started ***\n"
     ]
    },
    {
     "data": {
      "text/html": [
       "\n",
       "              <p>\n",
       "                  Progress: 100% Complete\n",
       "              <p/>\n",
       "              <progress\n",
       "                  value='95'\n",
       "                  max='95',\n",
       "                  style='width: 25%',\n",
       "              >\n",
       "                  95\n",
       "              </progress>\n",
       "\n",
       "    "
      ],
      "text/plain": [
       "<IPython.core.display.HTML object>"
      ]
     },
     "metadata": {},
     "output_type": "display_data"
    },
    {
     "name": "stdout",
     "output_type": "stream",
     "text": [
      "\n",
      "*** Feature extraction finished ***\n",
      "Descriptive statistics for patient 58916 on 10012019 saved to D:/Parkinson's/Features_Extraction\\58916_10012019_features.csv\n",
      "Not enough data for a full window in file D:/Parkinson's/Filtered_Data_9_to_5\\58990_06012019_filtered.csv. Has 0 samples, needs 30000.\n",
      "*** Feature extraction started ***\n"
     ]
    },
    {
     "data": {
      "text/html": [
       "\n",
       "              <p>\n",
       "                  Progress: 100% Complete\n",
       "              <p/>\n",
       "              <progress\n",
       "                  value='19'\n",
       "                  max='19',\n",
       "                  style='width: 25%',\n",
       "              >\n",
       "                  19\n",
       "              </progress>\n",
       "\n",
       "    "
      ],
      "text/plain": [
       "<IPython.core.display.HTML object>"
      ]
     },
     "metadata": {},
     "output_type": "display_data"
    },
    {
     "name": "stdout",
     "output_type": "stream",
     "text": [
      "\n",
      "*** Feature extraction finished ***\n",
      "Descriptive statistics for patient 59042 on 10032019 saved to D:/Parkinson's/Features_Extraction\\59042_10032019_features.csv\n",
      "*** Feature extraction started ***\n"
     ]
    },
    {
     "data": {
      "text/html": [
       "\n",
       "              <p>\n",
       "                  Progress: 100% Complete\n",
       "              <p/>\n",
       "              <progress\n",
       "                  value='95'\n",
       "                  max='95',\n",
       "                  style='width: 25%',\n",
       "              >\n",
       "                  95\n",
       "              </progress>\n",
       "\n",
       "    "
      ],
      "text/plain": [
       "<IPython.core.display.HTML object>"
      ]
     },
     "metadata": {},
     "output_type": "display_data"
    },
    {
     "name": "stdout",
     "output_type": "stream",
     "text": [
      "\n",
      "*** Feature extraction finished ***\n",
      "Descriptive statistics for patient 59121 on 10012019 saved to D:/Parkinson's/Features_Extraction\\59121_10012019_features.csv\n",
      "*** Feature extraction started ***\n"
     ]
    },
    {
     "data": {
      "text/html": [
       "\n",
       "              <p>\n",
       "                  Progress: 100% Complete\n",
       "              <p/>\n",
       "              <progress\n",
       "                  value='95'\n",
       "                  max='95',\n",
       "                  style='width: 25%',\n",
       "              >\n",
       "                  95\n",
       "              </progress>\n",
       "\n",
       "    "
      ],
      "text/plain": [
       "<IPython.core.display.HTML object>"
      ]
     },
     "metadata": {},
     "output_type": "display_data"
    },
    {
     "name": "stdout",
     "output_type": "stream",
     "text": [
      "\n",
      "*** Feature extraction finished ***\n",
      "Descriptive statistics for patient 59174 on 06012019 saved to D:/Parkinson's/Features_Extraction\\59174_06012019_features.csv\n",
      "*** Feature extraction started ***\n"
     ]
    },
    {
     "data": {
      "text/html": [
       "\n",
       "              <p>\n",
       "                  Progress: 100% Complete\n",
       "              <p/>\n",
       "              <progress\n",
       "                  value='74'\n",
       "                  max='74',\n",
       "                  style='width: 25%',\n",
       "              >\n",
       "                  74\n",
       "              </progress>\n",
       "\n",
       "    "
      ],
      "text/plain": [
       "<IPython.core.display.HTML object>"
      ]
     },
     "metadata": {},
     "output_type": "display_data"
    },
    {
     "name": "stdout",
     "output_type": "stream",
     "text": [
      "\n",
      "*** Feature extraction finished ***\n",
      "Descriptive statistics for patient 59178 on 07022019 saved to D:/Parkinson's/Features_Extraction\\59178_07022019_features.csv\n",
      "*** Feature extraction started ***\n"
     ]
    },
    {
     "data": {
      "text/html": [
       "\n",
       "              <p>\n",
       "                  Progress: 100% Complete\n",
       "              <p/>\n",
       "              <progress\n",
       "                  value='95'\n",
       "                  max='95',\n",
       "                  style='width: 25%',\n",
       "              >\n",
       "                  95\n",
       "              </progress>\n",
       "\n",
       "    "
      ],
      "text/plain": [
       "<IPython.core.display.HTML object>"
      ]
     },
     "metadata": {},
     "output_type": "display_data"
    },
    {
     "name": "stdout",
     "output_type": "stream",
     "text": [
      "\n",
      "*** Feature extraction finished ***\n",
      "Descriptive statistics for patient 59310 on 11012019 saved to D:/Parkinson's/Features_Extraction\\59310_11012019_features.csv\n",
      "*** Feature extraction started ***\n"
     ]
    },
    {
     "data": {
      "text/html": [
       "\n",
       "              <p>\n",
       "                  Progress: 100% Complete\n",
       "              <p/>\n",
       "              <progress\n",
       "                  value='70'\n",
       "                  max='70',\n",
       "                  style='width: 25%',\n",
       "              >\n",
       "                  70\n",
       "              </progress>\n",
       "\n",
       "    "
      ],
      "text/plain": [
       "<IPython.core.display.HTML object>"
      ]
     },
     "metadata": {},
     "output_type": "display_data"
    },
    {
     "name": "stdout",
     "output_type": "stream",
     "text": [
      "\n",
      "*** Feature extraction finished ***\n",
      "Descriptive statistics for patient 59409 on 08282019 saved to D:/Parkinson's/Features_Extraction\\59409_08282019_features.csv\n",
      "Not enough data for a full window in file D:/Parkinson's/Filtered_Data_9_to_5\\59466_09182019_filtered.csv. Has 0 samples, needs 30000.\n",
      "*** Feature extraction started ***\n"
     ]
    },
    {
     "data": {
      "text/html": [
       "\n",
       "              <p>\n",
       "                  Progress: 100% Complete\n",
       "              <p/>\n",
       "              <progress\n",
       "                  value='95'\n",
       "                  max='95',\n",
       "                  style='width: 25%',\n",
       "              >\n",
       "                  95\n",
       "              </progress>\n",
       "\n",
       "    "
      ],
      "text/plain": [
       "<IPython.core.display.HTML object>"
      ]
     },
     "metadata": {},
     "output_type": "display_data"
    },
    {
     "name": "stdout",
     "output_type": "stream",
     "text": [
      "\n",
      "*** Feature extraction finished ***\n",
      "Descriptive statistics for patient 59558 on 07012019 saved to D:/Parkinson's/Features_Extraction\\59558_07012019_features.csv\n",
      "Not enough data for a full window in file D:/Parkinson's/Filtered_Data_9_to_5\\59724_08012019_filtered.csv. Has 28802 samples, needs 30000.\n",
      "Not enough data for a full window in file D:/Parkinson's/Filtered_Data_9_to_5\\59797_01012019_filtered.csv. Has 0 samples, needs 30000.\n",
      "Not enough data for a full window in file D:/Parkinson's/Filtered_Data_9_to_5\\59797_12012019_filtered.csv. Has 28802 samples, needs 30000.\n",
      "Not enough data for a full window in file D:/Parkinson's/Filtered_Data_9_to_5\\59866_07112019_filtered.csv. Has 0 samples, needs 30000.\n",
      "Not enough data for a full window in file D:/Parkinson's/Filtered_Data_9_to_5\\60013_10012019_filtered.csv. Has 28802 samples, needs 30000.\n",
      "*** Feature extraction started ***\n"
     ]
    },
    {
     "data": {
      "text/html": [
       "\n",
       "              <p>\n",
       "                  Progress: 100% Complete\n",
       "              <p/>\n",
       "              <progress\n",
       "                  value='95'\n",
       "                  max='95',\n",
       "                  style='width: 25%',\n",
       "              >\n",
       "                  95\n",
       "              </progress>\n",
       "\n",
       "    "
      ],
      "text/plain": [
       "<IPython.core.display.HTML object>"
      ]
     },
     "metadata": {},
     "output_type": "display_data"
    },
    {
     "name": "stdout",
     "output_type": "stream",
     "text": [
      "\n",
      "*** Feature extraction finished ***\n",
      "Descriptive statistics for patient 65002 on 11012019 saved to D:/Parkinson's/Features_Extraction\\65002_11012019_features.csv\n",
      "Not enough data for a full window in file D:/Parkinson's/Filtered_Data_9_to_5\\70035_07012019_filtered.csv. Has 28802 samples, needs 30000.\n",
      "Not enough data for a full window in file D:/Parkinson's/Filtered_Data_9_to_5\\70106_08012019_filtered.csv. Has 28802 samples, needs 30000.\n",
      "*** Feature extraction started ***\n"
     ]
    },
    {
     "data": {
      "text/html": [
       "\n",
       "              <p>\n",
       "                  Progress: 100% Complete\n",
       "              <p/>\n",
       "              <progress\n",
       "                  value='83'\n",
       "                  max='83',\n",
       "                  style='width: 25%',\n",
       "              >\n",
       "                  83\n",
       "              </progress>\n",
       "\n",
       "    "
      ],
      "text/plain": [
       "<IPython.core.display.HTML object>"
      ]
     },
     "metadata": {},
     "output_type": "display_data"
    },
    {
     "name": "stdout",
     "output_type": "stream",
     "text": [
      "\n",
      "*** Feature extraction finished ***\n",
      "Descriptive statistics for patient 70179 on 01102019 saved to D:/Parkinson's/Features_Extraction\\70179_01102019_features.csv\n",
      "Not enough data for a full window in file D:/Parkinson's/Filtered_Data_9_to_5\\70188_10012019_filtered.csv. Has 28802 samples, needs 30000.\n",
      "Not enough data for a full window in file D:/Parkinson's/Filtered_Data_9_to_5\\70326_08012019_filtered.csv. Has 28802 samples, needs 30000.\n",
      "Not enough data for a full window in file D:/Parkinson's/Filtered_Data_9_to_5\\70345_10012019_filtered.csv. Has 28802 samples, needs 30000.\n",
      "Not enough data for a full window in file D:/Parkinson's/Filtered_Data_9_to_5\\70378_12012019_filtered.csv. Has 28802 samples, needs 30000.\n",
      "*** Feature extraction started ***\n"
     ]
    },
    {
     "data": {
      "text/html": [
       "\n",
       "              <p>\n",
       "                  Progress: 100% Complete\n",
       "              <p/>\n",
       "              <progress\n",
       "                  value='6'\n",
       "                  max='6',\n",
       "                  style='width: 25%',\n",
       "              >\n",
       "                  6\n",
       "              </progress>\n",
       "\n",
       "    "
      ],
      "text/plain": [
       "<IPython.core.display.HTML object>"
      ]
     },
     "metadata": {},
     "output_type": "display_data"
    },
    {
     "name": "stdout",
     "output_type": "stream",
     "text": [
      "\n",
      "*** Feature extraction finished ***\n",
      "Descriptive statistics for patient 70432 on 09092019 saved to D:/Parkinson's/Features_Extraction\\70432_09092019_features.csv\n",
      "*** Feature extraction started ***\n"
     ]
    },
    {
     "data": {
      "text/html": [
       "\n",
       "              <p>\n",
       "                  Progress: 100% Complete\n",
       "              <p/>\n",
       "              <progress\n",
       "                  value='95'\n",
       "                  max='95',\n",
       "                  style='width: 25%',\n",
       "              >\n",
       "                  95\n",
       "              </progress>\n",
       "\n",
       "    "
      ],
      "text/plain": [
       "<IPython.core.display.HTML object>"
      ]
     },
     "metadata": {},
     "output_type": "display_data"
    },
    {
     "name": "stdout",
     "output_type": "stream",
     "text": [
      "\n",
      "*** Feature extraction finished ***\n",
      "Descriptive statistics for patient 70519 on 11222019 saved to D:/Parkinson's/Features_Extraction\\70519_11222019_features.csv\n",
      "*** Feature extraction started ***\n"
     ]
    },
    {
     "data": {
      "text/html": [
       "\n",
       "              <p>\n",
       "                  Progress: 100% Complete\n",
       "              <p/>\n",
       "              <progress\n",
       "                  value='51'\n",
       "                  max='51',\n",
       "                  style='width: 25%',\n",
       "              >\n",
       "                  51\n",
       "              </progress>\n",
       "\n",
       "    "
      ],
      "text/plain": [
       "<IPython.core.display.HTML object>"
      ]
     },
     "metadata": {},
     "output_type": "display_data"
    },
    {
     "name": "stdout",
     "output_type": "stream",
     "text": [
      "\n",
      "*** Feature extraction finished ***\n",
      "Descriptive statistics for patient 70631 on 11012019 saved to D:/Parkinson's/Features_Extraction\\70631_11012019_features.csv\n",
      "*** Feature extraction started ***\n"
     ]
    },
    {
     "data": {
      "text/html": [
       "\n",
       "              <p>\n",
       "                  Progress: 100% Complete\n",
       "              <p/>\n",
       "              <progress\n",
       "                  value='89'\n",
       "                  max='89',\n",
       "                  style='width: 25%',\n",
       "              >\n",
       "                  89\n",
       "              </progress>\n",
       "\n",
       "    "
      ],
      "text/plain": [
       "<IPython.core.display.HTML object>"
      ]
     },
     "metadata": {},
     "output_type": "display_data"
    },
    {
     "name": "stdout",
     "output_type": "stream",
     "text": [
      "\n",
      "*** Feature extraction finished ***\n",
      "Descriptive statistics for patient 70645 on 09012019 saved to D:/Parkinson's/Features_Extraction\\70645_09012019_features.csv\n",
      "Not enough data for a full window in file D:/Parkinson's/Filtered_Data_9_to_5\\70652_10012019_filtered.csv. Has 28802 samples, needs 30000.\n",
      "*** Feature extraction started ***\n"
     ]
    },
    {
     "data": {
      "text/html": [
       "\n",
       "              <p>\n",
       "                  Progress: 100% Complete\n",
       "              <p/>\n",
       "              <progress\n",
       "                  value='47'\n",
       "                  max='47',\n",
       "                  style='width: 25%',\n",
       "              >\n",
       "                  47\n",
       "              </progress>\n",
       "\n",
       "    "
      ],
      "text/plain": [
       "<IPython.core.display.HTML object>"
      ]
     },
     "metadata": {},
     "output_type": "display_data"
    },
    {
     "name": "stdout",
     "output_type": "stream",
     "text": [
      "\n",
      "*** Feature extraction finished ***\n",
      "Descriptive statistics for patient 70659 on 11012019 saved to D:/Parkinson's/Features_Extraction\\70659_11012019_features.csv\n",
      "*** Feature extraction started ***\n"
     ]
    },
    {
     "data": {
      "text/html": [
       "\n",
       "              <p>\n",
       "                  Progress: 100% Complete\n",
       "              <p/>\n",
       "              <progress\n",
       "                  value='72'\n",
       "                  max='72',\n",
       "                  style='width: 25%',\n",
       "              >\n",
       "                  72\n",
       "              </progress>\n",
       "\n",
       "    "
      ],
      "text/plain": [
       "<IPython.core.display.HTML object>"
      ]
     },
     "metadata": {},
     "output_type": "display_data"
    },
    {
     "name": "stdout",
     "output_type": "stream",
     "text": [
      "\n",
      "*** Feature extraction finished ***\n",
      "Descriptive statistics for patient 70810 on 03272019 saved to D:/Parkinson's/Features_Extraction\\70810_03272019_features.csv\n",
      "*** Feature extraction started ***\n"
     ]
    },
    {
     "data": {
      "text/html": [
       "\n",
       "              <p>\n",
       "                  Progress: 100% Complete\n",
       "              <p/>\n",
       "              <progress\n",
       "                  value='95'\n",
       "                  max='95',\n",
       "                  style='width: 25%',\n",
       "              >\n",
       "                  95\n",
       "              </progress>\n",
       "\n",
       "    "
      ],
      "text/plain": [
       "<IPython.core.display.HTML object>"
      ]
     },
     "metadata": {},
     "output_type": "display_data"
    },
    {
     "name": "stdout",
     "output_type": "stream",
     "text": [
      "\n",
      "*** Feature extraction finished ***\n",
      "Descriptive statistics for patient 71065 on 01012019 saved to D:/Parkinson's/Features_Extraction\\71065_01012019_features.csv\n",
      "*** Feature extraction started ***\n"
     ]
    },
    {
     "data": {
      "text/html": [
       "\n",
       "              <p>\n",
       "                  Progress: 100% Complete\n",
       "              <p/>\n",
       "              <progress\n",
       "                  value='67'\n",
       "                  max='67',\n",
       "                  style='width: 25%',\n",
       "              >\n",
       "                  67\n",
       "              </progress>\n",
       "\n",
       "    "
      ],
      "text/plain": [
       "<IPython.core.display.HTML object>"
      ]
     },
     "metadata": {},
     "output_type": "display_data"
    },
    {
     "name": "stdout",
     "output_type": "stream",
     "text": [
      "\n",
      "*** Feature extraction finished ***\n",
      "Descriptive statistics for patient 71189 on 10102019 saved to D:/Parkinson's/Features_Extraction\\71189_10102019_features.csv\n",
      "*** Feature extraction started ***\n"
     ]
    },
    {
     "data": {
      "text/html": [
       "\n",
       "              <p>\n",
       "                  Progress: 100% Complete\n",
       "              <p/>\n",
       "              <progress\n",
       "                  value='95'\n",
       "                  max='95',\n",
       "                  style='width: 25%',\n",
       "              >\n",
       "                  95\n",
       "              </progress>\n",
       "\n",
       "    "
      ],
      "text/plain": [
       "<IPython.core.display.HTML object>"
      ]
     },
     "metadata": {},
     "output_type": "display_data"
    },
    {
     "name": "stdout",
     "output_type": "stream",
     "text": [
      "\n",
      "*** Feature extraction finished ***\n",
      "Descriptive statistics for patient 71215 on 05312019 saved to D:/Parkinson's/Features_Extraction\\71215_05312019_features.csv\n",
      "Not enough data for a full window in file D:/Parkinson's/Filtered_Data_9_to_5\\71394_03012019_filtered.csv. Has 28802 samples, needs 30000.\n",
      "*** Feature extraction started ***\n"
     ]
    },
    {
     "data": {
      "text/html": [
       "\n",
       "              <p>\n",
       "                  Progress: 100% Complete\n",
       "              <p/>\n",
       "              <progress\n",
       "                  value='95'\n",
       "                  max='95',\n",
       "                  style='width: 25%',\n",
       "              >\n",
       "                  95\n",
       "              </progress>\n",
       "\n",
       "    "
      ],
      "text/plain": [
       "<IPython.core.display.HTML object>"
      ]
     },
     "metadata": {},
     "output_type": "display_data"
    },
    {
     "name": "stdout",
     "output_type": "stream",
     "text": [
      "\n",
      "*** Feature extraction finished ***\n",
      "Descriptive statistics for patient 71658 on 11012019 saved to D:/Parkinson's/Features_Extraction\\71658_11012019_features.csv\n",
      "Not enough data for a full window in file D:/Parkinson's/Filtered_Data_9_to_5\\71770_12012019_filtered.csv. Has 28802 samples, needs 30000.\n",
      "Not enough data for a full window in file D:/Parkinson's/Filtered_Data_9_to_5\\71809_11012019_filtered.csv. Has 28802 samples, needs 30000.\n",
      "Not enough data for a full window in file D:/Parkinson's/Filtered_Data_9_to_5\\72110_09012019_filtered.csv. Has 28802 samples, needs 30000.\n",
      "Not enough data for a full window in file D:/Parkinson's/Filtered_Data_9_to_5\\72138_12012019_filtered.csv. Has 28802 samples, needs 30000.\n",
      "*** Feature extraction started ***\n"
     ]
    },
    {
     "data": {
      "text/html": [
       "\n",
       "              <p>\n",
       "                  Progress: 100% Complete\n",
       "              <p/>\n",
       "              <progress\n",
       "                  value='81'\n",
       "                  max='81',\n",
       "                  style='width: 25%',\n",
       "              >\n",
       "                  81\n",
       "              </progress>\n",
       "\n",
       "    "
      ],
      "text/plain": [
       "<IPython.core.display.HTML object>"
      ]
     },
     "metadata": {},
     "output_type": "display_data"
    },
    {
     "name": "stdout",
     "output_type": "stream",
     "text": [
      "\n",
      "*** Feature extraction finished ***\n",
      "Descriptive statistics for patient 72222 on 04012019 saved to D:/Parkinson's/Features_Extraction\\72222_04012019_features.csv\n",
      "Not enough data for a full window in file D:/Parkinson's/Filtered_Data_9_to_5\\72352_01012019_filtered.csv. Has 28802 samples, needs 30000.\n",
      "*** Feature extraction started ***\n"
     ]
    },
    {
     "data": {
      "text/html": [
       "\n",
       "              <p>\n",
       "                  Progress: 100% Complete\n",
       "              <p/>\n",
       "              <progress\n",
       "                  value='95'\n",
       "                  max='95',\n",
       "                  style='width: 25%',\n",
       "              >\n",
       "                  95\n",
       "              </progress>\n",
       "\n",
       "    "
      ],
      "text/plain": [
       "<IPython.core.display.HTML object>"
      ]
     },
     "metadata": {},
     "output_type": "display_data"
    },
    {
     "name": "stdout",
     "output_type": "stream",
     "text": [
      "\n",
      "*** Feature extraction finished ***\n",
      "Descriptive statistics for patient 72419 on 10012019 saved to D:/Parkinson's/Features_Extraction\\72419_10012019_features.csv\n",
      "Not enough data for a full window in file D:/Parkinson's/Filtered_Data_9_to_5\\72562_09302019_filtered.csv. Has 0 samples, needs 30000.\n",
      "*** Feature extraction started ***\n"
     ]
    },
    {
     "data": {
      "text/html": [
       "\n",
       "              <p>\n",
       "                  Progress: 100% Complete\n",
       "              <p/>\n",
       "              <progress\n",
       "                  value='69'\n",
       "                  max='69',\n",
       "                  style='width: 25%',\n",
       "              >\n",
       "                  69\n",
       "              </progress>\n",
       "\n",
       "    "
      ],
      "text/plain": [
       "<IPython.core.display.HTML object>"
      ]
     },
     "metadata": {},
     "output_type": "display_data"
    },
    {
     "name": "stdout",
     "output_type": "stream",
     "text": [
      "\n",
      "*** Feature extraction finished ***\n",
      "Descriptive statistics for patient 72651 on 09122019 saved to D:/Parkinson's/Features_Extraction\\72651_09122019_features.csv\n",
      "*** Feature extraction started ***\n"
     ]
    },
    {
     "data": {
      "text/html": [
       "\n",
       "              <p>\n",
       "                  Progress: 100% Complete\n",
       "              <p/>\n",
       "              <progress\n",
       "                  value='57'\n",
       "                  max='57',\n",
       "                  style='width: 25%',\n",
       "              >\n",
       "                  57\n",
       "              </progress>\n",
       "\n",
       "    "
      ],
      "text/plain": [
       "<IPython.core.display.HTML object>"
      ]
     },
     "metadata": {},
     "output_type": "display_data"
    },
    {
     "name": "stdout",
     "output_type": "stream",
     "text": [
      "\n",
      "*** Feature extraction finished ***\n",
      "Descriptive statistics for patient 72784 on 12122019 saved to D:/Parkinson's/Features_Extraction\\72784_12122019_features.csv\n",
      "*** Feature extraction started ***\n"
     ]
    },
    {
     "data": {
      "text/html": [
       "\n",
       "              <p>\n",
       "                  Progress: 100% Complete\n",
       "              <p/>\n",
       "              <progress\n",
       "                  value='42'\n",
       "                  max='42',\n",
       "                  style='width: 25%',\n",
       "              >\n",
       "                  42\n",
       "              </progress>\n",
       "\n",
       "    "
      ],
      "text/plain": [
       "<IPython.core.display.HTML object>"
      ]
     },
     "metadata": {},
     "output_type": "display_data"
    },
    {
     "name": "stdout",
     "output_type": "stream",
     "text": [
      "\n",
      "*** Feature extraction finished ***\n",
      "Descriptive statistics for patient 72877 on 11222019 saved to D:/Parkinson's/Features_Extraction\\72877_11222019_features.csv\n",
      "Not enough data for a full window in file D:/Parkinson's/Filtered_Data_9_to_5\\73082_06012019_filtered.csv. Has 28802 samples, needs 30000.\n",
      "Not enough data for a full window in file D:/Parkinson's/Filtered_Data_9_to_5\\73134_01012019_filtered.csv. Has 28802 samples, needs 30000.\n",
      "Not enough data for a full window in file D:/Parkinson's/Filtered_Data_9_to_5\\73134_12012019_filtered.csv. Has 28802 samples, needs 30000.\n",
      "*** Feature extraction started ***\n"
     ]
    },
    {
     "data": {
      "text/html": [
       "\n",
       "              <p>\n",
       "                  Progress: 100% Complete\n",
       "              <p/>\n",
       "              <progress\n",
       "                  value='62'\n",
       "                  max='62',\n",
       "                  style='width: 25%',\n",
       "              >\n",
       "                  62\n",
       "              </progress>\n",
       "\n",
       "    "
      ],
      "text/plain": [
       "<IPython.core.display.HTML object>"
      ]
     },
     "metadata": {},
     "output_type": "display_data"
    },
    {
     "name": "stdout",
     "output_type": "stream",
     "text": [
      "\n",
      "*** Feature extraction finished ***\n",
      "Descriptive statistics for patient 73397 on 10182019 saved to D:/Parkinson's/Features_Extraction\\73397_10182019_features.csv\n",
      "*** Feature extraction started ***\n"
     ]
    },
    {
     "data": {
      "text/html": [
       "\n",
       "              <p>\n",
       "                  Progress: 100% Complete\n",
       "              <p/>\n",
       "              <progress\n",
       "                  value='95'\n",
       "                  max='95',\n",
       "                  style='width: 25%',\n",
       "              >\n",
       "                  95\n",
       "              </progress>\n",
       "\n",
       "    "
      ],
      "text/plain": [
       "<IPython.core.display.HTML object>"
      ]
     },
     "metadata": {},
     "output_type": "display_data"
    },
    {
     "name": "stdout",
     "output_type": "stream",
     "text": [
      "\n",
      "*** Feature extraction finished ***\n",
      "Descriptive statistics for patient 73432 on 10012019 saved to D:/Parkinson's/Features_Extraction\\73432_10012019_features.csv\n",
      "Not enough data for a full window in file D:/Parkinson's/Filtered_Data_9_to_5\\73614_02012019_filtered.csv. Has 28802 samples, needs 30000.\n",
      "*** Feature extraction started ***\n"
     ]
    },
    {
     "data": {
      "text/html": [
       "\n",
       "              <p>\n",
       "                  Progress: 100% Complete\n",
       "              <p/>\n",
       "              <progress\n",
       "                  value='95'\n",
       "                  max='95',\n",
       "                  style='width: 25%',\n",
       "              >\n",
       "                  95\n",
       "              </progress>\n",
       "\n",
       "    "
      ],
      "text/plain": [
       "<IPython.core.display.HTML object>"
      ]
     },
     "metadata": {},
     "output_type": "display_data"
    },
    {
     "name": "stdout",
     "output_type": "stream",
     "text": [
      "\n",
      "*** Feature extraction finished ***\n",
      "Descriptive statistics for patient 73787 on 12012019 saved to D:/Parkinson's/Features_Extraction\\73787_12012019_features.csv\n",
      "Not enough data for a full window in file D:/Parkinson's/Filtered_Data_9_to_5\\73887_07012019_filtered.csv. Has 28802 samples, needs 30000.\n",
      "*** Feature extraction started ***\n"
     ]
    },
    {
     "data": {
      "text/html": [
       "\n",
       "              <p>\n",
       "                  Progress: 100% Complete\n",
       "              <p/>\n",
       "              <progress\n",
       "                  value='3'\n",
       "                  max='3',\n",
       "                  style='width: 25%',\n",
       "              >\n",
       "                  3\n",
       "              </progress>\n",
       "\n",
       "    "
      ],
      "text/plain": [
       "<IPython.core.display.HTML object>"
      ]
     },
     "metadata": {},
     "output_type": "display_data"
    },
    {
     "name": "stdout",
     "output_type": "stream",
     "text": [
      "\n",
      "*** Feature extraction finished ***\n",
      "Descriptive statistics for patient 73935 on 11012019 saved to D:/Parkinson's/Features_Extraction\\73935_11012019_features.csv\n",
      "Not enough data for a full window in file D:/Parkinson's/Filtered_Data_9_to_5\\74034_04012019_filtered.csv. Has 28802 samples, needs 30000.\n",
      "Not enough data for a full window in file D:/Parkinson's/Filtered_Data_9_to_5\\74067_05012019_filtered.csv. Has 28802 samples, needs 30000.\n",
      "*** Feature extraction started ***\n"
     ]
    },
    {
     "data": {
      "text/html": [
       "\n",
       "              <p>\n",
       "                  Progress: 100% Complete\n",
       "              <p/>\n",
       "              <progress\n",
       "                  value='51'\n",
       "                  max='51',\n",
       "                  style='width: 25%',\n",
       "              >\n",
       "                  51\n",
       "              </progress>\n",
       "\n",
       "    "
      ],
      "text/plain": [
       "<IPython.core.display.HTML object>"
      ]
     },
     "metadata": {},
     "output_type": "display_data"
    },
    {
     "name": "stdout",
     "output_type": "stream",
     "text": [
      "\n",
      "*** Feature extraction finished ***\n",
      "Descriptive statistics for patient 74251 on 12022019 saved to D:/Parkinson's/Features_Extraction\\74251_12022019_features.csv\n",
      "Not enough data for a full window in file D:/Parkinson's/Filtered_Data_9_to_5\\74497_10012019_filtered.csv. Has 28802 samples, needs 30000.\n",
      "Not enough data for a full window in file D:/Parkinson's/Filtered_Data_9_to_5\\74696_11012019_filtered.csv. Has 28802 samples, needs 30000.\n",
      "*** Feature extraction started ***\n"
     ]
    },
    {
     "data": {
      "text/html": [
       "\n",
       "              <p>\n",
       "                  Progress: 100% Complete\n",
       "              <p/>\n",
       "              <progress\n",
       "                  value='95'\n",
       "                  max='95',\n",
       "                  style='width: 25%',\n",
       "              >\n",
       "                  95\n",
       "              </progress>\n",
       "\n",
       "    "
      ],
      "text/plain": [
       "<IPython.core.display.HTML object>"
      ]
     },
     "metadata": {},
     "output_type": "display_data"
    },
    {
     "name": "stdout",
     "output_type": "stream",
     "text": [
      "\n",
      "*** Feature extraction finished ***\n",
      "Descriptive statistics for patient 75403 on 05312019 saved to D:/Parkinson's/Features_Extraction\\75403_05312019_features.csv\n",
      "*** Feature extraction started ***\n"
     ]
    },
    {
     "data": {
      "text/html": [
       "\n",
       "              <p>\n",
       "                  Progress: 100% Complete\n",
       "              <p/>\n",
       "              <progress\n",
       "                  value='26'\n",
       "                  max='26',\n",
       "                  style='width: 25%',\n",
       "              >\n",
       "                  26\n",
       "              </progress>\n",
       "\n",
       "    "
      ],
      "text/plain": [
       "<IPython.core.display.HTML object>"
      ]
     },
     "metadata": {},
     "output_type": "display_data"
    },
    {
     "name": "stdout",
     "output_type": "stream",
     "text": [
      "\n",
      "*** Feature extraction finished ***\n",
      "Descriptive statistics for patient 75411 on 11202019 saved to D:/Parkinson's/Features_Extraction\\75411_11202019_features.csv\n",
      "*** Feature extraction started ***\n"
     ]
    },
    {
     "data": {
      "text/html": [
       "\n",
       "              <p>\n",
       "                  Progress: 100% Complete\n",
       "              <p/>\n",
       "              <progress\n",
       "                  value='95'\n",
       "                  max='95',\n",
       "                  style='width: 25%',\n",
       "              >\n",
       "                  95\n",
       "              </progress>\n",
       "\n",
       "    "
      ],
      "text/plain": [
       "<IPython.core.display.HTML object>"
      ]
     },
     "metadata": {},
     "output_type": "display_data"
    },
    {
     "name": "stdout",
     "output_type": "stream",
     "text": [
      "\n",
      "*** Feature extraction finished ***\n",
      "Descriptive statistics for patient 75420 on 09012019 saved to D:/Parkinson's/Features_Extraction\\75420_09012019_features.csv\n",
      "*** Feature extraction started ***\n"
     ]
    },
    {
     "data": {
      "text/html": [
       "\n",
       "              <p>\n",
       "                  Progress: 100% Complete\n",
       "              <p/>\n",
       "              <progress\n",
       "                  value='20'\n",
       "                  max='20',\n",
       "                  style='width: 25%',\n",
       "              >\n",
       "                  20\n",
       "              </progress>\n",
       "\n",
       "    "
      ],
      "text/plain": [
       "<IPython.core.display.HTML object>"
      ]
     },
     "metadata": {},
     "output_type": "display_data"
    },
    {
     "name": "stdout",
     "output_type": "stream",
     "text": [
      "\n",
      "*** Feature extraction finished ***\n",
      "Descriptive statistics for patient 75421 on 10162019 saved to D:/Parkinson's/Features_Extraction\\75421_10162019_features.csv\n",
      "Not enough data for a full window in file D:/Parkinson's/Filtered_Data_9_to_5\\75423_11012019_filtered.csv. Has 28802 samples, needs 30000.\n",
      "*** Feature extraction started ***\n"
     ]
    },
    {
     "data": {
      "text/html": [
       "\n",
       "              <p>\n",
       "                  Progress: 100% Complete\n",
       "              <p/>\n",
       "              <progress\n",
       "                  value='95'\n",
       "                  max='95',\n",
       "                  style='width: 25%',\n",
       "              >\n",
       "                  95\n",
       "              </progress>\n",
       "\n",
       "    "
      ],
      "text/plain": [
       "<IPython.core.display.HTML object>"
      ]
     },
     "metadata": {},
     "output_type": "display_data"
    },
    {
     "name": "stdout",
     "output_type": "stream",
     "text": [
      "\n",
      "*** Feature extraction finished ***\n",
      "Descriptive statistics for patient 75434 on 11012019 saved to D:/Parkinson's/Features_Extraction\\75434_11012019_features.csv\n",
      "*** Feature extraction started ***\n"
     ]
    },
    {
     "data": {
      "text/html": [
       "\n",
       "              <p>\n",
       "                  Progress: 100% Complete\n",
       "              <p/>\n",
       "              <progress\n",
       "                  value='95'\n",
       "                  max='95',\n",
       "                  style='width: 25%',\n",
       "              >\n",
       "                  95\n",
       "              </progress>\n",
       "\n",
       "    "
      ],
      "text/plain": [
       "<IPython.core.display.HTML object>"
      ]
     },
     "metadata": {},
     "output_type": "display_data"
    },
    {
     "name": "stdout",
     "output_type": "stream",
     "text": [
      "\n",
      "*** Feature extraction finished ***\n",
      "Descriptive statistics for patient 75484 on 12022019 saved to D:/Parkinson's/Features_Extraction\\75484_12022019_features.csv\n",
      "*** Feature extraction started ***\n"
     ]
    },
    {
     "data": {
      "text/html": [
       "\n",
       "              <p>\n",
       "                  Progress: 100% Complete\n",
       "              <p/>\n",
       "              <progress\n",
       "                  value='95'\n",
       "                  max='95',\n",
       "                  style='width: 25%',\n",
       "              >\n",
       "                  95\n",
       "              </progress>\n",
       "\n",
       "    "
      ],
      "text/plain": [
       "<IPython.core.display.HTML object>"
      ]
     },
     "metadata": {},
     "output_type": "display_data"
    },
    {
     "name": "stdout",
     "output_type": "stream",
     "text": [
      "\n",
      "*** Feature extraction finished ***\n",
      "Descriptive statistics for patient 75492 on 10012019 saved to D:/Parkinson's/Features_Extraction\\75492_10012019_features.csv\n",
      "Not enough data for a full window in file D:/Parkinson's/Filtered_Data_9_to_5\\75496_10012019_filtered.csv. Has 28802 samples, needs 30000.\n",
      "*** Feature extraction started ***\n"
     ]
    },
    {
     "data": {
      "text/html": [
       "\n",
       "              <p>\n",
       "                  Progress: 100% Complete\n",
       "              <p/>\n",
       "              <progress\n",
       "                  value='95'\n",
       "                  max='95',\n",
       "                  style='width: 25%',\n",
       "              >\n",
       "                  95\n",
       "              </progress>\n",
       "\n",
       "    "
      ],
      "text/plain": [
       "<IPython.core.display.HTML object>"
      ]
     },
     "metadata": {},
     "output_type": "display_data"
    },
    {
     "name": "stdout",
     "output_type": "stream",
     "text": [
      "\n",
      "*** Feature extraction finished ***\n",
      "Descriptive statistics for patient 75508 on 11012019 saved to D:/Parkinson's/Features_Extraction\\75508_11012019_features.csv\n",
      "Not enough data for a full window in file D:/Parkinson's/Filtered_Data_9_to_5\\75512_12012019_filtered.csv. Has 28802 samples, needs 30000.\n",
      "Not enough data for a full window in file D:/Parkinson's/Filtered_Data_9_to_5\\75547_12012019_filtered.csv. Has 28802 samples, needs 30000.\n",
      "*** Feature extraction started ***\n"
     ]
    },
    {
     "data": {
      "text/html": [
       "\n",
       "              <p>\n",
       "                  Progress: 100% Complete\n",
       "              <p/>\n",
       "              <progress\n",
       "                  value='95'\n",
       "                  max='95',\n",
       "                  style='width: 25%',\n",
       "              >\n",
       "                  95\n",
       "              </progress>\n",
       "\n",
       "    "
      ],
      "text/plain": [
       "<IPython.core.display.HTML object>"
      ]
     },
     "metadata": {},
     "output_type": "display_data"
    },
    {
     "name": "stdout",
     "output_type": "stream",
     "text": [
      "\n",
      "*** Feature extraction finished ***\n",
      "Descriptive statistics for patient 90456 on 09012019 saved to D:/Parkinson's/Features_Extraction\\90456_09012019_features.csv\n",
      "*** Feature extraction started ***\n"
     ]
    },
    {
     "data": {
      "text/html": [
       "\n",
       "              <p>\n",
       "                  Progress: 100% Complete\n",
       "              <p/>\n",
       "              <progress\n",
       "                  value='82'\n",
       "                  max='82',\n",
       "                  style='width: 25%',\n",
       "              >\n",
       "                  82\n",
       "              </progress>\n",
       "\n",
       "    "
      ],
      "text/plain": [
       "<IPython.core.display.HTML object>"
      ]
     },
     "metadata": {},
     "output_type": "display_data"
    },
    {
     "name": "stdout",
     "output_type": "stream",
     "text": [
      "\n",
      "*** Feature extraction finished ***\n",
      "Descriptive statistics for patient 91097 on 07112019 saved to D:/Parkinson's/Features_Extraction\\91097_07112019_features.csv\n"
     ]
    }
   ],
   "source": [
    "import pandas as pd\n",
    "import tsfel\n",
    "import os\n",
    "from glob import glob\n",
    "\n",
    "\n",
    "SAMPLING_RATE = 100  \n",
    "WINDOW_SIZE_SECONDS = 300  # 5 minutes window\n",
    "WINDOW_SIZE_SAMPLES = SAMPLING_RATE * WINDOW_SIZE_SECONDS\n",
    "\n",
    "# The root directory of the dataset\n",
    "main_directory = \"D:/Parkinson's/Filtered_Data_9_to_5\"\n",
    "# The directory where the feature extraction files will be saved\n",
    "output_directory = \"D:/Parkinson's/Features_Extraction\"\n",
    "# Ensure the output directory exists\n",
    "os.makedirs(output_directory, exist_ok=True)\n",
    "\n",
    "# Get all CSV files in the main directory\n",
    "file_paths = glob(os.path.join(main_directory, \"*.csv\"))\n",
    "\n",
    "# Go through each file and perform feature extraction\n",
    "for file_path in file_paths:\n",
    "    # Extract patient number and date from the filename\n",
    "    base_name = os.path.basename(file_path).replace('.csv', '')\n",
    "    patient_number, date = base_name.split('_')[0], base_name.split('_')[1]  # Assuming the format is \"number_date\"\n",
    "    \n",
    "    # Load the data\n",
    "    df = pd.read_csv(file_path)\n",
    "\n",
    "    # Verify if enough data is present for at least one window\n",
    "    if len(df) < WINDOW_SIZE_SAMPLES:\n",
    "        print(f\"Not enough data for a full window in file {file_path}. Has {len(df)} samples, needs {WINDOW_SIZE_SAMPLES}.\")\n",
    "        continue  # Skip this file\n",
    "\n",
    "    # Extract features using TSFEL\n",
    "    cfg = tsfel.get_features_by_domain()\n",
    "\n",
    "    # Extracting features\n",
    "    features = tsfel.time_series_features_extractor(cfg, df[['FilteredEuclideanDistance']], fs=SAMPLING_RATE, window_size=WINDOW_SIZE_SAMPLES)\n",
    "\n",
    "    # Calculate descriptive statistics for the extracted features\n",
    "     # Calculate descriptive statistics for the extracted features\n",
    "    descriptive_stats = features.describe().drop('count')  # Drop 'count' as it's not needed\n",
    "        \n",
    "        # Flatten the DataFrame to a single row per patient\n",
    "        # Pivot the descriptive statistics so that each statistic becomes a column\n",
    "    descriptive_stats_flat = descriptive_stats.unstack().to_frame().T\n",
    "        \n",
    "        # Create new column names by combining the statistic with the feature name\n",
    "    descriptive_stats_flat.columns = ['{}_{}'.format(stat, feature) for feature, stat in descriptive_stats_flat.columns]\n",
    "\n",
    "        # Insert the patient number and date into the first columns\n",
    "    descriptive_stats_flat.insert(0, 'PatientNumber', patient_number)\n",
    "    descriptive_stats_flat.insert(1, 'Date', date)\n",
    "        \n",
    "        # Define output filename\n",
    "    output_filename = f\"{patient_number}_{date}_features.csv\"\n",
    "    output_filepath = os.path.join(output_directory, output_filename)\n",
    "        \n",
    "        # Save the flattened descriptive statistics to CSV\n",
    "    descriptive_stats_flat.to_csv(output_filepath, index=False)\n",
    "\n",
    "    print(f\"Descriptive statistics for patient {patient_number} on {date} saved to {output_filepath}\")"
   ]
  },
  {
   "cell_type": "code",
   "execution_count": 15,
   "id": "72e0556e",
   "metadata": {},
   "outputs": [
    {
     "name": "stdout",
     "output_type": "stream",
     "text": [
      "All features combined and saved to D:/Parkinson's/Features_Extraction\\Combined_Features.xlsx\n"
     ]
    }
   ],
   "source": [
    "import pandas as pd\n",
    "import os\n",
    "from glob import glob\n",
    "\n",
    "# The directory where the feature extraction files are saved\n",
    "output_directory = \"D:/Parkinson's/Features_Extraction\"\n",
    "# The path for the combined Excel output file\n",
    "combined_excel_output_file = os.path.join(output_directory, \"Combined_Features.xlsx\")\n",
    "\n",
    "# List all CSV files in the output directory\n",
    "csv_files = glob(os.path.join(output_directory, \"*_features.csv\"))\n",
    "\n",
    "# Initialize a list to store DataFrames\n",
    "all_dataframes = []\n",
    "\n",
    "# Loop through the files and read each one into a DataFrame\n",
    "for csv_file in csv_files:\n",
    "    df = pd.read_csv(csv_file)\n",
    "    all_dataframes.append(df)\n",
    "\n",
    "# Concatenate all DataFrames into one\n",
    "combined_df = pd.concat(all_dataframes, ignore_index=True)\n",
    "\n",
    "# Write the combined DataFrame to an Excel file\n",
    "combined_df.to_excel(combined_excel_output_file, index=False)\n",
    "\n",
    "print(f\"All features combined and saved to {combined_excel_output_file}\")\n"
   ]
  },
  {
   "cell_type": "code",
   "execution_count": null,
   "id": "043d3666",
   "metadata": {},
   "outputs": [],
   "source": []
  }
 ],
 "metadata": {
  "kernelspec": {
   "display_name": "Python 3 (ipykernel)",
   "language": "python",
   "name": "python3"
  },
  "language_info": {
   "codemirror_mode": {
    "name": "ipython",
    "version": 3
   },
   "file_extension": ".py",
   "mimetype": "text/x-python",
   "name": "python",
   "nbconvert_exporter": "python",
   "pygments_lexer": "ipython3",
   "version": "3.11.5"
  }
 },
 "nbformat": 4,
 "nbformat_minor": 5
}
