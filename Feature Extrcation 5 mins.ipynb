{
 "cells": [
  {
   "cell_type": "code",
   "execution_count": 10,
   "id": "b979ae28",
   "metadata": {},
   "outputs": [
    {
     "name": "stdout",
     "output_type": "stream",
     "text": [
      "*** Feature extraction started ***\n"
     ]
    },
    {
     "data": {
      "text/html": [
       "\n",
       "              <p>\n",
       "                  Progress: 100% Complete\n",
       "              <p/>\n",
       "              <progress\n",
       "                  value='87'\n",
       "                  max='87',\n",
       "                  style='width: 25%',\n",
       "              >\n",
       "                  87\n",
       "              </progress>\n",
       "\n",
       "    "
      ],
      "text/plain": [
       "<IPython.core.display.HTML object>"
      ]
     },
     "metadata": {},
     "output_type": "display_data"
    },
    {
     "name": "stdout",
     "output_type": "stream",
     "text": [
      "\n",
      "*** Feature extraction finished ***\n",
      "Features extracted and saved to D:\\Parkinson's\\Features_Extraction_5mins\\3086\\3086_03122019_TSFEL_output.csv\n",
      "Skipping D:\\Parkinson's\\Filtered_Data_9_to_5_updated\\Filtered_Data_9_to_5_updated\\3119_03282019_filtered.csv due to insufficient data for a 5-minute window.\n",
      "*** Feature extraction started ***\n"
     ]
    },
    {
     "data": {
      "text/html": [
       "\n",
       "              <p>\n",
       "                  Progress: 100% Complete\n",
       "              <p/>\n",
       "              <progress\n",
       "                  value='50'\n",
       "                  max='50',\n",
       "                  style='width: 25%',\n",
       "              >\n",
       "                  50\n",
       "              </progress>\n",
       "\n",
       "    "
      ],
      "text/plain": [
       "<IPython.core.display.HTML object>"
      ]
     },
     "metadata": {},
     "output_type": "display_data"
    },
    {
     "name": "stdout",
     "output_type": "stream",
     "text": [
      "\n",
      "*** Feature extraction finished ***\n",
      "Features extracted and saved to D:\\Parkinson's\\Features_Extraction_5mins\\3169\\3169_12112019_TSFEL_output.csv\n",
      "*** Feature extraction started ***\n"
     ]
    },
    {
     "data": {
      "text/html": [
       "\n",
       "              <p>\n",
       "                  Progress: 100% Complete\n",
       "              <p/>\n",
       "              <progress\n",
       "                  value='65'\n",
       "                  max='65',\n",
       "                  style='width: 25%',\n",
       "              >\n",
       "                  65\n",
       "              </progress>\n",
       "\n",
       "    "
      ],
      "text/plain": [
       "<IPython.core.display.HTML object>"
      ]
     },
     "metadata": {},
     "output_type": "display_data"
    },
    {
     "name": "stdout",
     "output_type": "stream",
     "text": [
      "\n",
      "*** Feature extraction finished ***\n",
      "Features extracted and saved to D:\\Parkinson's\\Features_Extraction_5mins\\3181\\3181_10282019_TSFEL_output.csv\n",
      "*** Feature extraction started ***\n"
     ]
    },
    {
     "data": {
      "text/html": [
       "\n",
       "              <p>\n",
       "                  Progress: 100% Complete\n",
       "              <p/>\n",
       "              <progress\n",
       "                  value='95'\n",
       "                  max='95',\n",
       "                  style='width: 25%',\n",
       "              >\n",
       "                  95\n",
       "              </progress>\n",
       "\n",
       "    "
      ],
      "text/plain": [
       "<IPython.core.display.HTML object>"
      ]
     },
     "metadata": {},
     "output_type": "display_data"
    },
    {
     "name": "stdout",
     "output_type": "stream",
     "text": [
      "\n",
      "*** Feature extraction finished ***\n",
      "Features extracted and saved to D:\\Parkinson's\\Features_Extraction_5mins\\3207\\3207_03132019_TSFEL_output.csv\n",
      "*** Feature extraction started ***\n"
     ]
    },
    {
     "data": {
      "text/html": [
       "\n",
       "              <p>\n",
       "                  Progress: 100% Complete\n",
       "              <p/>\n",
       "              <progress\n",
       "                  value='95'\n",
       "                  max='95',\n",
       "                  style='width: 25%',\n",
       "              >\n",
       "                  95\n",
       "              </progress>\n",
       "\n",
       "    "
      ],
      "text/plain": [
       "<IPython.core.display.HTML object>"
      ]
     },
     "metadata": {},
     "output_type": "display_data"
    },
    {
     "name": "stdout",
     "output_type": "stream",
     "text": [
      "\n",
      "*** Feature extraction finished ***\n",
      "Features extracted and saved to D:\\Parkinson's\\Features_Extraction_5mins\\3216\\3216_10072019_TSFEL_output.csv\n",
      "*** Feature extraction started ***\n"
     ]
    },
    {
     "data": {
      "text/html": [
       "\n",
       "              <p>\n",
       "                  Progress: 100% Complete\n",
       "              <p/>\n",
       "              <progress\n",
       "                  value='95'\n",
       "                  max='95',\n",
       "                  style='width: 25%',\n",
       "              >\n",
       "                  95\n",
       "              </progress>\n",
       "\n",
       "    "
      ],
      "text/plain": [
       "<IPython.core.display.HTML object>"
      ]
     },
     "metadata": {},
     "output_type": "display_data"
    },
    {
     "name": "stdout",
     "output_type": "stream",
     "text": [
      "\n",
      "*** Feature extraction finished ***\n",
      "Features extracted and saved to D:\\Parkinson's\\Features_Extraction_5mins\\3218\\3218_10022019_TSFEL_output.csv\n",
      "*** Feature extraction started ***\n"
     ]
    },
    {
     "data": {
      "text/html": [
       "\n",
       "              <p>\n",
       "                  Progress: 100% Complete\n",
       "              <p/>\n",
       "              <progress\n",
       "                  value='95'\n",
       "                  max='95',\n",
       "                  style='width: 25%',\n",
       "              >\n",
       "                  95\n",
       "              </progress>\n",
       "\n",
       "    "
      ],
      "text/plain": [
       "<IPython.core.display.HTML object>"
      ]
     },
     "metadata": {},
     "output_type": "display_data"
    },
    {
     "name": "stdout",
     "output_type": "stream",
     "text": [
      "\n",
      "*** Feature extraction finished ***\n",
      "Features extracted and saved to D:\\Parkinson's\\Features_Extraction_5mins\\3223\\3223_01092019_TSFEL_output.csv\n",
      "*** Feature extraction started ***\n"
     ]
    },
    {
     "data": {
      "text/html": [
       "\n",
       "              <p>\n",
       "                  Progress: 100% Complete\n",
       "              <p/>\n",
       "              <progress\n",
       "                  value='95'\n",
       "                  max='95',\n",
       "                  style='width: 25%',\n",
       "              >\n",
       "                  95\n",
       "              </progress>\n",
       "\n",
       "    "
      ],
      "text/plain": [
       "<IPython.core.display.HTML object>"
      ]
     },
     "metadata": {},
     "output_type": "display_data"
    },
    {
     "name": "stdout",
     "output_type": "stream",
     "text": [
      "\n",
      "*** Feature extraction finished ***\n",
      "Features extracted and saved to D:\\Parkinson's\\Features_Extraction_5mins\\3224\\3224_04242019_TSFEL_output.csv\n",
      "*** Feature extraction started ***\n"
     ]
    },
    {
     "data": {
      "text/html": [
       "\n",
       "              <p>\n",
       "                  Progress: 100% Complete\n",
       "              <p/>\n",
       "              <progress\n",
       "                  value='95'\n",
       "                  max='95',\n",
       "                  style='width: 25%',\n",
       "              >\n",
       "                  95\n",
       "              </progress>\n",
       "\n",
       "    "
      ],
      "text/plain": [
       "<IPython.core.display.HTML object>"
      ]
     },
     "metadata": {},
     "output_type": "display_data"
    },
    {
     "name": "stdout",
     "output_type": "stream",
     "text": [
      "\n",
      "*** Feature extraction finished ***\n",
      "Features extracted and saved to D:\\Parkinson's\\Features_Extraction_5mins\\3227\\3227_05302019_TSFEL_output.csv\n",
      "*** Feature extraction started ***\n"
     ]
    },
    {
     "data": {
      "text/html": [
       "\n",
       "              <p>\n",
       "                  Progress: 100% Complete\n",
       "              <p/>\n",
       "              <progress\n",
       "                  value='95'\n",
       "                  max='95',\n",
       "                  style='width: 25%',\n",
       "              >\n",
       "                  95\n",
       "              </progress>\n",
       "\n",
       "    "
      ],
      "text/plain": [
       "<IPython.core.display.HTML object>"
      ]
     },
     "metadata": {},
     "output_type": "display_data"
    },
    {
     "name": "stdout",
     "output_type": "stream",
     "text": [
      "\n",
      "*** Feature extraction finished ***\n",
      "Features extracted and saved to D:\\Parkinson's\\Features_Extraction_5mins\\3234\\3234_04252019_TSFEL_output.csv\n",
      "*** Feature extraction started ***\n"
     ]
    },
    {
     "data": {
      "text/html": [
       "\n",
       "              <p>\n",
       "                  Progress: 100% Complete\n",
       "              <p/>\n",
       "              <progress\n",
       "                  value='95'\n",
       "                  max='95',\n",
       "                  style='width: 25%',\n",
       "              >\n",
       "                  95\n",
       "              </progress>\n",
       "\n",
       "    "
      ],
      "text/plain": [
       "<IPython.core.display.HTML object>"
      ]
     },
     "metadata": {},
     "output_type": "display_data"
    },
    {
     "name": "stdout",
     "output_type": "stream",
     "text": [
      "\n",
      "*** Feature extraction finished ***\n",
      "Features extracted and saved to D:\\Parkinson's\\Features_Extraction_5mins\\3237\\3237_04022019_TSFEL_output.csv\n",
      "*** Feature extraction started ***\n"
     ]
    },
    {
     "data": {
      "text/html": [
       "\n",
       "              <p>\n",
       "                  Progress: 100% Complete\n",
       "              <p/>\n",
       "              <progress\n",
       "                  value='94'\n",
       "                  max='94',\n",
       "                  style='width: 25%',\n",
       "              >\n",
       "                  94\n",
       "              </progress>\n",
       "\n",
       "    "
      ],
      "text/plain": [
       "<IPython.core.display.HTML object>"
      ]
     },
     "metadata": {},
     "output_type": "display_data"
    },
    {
     "name": "stdout",
     "output_type": "stream",
     "text": [
      "\n",
      "*** Feature extraction finished ***\n",
      "Features extracted and saved to D:\\Parkinson's\\Features_Extraction_5mins\\3354\\3354_05202019_TSFEL_output.csv\n",
      "*** Feature extraction started ***\n"
     ]
    },
    {
     "data": {
      "text/html": [
       "\n",
       "              <p>\n",
       "                  Progress: 100% Complete\n",
       "              <p/>\n",
       "              <progress\n",
       "                  value='95'\n",
       "                  max='95',\n",
       "                  style='width: 25%',\n",
       "              >\n",
       "                  95\n",
       "              </progress>\n",
       "\n",
       "    "
      ],
      "text/plain": [
       "<IPython.core.display.HTML object>"
      ]
     },
     "metadata": {},
     "output_type": "display_data"
    },
    {
     "name": "stdout",
     "output_type": "stream",
     "text": [
      "\n",
      "*** Feature extraction finished ***\n",
      "Features extracted and saved to D:\\Parkinson's\\Features_Extraction_5mins\\3366\\3366_11112019_TSFEL_output.csv\n",
      "*** Feature extraction started ***\n"
     ]
    },
    {
     "data": {
      "text/html": [
       "\n",
       "              <p>\n",
       "                  Progress: 100% Complete\n",
       "              <p/>\n",
       "              <progress\n",
       "                  value='95'\n",
       "                  max='95',\n",
       "                  style='width: 25%',\n",
       "              >\n",
       "                  95\n",
       "              </progress>\n",
       "\n",
       "    "
      ],
      "text/plain": [
       "<IPython.core.display.HTML object>"
      ]
     },
     "metadata": {},
     "output_type": "display_data"
    },
    {
     "name": "stdout",
     "output_type": "stream",
     "text": [
      "\n",
      "*** Feature extraction finished ***\n",
      "Features extracted and saved to D:\\Parkinson's\\Features_Extraction_5mins\\3367\\3367_08022019_TSFEL_output.csv\n",
      "*** Feature extraction started ***\n"
     ]
    },
    {
     "data": {
      "text/html": [
       "\n",
       "              <p>\n",
       "                  Progress: 100% Complete\n",
       "              <p/>\n",
       "              <progress\n",
       "                  value='95'\n",
       "                  max='95',\n",
       "                  style='width: 25%',\n",
       "              >\n",
       "                  95\n",
       "              </progress>\n",
       "\n",
       "    "
      ],
      "text/plain": [
       "<IPython.core.display.HTML object>"
      ]
     },
     "metadata": {},
     "output_type": "display_data"
    },
    {
     "name": "stdout",
     "output_type": "stream",
     "text": [
      "\n",
      "*** Feature extraction finished ***\n",
      "Features extracted and saved to D:\\Parkinson's\\Features_Extraction_5mins\\3403\\3403_07082019_TSFEL_output.csv\n",
      "*** Feature extraction started ***\n"
     ]
    },
    {
     "data": {
      "text/html": [
       "\n",
       "              <p>\n",
       "                  Progress: 100% Complete\n",
       "              <p/>\n",
       "              <progress\n",
       "                  value='95'\n",
       "                  max='95',\n",
       "                  style='width: 25%',\n",
       "              >\n",
       "                  95\n",
       "              </progress>\n",
       "\n",
       "    "
      ],
      "text/plain": [
       "<IPython.core.display.HTML object>"
      ]
     },
     "metadata": {},
     "output_type": "display_data"
    },
    {
     "name": "stdout",
     "output_type": "stream",
     "text": [
      "\n",
      "*** Feature extraction finished ***\n",
      "Features extracted and saved to D:\\Parkinson's\\Features_Extraction_5mins\\3404\\3404_07012019_TSFEL_output.csv\n",
      "*** Feature extraction started ***\n"
     ]
    },
    {
     "data": {
      "text/html": [
       "\n",
       "              <p>\n",
       "                  Progress: 100% Complete\n",
       "              <p/>\n",
       "              <progress\n",
       "                  value='95'\n",
       "                  max='95',\n",
       "                  style='width: 25%',\n",
       "              >\n",
       "                  95\n",
       "              </progress>\n",
       "\n",
       "    "
      ],
      "text/plain": [
       "<IPython.core.display.HTML object>"
      ]
     },
     "metadata": {},
     "output_type": "display_data"
    },
    {
     "name": "stdout",
     "output_type": "stream",
     "text": [
      "\n",
      "*** Feature extraction finished ***\n",
      "Features extracted and saved to D:\\Parkinson's\\Features_Extraction_5mins\\3407\\3407_10042019_TSFEL_output.csv\n",
      "*** Feature extraction started ***\n"
     ]
    },
    {
     "data": {
      "text/html": [
       "\n",
       "              <p>\n",
       "                  Progress: 100% Complete\n",
       "              <p/>\n",
       "              <progress\n",
       "                  value='95'\n",
       "                  max='95',\n",
       "                  style='width: 25%',\n",
       "              >\n",
       "                  95\n",
       "              </progress>\n",
       "\n",
       "    "
      ],
      "text/plain": [
       "<IPython.core.display.HTML object>"
      ]
     },
     "metadata": {},
     "output_type": "display_data"
    },
    {
     "name": "stdout",
     "output_type": "stream",
     "text": [
      "\n",
      "*** Feature extraction finished ***\n",
      "Features extracted and saved to D:\\Parkinson's\\Features_Extraction_5mins\\3415\\3415_03222019_TSFEL_output.csv\n",
      "*** Feature extraction started ***\n"
     ]
    },
    {
     "data": {
      "text/html": [
       "\n",
       "              <p>\n",
       "                  Progress: 100% Complete\n",
       "              <p/>\n",
       "              <progress\n",
       "                  value='95'\n",
       "                  max='95',\n",
       "                  style='width: 25%',\n",
       "              >\n",
       "                  95\n",
       "              </progress>\n",
       "\n",
       "    "
      ],
      "text/plain": [
       "<IPython.core.display.HTML object>"
      ]
     },
     "metadata": {},
     "output_type": "display_data"
    },
    {
     "name": "stdout",
     "output_type": "stream",
     "text": [
      "\n",
      "*** Feature extraction finished ***\n",
      "Features extracted and saved to D:\\Parkinson's\\Features_Extraction_5mins\\3417\\3417_06202019_TSFEL_output.csv\n",
      "*** Feature extraction started ***\n"
     ]
    },
    {
     "data": {
      "text/html": [
       "\n",
       "              <p>\n",
       "                  Progress: 100% Complete\n",
       "              <p/>\n",
       "              <progress\n",
       "                  value='3'\n",
       "                  max='3',\n",
       "                  style='width: 25%',\n",
       "              >\n",
       "                  3\n",
       "              </progress>\n",
       "\n",
       "    "
      ],
      "text/plain": [
       "<IPython.core.display.HTML object>"
      ]
     },
     "metadata": {},
     "output_type": "display_data"
    },
    {
     "name": "stdout",
     "output_type": "stream",
     "text": [
      "\n",
      "*** Feature extraction finished ***\n",
      "Features extracted and saved to D:\\Parkinson's\\Features_Extraction_5mins\\3424\\3424_07012019_TSFEL_output.csv\n",
      "*** Feature extraction started ***\n"
     ]
    },
    {
     "data": {
      "text/html": [
       "\n",
       "              <p>\n",
       "                  Progress: 100% Complete\n",
       "              <p/>\n",
       "              <progress\n",
       "                  value='95'\n",
       "                  max='95',\n",
       "                  style='width: 25%',\n",
       "              >\n",
       "                  95\n",
       "              </progress>\n",
       "\n",
       "    "
      ],
      "text/plain": [
       "<IPython.core.display.HTML object>"
      ]
     },
     "metadata": {},
     "output_type": "display_data"
    },
    {
     "name": "stdout",
     "output_type": "stream",
     "text": [
      "\n",
      "*** Feature extraction finished ***\n",
      "Features extracted and saved to D:\\Parkinson's\\Features_Extraction_5mins\\3428\\3428_07012019_TSFEL_output.csv\n",
      "*** Feature extraction started ***\n"
     ]
    },
    {
     "data": {
      "text/html": [
       "\n",
       "              <p>\n",
       "                  Progress: 100% Complete\n",
       "              <p/>\n",
       "              <progress\n",
       "                  value='95'\n",
       "                  max='95',\n",
       "                  style='width: 25%',\n",
       "              >\n",
       "                  95\n",
       "              </progress>\n",
       "\n",
       "    "
      ],
      "text/plain": [
       "<IPython.core.display.HTML object>"
      ]
     },
     "metadata": {},
     "output_type": "display_data"
    },
    {
     "name": "stdout",
     "output_type": "stream",
     "text": [
      "\n",
      "*** Feature extraction finished ***\n",
      "Features extracted and saved to D:\\Parkinson's\\Features_Extraction_5mins\\3429\\3429_07012019_TSFEL_output.csv\n",
      "*** Feature extraction started ***\n"
     ]
    },
    {
     "data": {
      "text/html": [
       "\n",
       "              <p>\n",
       "                  Progress: 100% Complete\n",
       "              <p/>\n",
       "              <progress\n",
       "                  value='34'\n",
       "                  max='34',\n",
       "                  style='width: 25%',\n",
       "              >\n",
       "                  34\n",
       "              </progress>\n",
       "\n",
       "    "
      ],
      "text/plain": [
       "<IPython.core.display.HTML object>"
      ]
     },
     "metadata": {},
     "output_type": "display_data"
    },
    {
     "name": "stdout",
     "output_type": "stream",
     "text": [
      "\n",
      "*** Feature extraction finished ***\n",
      "Features extracted and saved to D:\\Parkinson's\\Features_Extraction_5mins\\3431\\3431_09192019_TSFEL_output.csv\n",
      "*** Feature extraction started ***\n"
     ]
    },
    {
     "data": {
      "text/html": [
       "\n",
       "              <p>\n",
       "                  Progress: 100% Complete\n",
       "              <p/>\n",
       "              <progress\n",
       "                  value='75'\n",
       "                  max='75',\n",
       "                  style='width: 25%',\n",
       "              >\n",
       "                  75\n",
       "              </progress>\n",
       "\n",
       "    "
      ],
      "text/plain": [
       "<IPython.core.display.HTML object>"
      ]
     },
     "metadata": {},
     "output_type": "display_data"
    },
    {
     "name": "stdout",
     "output_type": "stream",
     "text": [
      "\n",
      "*** Feature extraction finished ***\n",
      "Features extracted and saved to D:\\Parkinson's\\Features_Extraction_5mins\\3433\\3433_11012019_TSFEL_output.csv\n",
      "*** Feature extraction started ***\n"
     ]
    },
    {
     "data": {
      "text/html": [
       "\n",
       "              <p>\n",
       "                  Progress: 100% Complete\n",
       "              <p/>\n",
       "              <progress\n",
       "                  value='95'\n",
       "                  max='95',\n",
       "                  style='width: 25%',\n",
       "              >\n",
       "                  95\n",
       "              </progress>\n",
       "\n",
       "    "
      ],
      "text/plain": [
       "<IPython.core.display.HTML object>"
      ]
     },
     "metadata": {},
     "output_type": "display_data"
    },
    {
     "name": "stdout",
     "output_type": "stream",
     "text": [
      "\n",
      "*** Feature extraction finished ***\n",
      "Features extracted and saved to D:\\Parkinson's\\Features_Extraction_5mins\\3434\\3434_10012019_TSFEL_output.csv\n",
      "*** Feature extraction started ***\n"
     ]
    },
    {
     "data": {
      "text/html": [
       "\n",
       "              <p>\n",
       "                  Progress: 100% Complete\n",
       "              <p/>\n",
       "              <progress\n",
       "                  value='28'\n",
       "                  max='28',\n",
       "                  style='width: 25%',\n",
       "              >\n",
       "                  28\n",
       "              </progress>\n",
       "\n",
       "    "
      ],
      "text/plain": [
       "<IPython.core.display.HTML object>"
      ]
     },
     "metadata": {},
     "output_type": "display_data"
    },
    {
     "name": "stdout",
     "output_type": "stream",
     "text": [
      "\n",
      "*** Feature extraction finished ***\n",
      "Features extracted and saved to D:\\Parkinson's\\Features_Extraction_5mins\\3435\\3435_10012019_TSFEL_output.csv\n",
      "*** Feature extraction started ***\n"
     ]
    },
    {
     "data": {
      "text/html": [
       "\n",
       "              <p>\n",
       "                  Progress: 100% Complete\n",
       "              <p/>\n",
       "              <progress\n",
       "                  value='95'\n",
       "                  max='95',\n",
       "                  style='width: 25%',\n",
       "              >\n",
       "                  95\n",
       "              </progress>\n",
       "\n",
       "    "
      ],
      "text/plain": [
       "<IPython.core.display.HTML object>"
      ]
     },
     "metadata": {},
     "output_type": "display_data"
    },
    {
     "name": "stdout",
     "output_type": "stream",
     "text": [
      "\n",
      "*** Feature extraction finished ***\n",
      "Features extracted and saved to D:\\Parkinson's\\Features_Extraction_5mins\\3439\\3439_01312019_TSFEL_output.csv\n",
      "*** Feature extraction started ***\n"
     ]
    },
    {
     "data": {
      "text/html": [
       "\n",
       "              <p>\n",
       "                  Progress: 100% Complete\n",
       "              <p/>\n",
       "              <progress\n",
       "                  value='95'\n",
       "                  max='95',\n",
       "                  style='width: 25%',\n",
       "              >\n",
       "                  95\n",
       "              </progress>\n",
       "\n",
       "    "
      ],
      "text/plain": [
       "<IPython.core.display.HTML object>"
      ]
     },
     "metadata": {},
     "output_type": "display_data"
    },
    {
     "name": "stdout",
     "output_type": "stream",
     "text": [
      "\n",
      "*** Feature extraction finished ***\n",
      "Features extracted and saved to D:\\Parkinson's\\Features_Extraction_5mins\\3443\\3443_03202019_TSFEL_output.csv\n",
      "*** Feature extraction started ***\n"
     ]
    },
    {
     "data": {
      "text/html": [
       "\n",
       "              <p>\n",
       "                  Progress: 100% Complete\n",
       "              <p/>\n",
       "              <progress\n",
       "                  value='95'\n",
       "                  max='95',\n",
       "                  style='width: 25%',\n",
       "              >\n",
       "                  95\n",
       "              </progress>\n",
       "\n",
       "    "
      ],
      "text/plain": [
       "<IPython.core.display.HTML object>"
      ]
     },
     "metadata": {},
     "output_type": "display_data"
    },
    {
     "name": "stdout",
     "output_type": "stream",
     "text": [
      "\n",
      "*** Feature extraction finished ***\n",
      "Features extracted and saved to D:\\Parkinson's\\Features_Extraction_5mins\\3444\\3444_04192019_TSFEL_output.csv\n",
      "*** Feature extraction started ***\n"
     ]
    },
    {
     "data": {
      "text/html": [
       "\n",
       "              <p>\n",
       "                  Progress: 100% Complete\n",
       "              <p/>\n",
       "              <progress\n",
       "                  value='95'\n",
       "                  max='95',\n",
       "                  style='width: 25%',\n",
       "              >\n",
       "                  95\n",
       "              </progress>\n",
       "\n",
       "    "
      ],
      "text/plain": [
       "<IPython.core.display.HTML object>"
      ]
     },
     "metadata": {},
     "output_type": "display_data"
    },
    {
     "name": "stdout",
     "output_type": "stream",
     "text": [
      "\n",
      "*** Feature extraction finished ***\n",
      "Features extracted and saved to D:\\Parkinson's\\Features_Extraction_5mins\\3446\\3446_05312019_TSFEL_output.csv\n",
      "*** Feature extraction started ***\n"
     ]
    },
    {
     "data": {
      "text/html": [
       "\n",
       "              <p>\n",
       "                  Progress: 100% Complete\n",
       "              <p/>\n",
       "              <progress\n",
       "                  value='95'\n",
       "                  max='95',\n",
       "                  style='width: 25%',\n",
       "              >\n",
       "                  95\n",
       "              </progress>\n",
       "\n",
       "    "
      ],
      "text/plain": [
       "<IPython.core.display.HTML object>"
      ]
     },
     "metadata": {},
     "output_type": "display_data"
    },
    {
     "name": "stdout",
     "output_type": "stream",
     "text": [
      "\n",
      "*** Feature extraction finished ***\n",
      "Features extracted and saved to D:\\Parkinson's\\Features_Extraction_5mins\\3448\\3448_05152019_TSFEL_output.csv\n",
      "*** Feature extraction started ***\n"
     ]
    },
    {
     "data": {
      "text/html": [
       "\n",
       "              <p>\n",
       "                  Progress: 100% Complete\n",
       "              <p/>\n",
       "              <progress\n",
       "                  value='84'\n",
       "                  max='84',\n",
       "                  style='width: 25%',\n",
       "              >\n",
       "                  84\n",
       "              </progress>\n",
       "\n",
       "    "
      ],
      "text/plain": [
       "<IPython.core.display.HTML object>"
      ]
     },
     "metadata": {},
     "output_type": "display_data"
    },
    {
     "name": "stdout",
     "output_type": "stream",
     "text": [
      "\n",
      "*** Feature extraction finished ***\n",
      "Features extracted and saved to D:\\Parkinson's\\Features_Extraction_5mins\\3451\\3451_12012019_TSFEL_output.csv\n",
      "*** Feature extraction started ***\n"
     ]
    },
    {
     "data": {
      "text/html": [
       "\n",
       "              <p>\n",
       "                  Progress: 100% Complete\n",
       "              <p/>\n",
       "              <progress\n",
       "                  value='84'\n",
       "                  max='84',\n",
       "                  style='width: 25%',\n",
       "              >\n",
       "                  84\n",
       "              </progress>\n",
       "\n",
       "    "
      ],
      "text/plain": [
       "<IPython.core.display.HTML object>"
      ]
     },
     "metadata": {},
     "output_type": "display_data"
    },
    {
     "name": "stdout",
     "output_type": "stream",
     "text": [
      "\n",
      "*** Feature extraction finished ***\n",
      "Features extracted and saved to D:\\Parkinson's\\Features_Extraction_5mins\\3453\\3453_11262019_TSFEL_output.csv\n",
      "*** Feature extraction started ***\n"
     ]
    },
    {
     "data": {
      "text/html": [
       "\n",
       "              <p>\n",
       "                  Progress: 100% Complete\n",
       "              <p/>\n",
       "              <progress\n",
       "                  value='95'\n",
       "                  max='95',\n",
       "                  style='width: 25%',\n",
       "              >\n",
       "                  95\n",
       "              </progress>\n",
       "\n",
       "    "
      ],
      "text/plain": [
       "<IPython.core.display.HTML object>"
      ]
     },
     "metadata": {},
     "output_type": "display_data"
    },
    {
     "name": "stdout",
     "output_type": "stream",
     "text": [
      "\n",
      "*** Feature extraction finished ***\n",
      "Features extracted and saved to D:\\Parkinson's\\Features_Extraction_5mins\\3459\\3459_05292019_TSFEL_output.csv\n",
      "*** Feature extraction started ***\n"
     ]
    },
    {
     "data": {
      "text/html": [
       "\n",
       "              <p>\n",
       "                  Progress: 100% Complete\n",
       "              <p/>\n",
       "              <progress\n",
       "                  value='95'\n",
       "                  max='95',\n",
       "                  style='width: 25%',\n",
       "              >\n",
       "                  95\n",
       "              </progress>\n",
       "\n",
       "    "
      ],
      "text/plain": [
       "<IPython.core.display.HTML object>"
      ]
     },
     "metadata": {},
     "output_type": "display_data"
    },
    {
     "name": "stdout",
     "output_type": "stream",
     "text": [
      "\n",
      "*** Feature extraction finished ***\n",
      "Features extracted and saved to D:\\Parkinson's\\Features_Extraction_5mins\\3460\\3460_05292019_TSFEL_output.csv\n",
      "*** Feature extraction started ***\n"
     ]
    },
    {
     "data": {
      "text/html": [
       "\n",
       "              <p>\n",
       "                  Progress: 100% Complete\n",
       "              <p/>\n",
       "              <progress\n",
       "                  value='95'\n",
       "                  max='95',\n",
       "                  style='width: 25%',\n",
       "              >\n",
       "                  95\n",
       "              </progress>\n",
       "\n",
       "    "
      ],
      "text/plain": [
       "<IPython.core.display.HTML object>"
      ]
     },
     "metadata": {},
     "output_type": "display_data"
    },
    {
     "name": "stdout",
     "output_type": "stream",
     "text": [
      "\n",
      "*** Feature extraction finished ***\n",
      "Features extracted and saved to D:\\Parkinson's\\Features_Extraction_5mins\\3461\\3461_05212019_TSFEL_output.csv\n",
      "*** Feature extraction started ***\n"
     ]
    },
    {
     "data": {
      "text/html": [
       "\n",
       "              <p>\n",
       "                  Progress: 100% Complete\n",
       "              <p/>\n",
       "              <progress\n",
       "                  value='95'\n",
       "                  max='95',\n",
       "                  style='width: 25%',\n",
       "              >\n",
       "                  95\n",
       "              </progress>\n",
       "\n",
       "    "
      ],
      "text/plain": [
       "<IPython.core.display.HTML object>"
      ]
     },
     "metadata": {},
     "output_type": "display_data"
    },
    {
     "name": "stdout",
     "output_type": "stream",
     "text": [
      "\n",
      "*** Feature extraction finished ***\n",
      "Features extracted and saved to D:\\Parkinson's\\Features_Extraction_5mins\\3464\\3464_10292019_TSFEL_output.csv\n",
      "*** Feature extraction started ***\n"
     ]
    },
    {
     "data": {
      "text/html": [
       "\n",
       "              <p>\n",
       "                  Progress: 100% Complete\n",
       "              <p/>\n",
       "              <progress\n",
       "                  value='95'\n",
       "                  max='95',\n",
       "                  style='width: 25%',\n",
       "              >\n",
       "                  95\n",
       "              </progress>\n",
       "\n",
       "    "
      ],
      "text/plain": [
       "<IPython.core.display.HTML object>"
      ]
     },
     "metadata": {},
     "output_type": "display_data"
    },
    {
     "name": "stdout",
     "output_type": "stream",
     "text": [
      "\n",
      "*** Feature extraction finished ***\n",
      "Features extracted and saved to D:\\Parkinson's\\Features_Extraction_5mins\\3465\\3465_10222019_TSFEL_output.csv\n",
      "*** Feature extraction started ***\n"
     ]
    },
    {
     "data": {
      "text/html": [
       "\n",
       "              <p>\n",
       "                  Progress: 100% Complete\n",
       "              <p/>\n",
       "              <progress\n",
       "                  value='95'\n",
       "                  max='95',\n",
       "                  style='width: 25%',\n",
       "              >\n",
       "                  95\n",
       "              </progress>\n",
       "\n",
       "    "
      ],
      "text/plain": [
       "<IPython.core.display.HTML object>"
      ]
     },
     "metadata": {},
     "output_type": "display_data"
    },
    {
     "name": "stdout",
     "output_type": "stream",
     "text": [
      "\n",
      "*** Feature extraction finished ***\n",
      "Features extracted and saved to D:\\Parkinson's\\Features_Extraction_5mins\\3467\\3467_12102019_TSFEL_output.csv\n",
      "*** Feature extraction started ***\n"
     ]
    },
    {
     "data": {
      "text/html": [
       "\n",
       "              <p>\n",
       "                  Progress: 100% Complete\n",
       "              <p/>\n",
       "              <progress\n",
       "                  value='95'\n",
       "                  max='95',\n",
       "                  style='width: 25%',\n",
       "              >\n",
       "                  95\n",
       "              </progress>\n",
       "\n",
       "    "
      ],
      "text/plain": [
       "<IPython.core.display.HTML object>"
      ]
     },
     "metadata": {},
     "output_type": "display_data"
    },
    {
     "name": "stdout",
     "output_type": "stream",
     "text": [
      "\n",
      "*** Feature extraction finished ***\n",
      "Features extracted and saved to D:\\Parkinson's\\Features_Extraction_5mins\\3472\\3472_06182019_TSFEL_output.csv\n",
      "*** Feature extraction started ***\n"
     ]
    },
    {
     "data": {
      "text/html": [
       "\n",
       "              <p>\n",
       "                  Progress: 100% Complete\n",
       "              <p/>\n",
       "              <progress\n",
       "                  value='95'\n",
       "                  max='95',\n",
       "                  style='width: 25%',\n",
       "              >\n",
       "                  95\n",
       "              </progress>\n",
       "\n",
       "    "
      ],
      "text/plain": [
       "<IPython.core.display.HTML object>"
      ]
     },
     "metadata": {},
     "output_type": "display_data"
    },
    {
     "name": "stdout",
     "output_type": "stream",
     "text": [
      "\n",
      "*** Feature extraction finished ***\n",
      "Features extracted and saved to D:\\Parkinson's\\Features_Extraction_5mins\\3503\\3503_02052019_TSFEL_output.csv\n",
      "*** Feature extraction started ***\n"
     ]
    },
    {
     "data": {
      "text/html": [
       "\n",
       "              <p>\n",
       "                  Progress: 100% Complete\n",
       "              <p/>\n",
       "              <progress\n",
       "                  value='95'\n",
       "                  max='95',\n",
       "                  style='width: 25%',\n",
       "              >\n",
       "                  95\n",
       "              </progress>\n",
       "\n",
       "    "
      ],
      "text/plain": [
       "<IPython.core.display.HTML object>"
      ]
     },
     "metadata": {},
     "output_type": "display_data"
    },
    {
     "name": "stdout",
     "output_type": "stream",
     "text": [
      "\n",
      "*** Feature extraction finished ***\n",
      "Features extracted and saved to D:\\Parkinson's\\Features_Extraction_5mins\\3517\\3517_10012019_TSFEL_output.csv\n",
      "*** Feature extraction started ***\n"
     ]
    },
    {
     "data": {
      "text/html": [
       "\n",
       "              <p>\n",
       "                  Progress: 100% Complete\n",
       "              <p/>\n",
       "              <progress\n",
       "                  value='95'\n",
       "                  max='95',\n",
       "                  style='width: 25%',\n",
       "              >\n",
       "                  95\n",
       "              </progress>\n",
       "\n",
       "    "
      ],
      "text/plain": [
       "<IPython.core.display.HTML object>"
      ]
     },
     "metadata": {},
     "output_type": "display_data"
    },
    {
     "name": "stdout",
     "output_type": "stream",
     "text": [
      "\n",
      "*** Feature extraction finished ***\n",
      "Features extracted and saved to D:\\Parkinson's\\Features_Extraction_5mins\\3521\\3521_12012019_TSFEL_output.csv\n",
      "*** Feature extraction started ***\n"
     ]
    },
    {
     "data": {
      "text/html": [
       "\n",
       "              <p>\n",
       "                  Progress: 100% Complete\n",
       "              <p/>\n",
       "              <progress\n",
       "                  value='95'\n",
       "                  max='95',\n",
       "                  style='width: 25%',\n",
       "              >\n",
       "                  95\n",
       "              </progress>\n",
       "\n",
       "    "
      ],
      "text/plain": [
       "<IPython.core.display.HTML object>"
      ]
     },
     "metadata": {},
     "output_type": "display_data"
    },
    {
     "name": "stdout",
     "output_type": "stream",
     "text": [
      "\n",
      "*** Feature extraction finished ***\n",
      "Features extracted and saved to D:\\Parkinson's\\Features_Extraction_5mins\\3522\\3522_12012019_TSFEL_output.csv\n",
      "*** Feature extraction started ***\n"
     ]
    },
    {
     "data": {
      "text/html": [
       "\n",
       "              <p>\n",
       "                  Progress: 100% Complete\n",
       "              <p/>\n",
       "              <progress\n",
       "                  value='95'\n",
       "                  max='95',\n",
       "                  style='width: 25%',\n",
       "              >\n",
       "                  95\n",
       "              </progress>\n",
       "\n",
       "    "
      ],
      "text/plain": [
       "<IPython.core.display.HTML object>"
      ]
     },
     "metadata": {},
     "output_type": "display_data"
    },
    {
     "name": "stdout",
     "output_type": "stream",
     "text": [
      "\n",
      "*** Feature extraction finished ***\n",
      "Features extracted and saved to D:\\Parkinson's\\Features_Extraction_5mins\\3528\\3528_01092019_TSFEL_output.csv\n",
      "*** Feature extraction started ***\n"
     ]
    },
    {
     "data": {
      "text/html": [
       "\n",
       "              <p>\n",
       "                  Progress: 100% Complete\n",
       "              <p/>\n",
       "              <progress\n",
       "                  value='95'\n",
       "                  max='95',\n",
       "                  style='width: 25%',\n",
       "              >\n",
       "                  95\n",
       "              </progress>\n",
       "\n",
       "    "
      ],
      "text/plain": [
       "<IPython.core.display.HTML object>"
      ]
     },
     "metadata": {},
     "output_type": "display_data"
    },
    {
     "name": "stdout",
     "output_type": "stream",
     "text": [
      "\n",
      "*** Feature extraction finished ***\n",
      "Features extracted and saved to D:\\Parkinson's\\Features_Extraction_5mins\\3532\\3532_03042019_TSFEL_output.csv\n",
      "*** Feature extraction started ***\n"
     ]
    },
    {
     "data": {
      "text/html": [
       "\n",
       "              <p>\n",
       "                  Progress: 100% Complete\n",
       "              <p/>\n",
       "              <progress\n",
       "                  value='95'\n",
       "                  max='95',\n",
       "                  style='width: 25%',\n",
       "              >\n",
       "                  95\n",
       "              </progress>\n",
       "\n",
       "    "
      ],
      "text/plain": [
       "<IPython.core.display.HTML object>"
      ]
     },
     "metadata": {},
     "output_type": "display_data"
    },
    {
     "name": "stdout",
     "output_type": "stream",
     "text": [
      "\n",
      "*** Feature extraction finished ***\n",
      "Features extracted and saved to D:\\Parkinson's\\Features_Extraction_5mins\\3540\\3540_10012019_TSFEL_output.csv\n",
      "*** Feature extraction started ***\n"
     ]
    },
    {
     "data": {
      "text/html": [
       "\n",
       "              <p>\n",
       "                  Progress: 100% Complete\n",
       "              <p/>\n",
       "              <progress\n",
       "                  value='95'\n",
       "                  max='95',\n",
       "                  style='width: 25%',\n",
       "              >\n",
       "                  95\n",
       "              </progress>\n",
       "\n",
       "    "
      ],
      "text/plain": [
       "<IPython.core.display.HTML object>"
      ]
     },
     "metadata": {},
     "output_type": "display_data"
    },
    {
     "name": "stdout",
     "output_type": "stream",
     "text": [
      "\n",
      "*** Feature extraction finished ***\n",
      "Features extracted and saved to D:\\Parkinson's\\Features_Extraction_5mins\\3565\\3565_07122019_TSFEL_output.csv\n",
      "*** Feature extraction started ***\n"
     ]
    },
    {
     "data": {
      "text/html": [
       "\n",
       "              <p>\n",
       "                  Progress: 100% Complete\n",
       "              <p/>\n",
       "              <progress\n",
       "                  value='95'\n",
       "                  max='95',\n",
       "                  style='width: 25%',\n",
       "              >\n",
       "                  95\n",
       "              </progress>\n",
       "\n",
       "    "
      ],
      "text/plain": [
       "<IPython.core.display.HTML object>"
      ]
     },
     "metadata": {},
     "output_type": "display_data"
    },
    {
     "name": "stdout",
     "output_type": "stream",
     "text": [
      "\n",
      "*** Feature extraction finished ***\n",
      "Features extracted and saved to D:\\Parkinson's\\Features_Extraction_5mins\\3567\\3567_07102019_TSFEL_output.csv\n",
      "*** Feature extraction started ***\n"
     ]
    },
    {
     "data": {
      "text/html": [
       "\n",
       "              <p>\n",
       "                  Progress: 100% Complete\n",
       "              <p/>\n",
       "              <progress\n",
       "                  value='95'\n",
       "                  max='95',\n",
       "                  style='width: 25%',\n",
       "              >\n",
       "                  95\n",
       "              </progress>\n",
       "\n",
       "    "
      ],
      "text/plain": [
       "<IPython.core.display.HTML object>"
      ]
     },
     "metadata": {},
     "output_type": "display_data"
    },
    {
     "name": "stdout",
     "output_type": "stream",
     "text": [
      "\n",
      "*** Feature extraction finished ***\n",
      "Features extracted and saved to D:\\Parkinson's\\Features_Extraction_5mins\\3570\\3570_07012019_TSFEL_output.csv\n",
      "*** Feature extraction started ***\n"
     ]
    },
    {
     "data": {
      "text/html": [
       "\n",
       "              <p>\n",
       "                  Progress: 100% Complete\n",
       "              <p/>\n",
       "              <progress\n",
       "                  value='61'\n",
       "                  max='61',\n",
       "                  style='width: 25%',\n",
       "              >\n",
       "                  61\n",
       "              </progress>\n",
       "\n",
       "    "
      ],
      "text/plain": [
       "<IPython.core.display.HTML object>"
      ]
     },
     "metadata": {},
     "output_type": "display_data"
    },
    {
     "name": "stdout",
     "output_type": "stream",
     "text": [
      "\n",
      "*** Feature extraction finished ***\n",
      "Features extracted and saved to D:\\Parkinson's\\Features_Extraction_5mins\\3572\\3572_08262019_TSFEL_output.csv\n",
      "*** Feature extraction started ***\n"
     ]
    },
    {
     "data": {
      "text/html": [
       "\n",
       "              <p>\n",
       "                  Progress: 100% Complete\n",
       "              <p/>\n",
       "              <progress\n",
       "                  value='9'\n",
       "                  max='9',\n",
       "                  style='width: 25%',\n",
       "              >\n",
       "                  9\n",
       "              </progress>\n",
       "\n",
       "    "
      ],
      "text/plain": [
       "<IPython.core.display.HTML object>"
      ]
     },
     "metadata": {},
     "output_type": "display_data"
    },
    {
     "name": "stdout",
     "output_type": "stream",
     "text": [
      "\n",
      "*** Feature extraction finished ***\n",
      "Features extracted and saved to D:\\Parkinson's\\Features_Extraction_5mins\\3577\\3577_12092019_TSFEL_output.csv\n",
      "*** Feature extraction started ***\n"
     ]
    },
    {
     "data": {
      "text/html": [
       "\n",
       "              <p>\n",
       "                  Progress: 100% Complete\n",
       "              <p/>\n",
       "              <progress\n",
       "                  value='95'\n",
       "                  max='95',\n",
       "                  style='width: 25%',\n",
       "              >\n",
       "                  95\n",
       "              </progress>\n",
       "\n",
       "    "
      ],
      "text/plain": [
       "<IPython.core.display.HTML object>"
      ]
     },
     "metadata": {},
     "output_type": "display_data"
    },
    {
     "name": "stdout",
     "output_type": "stream",
     "text": [
      "\n",
      "*** Feature extraction finished ***\n",
      "Features extracted and saved to D:\\Parkinson's\\Features_Extraction_5mins\\3585\\3585_07292019_TSFEL_output.csv\n",
      "*** Feature extraction started ***\n"
     ]
    },
    {
     "data": {
      "text/html": [
       "\n",
       "              <p>\n",
       "                  Progress: 100% Complete\n",
       "              <p/>\n",
       "              <progress\n",
       "                  value='73'\n",
       "                  max='73',\n",
       "                  style='width: 25%',\n",
       "              >\n",
       "                  73\n",
       "              </progress>\n",
       "\n",
       "    "
      ],
      "text/plain": [
       "<IPython.core.display.HTML object>"
      ]
     },
     "metadata": {},
     "output_type": "display_data"
    },
    {
     "name": "stdout",
     "output_type": "stream",
     "text": [
      "\n",
      "*** Feature extraction finished ***\n",
      "Features extracted and saved to D:\\Parkinson's\\Features_Extraction_5mins\\3586\\3586_07082019_TSFEL_output.csv\n",
      "*** Feature extraction started ***\n"
     ]
    },
    {
     "data": {
      "text/html": [
       "\n",
       "              <p>\n",
       "                  Progress: 100% Complete\n",
       "              <p/>\n",
       "              <progress\n",
       "                  value='56'\n",
       "                  max='56',\n",
       "                  style='width: 25%',\n",
       "              >\n",
       "                  56\n",
       "              </progress>\n",
       "\n",
       "    "
      ],
      "text/plain": [
       "<IPython.core.display.HTML object>"
      ]
     },
     "metadata": {},
     "output_type": "display_data"
    },
    {
     "name": "stdout",
     "output_type": "stream",
     "text": [
      "\n",
      "*** Feature extraction finished ***\n",
      "Features extracted and saved to D:\\Parkinson's\\Features_Extraction_5mins\\3619\\3619_11142019_TSFEL_output.csv\n",
      "*** Feature extraction started ***\n"
     ]
    },
    {
     "data": {
      "text/html": [
       "\n",
       "              <p>\n",
       "                  Progress: 100% Complete\n",
       "              <p/>\n",
       "              <progress\n",
       "                  value='92'\n",
       "                  max='92',\n",
       "                  style='width: 25%',\n",
       "              >\n",
       "                  92\n",
       "              </progress>\n",
       "\n",
       "    "
      ],
      "text/plain": [
       "<IPython.core.display.HTML object>"
      ]
     },
     "metadata": {},
     "output_type": "display_data"
    },
    {
     "name": "stdout",
     "output_type": "stream",
     "text": [
      "\n",
      "*** Feature extraction finished ***\n",
      "Features extracted and saved to D:\\Parkinson's\\Features_Extraction_5mins\\3654\\3654_04222019_TSFEL_output.csv\n",
      "*** Feature extraction started ***\n"
     ]
    },
    {
     "data": {
      "text/html": [
       "\n",
       "              <p>\n",
       "                  Progress: 100% Complete\n",
       "              <p/>\n",
       "              <progress\n",
       "                  value='84'\n",
       "                  max='84',\n",
       "                  style='width: 25%',\n",
       "              >\n",
       "                  84\n",
       "              </progress>\n",
       "\n",
       "    "
      ],
      "text/plain": [
       "<IPython.core.display.HTML object>"
      ]
     },
     "metadata": {},
     "output_type": "display_data"
    },
    {
     "name": "stdout",
     "output_type": "stream",
     "text": [
      "\n",
      "*** Feature extraction finished ***\n",
      "Features extracted and saved to D:\\Parkinson's\\Features_Extraction_5mins\\3666\\3666_04022019_TSFEL_output.csv\n",
      "*** Feature extraction started ***\n"
     ]
    },
    {
     "data": {
      "text/html": [
       "\n",
       "              <p>\n",
       "                  Progress: 100% Complete\n",
       "              <p/>\n",
       "              <progress\n",
       "                  value='81'\n",
       "                  max='81',\n",
       "                  style='width: 25%',\n",
       "              >\n",
       "                  81\n",
       "              </progress>\n",
       "\n",
       "    "
      ],
      "text/plain": [
       "<IPython.core.display.HTML object>"
      ]
     },
     "metadata": {},
     "output_type": "display_data"
    },
    {
     "name": "stdout",
     "output_type": "stream",
     "text": [
      "\n",
      "*** Feature extraction finished ***\n",
      "Features extracted and saved to D:\\Parkinson's\\Features_Extraction_5mins\\3959\\3959_10042019_TSFEL_output.csv\n",
      "*** Feature extraction started ***\n"
     ]
    },
    {
     "data": {
      "text/html": [
       "\n",
       "              <p>\n",
       "                  Progress: 100% Complete\n",
       "              <p/>\n",
       "              <progress\n",
       "                  value='95'\n",
       "                  max='95',\n",
       "                  style='width: 25%',\n",
       "              >\n",
       "                  95\n",
       "              </progress>\n",
       "\n",
       "    "
      ],
      "text/plain": [
       "<IPython.core.display.HTML object>"
      ]
     },
     "metadata": {},
     "output_type": "display_data"
    },
    {
     "name": "stdout",
     "output_type": "stream",
     "text": [
      "\n",
      "*** Feature extraction finished ***\n",
      "Features extracted and saved to D:\\Parkinson's\\Features_Extraction_5mins\\3960\\3960_12022019_TSFEL_output.csv\n",
      "*** Feature extraction started ***\n"
     ]
    },
    {
     "data": {
      "text/html": [
       "\n",
       "              <p>\n",
       "                  Progress: 100% Complete\n",
       "              <p/>\n",
       "              <progress\n",
       "                  value='80'\n",
       "                  max='80',\n",
       "                  style='width: 25%',\n",
       "              >\n",
       "                  80\n",
       "              </progress>\n",
       "\n",
       "    "
      ],
      "text/plain": [
       "<IPython.core.display.HTML object>"
      ]
     },
     "metadata": {},
     "output_type": "display_data"
    },
    {
     "name": "stdout",
     "output_type": "stream",
     "text": [
      "\n",
      "*** Feature extraction finished ***\n",
      "Features extracted and saved to D:\\Parkinson's\\Features_Extraction_5mins\\3966\\3966_03082019_TSFEL_output.csv\n",
      "*** Feature extraction started ***\n"
     ]
    },
    {
     "data": {
      "text/html": [
       "\n",
       "              <p>\n",
       "                  Progress: 100% Complete\n",
       "              <p/>\n",
       "              <progress\n",
       "                  value='72'\n",
       "                  max='72',\n",
       "                  style='width: 25%',\n",
       "              >\n",
       "                  72\n",
       "              </progress>\n",
       "\n",
       "    "
      ],
      "text/plain": [
       "<IPython.core.display.HTML object>"
      ]
     },
     "metadata": {},
     "output_type": "display_data"
    },
    {
     "name": "stdout",
     "output_type": "stream",
     "text": [
      "\n",
      "*** Feature extraction finished ***\n",
      "Features extracted and saved to D:\\Parkinson's\\Features_Extraction_5mins\\3969\\3969_03062019_TSFEL_output.csv\n",
      "*** Feature extraction started ***\n"
     ]
    },
    {
     "data": {
      "text/html": [
       "\n",
       "              <p>\n",
       "                  Progress: 100% Complete\n",
       "              <p/>\n",
       "              <progress\n",
       "                  value='95'\n",
       "                  max='95',\n",
       "                  style='width: 25%',\n",
       "              >\n",
       "                  95\n",
       "              </progress>\n",
       "\n",
       "    "
      ],
      "text/plain": [
       "<IPython.core.display.HTML object>"
      ]
     },
     "metadata": {},
     "output_type": "display_data"
    },
    {
     "name": "stdout",
     "output_type": "stream",
     "text": [
      "\n",
      "*** Feature extraction finished ***\n",
      "Features extracted and saved to D:\\Parkinson's\\Features_Extraction_5mins\\40067\\40067_12012019_TSFEL_output.csv\n",
      "*** Feature extraction started ***\n"
     ]
    },
    {
     "data": {
      "text/html": [
       "\n",
       "              <p>\n",
       "                  Progress: 100% Complete\n",
       "              <p/>\n",
       "              <progress\n",
       "                  value='95'\n",
       "                  max='95',\n",
       "                  style='width: 25%',\n",
       "              >\n",
       "                  95\n",
       "              </progress>\n",
       "\n",
       "    "
      ],
      "text/plain": [
       "<IPython.core.display.HTML object>"
      ]
     },
     "metadata": {},
     "output_type": "display_data"
    },
    {
     "name": "stdout",
     "output_type": "stream",
     "text": [
      "\n",
      "*** Feature extraction finished ***\n",
      "Features extracted and saved to D:\\Parkinson's\\Features_Extraction_5mins\\4051\\4051_05032019_TSFEL_output.csv\n",
      "*** Feature extraction started ***\n"
     ]
    },
    {
     "data": {
      "text/html": [
       "\n",
       "              <p>\n",
       "                  Progress: 100% Complete\n",
       "              <p/>\n",
       "              <progress\n",
       "                  value='29'\n",
       "                  max='29',\n",
       "                  style='width: 25%',\n",
       "              >\n",
       "                  29\n",
       "              </progress>\n",
       "\n",
       "    "
      ],
      "text/plain": [
       "<IPython.core.display.HTML object>"
      ]
     },
     "metadata": {},
     "output_type": "display_data"
    },
    {
     "name": "stdout",
     "output_type": "stream",
     "text": [
      "\n",
      "*** Feature extraction finished ***\n",
      "Features extracted and saved to D:\\Parkinson's\\Features_Extraction_5mins\\4052\\4052_07102019_TSFEL_output.csv\n",
      "*** Feature extraction started ***\n"
     ]
    },
    {
     "data": {
      "text/html": [
       "\n",
       "              <p>\n",
       "                  Progress: 100% Complete\n",
       "              <p/>\n",
       "              <progress\n",
       "                  value='95'\n",
       "                  max='95',\n",
       "                  style='width: 25%',\n",
       "              >\n",
       "                  95\n",
       "              </progress>\n",
       "\n",
       "    "
      ],
      "text/plain": [
       "<IPython.core.display.HTML object>"
      ]
     },
     "metadata": {},
     "output_type": "display_data"
    },
    {
     "name": "stdout",
     "output_type": "stream",
     "text": [
      "\n",
      "*** Feature extraction finished ***\n",
      "Features extracted and saved to D:\\Parkinson's\\Features_Extraction_5mins\\4054\\4054_06072019_TSFEL_output.csv\n",
      "*** Feature extraction started ***\n"
     ]
    },
    {
     "data": {
      "text/html": [
       "\n",
       "              <p>\n",
       "                  Progress: 100% Complete\n",
       "              <p/>\n",
       "              <progress\n",
       "                  value='95'\n",
       "                  max='95',\n",
       "                  style='width: 25%',\n",
       "              >\n",
       "                  95\n",
       "              </progress>\n",
       "\n",
       "    "
      ],
      "text/plain": [
       "<IPython.core.display.HTML object>"
      ]
     },
     "metadata": {},
     "output_type": "display_data"
    },
    {
     "name": "stdout",
     "output_type": "stream",
     "text": [
      "\n",
      "*** Feature extraction finished ***\n",
      "Features extracted and saved to D:\\Parkinson's\\Features_Extraction_5mins\\4055\\4055_07012019_TSFEL_output.csv\n",
      "*** Feature extraction started ***\n"
     ]
    },
    {
     "data": {
      "text/html": [
       "\n",
       "              <p>\n",
       "                  Progress: 100% Complete\n",
       "              <p/>\n",
       "              <progress\n",
       "                  value='95'\n",
       "                  max='95',\n",
       "                  style='width: 25%',\n",
       "              >\n",
       "                  95\n",
       "              </progress>\n",
       "\n",
       "    "
      ],
      "text/plain": [
       "<IPython.core.display.HTML object>"
      ]
     },
     "metadata": {},
     "output_type": "display_data"
    },
    {
     "name": "stdout",
     "output_type": "stream",
     "text": [
      "\n",
      "*** Feature extraction finished ***\n",
      "Features extracted and saved to D:\\Parkinson's\\Features_Extraction_5mins\\4056\\4056_07012019_TSFEL_output.csv\n",
      "*** Feature extraction started ***\n"
     ]
    },
    {
     "data": {
      "text/html": [
       "\n",
       "              <p>\n",
       "                  Progress: 100% Complete\n",
       "              <p/>\n",
       "              <progress\n",
       "                  value='95'\n",
       "                  max='95',\n",
       "                  style='width: 25%',\n",
       "              >\n",
       "                  95\n",
       "              </progress>\n",
       "\n",
       "    "
      ],
      "text/plain": [
       "<IPython.core.display.HTML object>"
      ]
     },
     "metadata": {},
     "output_type": "display_data"
    },
    {
     "name": "stdout",
     "output_type": "stream",
     "text": [
      "\n",
      "*** Feature extraction finished ***\n",
      "Features extracted and saved to D:\\Parkinson's\\Features_Extraction_5mins\\4057\\4057_07012019_TSFEL_output.csv\n",
      "Skipping D:\\Parkinson's\\Filtered_Data_9_to_5_updated\\Filtered_Data_9_to_5_updated\\4059_08092019_filtered.csv due to insufficient data for a 5-minute window.\n",
      "*** Feature extraction started ***\n"
     ]
    },
    {
     "data": {
      "text/html": [
       "\n",
       "              <p>\n",
       "                  Progress: 100% Complete\n",
       "              <p/>\n",
       "              <progress\n",
       "                  value='95'\n",
       "                  max='95',\n",
       "                  style='width: 25%',\n",
       "              >\n",
       "                  95\n",
       "              </progress>\n",
       "\n",
       "    "
      ],
      "text/plain": [
       "<IPython.core.display.HTML object>"
      ]
     },
     "metadata": {},
     "output_type": "display_data"
    },
    {
     "name": "stdout",
     "output_type": "stream",
     "text": [
      "\n",
      "*** Feature extraction finished ***\n",
      "Features extracted and saved to D:\\Parkinson's\\Features_Extraction_5mins\\4071\\4071_08012019_TSFEL_output.csv\n",
      "*** Feature extraction started ***\n"
     ]
    },
    {
     "data": {
      "text/html": [
       "\n",
       "              <p>\n",
       "                  Progress: 100% Complete\n",
       "              <p/>\n",
       "              <progress\n",
       "                  value='95'\n",
       "                  max='95',\n",
       "                  style='width: 25%',\n",
       "              >\n",
       "                  95\n",
       "              </progress>\n",
       "\n",
       "    "
      ],
      "text/plain": [
       "<IPython.core.display.HTML object>"
      ]
     },
     "metadata": {},
     "output_type": "display_data"
    },
    {
     "name": "stdout",
     "output_type": "stream",
     "text": [
      "\n",
      "*** Feature extraction finished ***\n",
      "Features extracted and saved to D:\\Parkinson's\\Features_Extraction_5mins\\4073\\4073_09162019_TSFEL_output.csv\n",
      "*** Feature extraction started ***\n"
     ]
    },
    {
     "data": {
      "text/html": [
       "\n",
       "              <p>\n",
       "                  Progress: 100% Complete\n",
       "              <p/>\n",
       "              <progress\n",
       "                  value='95'\n",
       "                  max='95',\n",
       "                  style='width: 25%',\n",
       "              >\n",
       "                  95\n",
       "              </progress>\n",
       "\n",
       "    "
      ],
      "text/plain": [
       "<IPython.core.display.HTML object>"
      ]
     },
     "metadata": {},
     "output_type": "display_data"
    },
    {
     "name": "stdout",
     "output_type": "stream",
     "text": [
      "\n",
      "*** Feature extraction finished ***\n",
      "Features extracted and saved to D:\\Parkinson's\\Features_Extraction_5mins\\4074\\4074_10022019_TSFEL_output.csv\n",
      "*** Feature extraction started ***\n"
     ]
    },
    {
     "data": {
      "text/html": [
       "\n",
       "              <p>\n",
       "                  Progress: 100% Complete\n",
       "              <p/>\n",
       "              <progress\n",
       "                  value='95'\n",
       "                  max='95',\n",
       "                  style='width: 25%',\n",
       "              >\n",
       "                  95\n",
       "              </progress>\n",
       "\n",
       "    "
      ],
      "text/plain": [
       "<IPython.core.display.HTML object>"
      ]
     },
     "metadata": {},
     "output_type": "display_data"
    },
    {
     "name": "stdout",
     "output_type": "stream",
     "text": [
      "\n",
      "*** Feature extraction finished ***\n",
      "Features extracted and saved to D:\\Parkinson's\\Features_Extraction_5mins\\4091\\4091_08012019_TSFEL_output.csv\n",
      "*** Feature extraction started ***\n"
     ]
    },
    {
     "data": {
      "text/html": [
       "\n",
       "              <p>\n",
       "                  Progress: 100% Complete\n",
       "              <p/>\n",
       "              <progress\n",
       "                  value='95'\n",
       "                  max='95',\n",
       "                  style='width: 25%',\n",
       "              >\n",
       "                  95\n",
       "              </progress>\n",
       "\n",
       "    "
      ],
      "text/plain": [
       "<IPython.core.display.HTML object>"
      ]
     },
     "metadata": {},
     "output_type": "display_data"
    },
    {
     "name": "stdout",
     "output_type": "stream",
     "text": [
      "\n",
      "*** Feature extraction finished ***\n",
      "Features extracted and saved to D:\\Parkinson's\\Features_Extraction_5mins\\4096\\4096_09092019_TSFEL_output.csv\n",
      "*** Feature extraction started ***\n"
     ]
    },
    {
     "data": {
      "text/html": [
       "\n",
       "              <p>\n",
       "                  Progress: 100% Complete\n",
       "              <p/>\n",
       "              <progress\n",
       "                  value='95'\n",
       "                  max='95',\n",
       "                  style='width: 25%',\n",
       "              >\n",
       "                  95\n",
       "              </progress>\n",
       "\n",
       "    "
      ],
      "text/plain": [
       "<IPython.core.display.HTML object>"
      ]
     },
     "metadata": {},
     "output_type": "display_data"
    },
    {
     "name": "stdout",
     "output_type": "stream",
     "text": [
      "\n",
      "*** Feature extraction finished ***\n",
      "Features extracted and saved to D:\\Parkinson's\\Features_Extraction_5mins\\4098\\4098_11012019_TSFEL_output.csv\n",
      "*** Feature extraction started ***\n"
     ]
    },
    {
     "data": {
      "text/html": [
       "\n",
       "              <p>\n",
       "                  Progress: 100% Complete\n",
       "              <p/>\n",
       "              <progress\n",
       "                  value='95'\n",
       "                  max='95',\n",
       "                  style='width: 25%',\n",
       "              >\n",
       "                  95\n",
       "              </progress>\n",
       "\n",
       "    "
      ],
      "text/plain": [
       "<IPython.core.display.HTML object>"
      ]
     },
     "metadata": {},
     "output_type": "display_data"
    },
    {
     "name": "stdout",
     "output_type": "stream",
     "text": [
      "\n",
      "*** Feature extraction finished ***\n",
      "Features extracted and saved to D:\\Parkinson's\\Features_Extraction_5mins\\4099\\4099_12022019_TSFEL_output.csv\n",
      "*** Feature extraction started ***\n"
     ]
    },
    {
     "data": {
      "text/html": [
       "\n",
       "              <p>\n",
       "                  Progress: 100% Complete\n",
       "              <p/>\n",
       "              <progress\n",
       "                  value='95'\n",
       "                  max='95',\n",
       "                  style='width: 25%',\n",
       "              >\n",
       "                  95\n",
       "              </progress>\n",
       "\n",
       "    "
      ],
      "text/plain": [
       "<IPython.core.display.HTML object>"
      ]
     },
     "metadata": {},
     "output_type": "display_data"
    },
    {
     "name": "stdout",
     "output_type": "stream",
     "text": [
      "\n",
      "*** Feature extraction finished ***\n",
      "Features extracted and saved to D:\\Parkinson's\\Features_Extraction_5mins\\4101\\4101_11012019_TSFEL_output.csv\n",
      "*** Feature extraction started ***\n"
     ]
    },
    {
     "data": {
      "text/html": [
       "\n",
       "              <p>\n",
       "                  Progress: 100% Complete\n",
       "              <p/>\n",
       "              <progress\n",
       "                  value='95'\n",
       "                  max='95',\n",
       "                  style='width: 25%',\n",
       "              >\n",
       "                  95\n",
       "              </progress>\n",
       "\n",
       "    "
      ],
      "text/plain": [
       "<IPython.core.display.HTML object>"
      ]
     },
     "metadata": {},
     "output_type": "display_data"
    },
    {
     "name": "stdout",
     "output_type": "stream",
     "text": [
      "\n",
      "*** Feature extraction finished ***\n",
      "Features extracted and saved to D:\\Parkinson's\\Features_Extraction_5mins\\4102\\4102_12012019_TSFEL_output.csv\n",
      "*** Feature extraction started ***\n"
     ]
    },
    {
     "data": {
      "text/html": [
       "\n",
       "              <p>\n",
       "                  Progress: 100% Complete\n",
       "              <p/>\n",
       "              <progress\n",
       "                  value='95'\n",
       "                  max='95',\n",
       "                  style='width: 25%',\n",
       "              >\n",
       "                  95\n",
       "              </progress>\n",
       "\n",
       "    "
      ],
      "text/plain": [
       "<IPython.core.display.HTML object>"
      ]
     },
     "metadata": {},
     "output_type": "display_data"
    },
    {
     "name": "stdout",
     "output_type": "stream",
     "text": [
      "\n",
      "*** Feature extraction finished ***\n",
      "Features extracted and saved to D:\\Parkinson's\\Features_Extraction_5mins\\4104\\4104_01252019_TSFEL_output.csv\n",
      "*** Feature extraction started ***\n"
     ]
    },
    {
     "data": {
      "text/html": [
       "\n",
       "              <p>\n",
       "                  Progress: 100% Complete\n",
       "              <p/>\n",
       "              <progress\n",
       "                  value='95'\n",
       "                  max='95',\n",
       "                  style='width: 25%',\n",
       "              >\n",
       "                  95\n",
       "              </progress>\n",
       "\n",
       "    "
      ],
      "text/plain": [
       "<IPython.core.display.HTML object>"
      ]
     },
     "metadata": {},
     "output_type": "display_data"
    },
    {
     "name": "stdout",
     "output_type": "stream",
     "text": [
      "\n",
      "*** Feature extraction finished ***\n",
      "Features extracted and saved to D:\\Parkinson's\\Features_Extraction_5mins\\4106\\4106_01152019_TSFEL_output.csv\n",
      "*** Feature extraction started ***\n"
     ]
    },
    {
     "data": {
      "text/html": [
       "\n",
       "              <p>\n",
       "                  Progress: 100% Complete\n",
       "              <p/>\n",
       "              <progress\n",
       "                  value='95'\n",
       "                  max='95',\n",
       "                  style='width: 25%',\n",
       "              >\n",
       "                  95\n",
       "              </progress>\n",
       "\n",
       "    "
      ],
      "text/plain": [
       "<IPython.core.display.HTML object>"
      ]
     },
     "metadata": {},
     "output_type": "display_data"
    },
    {
     "name": "stdout",
     "output_type": "stream",
     "text": [
      "\n",
      "*** Feature extraction finished ***\n",
      "Features extracted and saved to D:\\Parkinson's\\Features_Extraction_5mins\\4108\\4108_01282019_TSFEL_output.csv\n",
      "*** Feature extraction started ***\n"
     ]
    },
    {
     "data": {
      "text/html": [
       "\n",
       "              <p>\n",
       "                  Progress: 100% Complete\n",
       "              <p/>\n",
       "              <progress\n",
       "                  value='95'\n",
       "                  max='95',\n",
       "                  style='width: 25%',\n",
       "              >\n",
       "                  95\n",
       "              </progress>\n",
       "\n",
       "    "
      ],
      "text/plain": [
       "<IPython.core.display.HTML object>"
      ]
     },
     "metadata": {},
     "output_type": "display_data"
    },
    {
     "name": "stdout",
     "output_type": "stream",
     "text": [
      "\n",
      "*** Feature extraction finished ***\n",
      "Features extracted and saved to D:\\Parkinson's\\Features_Extraction_5mins\\4111\\4111_02082019_TSFEL_output.csv\n",
      "*** Feature extraction started ***\n"
     ]
    },
    {
     "data": {
      "text/html": [
       "\n",
       "              <p>\n",
       "                  Progress: 100% Complete\n",
       "              <p/>\n",
       "              <progress\n",
       "                  value='95'\n",
       "                  max='95',\n",
       "                  style='width: 25%',\n",
       "              >\n",
       "                  95\n",
       "              </progress>\n",
       "\n",
       "    "
      ],
      "text/plain": [
       "<IPython.core.display.HTML object>"
      ]
     },
     "metadata": {},
     "output_type": "display_data"
    },
    {
     "name": "stdout",
     "output_type": "stream",
     "text": [
      "\n",
      "*** Feature extraction finished ***\n",
      "Features extracted and saved to D:\\Parkinson's\\Features_Extraction_5mins\\4115\\4115_03262019_TSFEL_output.csv\n",
      "*** Feature extraction started ***\n"
     ]
    },
    {
     "data": {
      "text/html": [
       "\n",
       "              <p>\n",
       "                  Progress: 100% Complete\n",
       "              <p/>\n",
       "              <progress\n",
       "                  value='95'\n",
       "                  max='95',\n",
       "                  style='width: 25%',\n",
       "              >\n",
       "                  95\n",
       "              </progress>\n",
       "\n",
       "    "
      ],
      "text/plain": [
       "<IPython.core.display.HTML object>"
      ]
     },
     "metadata": {},
     "output_type": "display_data"
    },
    {
     "name": "stdout",
     "output_type": "stream",
     "text": [
      "\n",
      "*** Feature extraction finished ***\n",
      "Features extracted and saved to D:\\Parkinson's\\Features_Extraction_5mins\\4117\\4117_05102019_TSFEL_output.csv\n",
      "*** Feature extraction started ***\n"
     ]
    },
    {
     "data": {
      "text/html": [
       "\n",
       "              <p>\n",
       "                  Progress: 100% Complete\n",
       "              <p/>\n",
       "              <progress\n",
       "                  value='95'\n",
       "                  max='95',\n",
       "                  style='width: 25%',\n",
       "              >\n",
       "                  95\n",
       "              </progress>\n",
       "\n",
       "    "
      ],
      "text/plain": [
       "<IPython.core.display.HTML object>"
      ]
     },
     "metadata": {},
     "output_type": "display_data"
    },
    {
     "name": "stdout",
     "output_type": "stream",
     "text": [
      "\n",
      "*** Feature extraction finished ***\n",
      "Features extracted and saved to D:\\Parkinson's\\Features_Extraction_5mins\\41184\\41184_04012019_TSFEL_output.csv\n",
      "*** Feature extraction started ***\n"
     ]
    },
    {
     "data": {
      "text/html": [
       "\n",
       "              <p>\n",
       "                  Progress: 100% Complete\n",
       "              <p/>\n",
       "              <progress\n",
       "                  value='95'\n",
       "                  max='95',\n",
       "                  style='width: 25%',\n",
       "              >\n",
       "                  95\n",
       "              </progress>\n",
       "\n",
       "    "
      ],
      "text/plain": [
       "<IPython.core.display.HTML object>"
      ]
     },
     "metadata": {},
     "output_type": "display_data"
    },
    {
     "name": "stdout",
     "output_type": "stream",
     "text": [
      "\n",
      "*** Feature extraction finished ***\n",
      "Features extracted and saved to D:\\Parkinson's\\Features_Extraction_5mins\\41749\\41749_07012019_TSFEL_output.csv\n",
      "*** Feature extraction started ***\n"
     ]
    },
    {
     "data": {
      "text/html": [
       "\n",
       "              <p>\n",
       "                  Progress: 100% Complete\n",
       "              <p/>\n",
       "              <progress\n",
       "                  value='95'\n",
       "                  max='95',\n",
       "                  style='width: 25%',\n",
       "              >\n",
       "                  95\n",
       "              </progress>\n",
       "\n",
       "    "
      ],
      "text/plain": [
       "<IPython.core.display.HTML object>"
      ]
     },
     "metadata": {},
     "output_type": "display_data"
    },
    {
     "name": "stdout",
     "output_type": "stream",
     "text": [
      "\n",
      "*** Feature extraction finished ***\n",
      "Features extracted and saved to D:\\Parkinson's\\Features_Extraction_5mins\\42724\\42724_01222019_TSFEL_output.csv\n",
      "*** Feature extraction started ***\n"
     ]
    },
    {
     "data": {
      "text/html": [
       "\n",
       "              <p>\n",
       "                  Progress: 100% Complete\n",
       "              <p/>\n",
       "              <progress\n",
       "                  value='95'\n",
       "                  max='95',\n",
       "                  style='width: 25%',\n",
       "              >\n",
       "                  95\n",
       "              </progress>\n",
       "\n",
       "    "
      ],
      "text/plain": [
       "<IPython.core.display.HTML object>"
      ]
     },
     "metadata": {},
     "output_type": "display_data"
    },
    {
     "name": "stdout",
     "output_type": "stream",
     "text": [
      "\n",
      "*** Feature extraction finished ***\n",
      "Features extracted and saved to D:\\Parkinson's\\Features_Extraction_5mins\\50009\\50009_04022019_TSFEL_output.csv\n",
      "*** Feature extraction started ***\n"
     ]
    },
    {
     "data": {
      "text/html": [
       "\n",
       "              <p>\n",
       "                  Progress: 100% Complete\n",
       "              <p/>\n",
       "              <progress\n",
       "                  value='95'\n",
       "                  max='95',\n",
       "                  style='width: 25%',\n",
       "              >\n",
       "                  95\n",
       "              </progress>\n",
       "\n",
       "    "
      ],
      "text/plain": [
       "<IPython.core.display.HTML object>"
      ]
     },
     "metadata": {},
     "output_type": "display_data"
    },
    {
     "name": "stdout",
     "output_type": "stream",
     "text": [
      "\n",
      "*** Feature extraction finished ***\n",
      "Features extracted and saved to D:\\Parkinson's\\Features_Extraction_5mins\\50192\\50192_06012019_TSFEL_output.csv\n",
      "*** Feature extraction started ***\n"
     ]
    },
    {
     "data": {
      "text/html": [
       "\n",
       "              <p>\n",
       "                  Progress: 100% Complete\n",
       "              <p/>\n",
       "              <progress\n",
       "                  value='66'\n",
       "                  max='66',\n",
       "                  style='width: 25%',\n",
       "              >\n",
       "                  66\n",
       "              </progress>\n",
       "\n",
       "    "
      ],
      "text/plain": [
       "<IPython.core.display.HTML object>"
      ]
     },
     "metadata": {},
     "output_type": "display_data"
    },
    {
     "name": "stdout",
     "output_type": "stream",
     "text": [
      "\n",
      "*** Feature extraction finished ***\n",
      "Features extracted and saved to D:\\Parkinson's\\Features_Extraction_5mins\\50222\\50222_08192019_TSFEL_output.csv\n",
      "*** Feature extraction started ***\n"
     ]
    },
    {
     "data": {
      "text/html": [
       "\n",
       "              <p>\n",
       "                  Progress: 100% Complete\n",
       "              <p/>\n",
       "              <progress\n",
       "                  value='95'\n",
       "                  max='95',\n",
       "                  style='width: 25%',\n",
       "              >\n",
       "                  95\n",
       "              </progress>\n",
       "\n",
       "    "
      ],
      "text/plain": [
       "<IPython.core.display.HTML object>"
      ]
     },
     "metadata": {},
     "output_type": "display_data"
    },
    {
     "name": "stdout",
     "output_type": "stream",
     "text": [
      "\n",
      "*** Feature extraction finished ***\n",
      "Features extracted and saved to D:\\Parkinson's\\Features_Extraction_5mins\\50225\\50225_08192019_TSFEL_output.csv\n",
      "*** Feature extraction started ***\n"
     ]
    },
    {
     "data": {
      "text/html": [
       "\n",
       "              <p>\n",
       "                  Progress: 100% Complete\n",
       "              <p/>\n",
       "              <progress\n",
       "                  value='95'\n",
       "                  max='95',\n",
       "                  style='width: 25%',\n",
       "              >\n",
       "                  95\n",
       "              </progress>\n",
       "\n",
       "    "
      ],
      "text/plain": [
       "<IPython.core.display.HTML object>"
      ]
     },
     "metadata": {},
     "output_type": "display_data"
    },
    {
     "name": "stdout",
     "output_type": "stream",
     "text": [
      "\n",
      "*** Feature extraction finished ***\n",
      "Features extracted and saved to D:\\Parkinson's\\Features_Extraction_5mins\\50621\\50621_06112019_TSFEL_output.csv\n",
      "*** Feature extraction started ***\n"
     ]
    },
    {
     "data": {
      "text/html": [
       "\n",
       "              <p>\n",
       "                  Progress: 100% Complete\n",
       "              <p/>\n",
       "              <progress\n",
       "                  value='95'\n",
       "                  max='95',\n",
       "                  style='width: 25%',\n",
       "              >\n",
       "                  95\n",
       "              </progress>\n",
       "\n",
       "    "
      ],
      "text/plain": [
       "<IPython.core.display.HTML object>"
      ]
     },
     "metadata": {},
     "output_type": "display_data"
    },
    {
     "name": "stdout",
     "output_type": "stream",
     "text": [
      "\n",
      "*** Feature extraction finished ***\n",
      "Features extracted and saved to D:\\Parkinson's\\Features_Extraction_5mins\\50670\\50670_02132019_TSFEL_output.csv\n",
      "*** Feature extraction started ***\n"
     ]
    },
    {
     "data": {
      "text/html": [
       "\n",
       "              <p>\n",
       "                  Progress: 100% Complete\n",
       "              <p/>\n",
       "              <progress\n",
       "                  value='95'\n",
       "                  max='95',\n",
       "                  style='width: 25%',\n",
       "              >\n",
       "                  95\n",
       "              </progress>\n",
       "\n",
       "    "
      ],
      "text/plain": [
       "<IPython.core.display.HTML object>"
      ]
     },
     "metadata": {},
     "output_type": "display_data"
    },
    {
     "name": "stdout",
     "output_type": "stream",
     "text": [
      "\n",
      "*** Feature extraction finished ***\n",
      "Features extracted and saved to D:\\Parkinson's\\Features_Extraction_5mins\\50860\\50860_11012019_TSFEL_output.csv\n",
      "*** Feature extraction started ***\n"
     ]
    },
    {
     "data": {
      "text/html": [
       "\n",
       "              <p>\n",
       "                  Progress: 100% Complete\n",
       "              <p/>\n",
       "              <progress\n",
       "                  value='95'\n",
       "                  max='95',\n",
       "                  style='width: 25%',\n",
       "              >\n",
       "                  95\n",
       "              </progress>\n",
       "\n",
       "    "
      ],
      "text/plain": [
       "<IPython.core.display.HTML object>"
      ]
     },
     "metadata": {},
     "output_type": "display_data"
    },
    {
     "name": "stdout",
     "output_type": "stream",
     "text": [
      "\n",
      "*** Feature extraction finished ***\n",
      "Features extracted and saved to D:\\Parkinson's\\Features_Extraction_5mins\\50901\\50901_12012019_TSFEL_output.csv\n",
      "*** Feature extraction started ***\n"
     ]
    },
    {
     "data": {
      "text/html": [
       "\n",
       "              <p>\n",
       "                  Progress: 100% Complete\n",
       "              <p/>\n",
       "              <progress\n",
       "                  value='95'\n",
       "                  max='95',\n",
       "                  style='width: 25%',\n",
       "              >\n",
       "                  95\n",
       "              </progress>\n",
       "\n",
       "    "
      ],
      "text/plain": [
       "<IPython.core.display.HTML object>"
      ]
     },
     "metadata": {},
     "output_type": "display_data"
    },
    {
     "name": "stdout",
     "output_type": "stream",
     "text": [
      "\n",
      "*** Feature extraction finished ***\n",
      "Features extracted and saved to D:\\Parkinson's\\Features_Extraction_5mins\\51186\\51186_05162019_TSFEL_output.csv\n",
      "*** Feature extraction started ***\n"
     ]
    },
    {
     "data": {
      "text/html": [
       "\n",
       "              <p>\n",
       "                  Progress: 100% Complete\n",
       "              <p/>\n",
       "              <progress\n",
       "                  value='95'\n",
       "                  max='95',\n",
       "                  style='width: 25%',\n",
       "              >\n",
       "                  95\n",
       "              </progress>\n",
       "\n",
       "    "
      ],
      "text/plain": [
       "<IPython.core.display.HTML object>"
      ]
     },
     "metadata": {},
     "output_type": "display_data"
    },
    {
     "name": "stdout",
     "output_type": "stream",
     "text": [
      "\n",
      "*** Feature extraction finished ***\n",
      "Features extracted and saved to D:\\Parkinson's\\Features_Extraction_5mins\\51252\\51252_07012019_TSFEL_output.csv\n",
      "*** Feature extraction started ***\n"
     ]
    },
    {
     "data": {
      "text/html": [
       "\n",
       "              <p>\n",
       "                  Progress: 100% Complete\n",
       "              <p/>\n",
       "              <progress\n",
       "                  value='95'\n",
       "                  max='95',\n",
       "                  style='width: 25%',\n",
       "              >\n",
       "                  95\n",
       "              </progress>\n",
       "\n",
       "    "
      ],
      "text/plain": [
       "<IPython.core.display.HTML object>"
      ]
     },
     "metadata": {},
     "output_type": "display_data"
    },
    {
     "name": "stdout",
     "output_type": "stream",
     "text": [
      "\n",
      "*** Feature extraction finished ***\n",
      "Features extracted and saved to D:\\Parkinson's\\Features_Extraction_5mins\\51311\\51311_06132019_TSFEL_output.csv\n",
      "*** Feature extraction started ***\n"
     ]
    },
    {
     "data": {
      "text/html": [
       "\n",
       "              <p>\n",
       "                  Progress: 100% Complete\n",
       "              <p/>\n",
       "              <progress\n",
       "                  value='90'\n",
       "                  max='90',\n",
       "                  style='width: 25%',\n",
       "              >\n",
       "                  90\n",
       "              </progress>\n",
       "\n",
       "    "
      ],
      "text/plain": [
       "<IPython.core.display.HTML object>"
      ]
     },
     "metadata": {},
     "output_type": "display_data"
    },
    {
     "name": "stdout",
     "output_type": "stream",
     "text": [
      "\n",
      "*** Feature extraction finished ***\n",
      "Features extracted and saved to D:\\Parkinson's\\Features_Extraction_5mins\\51518\\51518_07222019_TSFEL_output.csv\n",
      "*** Feature extraction started ***\n"
     ]
    },
    {
     "data": {
      "text/html": [
       "\n",
       "              <p>\n",
       "                  Progress: 100% Complete\n",
       "              <p/>\n",
       "              <progress\n",
       "                  value='95'\n",
       "                  max='95',\n",
       "                  style='width: 25%',\n",
       "              >\n",
       "                  95\n",
       "              </progress>\n",
       "\n",
       "    "
      ],
      "text/plain": [
       "<IPython.core.display.HTML object>"
      ]
     },
     "metadata": {},
     "output_type": "display_data"
    },
    {
     "name": "stdout",
     "output_type": "stream",
     "text": [
      "\n",
      "*** Feature extraction finished ***\n",
      "Features extracted and saved to D:\\Parkinson's\\Features_Extraction_5mins\\51540\\51540_10012019_TSFEL_output.csv\n",
      "*** Feature extraction started ***\n"
     ]
    },
    {
     "data": {
      "text/html": [
       "\n",
       "              <p>\n",
       "                  Progress: 100% Complete\n",
       "              <p/>\n",
       "              <progress\n",
       "                  value='62'\n",
       "                  max='62',\n",
       "                  style='width: 25%',\n",
       "              >\n",
       "                  62\n",
       "              </progress>\n",
       "\n",
       "    "
      ],
      "text/plain": [
       "<IPython.core.display.HTML object>"
      ]
     },
     "metadata": {},
     "output_type": "display_data"
    },
    {
     "name": "stdout",
     "output_type": "stream",
     "text": [
      "\n",
      "*** Feature extraction finished ***\n",
      "Features extracted and saved to D:\\Parkinson's\\Features_Extraction_5mins\\51625\\51625_08012019_TSFEL_output.csv\n",
      "*** Feature extraction started ***\n"
     ]
    },
    {
     "data": {
      "text/html": [
       "\n",
       "              <p>\n",
       "                  Progress: 100% Complete\n",
       "              <p/>\n",
       "              <progress\n",
       "                  value='95'\n",
       "                  max='95',\n",
       "                  style='width: 25%',\n",
       "              >\n",
       "                  95\n",
       "              </progress>\n",
       "\n",
       "    "
      ],
      "text/plain": [
       "<IPython.core.display.HTML object>"
      ]
     },
     "metadata": {},
     "output_type": "display_data"
    },
    {
     "name": "stdout",
     "output_type": "stream",
     "text": [
      "\n",
      "*** Feature extraction finished ***\n",
      "Features extracted and saved to D:\\Parkinson's\\Features_Extraction_5mins\\51731\\51731_10092019_TSFEL_output.csv\n",
      "*** Feature extraction started ***\n"
     ]
    },
    {
     "data": {
      "text/html": [
       "\n",
       "              <p>\n",
       "                  Progress: 100% Complete\n",
       "              <p/>\n",
       "              <progress\n",
       "                  value='95'\n",
       "                  max='95',\n",
       "                  style='width: 25%',\n",
       "              >\n",
       "                  95\n",
       "              </progress>\n",
       "\n",
       "    "
      ],
      "text/plain": [
       "<IPython.core.display.HTML object>"
      ]
     },
     "metadata": {},
     "output_type": "display_data"
    },
    {
     "name": "stdout",
     "output_type": "stream",
     "text": [
      "\n",
      "*** Feature extraction finished ***\n",
      "Features extracted and saved to D:\\Parkinson's\\Features_Extraction_5mins\\51867\\51867_09012019_TSFEL_output.csv\n",
      "*** Feature extraction started ***\n"
     ]
    },
    {
     "data": {
      "text/html": [
       "\n",
       "              <p>\n",
       "                  Progress: 100% Complete\n",
       "              <p/>\n",
       "              <progress\n",
       "                  value='95'\n",
       "                  max='95',\n",
       "                  style='width: 25%',\n",
       "              >\n",
       "                  95\n",
       "              </progress>\n",
       "\n",
       "    "
      ],
      "text/plain": [
       "<IPython.core.display.HTML object>"
      ]
     },
     "metadata": {},
     "output_type": "display_data"
    },
    {
     "name": "stdout",
     "output_type": "stream",
     "text": [
      "\n",
      "*** Feature extraction finished ***\n",
      "Features extracted and saved to D:\\Parkinson's\\Features_Extraction_5mins\\51971\\51971_10012019_TSFEL_output.csv\n",
      "*** Feature extraction started ***\n"
     ]
    },
    {
     "data": {
      "text/html": [
       "\n",
       "              <p>\n",
       "                  Progress: 100% Complete\n",
       "              <p/>\n",
       "              <progress\n",
       "                  value='95'\n",
       "                  max='95',\n",
       "                  style='width: 25%',\n",
       "              >\n",
       "                  95\n",
       "              </progress>\n",
       "\n",
       "    "
      ],
      "text/plain": [
       "<IPython.core.display.HTML object>"
      ]
     },
     "metadata": {},
     "output_type": "display_data"
    },
    {
     "name": "stdout",
     "output_type": "stream",
     "text": [
      "\n",
      "*** Feature extraction finished ***\n",
      "Features extracted and saved to D:\\Parkinson's\\Features_Extraction_5mins\\52062\\52062_01032019_TSFEL_output.csv\n",
      "*** Feature extraction started ***\n"
     ]
    },
    {
     "data": {
      "text/html": [
       "\n",
       "              <p>\n",
       "                  Progress: 100% Complete\n",
       "              <p/>\n",
       "              <progress\n",
       "                  value='95'\n",
       "                  max='95',\n",
       "                  style='width: 25%',\n",
       "              >\n",
       "                  95\n",
       "              </progress>\n",
       "\n",
       "    "
      ],
      "text/plain": [
       "<IPython.core.display.HTML object>"
      ]
     },
     "metadata": {},
     "output_type": "display_data"
    },
    {
     "name": "stdout",
     "output_type": "stream",
     "text": [
      "\n",
      "*** Feature extraction finished ***\n",
      "Features extracted and saved to D:\\Parkinson's\\Features_Extraction_5mins\\52353\\52353_11132019_TSFEL_output.csv\n",
      "*** Feature extraction started ***\n"
     ]
    },
    {
     "data": {
      "text/html": [
       "\n",
       "              <p>\n",
       "                  Progress: 100% Complete\n",
       "              <p/>\n",
       "              <progress\n",
       "                  value='95'\n",
       "                  max='95',\n",
       "                  style='width: 25%',\n",
       "              >\n",
       "                  95\n",
       "              </progress>\n",
       "\n",
       "    "
      ],
      "text/plain": [
       "<IPython.core.display.HTML object>"
      ]
     },
     "metadata": {},
     "output_type": "display_data"
    },
    {
     "name": "stdout",
     "output_type": "stream",
     "text": [
      "\n",
      "*** Feature extraction finished ***\n",
      "Features extracted and saved to D:\\Parkinson's\\Features_Extraction_5mins\\52355\\52355_02202019_TSFEL_output.csv\n",
      "*** Feature extraction started ***\n"
     ]
    },
    {
     "data": {
      "text/html": [
       "\n",
       "              <p>\n",
       "                  Progress: 100% Complete\n",
       "              <p/>\n",
       "              <progress\n",
       "                  value='95'\n",
       "                  max='95',\n",
       "                  style='width: 25%',\n",
       "              >\n",
       "                  95\n",
       "              </progress>\n",
       "\n",
       "    "
      ],
      "text/plain": [
       "<IPython.core.display.HTML object>"
      ]
     },
     "metadata": {},
     "output_type": "display_data"
    },
    {
     "name": "stdout",
     "output_type": "stream",
     "text": [
      "\n",
      "*** Feature extraction finished ***\n",
      "Features extracted and saved to D:\\Parkinson's\\Features_Extraction_5mins\\52400\\52400_10012019_TSFEL_output.csv\n",
      "*** Feature extraction started ***\n"
     ]
    },
    {
     "data": {
      "text/html": [
       "\n",
       "              <p>\n",
       "                  Progress: 100% Complete\n",
       "              <p/>\n",
       "              <progress\n",
       "                  value='95'\n",
       "                  max='95',\n",
       "                  style='width: 25%',\n",
       "              >\n",
       "                  95\n",
       "              </progress>\n",
       "\n",
       "    "
      ],
      "text/plain": [
       "<IPython.core.display.HTML object>"
      ]
     },
     "metadata": {},
     "output_type": "display_data"
    },
    {
     "name": "stdout",
     "output_type": "stream",
     "text": [
      "\n",
      "*** Feature extraction finished ***\n",
      "Features extracted and saved to D:\\Parkinson's\\Features_Extraction_5mins\\52752\\52752_03012019_TSFEL_output.csv\n",
      "*** Feature extraction started ***\n"
     ]
    },
    {
     "data": {
      "text/html": [
       "\n",
       "              <p>\n",
       "                  Progress: 100% Complete\n",
       "              <p/>\n",
       "              <progress\n",
       "                  value='78'\n",
       "                  max='78',\n",
       "                  style='width: 25%',\n",
       "              >\n",
       "                  78\n",
       "              </progress>\n",
       "\n",
       "    "
      ],
      "text/plain": [
       "<IPython.core.display.HTML object>"
      ]
     },
     "metadata": {},
     "output_type": "display_data"
    },
    {
     "name": "stdout",
     "output_type": "stream",
     "text": [
      "\n",
      "*** Feature extraction finished ***\n",
      "Features extracted and saved to D:\\Parkinson's\\Features_Extraction_5mins\\52872\\52872_07022019_TSFEL_output.csv\n",
      "*** Feature extraction started ***\n"
     ]
    },
    {
     "data": {
      "text/html": [
       "\n",
       "              <p>\n",
       "                  Progress: 100% Complete\n",
       "              <p/>\n",
       "              <progress\n",
       "                  value='95'\n",
       "                  max='95',\n",
       "                  style='width: 25%',\n",
       "              >\n",
       "                  95\n",
       "              </progress>\n",
       "\n",
       "    "
      ],
      "text/plain": [
       "<IPython.core.display.HTML object>"
      ]
     },
     "metadata": {},
     "output_type": "display_data"
    },
    {
     "name": "stdout",
     "output_type": "stream",
     "text": [
      "\n",
      "*** Feature extraction finished ***\n",
      "Features extracted and saved to D:\\Parkinson's\\Features_Extraction_5mins\\52874\\52874_11012019_TSFEL_output.csv\n",
      "*** Feature extraction started ***\n"
     ]
    },
    {
     "data": {
      "text/html": [
       "\n",
       "              <p>\n",
       "                  Progress: 100% Complete\n",
       "              <p/>\n",
       "              <progress\n",
       "                  value='95'\n",
       "                  max='95',\n",
       "                  style='width: 25%',\n",
       "              >\n",
       "                  95\n",
       "              </progress>\n",
       "\n",
       "    "
      ],
      "text/plain": [
       "<IPython.core.display.HTML object>"
      ]
     },
     "metadata": {},
     "output_type": "display_data"
    },
    {
     "name": "stdout",
     "output_type": "stream",
     "text": [
      "\n",
      "*** Feature extraction finished ***\n",
      "Features extracted and saved to D:\\Parkinson's\\Features_Extraction_5mins\\52888\\52888_06012019_TSFEL_output.csv\n",
      "*** Feature extraction started ***\n"
     ]
    },
    {
     "data": {
      "text/html": [
       "\n",
       "              <p>\n",
       "                  Progress: 100% Complete\n",
       "              <p/>\n",
       "              <progress\n",
       "                  value='95'\n",
       "                  max='95',\n",
       "                  style='width: 25%',\n",
       "              >\n",
       "                  95\n",
       "              </progress>\n",
       "\n",
       "    "
      ],
      "text/plain": [
       "<IPython.core.display.HTML object>"
      ]
     },
     "metadata": {},
     "output_type": "display_data"
    },
    {
     "name": "stdout",
     "output_type": "stream",
     "text": [
      "\n",
      "*** Feature extraction finished ***\n",
      "Features extracted and saved to D:\\Parkinson's\\Features_Extraction_5mins\\52982\\52982_02012019_TSFEL_output.csv\n",
      "*** Feature extraction started ***\n"
     ]
    },
    {
     "data": {
      "text/html": [
       "\n",
       "              <p>\n",
       "                  Progress: 100% Complete\n",
       "              <p/>\n",
       "              <progress\n",
       "                  value='95'\n",
       "                  max='95',\n",
       "                  style='width: 25%',\n",
       "              >\n",
       "                  95\n",
       "              </progress>\n",
       "\n",
       "    "
      ],
      "text/plain": [
       "<IPython.core.display.HTML object>"
      ]
     },
     "metadata": {},
     "output_type": "display_data"
    },
    {
     "name": "stdout",
     "output_type": "stream",
     "text": [
      "\n",
      "*** Feature extraction finished ***\n",
      "Features extracted and saved to D:\\Parkinson's\\Features_Extraction_5mins\\53054\\53054_05012019_TSFEL_output.csv\n",
      "Skipping D:\\Parkinson's\\Filtered_Data_9_to_5_updated\\Filtered_Data_9_to_5_updated\\53258_05012019_filtered.csv due to insufficient data for a 5-minute window.\n",
      "*** Feature extraction started ***\n"
     ]
    },
    {
     "data": {
      "text/html": [
       "\n",
       "              <p>\n",
       "                  Progress: 100% Complete\n",
       "              <p/>\n",
       "              <progress\n",
       "                  value='95'\n",
       "                  max='95',\n",
       "                  style='width: 25%',\n",
       "              >\n",
       "                  95\n",
       "              </progress>\n",
       "\n",
       "    "
      ],
      "text/plain": [
       "<IPython.core.display.HTML object>"
      ]
     },
     "metadata": {},
     "output_type": "display_data"
    },
    {
     "name": "stdout",
     "output_type": "stream",
     "text": [
      "\n",
      "*** Feature extraction finished ***\n",
      "Features extracted and saved to D:\\Parkinson's\\Features_Extraction_5mins\\53308\\53308_06012019_TSFEL_output.csv\n",
      "*** Feature extraction started ***\n"
     ]
    },
    {
     "data": {
      "text/html": [
       "\n",
       "              <p>\n",
       "                  Progress: 100% Complete\n",
       "              <p/>\n",
       "              <progress\n",
       "                  value='53'\n",
       "                  max='53',\n",
       "                  style='width: 25%',\n",
       "              >\n",
       "                  53\n",
       "              </progress>\n",
       "\n",
       "    "
      ],
      "text/plain": [
       "<IPython.core.display.HTML object>"
      ]
     },
     "metadata": {},
     "output_type": "display_data"
    },
    {
     "name": "stdout",
     "output_type": "stream",
     "text": [
      "\n",
      "*** Feature extraction finished ***\n",
      "Features extracted and saved to D:\\Parkinson's\\Features_Extraction_5mins\\53595\\53595_07242019_TSFEL_output.csv\n",
      "*** Feature extraction started ***\n"
     ]
    },
    {
     "data": {
      "text/html": [
       "\n",
       "              <p>\n",
       "                  Progress: 100% Complete\n",
       "              <p/>\n",
       "              <progress\n",
       "                  value='39'\n",
       "                  max='39',\n",
       "                  style='width: 25%',\n",
       "              >\n",
       "                  39\n",
       "              </progress>\n",
       "\n",
       "    "
      ],
      "text/plain": [
       "<IPython.core.display.HTML object>"
      ]
     },
     "metadata": {},
     "output_type": "display_data"
    },
    {
     "name": "stdout",
     "output_type": "stream",
     "text": [
      "\n",
      "*** Feature extraction finished ***\n",
      "Features extracted and saved to D:\\Parkinson's\\Features_Extraction_5mins\\53600\\53600_09112019_TSFEL_output.csv\n",
      "*** Feature extraction started ***\n"
     ]
    },
    {
     "data": {
      "text/html": [
       "\n",
       "              <p>\n",
       "                  Progress: 100% Complete\n",
       "              <p/>\n",
       "              <progress\n",
       "                  value='95'\n",
       "                  max='95',\n",
       "                  style='width: 25%',\n",
       "              >\n",
       "                  95\n",
       "              </progress>\n",
       "\n",
       "    "
      ],
      "text/plain": [
       "<IPython.core.display.HTML object>"
      ]
     },
     "metadata": {},
     "output_type": "display_data"
    },
    {
     "name": "stdout",
     "output_type": "stream",
     "text": [
      "\n",
      "*** Feature extraction finished ***\n",
      "Features extracted and saved to D:\\Parkinson's\\Features_Extraction_5mins\\53866\\53866_05012019_TSFEL_output.csv\n",
      "Skipping D:\\Parkinson's\\Filtered_Data_9_to_5_updated\\Filtered_Data_9_to_5_updated\\53925_06012019_filtered.csv due to insufficient data for a 5-minute window.\n",
      "*** Feature extraction started ***\n"
     ]
    },
    {
     "data": {
      "text/html": [
       "\n",
       "              <p>\n",
       "                  Progress: 100% Complete\n",
       "              <p/>\n",
       "              <progress\n",
       "                  value='95'\n",
       "                  max='95',\n",
       "                  style='width: 25%',\n",
       "              >\n",
       "                  95\n",
       "              </progress>\n",
       "\n",
       "    "
      ],
      "text/plain": [
       "<IPython.core.display.HTML object>"
      ]
     },
     "metadata": {},
     "output_type": "display_data"
    },
    {
     "name": "stdout",
     "output_type": "stream",
     "text": [
      "\n",
      "*** Feature extraction finished ***\n",
      "Features extracted and saved to D:\\Parkinson's\\Features_Extraction_5mins\\53988\\53988_02012019_TSFEL_output.csv\n",
      "*** Feature extraction started ***\n"
     ]
    },
    {
     "data": {
      "text/html": [
       "\n",
       "              <p>\n",
       "                  Progress: 100% Complete\n",
       "              <p/>\n",
       "              <progress\n",
       "                  value='56'\n",
       "                  max='56',\n",
       "                  style='width: 25%',\n",
       "              >\n",
       "                  56\n",
       "              </progress>\n",
       "\n",
       "    "
      ],
      "text/plain": [
       "<IPython.core.display.HTML object>"
      ]
     },
     "metadata": {},
     "output_type": "display_data"
    },
    {
     "name": "stdout",
     "output_type": "stream",
     "text": [
      "\n",
      "*** Feature extraction finished ***\n",
      "Features extracted and saved to D:\\Parkinson's\\Features_Extraction_5mins\\54110\\54110_12022019_TSFEL_output.csv\n",
      "*** Feature extraction started ***\n"
     ]
    },
    {
     "data": {
      "text/html": [
       "\n",
       "              <p>\n",
       "                  Progress: 100% Complete\n",
       "              <p/>\n",
       "              <progress\n",
       "                  value='95'\n",
       "                  max='95',\n",
       "                  style='width: 25%',\n",
       "              >\n",
       "                  95\n",
       "              </progress>\n",
       "\n",
       "    "
      ],
      "text/plain": [
       "<IPython.core.display.HTML object>"
      ]
     },
     "metadata": {},
     "output_type": "display_data"
    },
    {
     "name": "stdout",
     "output_type": "stream",
     "text": [
      "\n",
      "*** Feature extraction finished ***\n",
      "Features extracted and saved to D:\\Parkinson's\\Features_Extraction_5mins\\54144\\54144_03012019_TSFEL_output.csv\n",
      "*** Feature extraction started ***\n"
     ]
    },
    {
     "data": {
      "text/html": [
       "\n",
       "              <p>\n",
       "                  Progress: 100% Complete\n",
       "              <p/>\n",
       "              <progress\n",
       "                  value='52'\n",
       "                  max='52',\n",
       "                  style='width: 25%',\n",
       "              >\n",
       "                  52\n",
       "              </progress>\n",
       "\n",
       "    "
      ],
      "text/plain": [
       "<IPython.core.display.HTML object>"
      ]
     },
     "metadata": {},
     "output_type": "display_data"
    },
    {
     "name": "stdout",
     "output_type": "stream",
     "text": [
      "\n",
      "*** Feature extraction finished ***\n",
      "Features extracted and saved to D:\\Parkinson's\\Features_Extraction_5mins\\54161\\54161_10212019_TSFEL_output.csv\n",
      "*** Feature extraction started ***\n"
     ]
    },
    {
     "data": {
      "text/html": [
       "\n",
       "              <p>\n",
       "                  Progress: 100% Complete\n",
       "              <p/>\n",
       "              <progress\n",
       "                  value='95'\n",
       "                  max='95',\n",
       "                  style='width: 25%',\n",
       "              >\n",
       "                  95\n",
       "              </progress>\n",
       "\n",
       "    "
      ],
      "text/plain": [
       "<IPython.core.display.HTML object>"
      ]
     },
     "metadata": {},
     "output_type": "display_data"
    },
    {
     "name": "stdout",
     "output_type": "stream",
     "text": [
      "\n",
      "*** Feature extraction finished ***\n",
      "Features extracted and saved to D:\\Parkinson's\\Features_Extraction_5mins\\54196\\54196_08082019_TSFEL_output.csv\n",
      "*** Feature extraction started ***\n"
     ]
    },
    {
     "data": {
      "text/html": [
       "\n",
       "              <p>\n",
       "                  Progress: 100% Complete\n",
       "              <p/>\n",
       "              <progress\n",
       "                  value='33'\n",
       "                  max='33',\n",
       "                  style='width: 25%',\n",
       "              >\n",
       "                  33\n",
       "              </progress>\n",
       "\n",
       "    "
      ],
      "text/plain": [
       "<IPython.core.display.HTML object>"
      ]
     },
     "metadata": {},
     "output_type": "display_data"
    },
    {
     "name": "stdout",
     "output_type": "stream",
     "text": [
      "\n",
      "*** Feature extraction finished ***\n",
      "Features extracted and saved to D:\\Parkinson's\\Features_Extraction_5mins\\54197\\54197_06262019_TSFEL_output.csv\n",
      "*** Feature extraction started ***\n"
     ]
    },
    {
     "data": {
      "text/html": [
       "\n",
       "              <p>\n",
       "                  Progress: 100% Complete\n",
       "              <p/>\n",
       "              <progress\n",
       "                  value='47'\n",
       "                  max='47',\n",
       "                  style='width: 25%',\n",
       "              >\n",
       "                  47\n",
       "              </progress>\n",
       "\n",
       "    "
      ],
      "text/plain": [
       "<IPython.core.display.HTML object>"
      ]
     },
     "metadata": {},
     "output_type": "display_data"
    },
    {
     "name": "stdout",
     "output_type": "stream",
     "text": [
      "\n",
      "*** Feature extraction finished ***\n",
      "Features extracted and saved to D:\\Parkinson's\\Features_Extraction_5mins\\54266\\54266_05042019_TSFEL_output.csv\n",
      "*** Feature extraction started ***\n"
     ]
    },
    {
     "data": {
      "text/html": [
       "\n",
       "              <p>\n",
       "                  Progress: 100% Complete\n",
       "              <p/>\n",
       "              <progress\n",
       "                  value='95'\n",
       "                  max='95',\n",
       "                  style='width: 25%',\n",
       "              >\n",
       "                  95\n",
       "              </progress>\n",
       "\n",
       "    "
      ],
      "text/plain": [
       "<IPython.core.display.HTML object>"
      ]
     },
     "metadata": {},
     "output_type": "display_data"
    },
    {
     "name": "stdout",
     "output_type": "stream",
     "text": [
      "\n",
      "*** Feature extraction finished ***\n",
      "Features extracted and saved to D:\\Parkinson's\\Features_Extraction_5mins\\54309\\54309_08012019_TSFEL_output.csv\n",
      "*** Feature extraction started ***\n"
     ]
    },
    {
     "data": {
      "text/html": [
       "\n",
       "              <p>\n",
       "                  Progress: 100% Complete\n",
       "              <p/>\n",
       "              <progress\n",
       "                  value='45'\n",
       "                  max='45',\n",
       "                  style='width: 25%',\n",
       "              >\n",
       "                  45\n",
       "              </progress>\n",
       "\n",
       "    "
      ],
      "text/plain": [
       "<IPython.core.display.HTML object>"
      ]
     },
     "metadata": {},
     "output_type": "display_data"
    },
    {
     "name": "stdout",
     "output_type": "stream",
     "text": [
      "\n",
      "*** Feature extraction finished ***\n",
      "Features extracted and saved to D:\\Parkinson's\\Features_Extraction_5mins\\54391\\54391_10072019_TSFEL_output.csv\n",
      "*** Feature extraction started ***\n"
     ]
    },
    {
     "data": {
      "text/html": [
       "\n",
       "              <p>\n",
       "                  Progress: 100% Complete\n",
       "              <p/>\n",
       "              <progress\n",
       "                  value='95'\n",
       "                  max='95',\n",
       "                  style='width: 25%',\n",
       "              >\n",
       "                  95\n",
       "              </progress>\n",
       "\n",
       "    "
      ],
      "text/plain": [
       "<IPython.core.display.HTML object>"
      ]
     },
     "metadata": {},
     "output_type": "display_data"
    },
    {
     "name": "stdout",
     "output_type": "stream",
     "text": [
      "\n",
      "*** Feature extraction finished ***\n",
      "Features extracted and saved to D:\\Parkinson's\\Features_Extraction_5mins\\54991\\54991_11012019_TSFEL_output.csv\n",
      "*** Feature extraction started ***\n"
     ]
    },
    {
     "data": {
      "text/html": [
       "\n",
       "              <p>\n",
       "                  Progress: 100% Complete\n",
       "              <p/>\n",
       "              <progress\n",
       "                  value='64'\n",
       "                  max='64',\n",
       "                  style='width: 25%',\n",
       "              >\n",
       "                  64\n",
       "              </progress>\n",
       "\n",
       "    "
      ],
      "text/plain": [
       "<IPython.core.display.HTML object>"
      ]
     },
     "metadata": {},
     "output_type": "display_data"
    },
    {
     "name": "stdout",
     "output_type": "stream",
     "text": [
      "\n",
      "*** Feature extraction finished ***\n",
      "Features extracted and saved to D:\\Parkinson's\\Features_Extraction_5mins\\55098\\55098_06072019_TSFEL_output.csv\n",
      "*** Feature extraction started ***\n"
     ]
    },
    {
     "data": {
      "text/html": [
       "\n",
       "              <p>\n",
       "                  Progress: 100% Complete\n",
       "              <p/>\n",
       "              <progress\n",
       "                  value='95'\n",
       "                  max='95',\n",
       "                  style='width: 25%',\n",
       "              >\n",
       "                  95\n",
       "              </progress>\n",
       "\n",
       "    "
      ],
      "text/plain": [
       "<IPython.core.display.HTML object>"
      ]
     },
     "metadata": {},
     "output_type": "display_data"
    },
    {
     "name": "stdout",
     "output_type": "stream",
     "text": [
      "\n",
      "*** Feature extraction finished ***\n",
      "Features extracted and saved to D:\\Parkinson's\\Features_Extraction_5mins\\55124\\55124_08012019_TSFEL_output.csv\n",
      "*** Feature extraction started ***\n"
     ]
    },
    {
     "data": {
      "text/html": [
       "\n",
       "              <p>\n",
       "                  Progress: 100% Complete\n",
       "              <p/>\n",
       "              <progress\n",
       "                  value='95'\n",
       "                  max='95',\n",
       "                  style='width: 25%',\n",
       "              >\n",
       "                  95\n",
       "              </progress>\n",
       "\n",
       "    "
      ],
      "text/plain": [
       "<IPython.core.display.HTML object>"
      ]
     },
     "metadata": {},
     "output_type": "display_data"
    },
    {
     "name": "stdout",
     "output_type": "stream",
     "text": [
      "\n",
      "*** Feature extraction finished ***\n",
      "Features extracted and saved to D:\\Parkinson's\\Features_Extraction_5mins\\55151\\55151_07012019_TSFEL_output.csv\n",
      "*** Feature extraction started ***\n"
     ]
    },
    {
     "data": {
      "text/html": [
       "\n",
       "              <p>\n",
       "                  Progress: 100% Complete\n",
       "              <p/>\n",
       "              <progress\n",
       "                  value='95'\n",
       "                  max='95',\n",
       "                  style='width: 25%',\n",
       "              >\n",
       "                  95\n",
       "              </progress>\n",
       "\n",
       "    "
      ],
      "text/plain": [
       "<IPython.core.display.HTML object>"
      ]
     },
     "metadata": {},
     "output_type": "display_data"
    },
    {
     "name": "stdout",
     "output_type": "stream",
     "text": [
      "\n",
      "*** Feature extraction finished ***\n",
      "Features extracted and saved to D:\\Parkinson's\\Features_Extraction_5mins\\55251\\55251_09012019_TSFEL_output.csv\n",
      "*** Feature extraction started ***\n"
     ]
    },
    {
     "data": {
      "text/html": [
       "\n",
       "              <p>\n",
       "                  Progress: 100% Complete\n",
       "              <p/>\n",
       "              <progress\n",
       "                  value='95'\n",
       "                  max='95',\n",
       "                  style='width: 25%',\n",
       "              >\n",
       "                  95\n",
       "              </progress>\n",
       "\n",
       "    "
      ],
      "text/plain": [
       "<IPython.core.display.HTML object>"
      ]
     },
     "metadata": {},
     "output_type": "display_data"
    },
    {
     "name": "stdout",
     "output_type": "stream",
     "text": [
      "\n",
      "*** Feature extraction finished ***\n",
      "Features extracted and saved to D:\\Parkinson's\\Features_Extraction_5mins\\55282\\55282_07012019_TSFEL_output.csv\n",
      "*** Feature extraction started ***\n"
     ]
    },
    {
     "data": {
      "text/html": [
       "\n",
       "              <p>\n",
       "                  Progress: 100% Complete\n",
       "              <p/>\n",
       "              <progress\n",
       "                  value='95'\n",
       "                  max='95',\n",
       "                  style='width: 25%',\n",
       "              >\n",
       "                  95\n",
       "              </progress>\n",
       "\n",
       "    "
      ],
      "text/plain": [
       "<IPython.core.display.HTML object>"
      ]
     },
     "metadata": {},
     "output_type": "display_data"
    },
    {
     "name": "stdout",
     "output_type": "stream",
     "text": [
      "\n",
      "*** Feature extraction finished ***\n",
      "Features extracted and saved to D:\\Parkinson's\\Features_Extraction_5mins\\55349\\55349_07012019_TSFEL_output.csv\n",
      "Skipping D:\\Parkinson's\\Filtered_Data_9_to_5_updated\\Filtered_Data_9_to_5_updated\\55380_09012019_filtered.csv due to insufficient data for a 5-minute window.\n",
      "*** Feature extraction started ***\n"
     ]
    },
    {
     "data": {
      "text/html": [
       "\n",
       "              <p>\n",
       "                  Progress: 100% Complete\n",
       "              <p/>\n",
       "              <progress\n",
       "                  value='48'\n",
       "                  max='48',\n",
       "                  style='width: 25%',\n",
       "              >\n",
       "                  48\n",
       "              </progress>\n",
       "\n",
       "    "
      ],
      "text/plain": [
       "<IPython.core.display.HTML object>"
      ]
     },
     "metadata": {},
     "output_type": "display_data"
    },
    {
     "name": "stdout",
     "output_type": "stream",
     "text": [
      "\n",
      "*** Feature extraction finished ***\n",
      "Features extracted and saved to D:\\Parkinson's\\Features_Extraction_5mins\\55441\\55441_06272019_TSFEL_output.csv\n",
      "*** Feature extraction started ***\n"
     ]
    },
    {
     "data": {
      "text/html": [
       "\n",
       "              <p>\n",
       "                  Progress: 100% Complete\n",
       "              <p/>\n",
       "              <progress\n",
       "                  value='95'\n",
       "                  max='95',\n",
       "                  style='width: 25%',\n",
       "              >\n",
       "                  95\n",
       "              </progress>\n",
       "\n",
       "    "
      ],
      "text/plain": [
       "<IPython.core.display.HTML object>"
      ]
     },
     "metadata": {},
     "output_type": "display_data"
    },
    {
     "name": "stdout",
     "output_type": "stream",
     "text": [
      "\n",
      "*** Feature extraction finished ***\n",
      "Features extracted and saved to D:\\Parkinson's\\Features_Extraction_5mins\\55560\\55560_08012019_TSFEL_output.csv\n",
      "*** Feature extraction started ***\n"
     ]
    },
    {
     "data": {
      "text/html": [
       "\n",
       "              <p>\n",
       "                  Progress: 100% Complete\n",
       "              <p/>\n",
       "              <progress\n",
       "                  value='95'\n",
       "                  max='95',\n",
       "                  style='width: 25%',\n",
       "              >\n",
       "                  95\n",
       "              </progress>\n",
       "\n",
       "    "
      ],
      "text/plain": [
       "<IPython.core.display.HTML object>"
      ]
     },
     "metadata": {},
     "output_type": "display_data"
    },
    {
     "name": "stdout",
     "output_type": "stream",
     "text": [
      "\n",
      "*** Feature extraction finished ***\n",
      "Features extracted and saved to D:\\Parkinson's\\Features_Extraction_5mins\\55615\\55615_06012019_TSFEL_output.csv\n",
      "*** Feature extraction started ***\n"
     ]
    },
    {
     "data": {
      "text/html": [
       "\n",
       "              <p>\n",
       "                  Progress: 100% Complete\n",
       "              <p/>\n",
       "              <progress\n",
       "                  value='20'\n",
       "                  max='20',\n",
       "                  style='width: 25%',\n",
       "              >\n",
       "                  20\n",
       "              </progress>\n",
       "\n",
       "    "
      ],
      "text/plain": [
       "<IPython.core.display.HTML object>"
      ]
     },
     "metadata": {},
     "output_type": "display_data"
    },
    {
     "name": "stdout",
     "output_type": "stream",
     "text": [
      "\n",
      "*** Feature extraction finished ***\n",
      "Features extracted and saved to D:\\Parkinson's\\Features_Extraction_5mins\\55822\\55822_08082019_TSFEL_output.csv\n",
      "*** Feature extraction started ***\n"
     ]
    },
    {
     "data": {
      "text/html": [
       "\n",
       "              <p>\n",
       "                  Progress: 100% Complete\n",
       "              <p/>\n",
       "              <progress\n",
       "                  value='5'\n",
       "                  max='5',\n",
       "                  style='width: 25%',\n",
       "              >\n",
       "                  5\n",
       "              </progress>\n",
       "\n",
       "    "
      ],
      "text/plain": [
       "<IPython.core.display.HTML object>"
      ]
     },
     "metadata": {},
     "output_type": "display_data"
    },
    {
     "name": "stdout",
     "output_type": "stream",
     "text": [
      "\n",
      "*** Feature extraction finished ***\n",
      "Features extracted and saved to D:\\Parkinson's\\Features_Extraction_5mins\\55842\\55842_08232019_TSFEL_output.csv\n",
      "*** Feature extraction started ***\n"
     ]
    },
    {
     "data": {
      "text/html": [
       "\n",
       "              <p>\n",
       "                  Progress: 100% Complete\n",
       "              <p/>\n",
       "              <progress\n",
       "                  value='76'\n",
       "                  max='76',\n",
       "                  style='width: 25%',\n",
       "              >\n",
       "                  76\n",
       "              </progress>\n",
       "\n",
       "    "
      ],
      "text/plain": [
       "<IPython.core.display.HTML object>"
      ]
     },
     "metadata": {},
     "output_type": "display_data"
    },
    {
     "name": "stdout",
     "output_type": "stream",
     "text": [
      "\n",
      "*** Feature extraction finished ***\n",
      "Features extracted and saved to D:\\Parkinson's\\Features_Extraction_5mins\\56048\\56048_02012019_TSFEL_output.csv\n",
      "*** Feature extraction started ***\n"
     ]
    },
    {
     "data": {
      "text/html": [
       "\n",
       "              <p>\n",
       "                  Progress: 100% Complete\n",
       "              <p/>\n",
       "              <progress\n",
       "                  value='95'\n",
       "                  max='95',\n",
       "                  style='width: 25%',\n",
       "              >\n",
       "                  95\n",
       "              </progress>\n",
       "\n",
       "    "
      ],
      "text/plain": [
       "<IPython.core.display.HTML object>"
      ]
     },
     "metadata": {},
     "output_type": "display_data"
    },
    {
     "name": "stdout",
     "output_type": "stream",
     "text": [
      "\n",
      "*** Feature extraction finished ***\n",
      "Features extracted and saved to D:\\Parkinson's\\Features_Extraction_5mins\\56136\\56136_11012019_TSFEL_output.csv\n",
      "*** Feature extraction started ***\n"
     ]
    },
    {
     "data": {
      "text/html": [
       "\n",
       "              <p>\n",
       "                  Progress: 100% Complete\n",
       "              <p/>\n",
       "              <progress\n",
       "                  value='95'\n",
       "                  max='95',\n",
       "                  style='width: 25%',\n",
       "              >\n",
       "                  95\n",
       "              </progress>\n",
       "\n",
       "    "
      ],
      "text/plain": [
       "<IPython.core.display.HTML object>"
      ]
     },
     "metadata": {},
     "output_type": "display_data"
    },
    {
     "name": "stdout",
     "output_type": "stream",
     "text": [
      "\n",
      "*** Feature extraction finished ***\n",
      "Features extracted and saved to D:\\Parkinson's\\Features_Extraction_5mins\\56405\\56405_05012019_TSFEL_output.csv\n",
      "*** Feature extraction started ***\n"
     ]
    },
    {
     "data": {
      "text/html": [
       "\n",
       "              <p>\n",
       "                  Progress: 100% Complete\n",
       "              <p/>\n",
       "              <progress\n",
       "                  value='19'\n",
       "                  max='19',\n",
       "                  style='width: 25%',\n",
       "              >\n",
       "                  19\n",
       "              </progress>\n",
       "\n",
       "    "
      ],
      "text/plain": [
       "<IPython.core.display.HTML object>"
      ]
     },
     "metadata": {},
     "output_type": "display_data"
    },
    {
     "name": "stdout",
     "output_type": "stream",
     "text": [
      "\n",
      "*** Feature extraction finished ***\n",
      "Features extracted and saved to D:\\Parkinson's\\Features_Extraction_5mins\\56435\\56435_10032019_TSFEL_output.csv\n",
      "*** Feature extraction started ***\n"
     ]
    },
    {
     "data": {
      "text/html": [
       "\n",
       "              <p>\n",
       "                  Progress: 100% Complete\n",
       "              <p/>\n",
       "              <progress\n",
       "                  value='95'\n",
       "                  max='95',\n",
       "                  style='width: 25%',\n",
       "              >\n",
       "                  95\n",
       "              </progress>\n",
       "\n",
       "    "
      ],
      "text/plain": [
       "<IPython.core.display.HTML object>"
      ]
     },
     "metadata": {},
     "output_type": "display_data"
    },
    {
     "name": "stdout",
     "output_type": "stream",
     "text": [
      "\n",
      "*** Feature extraction finished ***\n",
      "Features extracted and saved to D:\\Parkinson's\\Features_Extraction_5mins\\56492\\56492_10042019_TSFEL_output.csv\n",
      "*** Feature extraction started ***\n"
     ]
    },
    {
     "data": {
      "text/html": [
       "\n",
       "              <p>\n",
       "                  Progress: 100% Complete\n",
       "              <p/>\n",
       "              <progress\n",
       "                  value='33'\n",
       "                  max='33',\n",
       "                  style='width: 25%',\n",
       "              >\n",
       "                  33\n",
       "              </progress>\n",
       "\n",
       "    "
      ],
      "text/plain": [
       "<IPython.core.display.HTML object>"
      ]
     },
     "metadata": {},
     "output_type": "display_data"
    },
    {
     "name": "stdout",
     "output_type": "stream",
     "text": [
      "\n",
      "*** Feature extraction finished ***\n",
      "Features extracted and saved to D:\\Parkinson's\\Features_Extraction_5mins\\56582\\56582_04122019_TSFEL_output.csv\n",
      "*** Feature extraction started ***\n"
     ]
    },
    {
     "data": {
      "text/html": [
       "\n",
       "              <p>\n",
       "                  Progress: 100% Complete\n",
       "              <p/>\n",
       "              <progress\n",
       "                  value='95'\n",
       "                  max='95',\n",
       "                  style='width: 25%',\n",
       "              >\n",
       "                  95\n",
       "              </progress>\n",
       "\n",
       "    "
      ],
      "text/plain": [
       "<IPython.core.display.HTML object>"
      ]
     },
     "metadata": {},
     "output_type": "display_data"
    },
    {
     "name": "stdout",
     "output_type": "stream",
     "text": [
      "\n",
      "*** Feature extraction finished ***\n",
      "Features extracted and saved to D:\\Parkinson's\\Features_Extraction_5mins\\56744\\56744_08012019_TSFEL_output.csv\n",
      "*** Feature extraction started ***\n"
     ]
    },
    {
     "data": {
      "text/html": [
       "\n",
       "              <p>\n",
       "                  Progress: 100% Complete\n",
       "              <p/>\n",
       "              <progress\n",
       "                  value='95'\n",
       "                  max='95',\n",
       "                  style='width: 25%',\n",
       "              >\n",
       "                  95\n",
       "              </progress>\n",
       "\n",
       "    "
      ],
      "text/plain": [
       "<IPython.core.display.HTML object>"
      ]
     },
     "metadata": {},
     "output_type": "display_data"
    },
    {
     "name": "stdout",
     "output_type": "stream",
     "text": [
      "\n",
      "*** Feature extraction finished ***\n",
      "Features extracted and saved to D:\\Parkinson's\\Features_Extraction_5mins\\56779\\56779_04052019_TSFEL_output.csv\n",
      "*** Feature extraction started ***\n"
     ]
    },
    {
     "data": {
      "text/html": [
       "\n",
       "              <p>\n",
       "                  Progress: 100% Complete\n",
       "              <p/>\n",
       "              <progress\n",
       "                  value='95'\n",
       "                  max='95',\n",
       "                  style='width: 25%',\n",
       "              >\n",
       "                  95\n",
       "              </progress>\n",
       "\n",
       "    "
      ],
      "text/plain": [
       "<IPython.core.display.HTML object>"
      ]
     },
     "metadata": {},
     "output_type": "display_data"
    },
    {
     "name": "stdout",
     "output_type": "stream",
     "text": [
      "\n",
      "*** Feature extraction finished ***\n",
      "Features extracted and saved to D:\\Parkinson's\\Features_Extraction_5mins\\56800\\56800_03292019_TSFEL_output.csv\n",
      "*** Feature extraction started ***\n"
     ]
    },
    {
     "data": {
      "text/html": [
       "\n",
       "              <p>\n",
       "                  Progress: 100% Complete\n",
       "              <p/>\n",
       "              <progress\n",
       "                  value='95'\n",
       "                  max='95',\n",
       "                  style='width: 25%',\n",
       "              >\n",
       "                  95\n",
       "              </progress>\n",
       "\n",
       "    "
      ],
      "text/plain": [
       "<IPython.core.display.HTML object>"
      ]
     },
     "metadata": {},
     "output_type": "display_data"
    },
    {
     "name": "stdout",
     "output_type": "stream",
     "text": [
      "\n",
      "*** Feature extraction finished ***\n",
      "Features extracted and saved to D:\\Parkinson's\\Features_Extraction_5mins\\57127\\57127_08012019_TSFEL_output.csv\n",
      "*** Feature extraction started ***\n"
     ]
    },
    {
     "data": {
      "text/html": [
       "\n",
       "              <p>\n",
       "                  Progress: 100% Complete\n",
       "              <p/>\n",
       "              <progress\n",
       "                  value='95'\n",
       "                  max='95',\n",
       "                  style='width: 25%',\n",
       "              >\n",
       "                  95\n",
       "              </progress>\n",
       "\n",
       "    "
      ],
      "text/plain": [
       "<IPython.core.display.HTML object>"
      ]
     },
     "metadata": {},
     "output_type": "display_data"
    },
    {
     "name": "stdout",
     "output_type": "stream",
     "text": [
      "\n",
      "*** Feature extraction finished ***\n",
      "Features extracted and saved to D:\\Parkinson's\\Features_Extraction_5mins\\57234\\57234_09012019_TSFEL_output.csv\n",
      "*** Feature extraction started ***\n"
     ]
    },
    {
     "data": {
      "text/html": [
       "\n",
       "              <p>\n",
       "                  Progress: 100% Complete\n",
       "              <p/>\n",
       "              <progress\n",
       "                  value='39'\n",
       "                  max='39',\n",
       "                  style='width: 25%',\n",
       "              >\n",
       "                  39\n",
       "              </progress>\n",
       "\n",
       "    "
      ],
      "text/plain": [
       "<IPython.core.display.HTML object>"
      ]
     },
     "metadata": {},
     "output_type": "display_data"
    },
    {
     "name": "stdout",
     "output_type": "stream",
     "text": [
      "\n",
      "*** Feature extraction finished ***\n",
      "Features extracted and saved to D:\\Parkinson's\\Features_Extraction_5mins\\57277\\57277_01032019_TSFEL_output.csv\n",
      "*** Feature extraction started ***\n"
     ]
    },
    {
     "data": {
      "text/html": [
       "\n",
       "              <p>\n",
       "                  Progress: 100% Complete\n",
       "              <p/>\n",
       "              <progress\n",
       "                  value='57'\n",
       "                  max='57',\n",
       "                  style='width: 25%',\n",
       "              >\n",
       "                  57\n",
       "              </progress>\n",
       "\n",
       "    "
      ],
      "text/plain": [
       "<IPython.core.display.HTML object>"
      ]
     },
     "metadata": {},
     "output_type": "display_data"
    },
    {
     "name": "stdout",
     "output_type": "stream",
     "text": [
      "\n",
      "*** Feature extraction finished ***\n",
      "Features extracted and saved to D:\\Parkinson's\\Features_Extraction_5mins\\57398\\57398_09062019_TSFEL_output.csv\n",
      "Skipping D:\\Parkinson's\\Filtered_Data_9_to_5_updated\\Filtered_Data_9_to_5_updated\\57605_02212019_filtered.csv due to insufficient data for a 5-minute window.\n",
      "*** Feature extraction started ***\n"
     ]
    },
    {
     "data": {
      "text/html": [
       "\n",
       "              <p>\n",
       "                  Progress: 100% Complete\n",
       "              <p/>\n",
       "              <progress\n",
       "                  value='95'\n",
       "                  max='95',\n",
       "                  style='width: 25%',\n",
       "              >\n",
       "                  95\n",
       "              </progress>\n",
       "\n",
       "    "
      ],
      "text/plain": [
       "<IPython.core.display.HTML object>"
      ]
     },
     "metadata": {},
     "output_type": "display_data"
    },
    {
     "name": "stdout",
     "output_type": "stream",
     "text": [
      "\n",
      "*** Feature extraction finished ***\n",
      "Features extracted and saved to D:\\Parkinson's\\Features_Extraction_5mins\\57887\\57887_02132019_TSFEL_output.csv\n",
      "*** Feature extraction started ***\n"
     ]
    },
    {
     "data": {
      "text/html": [
       "\n",
       "              <p>\n",
       "                  Progress: 100% Complete\n",
       "              <p/>\n",
       "              <progress\n",
       "                  value='46'\n",
       "                  max='46',\n",
       "                  style='width: 25%',\n",
       "              >\n",
       "                  46\n",
       "              </progress>\n",
       "\n",
       "    "
      ],
      "text/plain": [
       "<IPython.core.display.HTML object>"
      ]
     },
     "metadata": {},
     "output_type": "display_data"
    },
    {
     "name": "stdout",
     "output_type": "stream",
     "text": [
      "\n",
      "*** Feature extraction finished ***\n",
      "Features extracted and saved to D:\\Parkinson's\\Features_Extraction_5mins\\58026\\58026_08212019_TSFEL_output.csv\n",
      "*** Feature extraction started ***\n"
     ]
    },
    {
     "data": {
      "text/html": [
       "\n",
       "              <p>\n",
       "                  Progress: 100% Complete\n",
       "              <p/>\n",
       "              <progress\n",
       "                  value='95'\n",
       "                  max='95',\n",
       "                  style='width: 25%',\n",
       "              >\n",
       "                  95\n",
       "              </progress>\n",
       "\n",
       "    "
      ],
      "text/plain": [
       "<IPython.core.display.HTML object>"
      ]
     },
     "metadata": {},
     "output_type": "display_data"
    },
    {
     "name": "stdout",
     "output_type": "stream",
     "text": [
      "\n",
      "*** Feature extraction finished ***\n",
      "Features extracted and saved to D:\\Parkinson's\\Features_Extraction_5mins\\58030\\58030_05012019_TSFEL_output.csv\n",
      "*** Feature extraction started ***\n"
     ]
    },
    {
     "data": {
      "text/html": [
       "\n",
       "              <p>\n",
       "                  Progress: 100% Complete\n",
       "              <p/>\n",
       "              <progress\n",
       "                  value='48'\n",
       "                  max='48',\n",
       "                  style='width: 25%',\n",
       "              >\n",
       "                  48\n",
       "              </progress>\n",
       "\n",
       "    "
      ],
      "text/plain": [
       "<IPython.core.display.HTML object>"
      ]
     },
     "metadata": {},
     "output_type": "display_data"
    },
    {
     "name": "stdout",
     "output_type": "stream",
     "text": [
      "\n",
      "*** Feature extraction finished ***\n",
      "Features extracted and saved to D:\\Parkinson's\\Features_Extraction_5mins\\58074\\58074_06012019_TSFEL_output.csv\n",
      "Skipping D:\\Parkinson's\\Filtered_Data_9_to_5_updated\\Filtered_Data_9_to_5_updated\\58111_11032019_filtered.csv due to insufficient data for a 5-minute window.\n",
      "*** Feature extraction started ***\n"
     ]
    },
    {
     "data": {
      "text/html": [
       "\n",
       "              <p>\n",
       "                  Progress: 100% Complete\n",
       "              <p/>\n",
       "              <progress\n",
       "                  value='59'\n",
       "                  max='59',\n",
       "                  style='width: 25%',\n",
       "              >\n",
       "                  59\n",
       "              </progress>\n",
       "\n",
       "    "
      ],
      "text/plain": [
       "<IPython.core.display.HTML object>"
      ]
     },
     "metadata": {},
     "output_type": "display_data"
    },
    {
     "name": "stdout",
     "output_type": "stream",
     "text": [
      "\n",
      "*** Feature extraction finished ***\n",
      "Features extracted and saved to D:\\Parkinson's\\Features_Extraction_5mins\\58138\\58138_03012019_TSFEL_output.csv\n",
      "*** Feature extraction started ***\n"
     ]
    },
    {
     "data": {
      "text/html": [
       "\n",
       "              <p>\n",
       "                  Progress: 100% Complete\n",
       "              <p/>\n",
       "              <progress\n",
       "                  value='77'\n",
       "                  max='77',\n",
       "                  style='width: 25%',\n",
       "              >\n",
       "                  77\n",
       "              </progress>\n",
       "\n",
       "    "
      ],
      "text/plain": [
       "<IPython.core.display.HTML object>"
      ]
     },
     "metadata": {},
     "output_type": "display_data"
    },
    {
     "name": "stdout",
     "output_type": "stream",
     "text": [
      "\n",
      "*** Feature extraction finished ***\n",
      "Features extracted and saved to D:\\Parkinson's\\Features_Extraction_5mins\\58164\\58164_06012019_TSFEL_output.csv\n",
      "*** Feature extraction started ***\n"
     ]
    },
    {
     "data": {
      "text/html": [
       "\n",
       "              <p>\n",
       "                  Progress: 100% Complete\n",
       "              <p/>\n",
       "              <progress\n",
       "                  value='65'\n",
       "                  max='65',\n",
       "                  style='width: 25%',\n",
       "              >\n",
       "                  65\n",
       "              </progress>\n",
       "\n",
       "    "
      ],
      "text/plain": [
       "<IPython.core.display.HTML object>"
      ]
     },
     "metadata": {},
     "output_type": "display_data"
    },
    {
     "name": "stdout",
     "output_type": "stream",
     "text": [
      "\n",
      "*** Feature extraction finished ***\n",
      "Features extracted and saved to D:\\Parkinson's\\Features_Extraction_5mins\\58342\\58342_10312019_TSFEL_output.csv\n",
      "*** Feature extraction started ***\n"
     ]
    },
    {
     "data": {
      "text/html": [
       "\n",
       "              <p>\n",
       "                  Progress: 100% Complete\n",
       "              <p/>\n",
       "              <progress\n",
       "                  value='72'\n",
       "                  max='72',\n",
       "                  style='width: 25%',\n",
       "              >\n",
       "                  72\n",
       "              </progress>\n",
       "\n",
       "    "
      ],
      "text/plain": [
       "<IPython.core.display.HTML object>"
      ]
     },
     "metadata": {},
     "output_type": "display_data"
    },
    {
     "name": "stdout",
     "output_type": "stream",
     "text": [
      "\n",
      "*** Feature extraction finished ***\n",
      "Features extracted and saved to D:\\Parkinson's\\Features_Extraction_5mins\\58454\\58454_07152019_TSFEL_output.csv\n",
      "*** Feature extraction started ***\n"
     ]
    },
    {
     "data": {
      "text/html": [
       "\n",
       "              <p>\n",
       "                  Progress: 100% Complete\n",
       "              <p/>\n",
       "              <progress\n",
       "                  value='95'\n",
       "                  max='95',\n",
       "                  style='width: 25%',\n",
       "              >\n",
       "                  95\n",
       "              </progress>\n",
       "\n",
       "    "
      ],
      "text/plain": [
       "<IPython.core.display.HTML object>"
      ]
     },
     "metadata": {},
     "output_type": "display_data"
    },
    {
     "name": "stdout",
     "output_type": "stream",
     "text": [
      "\n",
      "*** Feature extraction finished ***\n",
      "Features extracted and saved to D:\\Parkinson's\\Features_Extraction_5mins\\58510\\58510_06012019_TSFEL_output.csv\n",
      "*** Feature extraction started ***\n"
     ]
    },
    {
     "data": {
      "text/html": [
       "\n",
       "              <p>\n",
       "                  Progress: 100% Complete\n",
       "              <p/>\n",
       "              <progress\n",
       "                  value='95'\n",
       "                  max='95',\n",
       "                  style='width: 25%',\n",
       "              >\n",
       "                  95\n",
       "              </progress>\n",
       "\n",
       "    "
      ],
      "text/plain": [
       "<IPython.core.display.HTML object>"
      ]
     },
     "metadata": {},
     "output_type": "display_data"
    },
    {
     "name": "stdout",
     "output_type": "stream",
     "text": [
      "\n",
      "*** Feature extraction finished ***\n",
      "Features extracted and saved to D:\\Parkinson's\\Features_Extraction_5mins\\58550\\58550_09012019_TSFEL_output.csv\n",
      "*** Feature extraction started ***\n"
     ]
    },
    {
     "data": {
      "text/html": [
       "\n",
       "              <p>\n",
       "                  Progress: 100% Complete\n",
       "              <p/>\n",
       "              <progress\n",
       "                  value='95'\n",
       "                  max='95',\n",
       "                  style='width: 25%',\n",
       "              >\n",
       "                  95\n",
       "              </progress>\n",
       "\n",
       "    "
      ],
      "text/plain": [
       "<IPython.core.display.HTML object>"
      ]
     },
     "metadata": {},
     "output_type": "display_data"
    },
    {
     "name": "stdout",
     "output_type": "stream",
     "text": [
      "\n",
      "*** Feature extraction finished ***\n",
      "Features extracted and saved to D:\\Parkinson's\\Features_Extraction_5mins\\58671\\58671_08012019_TSFEL_output.csv\n",
      "*** Feature extraction started ***\n"
     ]
    },
    {
     "data": {
      "text/html": [
       "\n",
       "              <p>\n",
       "                  Progress: 100% Complete\n",
       "              <p/>\n",
       "              <progress\n",
       "                  value='95'\n",
       "                  max='95',\n",
       "                  style='width: 25%',\n",
       "              >\n",
       "                  95\n",
       "              </progress>\n",
       "\n",
       "    "
      ],
      "text/plain": [
       "<IPython.core.display.HTML object>"
      ]
     },
     "metadata": {},
     "output_type": "display_data"
    },
    {
     "name": "stdout",
     "output_type": "stream",
     "text": [
      "\n",
      "*** Feature extraction finished ***\n",
      "Features extracted and saved to D:\\Parkinson's\\Features_Extraction_5mins\\58680\\58680_08012019_TSFEL_output.csv\n",
      "*** Feature extraction started ***\n"
     ]
    },
    {
     "data": {
      "text/html": [
       "\n",
       "              <p>\n",
       "                  Progress: 100% Complete\n",
       "              <p/>\n",
       "              <progress\n",
       "                  value='95'\n",
       "                  max='95',\n",
       "                  style='width: 25%',\n",
       "              >\n",
       "                  95\n",
       "              </progress>\n",
       "\n",
       "    "
      ],
      "text/plain": [
       "<IPython.core.display.HTML object>"
      ]
     },
     "metadata": {},
     "output_type": "display_data"
    },
    {
     "name": "stdout",
     "output_type": "stream",
     "text": [
      "\n",
      "*** Feature extraction finished ***\n",
      "Features extracted and saved to D:\\Parkinson's\\Features_Extraction_5mins\\58721\\58721_07182019_TSFEL_output.csv\n",
      "*** Feature extraction started ***\n"
     ]
    },
    {
     "data": {
      "text/html": [
       "\n",
       "              <p>\n",
       "                  Progress: 100% Complete\n",
       "              <p/>\n",
       "              <progress\n",
       "                  value='95'\n",
       "                  max='95',\n",
       "                  style='width: 25%',\n",
       "              >\n",
       "                  95\n",
       "              </progress>\n",
       "\n",
       "    "
      ],
      "text/plain": [
       "<IPython.core.display.HTML object>"
      ]
     },
     "metadata": {},
     "output_type": "display_data"
    },
    {
     "name": "stdout",
     "output_type": "stream",
     "text": [
      "\n",
      "*** Feature extraction finished ***\n",
      "Features extracted and saved to D:\\Parkinson's\\Features_Extraction_5mins\\58783\\58783_08012019_TSFEL_output.csv\n",
      "*** Feature extraction started ***\n"
     ]
    },
    {
     "data": {
      "text/html": [
       "\n",
       "              <p>\n",
       "                  Progress: 100% Complete\n",
       "              <p/>\n",
       "              <progress\n",
       "                  value='95'\n",
       "                  max='95',\n",
       "                  style='width: 25%',\n",
       "              >\n",
       "                  95\n",
       "              </progress>\n",
       "\n",
       "    "
      ],
      "text/plain": [
       "<IPython.core.display.HTML object>"
      ]
     },
     "metadata": {},
     "output_type": "display_data"
    },
    {
     "name": "stdout",
     "output_type": "stream",
     "text": [
      "\n",
      "*** Feature extraction finished ***\n",
      "Features extracted and saved to D:\\Parkinson's\\Features_Extraction_5mins\\58843\\58843_05012019_TSFEL_output.csv\n",
      "*** Feature extraction started ***\n"
     ]
    },
    {
     "data": {
      "text/html": [
       "\n",
       "              <p>\n",
       "                  Progress: 100% Complete\n",
       "              <p/>\n",
       "              <progress\n",
       "                  value='95'\n",
       "                  max='95',\n",
       "                  style='width: 25%',\n",
       "              >\n",
       "                  95\n",
       "              </progress>\n",
       "\n",
       "    "
      ],
      "text/plain": [
       "<IPython.core.display.HTML object>"
      ]
     },
     "metadata": {},
     "output_type": "display_data"
    },
    {
     "name": "stdout",
     "output_type": "stream",
     "text": [
      "\n",
      "*** Feature extraction finished ***\n",
      "Features extracted and saved to D:\\Parkinson's\\Features_Extraction_5mins\\58916\\58916_10012019_TSFEL_output.csv\n",
      "Skipping D:\\Parkinson's\\Filtered_Data_9_to_5_updated\\Filtered_Data_9_to_5_updated\\58990_06012019_filtered.csv due to insufficient data for a 5-minute window.\n",
      "*** Feature extraction started ***\n"
     ]
    },
    {
     "data": {
      "text/html": [
       "\n",
       "              <p>\n",
       "                  Progress: 100% Complete\n",
       "              <p/>\n",
       "              <progress\n",
       "                  value='19'\n",
       "                  max='19',\n",
       "                  style='width: 25%',\n",
       "              >\n",
       "                  19\n",
       "              </progress>\n",
       "\n",
       "    "
      ],
      "text/plain": [
       "<IPython.core.display.HTML object>"
      ]
     },
     "metadata": {},
     "output_type": "display_data"
    },
    {
     "name": "stdout",
     "output_type": "stream",
     "text": [
      "\n",
      "*** Feature extraction finished ***\n",
      "Features extracted and saved to D:\\Parkinson's\\Features_Extraction_5mins\\59042\\59042_10032019_TSFEL_output.csv\n",
      "*** Feature extraction started ***\n"
     ]
    },
    {
     "data": {
      "text/html": [
       "\n",
       "              <p>\n",
       "                  Progress: 100% Complete\n",
       "              <p/>\n",
       "              <progress\n",
       "                  value='95'\n",
       "                  max='95',\n",
       "                  style='width: 25%',\n",
       "              >\n",
       "                  95\n",
       "              </progress>\n",
       "\n",
       "    "
      ],
      "text/plain": [
       "<IPython.core.display.HTML object>"
      ]
     },
     "metadata": {},
     "output_type": "display_data"
    },
    {
     "name": "stdout",
     "output_type": "stream",
     "text": [
      "\n",
      "*** Feature extraction finished ***\n",
      "Features extracted and saved to D:\\Parkinson's\\Features_Extraction_5mins\\59121\\59121_10012019_TSFEL_output.csv\n",
      "*** Feature extraction started ***\n"
     ]
    },
    {
     "data": {
      "text/html": [
       "\n",
       "              <p>\n",
       "                  Progress: 100% Complete\n",
       "              <p/>\n",
       "              <progress\n",
       "                  value='95'\n",
       "                  max='95',\n",
       "                  style='width: 25%',\n",
       "              >\n",
       "                  95\n",
       "              </progress>\n",
       "\n",
       "    "
      ],
      "text/plain": [
       "<IPython.core.display.HTML object>"
      ]
     },
     "metadata": {},
     "output_type": "display_data"
    },
    {
     "name": "stdout",
     "output_type": "stream",
     "text": [
      "\n",
      "*** Feature extraction finished ***\n",
      "Features extracted and saved to D:\\Parkinson's\\Features_Extraction_5mins\\59174\\59174_06012019_TSFEL_output.csv\n",
      "*** Feature extraction started ***\n"
     ]
    },
    {
     "data": {
      "text/html": [
       "\n",
       "              <p>\n",
       "                  Progress: 100% Complete\n",
       "              <p/>\n",
       "              <progress\n",
       "                  value='74'\n",
       "                  max='74',\n",
       "                  style='width: 25%',\n",
       "              >\n",
       "                  74\n",
       "              </progress>\n",
       "\n",
       "    "
      ],
      "text/plain": [
       "<IPython.core.display.HTML object>"
      ]
     },
     "metadata": {},
     "output_type": "display_data"
    },
    {
     "name": "stdout",
     "output_type": "stream",
     "text": [
      "\n",
      "*** Feature extraction finished ***\n",
      "Features extracted and saved to D:\\Parkinson's\\Features_Extraction_5mins\\59178\\59178_07022019_TSFEL_output.csv\n",
      "*** Feature extraction started ***\n"
     ]
    },
    {
     "data": {
      "text/html": [
       "\n",
       "              <p>\n",
       "                  Progress: 100% Complete\n",
       "              <p/>\n",
       "              <progress\n",
       "                  value='95'\n",
       "                  max='95',\n",
       "                  style='width: 25%',\n",
       "              >\n",
       "                  95\n",
       "              </progress>\n",
       "\n",
       "    "
      ],
      "text/plain": [
       "<IPython.core.display.HTML object>"
      ]
     },
     "metadata": {},
     "output_type": "display_data"
    },
    {
     "name": "stdout",
     "output_type": "stream",
     "text": [
      "\n",
      "*** Feature extraction finished ***\n",
      "Features extracted and saved to D:\\Parkinson's\\Features_Extraction_5mins\\59310\\59310_11012019_TSFEL_output.csv\n",
      "*** Feature extraction started ***\n"
     ]
    },
    {
     "data": {
      "text/html": [
       "\n",
       "              <p>\n",
       "                  Progress: 100% Complete\n",
       "              <p/>\n",
       "              <progress\n",
       "                  value='70'\n",
       "                  max='70',\n",
       "                  style='width: 25%',\n",
       "              >\n",
       "                  70\n",
       "              </progress>\n",
       "\n",
       "    "
      ],
      "text/plain": [
       "<IPython.core.display.HTML object>"
      ]
     },
     "metadata": {},
     "output_type": "display_data"
    },
    {
     "name": "stdout",
     "output_type": "stream",
     "text": [
      "\n",
      "*** Feature extraction finished ***\n",
      "Features extracted and saved to D:\\Parkinson's\\Features_Extraction_5mins\\59409\\59409_08282019_TSFEL_output.csv\n",
      "Skipping D:\\Parkinson's\\Filtered_Data_9_to_5_updated\\Filtered_Data_9_to_5_updated\\59466_09182019_filtered.csv due to insufficient data for a 5-minute window.\n",
      "*** Feature extraction started ***\n"
     ]
    },
    {
     "data": {
      "text/html": [
       "\n",
       "              <p>\n",
       "                  Progress: 100% Complete\n",
       "              <p/>\n",
       "              <progress\n",
       "                  value='95'\n",
       "                  max='95',\n",
       "                  style='width: 25%',\n",
       "              >\n",
       "                  95\n",
       "              </progress>\n",
       "\n",
       "    "
      ],
      "text/plain": [
       "<IPython.core.display.HTML object>"
      ]
     },
     "metadata": {},
     "output_type": "display_data"
    },
    {
     "name": "stdout",
     "output_type": "stream",
     "text": [
      "\n",
      "*** Feature extraction finished ***\n",
      "Features extracted and saved to D:\\Parkinson's\\Features_Extraction_5mins\\59558\\59558_07012019_TSFEL_output.csv\n",
      "*** Feature extraction started ***\n"
     ]
    },
    {
     "data": {
      "text/html": [
       "\n",
       "              <p>\n",
       "                  Progress: 100% Complete\n",
       "              <p/>\n",
       "              <progress\n",
       "                  value='95'\n",
       "                  max='95',\n",
       "                  style='width: 25%',\n",
       "              >\n",
       "                  95\n",
       "              </progress>\n",
       "\n",
       "    "
      ],
      "text/plain": [
       "<IPython.core.display.HTML object>"
      ]
     },
     "metadata": {},
     "output_type": "display_data"
    },
    {
     "name": "stdout",
     "output_type": "stream",
     "text": [
      "\n",
      "*** Feature extraction finished ***\n",
      "Features extracted and saved to D:\\Parkinson's\\Features_Extraction_5mins\\59724\\59724_08012019_TSFEL_output.csv\n",
      "Skipping D:\\Parkinson's\\Filtered_Data_9_to_5_updated\\Filtered_Data_9_to_5_updated\\59797_01012019_filtered.csv due to insufficient data for a 5-minute window.\n",
      "*** Feature extraction started ***\n"
     ]
    },
    {
     "data": {
      "text/html": [
       "\n",
       "              <p>\n",
       "                  Progress: 100% Complete\n",
       "              <p/>\n",
       "              <progress\n",
       "                  value='95'\n",
       "                  max='95',\n",
       "                  style='width: 25%',\n",
       "              >\n",
       "                  95\n",
       "              </progress>\n",
       "\n",
       "    "
      ],
      "text/plain": [
       "<IPython.core.display.HTML object>"
      ]
     },
     "metadata": {},
     "output_type": "display_data"
    },
    {
     "name": "stdout",
     "output_type": "stream",
     "text": [
      "\n",
      "*** Feature extraction finished ***\n",
      "Features extracted and saved to D:\\Parkinson's\\Features_Extraction_5mins\\59797\\59797_12012019_TSFEL_output.csv\n",
      "Skipping D:\\Parkinson's\\Filtered_Data_9_to_5_updated\\Filtered_Data_9_to_5_updated\\59866_07112019_filtered.csv due to insufficient data for a 5-minute window.\n",
      "*** Feature extraction started ***\n"
     ]
    },
    {
     "data": {
      "text/html": [
       "\n",
       "              <p>\n",
       "                  Progress: 100% Complete\n",
       "              <p/>\n",
       "              <progress\n",
       "                  value='95'\n",
       "                  max='95',\n",
       "                  style='width: 25%',\n",
       "              >\n",
       "                  95\n",
       "              </progress>\n",
       "\n",
       "    "
      ],
      "text/plain": [
       "<IPython.core.display.HTML object>"
      ]
     },
     "metadata": {},
     "output_type": "display_data"
    },
    {
     "name": "stdout",
     "output_type": "stream",
     "text": [
      "\n",
      "*** Feature extraction finished ***\n",
      "Features extracted and saved to D:\\Parkinson's\\Features_Extraction_5mins\\60013\\60013_10012019_TSFEL_output.csv\n",
      "*** Feature extraction started ***\n"
     ]
    },
    {
     "data": {
      "text/html": [
       "\n",
       "              <p>\n",
       "                  Progress: 100% Complete\n",
       "              <p/>\n",
       "              <progress\n",
       "                  value='95'\n",
       "                  max='95',\n",
       "                  style='width: 25%',\n",
       "              >\n",
       "                  95\n",
       "              </progress>\n",
       "\n",
       "    "
      ],
      "text/plain": [
       "<IPython.core.display.HTML object>"
      ]
     },
     "metadata": {},
     "output_type": "display_data"
    },
    {
     "name": "stdout",
     "output_type": "stream",
     "text": [
      "\n",
      "*** Feature extraction finished ***\n",
      "Features extracted and saved to D:\\Parkinson's\\Features_Extraction_5mins\\65002\\65002_11012019_TSFEL_output.csv\n",
      "*** Feature extraction started ***\n"
     ]
    },
    {
     "data": {
      "text/html": [
       "\n",
       "              <p>\n",
       "                  Progress: 100% Complete\n",
       "              <p/>\n",
       "              <progress\n",
       "                  value='95'\n",
       "                  max='95',\n",
       "                  style='width: 25%',\n",
       "              >\n",
       "                  95\n",
       "              </progress>\n",
       "\n",
       "    "
      ],
      "text/plain": [
       "<IPython.core.display.HTML object>"
      ]
     },
     "metadata": {},
     "output_type": "display_data"
    },
    {
     "name": "stdout",
     "output_type": "stream",
     "text": [
      "\n",
      "*** Feature extraction finished ***\n",
      "Features extracted and saved to D:\\Parkinson's\\Features_Extraction_5mins\\70035\\70035_07012019_TSFEL_output.csv\n",
      "*** Feature extraction started ***\n"
     ]
    },
    {
     "data": {
      "text/html": [
       "\n",
       "              <p>\n",
       "                  Progress: 100% Complete\n",
       "              <p/>\n",
       "              <progress\n",
       "                  value='95'\n",
       "                  max='95',\n",
       "                  style='width: 25%',\n",
       "              >\n",
       "                  95\n",
       "              </progress>\n",
       "\n",
       "    "
      ],
      "text/plain": [
       "<IPython.core.display.HTML object>"
      ]
     },
     "metadata": {},
     "output_type": "display_data"
    },
    {
     "name": "stdout",
     "output_type": "stream",
     "text": [
      "\n",
      "*** Feature extraction finished ***\n",
      "Features extracted and saved to D:\\Parkinson's\\Features_Extraction_5mins\\70106\\70106_08012019_TSFEL_output.csv\n",
      "*** Feature extraction started ***\n"
     ]
    },
    {
     "data": {
      "text/html": [
       "\n",
       "              <p>\n",
       "                  Progress: 100% Complete\n",
       "              <p/>\n",
       "              <progress\n",
       "                  value='83'\n",
       "                  max='83',\n",
       "                  style='width: 25%',\n",
       "              >\n",
       "                  83\n",
       "              </progress>\n",
       "\n",
       "    "
      ],
      "text/plain": [
       "<IPython.core.display.HTML object>"
      ]
     },
     "metadata": {},
     "output_type": "display_data"
    },
    {
     "name": "stdout",
     "output_type": "stream",
     "text": [
      "\n",
      "*** Feature extraction finished ***\n",
      "Features extracted and saved to D:\\Parkinson's\\Features_Extraction_5mins\\70179\\70179_01102019_TSFEL_output.csv\n",
      "*** Feature extraction started ***\n"
     ]
    },
    {
     "data": {
      "text/html": [
       "\n",
       "              <p>\n",
       "                  Progress: 100% Complete\n",
       "              <p/>\n",
       "              <progress\n",
       "                  value='95'\n",
       "                  max='95',\n",
       "                  style='width: 25%',\n",
       "              >\n",
       "                  95\n",
       "              </progress>\n",
       "\n",
       "    "
      ],
      "text/plain": [
       "<IPython.core.display.HTML object>"
      ]
     },
     "metadata": {},
     "output_type": "display_data"
    },
    {
     "name": "stdout",
     "output_type": "stream",
     "text": [
      "\n",
      "*** Feature extraction finished ***\n",
      "Features extracted and saved to D:\\Parkinson's\\Features_Extraction_5mins\\70188\\70188_10012019_TSFEL_output.csv\n",
      "*** Feature extraction started ***\n"
     ]
    },
    {
     "data": {
      "text/html": [
       "\n",
       "              <p>\n",
       "                  Progress: 100% Complete\n",
       "              <p/>\n",
       "              <progress\n",
       "                  value='95'\n",
       "                  max='95',\n",
       "                  style='width: 25%',\n",
       "              >\n",
       "                  95\n",
       "              </progress>\n",
       "\n",
       "    "
      ],
      "text/plain": [
       "<IPython.core.display.HTML object>"
      ]
     },
     "metadata": {},
     "output_type": "display_data"
    },
    {
     "name": "stdout",
     "output_type": "stream",
     "text": [
      "\n",
      "*** Feature extraction finished ***\n",
      "Features extracted and saved to D:\\Parkinson's\\Features_Extraction_5mins\\70326\\70326_08012019_TSFEL_output.csv\n",
      "*** Feature extraction started ***\n"
     ]
    },
    {
     "data": {
      "text/html": [
       "\n",
       "              <p>\n",
       "                  Progress: 100% Complete\n",
       "              <p/>\n",
       "              <progress\n",
       "                  value='95'\n",
       "                  max='95',\n",
       "                  style='width: 25%',\n",
       "              >\n",
       "                  95\n",
       "              </progress>\n",
       "\n",
       "    "
      ],
      "text/plain": [
       "<IPython.core.display.HTML object>"
      ]
     },
     "metadata": {},
     "output_type": "display_data"
    },
    {
     "name": "stdout",
     "output_type": "stream",
     "text": [
      "\n",
      "*** Feature extraction finished ***\n",
      "Features extracted and saved to D:\\Parkinson's\\Features_Extraction_5mins\\70345\\70345_10012019_TSFEL_output.csv\n",
      "*** Feature extraction started ***\n"
     ]
    },
    {
     "data": {
      "text/html": [
       "\n",
       "              <p>\n",
       "                  Progress: 100% Complete\n",
       "              <p/>\n",
       "              <progress\n",
       "                  value='95'\n",
       "                  max='95',\n",
       "                  style='width: 25%',\n",
       "              >\n",
       "                  95\n",
       "              </progress>\n",
       "\n",
       "    "
      ],
      "text/plain": [
       "<IPython.core.display.HTML object>"
      ]
     },
     "metadata": {},
     "output_type": "display_data"
    },
    {
     "name": "stdout",
     "output_type": "stream",
     "text": [
      "\n",
      "*** Feature extraction finished ***\n",
      "Features extracted and saved to D:\\Parkinson's\\Features_Extraction_5mins\\70378\\70378_12012019_TSFEL_output.csv\n",
      "*** Feature extraction started ***\n"
     ]
    },
    {
     "data": {
      "text/html": [
       "\n",
       "              <p>\n",
       "                  Progress: 100% Complete\n",
       "              <p/>\n",
       "              <progress\n",
       "                  value='6'\n",
       "                  max='6',\n",
       "                  style='width: 25%',\n",
       "              >\n",
       "                  6\n",
       "              </progress>\n",
       "\n",
       "    "
      ],
      "text/plain": [
       "<IPython.core.display.HTML object>"
      ]
     },
     "metadata": {},
     "output_type": "display_data"
    },
    {
     "name": "stdout",
     "output_type": "stream",
     "text": [
      "\n",
      "*** Feature extraction finished ***\n",
      "Features extracted and saved to D:\\Parkinson's\\Features_Extraction_5mins\\70432\\70432_09092019_TSFEL_output.csv\n",
      "*** Feature extraction started ***\n"
     ]
    },
    {
     "data": {
      "text/html": [
       "\n",
       "              <p>\n",
       "                  Progress: 100% Complete\n",
       "              <p/>\n",
       "              <progress\n",
       "                  value='95'\n",
       "                  max='95',\n",
       "                  style='width: 25%',\n",
       "              >\n",
       "                  95\n",
       "              </progress>\n",
       "\n",
       "    "
      ],
      "text/plain": [
       "<IPython.core.display.HTML object>"
      ]
     },
     "metadata": {},
     "output_type": "display_data"
    },
    {
     "name": "stdout",
     "output_type": "stream",
     "text": [
      "\n",
      "*** Feature extraction finished ***\n",
      "Features extracted and saved to D:\\Parkinson's\\Features_Extraction_5mins\\70519\\70519_11222019_TSFEL_output.csv\n",
      "*** Feature extraction started ***\n"
     ]
    },
    {
     "data": {
      "text/html": [
       "\n",
       "              <p>\n",
       "                  Progress: 100% Complete\n",
       "              <p/>\n",
       "              <progress\n",
       "                  value='51'\n",
       "                  max='51',\n",
       "                  style='width: 25%',\n",
       "              >\n",
       "                  51\n",
       "              </progress>\n",
       "\n",
       "    "
      ],
      "text/plain": [
       "<IPython.core.display.HTML object>"
      ]
     },
     "metadata": {},
     "output_type": "display_data"
    },
    {
     "name": "stdout",
     "output_type": "stream",
     "text": [
      "\n",
      "*** Feature extraction finished ***\n",
      "Features extracted and saved to D:\\Parkinson's\\Features_Extraction_5mins\\70631\\70631_11012019_TSFEL_output.csv\n",
      "*** Feature extraction started ***\n"
     ]
    },
    {
     "data": {
      "text/html": [
       "\n",
       "              <p>\n",
       "                  Progress: 100% Complete\n",
       "              <p/>\n",
       "              <progress\n",
       "                  value='89'\n",
       "                  max='89',\n",
       "                  style='width: 25%',\n",
       "              >\n",
       "                  89\n",
       "              </progress>\n",
       "\n",
       "    "
      ],
      "text/plain": [
       "<IPython.core.display.HTML object>"
      ]
     },
     "metadata": {},
     "output_type": "display_data"
    },
    {
     "name": "stdout",
     "output_type": "stream",
     "text": [
      "\n",
      "*** Feature extraction finished ***\n",
      "Features extracted and saved to D:\\Parkinson's\\Features_Extraction_5mins\\70645\\70645_09012019_TSFEL_output.csv\n",
      "*** Feature extraction started ***\n"
     ]
    },
    {
     "data": {
      "text/html": [
       "\n",
       "              <p>\n",
       "                  Progress: 100% Complete\n",
       "              <p/>\n",
       "              <progress\n",
       "                  value='95'\n",
       "                  max='95',\n",
       "                  style='width: 25%',\n",
       "              >\n",
       "                  95\n",
       "              </progress>\n",
       "\n",
       "    "
      ],
      "text/plain": [
       "<IPython.core.display.HTML object>"
      ]
     },
     "metadata": {},
     "output_type": "display_data"
    },
    {
     "name": "stdout",
     "output_type": "stream",
     "text": [
      "\n",
      "*** Feature extraction finished ***\n",
      "Features extracted and saved to D:\\Parkinson's\\Features_Extraction_5mins\\70652\\70652_10012019_TSFEL_output.csv\n",
      "*** Feature extraction started ***\n"
     ]
    },
    {
     "data": {
      "text/html": [
       "\n",
       "              <p>\n",
       "                  Progress: 100% Complete\n",
       "              <p/>\n",
       "              <progress\n",
       "                  value='47'\n",
       "                  max='47',\n",
       "                  style='width: 25%',\n",
       "              >\n",
       "                  47\n",
       "              </progress>\n",
       "\n",
       "    "
      ],
      "text/plain": [
       "<IPython.core.display.HTML object>"
      ]
     },
     "metadata": {},
     "output_type": "display_data"
    },
    {
     "name": "stdout",
     "output_type": "stream",
     "text": [
      "\n",
      "*** Feature extraction finished ***\n",
      "Features extracted and saved to D:\\Parkinson's\\Features_Extraction_5mins\\70659\\70659_11012019_TSFEL_output.csv\n",
      "*** Feature extraction started ***\n"
     ]
    },
    {
     "data": {
      "text/html": [
       "\n",
       "              <p>\n",
       "                  Progress: 100% Complete\n",
       "              <p/>\n",
       "              <progress\n",
       "                  value='72'\n",
       "                  max='72',\n",
       "                  style='width: 25%',\n",
       "              >\n",
       "                  72\n",
       "              </progress>\n",
       "\n",
       "    "
      ],
      "text/plain": [
       "<IPython.core.display.HTML object>"
      ]
     },
     "metadata": {},
     "output_type": "display_data"
    },
    {
     "name": "stdout",
     "output_type": "stream",
     "text": [
      "\n",
      "*** Feature extraction finished ***\n",
      "Features extracted and saved to D:\\Parkinson's\\Features_Extraction_5mins\\70810\\70810_03272019_TSFEL_output.csv\n",
      "*** Feature extraction started ***\n"
     ]
    },
    {
     "data": {
      "text/html": [
       "\n",
       "              <p>\n",
       "                  Progress: 100% Complete\n",
       "              <p/>\n",
       "              <progress\n",
       "                  value='95'\n",
       "                  max='95',\n",
       "                  style='width: 25%',\n",
       "              >\n",
       "                  95\n",
       "              </progress>\n",
       "\n",
       "    "
      ],
      "text/plain": [
       "<IPython.core.display.HTML object>"
      ]
     },
     "metadata": {},
     "output_type": "display_data"
    },
    {
     "name": "stdout",
     "output_type": "stream",
     "text": [
      "\n",
      "*** Feature extraction finished ***\n",
      "Features extracted and saved to D:\\Parkinson's\\Features_Extraction_5mins\\71065\\71065_01012019_TSFEL_output.csv\n",
      "*** Feature extraction started ***\n"
     ]
    },
    {
     "data": {
      "text/html": [
       "\n",
       "              <p>\n",
       "                  Progress: 100% Complete\n",
       "              <p/>\n",
       "              <progress\n",
       "                  value='67'\n",
       "                  max='67',\n",
       "                  style='width: 25%',\n",
       "              >\n",
       "                  67\n",
       "              </progress>\n",
       "\n",
       "    "
      ],
      "text/plain": [
       "<IPython.core.display.HTML object>"
      ]
     },
     "metadata": {},
     "output_type": "display_data"
    },
    {
     "name": "stdout",
     "output_type": "stream",
     "text": [
      "\n",
      "*** Feature extraction finished ***\n",
      "Features extracted and saved to D:\\Parkinson's\\Features_Extraction_5mins\\71189\\71189_10102019_TSFEL_output.csv\n",
      "*** Feature extraction started ***\n"
     ]
    },
    {
     "data": {
      "text/html": [
       "\n",
       "              <p>\n",
       "                  Progress: 100% Complete\n",
       "              <p/>\n",
       "              <progress\n",
       "                  value='95'\n",
       "                  max='95',\n",
       "                  style='width: 25%',\n",
       "              >\n",
       "                  95\n",
       "              </progress>\n",
       "\n",
       "    "
      ],
      "text/plain": [
       "<IPython.core.display.HTML object>"
      ]
     },
     "metadata": {},
     "output_type": "display_data"
    },
    {
     "name": "stdout",
     "output_type": "stream",
     "text": [
      "\n",
      "*** Feature extraction finished ***\n",
      "Features extracted and saved to D:\\Parkinson's\\Features_Extraction_5mins\\71215\\71215_05312019_TSFEL_output.csv\n",
      "*** Feature extraction started ***\n"
     ]
    },
    {
     "data": {
      "text/html": [
       "\n",
       "              <p>\n",
       "                  Progress: 100% Complete\n",
       "              <p/>\n",
       "              <progress\n",
       "                  value='95'\n",
       "                  max='95',\n",
       "                  style='width: 25%',\n",
       "              >\n",
       "                  95\n",
       "              </progress>\n",
       "\n",
       "    "
      ],
      "text/plain": [
       "<IPython.core.display.HTML object>"
      ]
     },
     "metadata": {},
     "output_type": "display_data"
    },
    {
     "name": "stdout",
     "output_type": "stream",
     "text": [
      "\n",
      "*** Feature extraction finished ***\n",
      "Features extracted and saved to D:\\Parkinson's\\Features_Extraction_5mins\\71394\\71394_03012019_TSFEL_output.csv\n",
      "*** Feature extraction started ***\n"
     ]
    },
    {
     "data": {
      "text/html": [
       "\n",
       "              <p>\n",
       "                  Progress: 100% Complete\n",
       "              <p/>\n",
       "              <progress\n",
       "                  value='95'\n",
       "                  max='95',\n",
       "                  style='width: 25%',\n",
       "              >\n",
       "                  95\n",
       "              </progress>\n",
       "\n",
       "    "
      ],
      "text/plain": [
       "<IPython.core.display.HTML object>"
      ]
     },
     "metadata": {},
     "output_type": "display_data"
    },
    {
     "name": "stdout",
     "output_type": "stream",
     "text": [
      "\n",
      "*** Feature extraction finished ***\n",
      "Features extracted and saved to D:\\Parkinson's\\Features_Extraction_5mins\\71658\\71658_11012019_TSFEL_output.csv\n",
      "*** Feature extraction started ***\n"
     ]
    },
    {
     "data": {
      "text/html": [
       "\n",
       "              <p>\n",
       "                  Progress: 100% Complete\n",
       "              <p/>\n",
       "              <progress\n",
       "                  value='95'\n",
       "                  max='95',\n",
       "                  style='width: 25%',\n",
       "              >\n",
       "                  95\n",
       "              </progress>\n",
       "\n",
       "    "
      ],
      "text/plain": [
       "<IPython.core.display.HTML object>"
      ]
     },
     "metadata": {},
     "output_type": "display_data"
    },
    {
     "name": "stdout",
     "output_type": "stream",
     "text": [
      "\n",
      "*** Feature extraction finished ***\n",
      "Features extracted and saved to D:\\Parkinson's\\Features_Extraction_5mins\\71770\\71770_12012019_TSFEL_output.csv\n",
      "*** Feature extraction started ***\n"
     ]
    },
    {
     "data": {
      "text/html": [
       "\n",
       "              <p>\n",
       "                  Progress: 100% Complete\n",
       "              <p/>\n",
       "              <progress\n",
       "                  value='95'\n",
       "                  max='95',\n",
       "                  style='width: 25%',\n",
       "              >\n",
       "                  95\n",
       "              </progress>\n",
       "\n",
       "    "
      ],
      "text/plain": [
       "<IPython.core.display.HTML object>"
      ]
     },
     "metadata": {},
     "output_type": "display_data"
    },
    {
     "name": "stdout",
     "output_type": "stream",
     "text": [
      "\n",
      "*** Feature extraction finished ***\n",
      "Features extracted and saved to D:\\Parkinson's\\Features_Extraction_5mins\\71809\\71809_11012019_TSFEL_output.csv\n",
      "*** Feature extraction started ***\n"
     ]
    },
    {
     "data": {
      "text/html": [
       "\n",
       "              <p>\n",
       "                  Progress: 100% Complete\n",
       "              <p/>\n",
       "              <progress\n",
       "                  value='95'\n",
       "                  max='95',\n",
       "                  style='width: 25%',\n",
       "              >\n",
       "                  95\n",
       "              </progress>\n",
       "\n",
       "    "
      ],
      "text/plain": [
       "<IPython.core.display.HTML object>"
      ]
     },
     "metadata": {},
     "output_type": "display_data"
    },
    {
     "name": "stdout",
     "output_type": "stream",
     "text": [
      "\n",
      "*** Feature extraction finished ***\n",
      "Features extracted and saved to D:\\Parkinson's\\Features_Extraction_5mins\\72110\\72110_09012019_TSFEL_output.csv\n",
      "*** Feature extraction started ***\n"
     ]
    },
    {
     "data": {
      "text/html": [
       "\n",
       "              <p>\n",
       "                  Progress: 100% Complete\n",
       "              <p/>\n",
       "              <progress\n",
       "                  value='95'\n",
       "                  max='95',\n",
       "                  style='width: 25%',\n",
       "              >\n",
       "                  95\n",
       "              </progress>\n",
       "\n",
       "    "
      ],
      "text/plain": [
       "<IPython.core.display.HTML object>"
      ]
     },
     "metadata": {},
     "output_type": "display_data"
    },
    {
     "name": "stdout",
     "output_type": "stream",
     "text": [
      "\n",
      "*** Feature extraction finished ***\n",
      "Features extracted and saved to D:\\Parkinson's\\Features_Extraction_5mins\\72138\\72138_12012019_TSFEL_output.csv\n",
      "*** Feature extraction started ***\n"
     ]
    },
    {
     "data": {
      "text/html": [
       "\n",
       "              <p>\n",
       "                  Progress: 100% Complete\n",
       "              <p/>\n",
       "              <progress\n",
       "                  value='81'\n",
       "                  max='81',\n",
       "                  style='width: 25%',\n",
       "              >\n",
       "                  81\n",
       "              </progress>\n",
       "\n",
       "    "
      ],
      "text/plain": [
       "<IPython.core.display.HTML object>"
      ]
     },
     "metadata": {},
     "output_type": "display_data"
    },
    {
     "name": "stdout",
     "output_type": "stream",
     "text": [
      "\n",
      "*** Feature extraction finished ***\n",
      "Features extracted and saved to D:\\Parkinson's\\Features_Extraction_5mins\\72222\\72222_04012019_TSFEL_output.csv\n",
      "*** Feature extraction started ***\n"
     ]
    },
    {
     "data": {
      "text/html": [
       "\n",
       "              <p>\n",
       "                  Progress: 100% Complete\n",
       "              <p/>\n",
       "              <progress\n",
       "                  value='95'\n",
       "                  max='95',\n",
       "                  style='width: 25%',\n",
       "              >\n",
       "                  95\n",
       "              </progress>\n",
       "\n",
       "    "
      ],
      "text/plain": [
       "<IPython.core.display.HTML object>"
      ]
     },
     "metadata": {},
     "output_type": "display_data"
    },
    {
     "name": "stdout",
     "output_type": "stream",
     "text": [
      "\n",
      "*** Feature extraction finished ***\n",
      "Features extracted and saved to D:\\Parkinson's\\Features_Extraction_5mins\\72352\\72352_01012019_TSFEL_output.csv\n",
      "*** Feature extraction started ***\n"
     ]
    },
    {
     "data": {
      "text/html": [
       "\n",
       "              <p>\n",
       "                  Progress: 100% Complete\n",
       "              <p/>\n",
       "              <progress\n",
       "                  value='95'\n",
       "                  max='95',\n",
       "                  style='width: 25%',\n",
       "              >\n",
       "                  95\n",
       "              </progress>\n",
       "\n",
       "    "
      ],
      "text/plain": [
       "<IPython.core.display.HTML object>"
      ]
     },
     "metadata": {},
     "output_type": "display_data"
    },
    {
     "name": "stdout",
     "output_type": "stream",
     "text": [
      "\n",
      "*** Feature extraction finished ***\n",
      "Features extracted and saved to D:\\Parkinson's\\Features_Extraction_5mins\\72419\\72419_10012019_TSFEL_output.csv\n",
      "Skipping D:\\Parkinson's\\Filtered_Data_9_to_5_updated\\Filtered_Data_9_to_5_updated\\72562_09302019_filtered.csv due to insufficient data for a 5-minute window.\n",
      "*** Feature extraction started ***\n"
     ]
    },
    {
     "data": {
      "text/html": [
       "\n",
       "              <p>\n",
       "                  Progress: 100% Complete\n",
       "              <p/>\n",
       "              <progress\n",
       "                  value='69'\n",
       "                  max='69',\n",
       "                  style='width: 25%',\n",
       "              >\n",
       "                  69\n",
       "              </progress>\n",
       "\n",
       "    "
      ],
      "text/plain": [
       "<IPython.core.display.HTML object>"
      ]
     },
     "metadata": {},
     "output_type": "display_data"
    },
    {
     "name": "stdout",
     "output_type": "stream",
     "text": [
      "\n",
      "*** Feature extraction finished ***\n",
      "Features extracted and saved to D:\\Parkinson's\\Features_Extraction_5mins\\72651\\72651_09122019_TSFEL_output.csv\n",
      "*** Feature extraction started ***\n"
     ]
    },
    {
     "data": {
      "text/html": [
       "\n",
       "              <p>\n",
       "                  Progress: 100% Complete\n",
       "              <p/>\n",
       "              <progress\n",
       "                  value='57'\n",
       "                  max='57',\n",
       "                  style='width: 25%',\n",
       "              >\n",
       "                  57\n",
       "              </progress>\n",
       "\n",
       "    "
      ],
      "text/plain": [
       "<IPython.core.display.HTML object>"
      ]
     },
     "metadata": {},
     "output_type": "display_data"
    },
    {
     "name": "stdout",
     "output_type": "stream",
     "text": [
      "\n",
      "*** Feature extraction finished ***\n",
      "Features extracted and saved to D:\\Parkinson's\\Features_Extraction_5mins\\72784\\72784_12122019_TSFEL_output.csv\n",
      "*** Feature extraction started ***\n"
     ]
    },
    {
     "data": {
      "text/html": [
       "\n",
       "              <p>\n",
       "                  Progress: 100% Complete\n",
       "              <p/>\n",
       "              <progress\n",
       "                  value='42'\n",
       "                  max='42',\n",
       "                  style='width: 25%',\n",
       "              >\n",
       "                  42\n",
       "              </progress>\n",
       "\n",
       "    "
      ],
      "text/plain": [
       "<IPython.core.display.HTML object>"
      ]
     },
     "metadata": {},
     "output_type": "display_data"
    },
    {
     "name": "stdout",
     "output_type": "stream",
     "text": [
      "\n",
      "*** Feature extraction finished ***\n",
      "Features extracted and saved to D:\\Parkinson's\\Features_Extraction_5mins\\72877\\72877_11222019_TSFEL_output.csv\n",
      "*** Feature extraction started ***\n"
     ]
    },
    {
     "data": {
      "text/html": [
       "\n",
       "              <p>\n",
       "                  Progress: 100% Complete\n",
       "              <p/>\n",
       "              <progress\n",
       "                  value='95'\n",
       "                  max='95',\n",
       "                  style='width: 25%',\n",
       "              >\n",
       "                  95\n",
       "              </progress>\n",
       "\n",
       "    "
      ],
      "text/plain": [
       "<IPython.core.display.HTML object>"
      ]
     },
     "metadata": {},
     "output_type": "display_data"
    },
    {
     "name": "stdout",
     "output_type": "stream",
     "text": [
      "\n",
      "*** Feature extraction finished ***\n",
      "Features extracted and saved to D:\\Parkinson's\\Features_Extraction_5mins\\73082\\73082_06012019_TSFEL_output.csv\n",
      "*** Feature extraction started ***\n"
     ]
    },
    {
     "data": {
      "text/html": [
       "\n",
       "              <p>\n",
       "                  Progress: 100% Complete\n",
       "              <p/>\n",
       "              <progress\n",
       "                  value='95'\n",
       "                  max='95',\n",
       "                  style='width: 25%',\n",
       "              >\n",
       "                  95\n",
       "              </progress>\n",
       "\n",
       "    "
      ],
      "text/plain": [
       "<IPython.core.display.HTML object>"
      ]
     },
     "metadata": {},
     "output_type": "display_data"
    },
    {
     "name": "stdout",
     "output_type": "stream",
     "text": [
      "\n",
      "*** Feature extraction finished ***\n",
      "Features extracted and saved to D:\\Parkinson's\\Features_Extraction_5mins\\73134\\73134_01012019_TSFEL_output.csv\n",
      "*** Feature extraction started ***\n"
     ]
    },
    {
     "data": {
      "text/html": [
       "\n",
       "              <p>\n",
       "                  Progress: 100% Complete\n",
       "              <p/>\n",
       "              <progress\n",
       "                  value='95'\n",
       "                  max='95',\n",
       "                  style='width: 25%',\n",
       "              >\n",
       "                  95\n",
       "              </progress>\n",
       "\n",
       "    "
      ],
      "text/plain": [
       "<IPython.core.display.HTML object>"
      ]
     },
     "metadata": {},
     "output_type": "display_data"
    },
    {
     "name": "stdout",
     "output_type": "stream",
     "text": [
      "\n",
      "*** Feature extraction finished ***\n",
      "Features extracted and saved to D:\\Parkinson's\\Features_Extraction_5mins\\73134\\73134_12012019_TSFEL_output.csv\n",
      "*** Feature extraction started ***\n"
     ]
    },
    {
     "data": {
      "text/html": [
       "\n",
       "              <p>\n",
       "                  Progress: 100% Complete\n",
       "              <p/>\n",
       "              <progress\n",
       "                  value='62'\n",
       "                  max='62',\n",
       "                  style='width: 25%',\n",
       "              >\n",
       "                  62\n",
       "              </progress>\n",
       "\n",
       "    "
      ],
      "text/plain": [
       "<IPython.core.display.HTML object>"
      ]
     },
     "metadata": {},
     "output_type": "display_data"
    },
    {
     "name": "stdout",
     "output_type": "stream",
     "text": [
      "\n",
      "*** Feature extraction finished ***\n",
      "Features extracted and saved to D:\\Parkinson's\\Features_Extraction_5mins\\73397\\73397_10182019_TSFEL_output.csv\n",
      "*** Feature extraction started ***\n"
     ]
    },
    {
     "data": {
      "text/html": [
       "\n",
       "              <p>\n",
       "                  Progress: 100% Complete\n",
       "              <p/>\n",
       "              <progress\n",
       "                  value='95'\n",
       "                  max='95',\n",
       "                  style='width: 25%',\n",
       "              >\n",
       "                  95\n",
       "              </progress>\n",
       "\n",
       "    "
      ],
      "text/plain": [
       "<IPython.core.display.HTML object>"
      ]
     },
     "metadata": {},
     "output_type": "display_data"
    },
    {
     "name": "stdout",
     "output_type": "stream",
     "text": [
      "\n",
      "*** Feature extraction finished ***\n",
      "Features extracted and saved to D:\\Parkinson's\\Features_Extraction_5mins\\73432\\73432_10012019_TSFEL_output.csv\n",
      "*** Feature extraction started ***\n"
     ]
    },
    {
     "data": {
      "text/html": [
       "\n",
       "              <p>\n",
       "                  Progress: 100% Complete\n",
       "              <p/>\n",
       "              <progress\n",
       "                  value='95'\n",
       "                  max='95',\n",
       "                  style='width: 25%',\n",
       "              >\n",
       "                  95\n",
       "              </progress>\n",
       "\n",
       "    "
      ],
      "text/plain": [
       "<IPython.core.display.HTML object>"
      ]
     },
     "metadata": {},
     "output_type": "display_data"
    },
    {
     "name": "stdout",
     "output_type": "stream",
     "text": [
      "\n",
      "*** Feature extraction finished ***\n",
      "Features extracted and saved to D:\\Parkinson's\\Features_Extraction_5mins\\73614\\73614_02012019_TSFEL_output.csv\n",
      "*** Feature extraction started ***\n"
     ]
    },
    {
     "data": {
      "text/html": [
       "\n",
       "              <p>\n",
       "                  Progress: 100% Complete\n",
       "              <p/>\n",
       "              <progress\n",
       "                  value='95'\n",
       "                  max='95',\n",
       "                  style='width: 25%',\n",
       "              >\n",
       "                  95\n",
       "              </progress>\n",
       "\n",
       "    "
      ],
      "text/plain": [
       "<IPython.core.display.HTML object>"
      ]
     },
     "metadata": {},
     "output_type": "display_data"
    },
    {
     "name": "stdout",
     "output_type": "stream",
     "text": [
      "\n",
      "*** Feature extraction finished ***\n",
      "Features extracted and saved to D:\\Parkinson's\\Features_Extraction_5mins\\73787\\73787_12012019_TSFEL_output.csv\n",
      "*** Feature extraction started ***\n"
     ]
    },
    {
     "data": {
      "text/html": [
       "\n",
       "              <p>\n",
       "                  Progress: 100% Complete\n",
       "              <p/>\n",
       "              <progress\n",
       "                  value='95'\n",
       "                  max='95',\n",
       "                  style='width: 25%',\n",
       "              >\n",
       "                  95\n",
       "              </progress>\n",
       "\n",
       "    "
      ],
      "text/plain": [
       "<IPython.core.display.HTML object>"
      ]
     },
     "metadata": {},
     "output_type": "display_data"
    },
    {
     "name": "stdout",
     "output_type": "stream",
     "text": [
      "\n",
      "*** Feature extraction finished ***\n",
      "Features extracted and saved to D:\\Parkinson's\\Features_Extraction_5mins\\73887\\73887_07012019_TSFEL_output.csv\n",
      "*** Feature extraction started ***\n"
     ]
    },
    {
     "data": {
      "text/html": [
       "\n",
       "              <p>\n",
       "                  Progress: 100% Complete\n",
       "              <p/>\n",
       "              <progress\n",
       "                  value='3'\n",
       "                  max='3',\n",
       "                  style='width: 25%',\n",
       "              >\n",
       "                  3\n",
       "              </progress>\n",
       "\n",
       "    "
      ],
      "text/plain": [
       "<IPython.core.display.HTML object>"
      ]
     },
     "metadata": {},
     "output_type": "display_data"
    },
    {
     "name": "stdout",
     "output_type": "stream",
     "text": [
      "\n",
      "*** Feature extraction finished ***\n",
      "Features extracted and saved to D:\\Parkinson's\\Features_Extraction_5mins\\73935\\73935_11012019_TSFEL_output.csv\n",
      "*** Feature extraction started ***\n"
     ]
    },
    {
     "data": {
      "text/html": [
       "\n",
       "              <p>\n",
       "                  Progress: 100% Complete\n",
       "              <p/>\n",
       "              <progress\n",
       "                  value='95'\n",
       "                  max='95',\n",
       "                  style='width: 25%',\n",
       "              >\n",
       "                  95\n",
       "              </progress>\n",
       "\n",
       "    "
      ],
      "text/plain": [
       "<IPython.core.display.HTML object>"
      ]
     },
     "metadata": {},
     "output_type": "display_data"
    },
    {
     "name": "stdout",
     "output_type": "stream",
     "text": [
      "\n",
      "*** Feature extraction finished ***\n",
      "Features extracted and saved to D:\\Parkinson's\\Features_Extraction_5mins\\74034\\74034_04012019_TSFEL_output.csv\n",
      "*** Feature extraction started ***\n"
     ]
    },
    {
     "data": {
      "text/html": [
       "\n",
       "              <p>\n",
       "                  Progress: 100% Complete\n",
       "              <p/>\n",
       "              <progress\n",
       "                  value='95'\n",
       "                  max='95',\n",
       "                  style='width: 25%',\n",
       "              >\n",
       "                  95\n",
       "              </progress>\n",
       "\n",
       "    "
      ],
      "text/plain": [
       "<IPython.core.display.HTML object>"
      ]
     },
     "metadata": {},
     "output_type": "display_data"
    },
    {
     "name": "stdout",
     "output_type": "stream",
     "text": [
      "\n",
      "*** Feature extraction finished ***\n",
      "Features extracted and saved to D:\\Parkinson's\\Features_Extraction_5mins\\74067\\74067_05012019_TSFEL_output.csv\n",
      "*** Feature extraction started ***\n"
     ]
    },
    {
     "data": {
      "text/html": [
       "\n",
       "              <p>\n",
       "                  Progress: 100% Complete\n",
       "              <p/>\n",
       "              <progress\n",
       "                  value='51'\n",
       "                  max='51',\n",
       "                  style='width: 25%',\n",
       "              >\n",
       "                  51\n",
       "              </progress>\n",
       "\n",
       "    "
      ],
      "text/plain": [
       "<IPython.core.display.HTML object>"
      ]
     },
     "metadata": {},
     "output_type": "display_data"
    },
    {
     "name": "stdout",
     "output_type": "stream",
     "text": [
      "\n",
      "*** Feature extraction finished ***\n",
      "Features extracted and saved to D:\\Parkinson's\\Features_Extraction_5mins\\74251\\74251_12022019_TSFEL_output.csv\n",
      "*** Feature extraction started ***\n"
     ]
    },
    {
     "data": {
      "text/html": [
       "\n",
       "              <p>\n",
       "                  Progress: 100% Complete\n",
       "              <p/>\n",
       "              <progress\n",
       "                  value='95'\n",
       "                  max='95',\n",
       "                  style='width: 25%',\n",
       "              >\n",
       "                  95\n",
       "              </progress>\n",
       "\n",
       "    "
      ],
      "text/plain": [
       "<IPython.core.display.HTML object>"
      ]
     },
     "metadata": {},
     "output_type": "display_data"
    },
    {
     "name": "stdout",
     "output_type": "stream",
     "text": [
      "\n",
      "*** Feature extraction finished ***\n",
      "Features extracted and saved to D:\\Parkinson's\\Features_Extraction_5mins\\74497\\74497_10012019_TSFEL_output.csv\n",
      "*** Feature extraction started ***\n"
     ]
    },
    {
     "data": {
      "text/html": [
       "\n",
       "              <p>\n",
       "                  Progress: 100% Complete\n",
       "              <p/>\n",
       "              <progress\n",
       "                  value='95'\n",
       "                  max='95',\n",
       "                  style='width: 25%',\n",
       "              >\n",
       "                  95\n",
       "              </progress>\n",
       "\n",
       "    "
      ],
      "text/plain": [
       "<IPython.core.display.HTML object>"
      ]
     },
     "metadata": {},
     "output_type": "display_data"
    },
    {
     "name": "stdout",
     "output_type": "stream",
     "text": [
      "\n",
      "*** Feature extraction finished ***\n",
      "Features extracted and saved to D:\\Parkinson's\\Features_Extraction_5mins\\74696\\74696_11012019_TSFEL_output.csv\n",
      "*** Feature extraction started ***\n"
     ]
    },
    {
     "data": {
      "text/html": [
       "\n",
       "              <p>\n",
       "                  Progress: 100% Complete\n",
       "              <p/>\n",
       "              <progress\n",
       "                  value='95'\n",
       "                  max='95',\n",
       "                  style='width: 25%',\n",
       "              >\n",
       "                  95\n",
       "              </progress>\n",
       "\n",
       "    "
      ],
      "text/plain": [
       "<IPython.core.display.HTML object>"
      ]
     },
     "metadata": {},
     "output_type": "display_data"
    },
    {
     "name": "stdout",
     "output_type": "stream",
     "text": [
      "\n",
      "*** Feature extraction finished ***\n",
      "Features extracted and saved to D:\\Parkinson's\\Features_Extraction_5mins\\75403\\75403_05312019_TSFEL_output.csv\n",
      "*** Feature extraction started ***\n"
     ]
    },
    {
     "data": {
      "text/html": [
       "\n",
       "              <p>\n",
       "                  Progress: 100% Complete\n",
       "              <p/>\n",
       "              <progress\n",
       "                  value='26'\n",
       "                  max='26',\n",
       "                  style='width: 25%',\n",
       "              >\n",
       "                  26\n",
       "              </progress>\n",
       "\n",
       "    "
      ],
      "text/plain": [
       "<IPython.core.display.HTML object>"
      ]
     },
     "metadata": {},
     "output_type": "display_data"
    },
    {
     "name": "stdout",
     "output_type": "stream",
     "text": [
      "\n",
      "*** Feature extraction finished ***\n",
      "Features extracted and saved to D:\\Parkinson's\\Features_Extraction_5mins\\75411\\75411_11202019_TSFEL_output.csv\n",
      "*** Feature extraction started ***\n"
     ]
    },
    {
     "data": {
      "text/html": [
       "\n",
       "              <p>\n",
       "                  Progress: 100% Complete\n",
       "              <p/>\n",
       "              <progress\n",
       "                  value='95'\n",
       "                  max='95',\n",
       "                  style='width: 25%',\n",
       "              >\n",
       "                  95\n",
       "              </progress>\n",
       "\n",
       "    "
      ],
      "text/plain": [
       "<IPython.core.display.HTML object>"
      ]
     },
     "metadata": {},
     "output_type": "display_data"
    },
    {
     "name": "stdout",
     "output_type": "stream",
     "text": [
      "\n",
      "*** Feature extraction finished ***\n",
      "Features extracted and saved to D:\\Parkinson's\\Features_Extraction_5mins\\75420\\75420_09012019_TSFEL_output.csv\n",
      "*** Feature extraction started ***\n"
     ]
    },
    {
     "data": {
      "text/html": [
       "\n",
       "              <p>\n",
       "                  Progress: 100% Complete\n",
       "              <p/>\n",
       "              <progress\n",
       "                  value='20'\n",
       "                  max='20',\n",
       "                  style='width: 25%',\n",
       "              >\n",
       "                  20\n",
       "              </progress>\n",
       "\n",
       "    "
      ],
      "text/plain": [
       "<IPython.core.display.HTML object>"
      ]
     },
     "metadata": {},
     "output_type": "display_data"
    },
    {
     "name": "stdout",
     "output_type": "stream",
     "text": [
      "\n",
      "*** Feature extraction finished ***\n",
      "Features extracted and saved to D:\\Parkinson's\\Features_Extraction_5mins\\75421\\75421_10162019_TSFEL_output.csv\n",
      "*** Feature extraction started ***\n"
     ]
    },
    {
     "data": {
      "text/html": [
       "\n",
       "              <p>\n",
       "                  Progress: 100% Complete\n",
       "              <p/>\n",
       "              <progress\n",
       "                  value='95'\n",
       "                  max='95',\n",
       "                  style='width: 25%',\n",
       "              >\n",
       "                  95\n",
       "              </progress>\n",
       "\n",
       "    "
      ],
      "text/plain": [
       "<IPython.core.display.HTML object>"
      ]
     },
     "metadata": {},
     "output_type": "display_data"
    },
    {
     "name": "stdout",
     "output_type": "stream",
     "text": [
      "\n",
      "*** Feature extraction finished ***\n",
      "Features extracted and saved to D:\\Parkinson's\\Features_Extraction_5mins\\75423\\75423_11012019_TSFEL_output.csv\n",
      "*** Feature extraction started ***\n"
     ]
    },
    {
     "data": {
      "text/html": [
       "\n",
       "              <p>\n",
       "                  Progress: 100% Complete\n",
       "              <p/>\n",
       "              <progress\n",
       "                  value='95'\n",
       "                  max='95',\n",
       "                  style='width: 25%',\n",
       "              >\n",
       "                  95\n",
       "              </progress>\n",
       "\n",
       "    "
      ],
      "text/plain": [
       "<IPython.core.display.HTML object>"
      ]
     },
     "metadata": {},
     "output_type": "display_data"
    },
    {
     "name": "stdout",
     "output_type": "stream",
     "text": [
      "\n",
      "*** Feature extraction finished ***\n",
      "Features extracted and saved to D:\\Parkinson's\\Features_Extraction_5mins\\75434\\75434_11012019_TSFEL_output.csv\n",
      "*** Feature extraction started ***\n"
     ]
    },
    {
     "data": {
      "text/html": [
       "\n",
       "              <p>\n",
       "                  Progress: 100% Complete\n",
       "              <p/>\n",
       "              <progress\n",
       "                  value='95'\n",
       "                  max='95',\n",
       "                  style='width: 25%',\n",
       "              >\n",
       "                  95\n",
       "              </progress>\n",
       "\n",
       "    "
      ],
      "text/plain": [
       "<IPython.core.display.HTML object>"
      ]
     },
     "metadata": {},
     "output_type": "display_data"
    },
    {
     "name": "stdout",
     "output_type": "stream",
     "text": [
      "\n",
      "*** Feature extraction finished ***\n",
      "Features extracted and saved to D:\\Parkinson's\\Features_Extraction_5mins\\75484\\75484_12022019_TSFEL_output.csv\n",
      "*** Feature extraction started ***\n"
     ]
    },
    {
     "data": {
      "text/html": [
       "\n",
       "              <p>\n",
       "                  Progress: 100% Complete\n",
       "              <p/>\n",
       "              <progress\n",
       "                  value='95'\n",
       "                  max='95',\n",
       "                  style='width: 25%',\n",
       "              >\n",
       "                  95\n",
       "              </progress>\n",
       "\n",
       "    "
      ],
      "text/plain": [
       "<IPython.core.display.HTML object>"
      ]
     },
     "metadata": {},
     "output_type": "display_data"
    },
    {
     "name": "stdout",
     "output_type": "stream",
     "text": [
      "\n",
      "*** Feature extraction finished ***\n",
      "Features extracted and saved to D:\\Parkinson's\\Features_Extraction_5mins\\75492\\75492_10012019_TSFEL_output.csv\n",
      "*** Feature extraction started ***\n"
     ]
    },
    {
     "data": {
      "text/html": [
       "\n",
       "              <p>\n",
       "                  Progress: 100% Complete\n",
       "              <p/>\n",
       "              <progress\n",
       "                  value='95'\n",
       "                  max='95',\n",
       "                  style='width: 25%',\n",
       "              >\n",
       "                  95\n",
       "              </progress>\n",
       "\n",
       "    "
      ],
      "text/plain": [
       "<IPython.core.display.HTML object>"
      ]
     },
     "metadata": {},
     "output_type": "display_data"
    },
    {
     "name": "stdout",
     "output_type": "stream",
     "text": [
      "\n",
      "*** Feature extraction finished ***\n",
      "Features extracted and saved to D:\\Parkinson's\\Features_Extraction_5mins\\75496\\75496_10012019_TSFEL_output.csv\n",
      "*** Feature extraction started ***\n"
     ]
    },
    {
     "data": {
      "text/html": [
       "\n",
       "              <p>\n",
       "                  Progress: 100% Complete\n",
       "              <p/>\n",
       "              <progress\n",
       "                  value='95'\n",
       "                  max='95',\n",
       "                  style='width: 25%',\n",
       "              >\n",
       "                  95\n",
       "              </progress>\n",
       "\n",
       "    "
      ],
      "text/plain": [
       "<IPython.core.display.HTML object>"
      ]
     },
     "metadata": {},
     "output_type": "display_data"
    },
    {
     "name": "stdout",
     "output_type": "stream",
     "text": [
      "\n",
      "*** Feature extraction finished ***\n",
      "Features extracted and saved to D:\\Parkinson's\\Features_Extraction_5mins\\75508\\75508_11012019_TSFEL_output.csv\n",
      "*** Feature extraction started ***\n"
     ]
    },
    {
     "data": {
      "text/html": [
       "\n",
       "              <p>\n",
       "                  Progress: 100% Complete\n",
       "              <p/>\n",
       "              <progress\n",
       "                  value='95'\n",
       "                  max='95',\n",
       "                  style='width: 25%',\n",
       "              >\n",
       "                  95\n",
       "              </progress>\n",
       "\n",
       "    "
      ],
      "text/plain": [
       "<IPython.core.display.HTML object>"
      ]
     },
     "metadata": {},
     "output_type": "display_data"
    },
    {
     "name": "stdout",
     "output_type": "stream",
     "text": [
      "\n",
      "*** Feature extraction finished ***\n",
      "Features extracted and saved to D:\\Parkinson's\\Features_Extraction_5mins\\75512\\75512_12012019_TSFEL_output.csv\n",
      "*** Feature extraction started ***\n"
     ]
    },
    {
     "data": {
      "text/html": [
       "\n",
       "              <p>\n",
       "                  Progress: 100% Complete\n",
       "              <p/>\n",
       "              <progress\n",
       "                  value='95'\n",
       "                  max='95',\n",
       "                  style='width: 25%',\n",
       "              >\n",
       "                  95\n",
       "              </progress>\n",
       "\n",
       "    "
      ],
      "text/plain": [
       "<IPython.core.display.HTML object>"
      ]
     },
     "metadata": {},
     "output_type": "display_data"
    },
    {
     "name": "stdout",
     "output_type": "stream",
     "text": [
      "\n",
      "*** Feature extraction finished ***\n",
      "Features extracted and saved to D:\\Parkinson's\\Features_Extraction_5mins\\75547\\75547_12012019_TSFEL_output.csv\n",
      "*** Feature extraction started ***\n"
     ]
    },
    {
     "data": {
      "text/html": [
       "\n",
       "              <p>\n",
       "                  Progress: 100% Complete\n",
       "              <p/>\n",
       "              <progress\n",
       "                  value='95'\n",
       "                  max='95',\n",
       "                  style='width: 25%',\n",
       "              >\n",
       "                  95\n",
       "              </progress>\n",
       "\n",
       "    "
      ],
      "text/plain": [
       "<IPython.core.display.HTML object>"
      ]
     },
     "metadata": {},
     "output_type": "display_data"
    },
    {
     "name": "stdout",
     "output_type": "stream",
     "text": [
      "\n",
      "*** Feature extraction finished ***\n",
      "Features extracted and saved to D:\\Parkinson's\\Features_Extraction_5mins\\90456\\90456_09012019_TSFEL_output.csv\n",
      "*** Feature extraction started ***\n"
     ]
    },
    {
     "data": {
      "text/html": [
       "\n",
       "              <p>\n",
       "                  Progress: 100% Complete\n",
       "              <p/>\n",
       "              <progress\n",
       "                  value='82'\n",
       "                  max='82',\n",
       "                  style='width: 25%',\n",
       "              >\n",
       "                  82\n",
       "              </progress>\n",
       "\n",
       "    "
      ],
      "text/plain": [
       "<IPython.core.display.HTML object>"
      ]
     },
     "metadata": {},
     "output_type": "display_data"
    },
    {
     "name": "stdout",
     "output_type": "stream",
     "text": [
      "\n",
      "*** Feature extraction finished ***\n",
      "Features extracted and saved to D:\\Parkinson's\\Features_Extraction_5mins\\91097\\91097_07112019_TSFEL_output.csv\n"
     ]
    }
   ],
   "source": [
    "import pandas as pd\n",
    "import tsfel\n",
    "import os\n",
    "from glob import glob\n",
    "\n",
    "# The root directory of the dataset\n",
    "main_directory = \"D:\\\\Parkinson's\\\\Filtered_Data_9_to_5_updated\\\\Filtered_Data_9_to_5_updated\"\n",
    "output_directory = \"D:\\\\Parkinson's\\\\Features_Extraction_5mins\"\n",
    "\n",
    "# Ensure the output directory exists\n",
    "os.makedirs(output_directory, exist_ok=True)\n",
    "\n",
    "# Get all CSV files\n",
    "file_paths = glob(os.path.join(main_directory, \"*_filtered.csv\"))\n",
    "\n",
    "# Feature extraction\n",
    "for file_path in file_paths:\n",
    "    # Extract the base file name without extension to use in output file name\n",
    "    base_name = os.path.basename(file_path).replace('_filtered.csv', '')\n",
    "    patient_id = base_name.split('_')[0]  # Assuming the patient ID is part of the base_name\n",
    "    \n",
    "    # Create a patient-specific output directory\n",
    "    patient_output_directory = os.path.join(output_directory, patient_id)\n",
    "    os.makedirs(patient_output_directory, exist_ok=True)\n",
    "    \n",
    "    # Load the data\n",
    "    df = pd.read_csv(file_path)\n",
    "    \n",
    "    # Convert 'Timestamp' from milliseconds to 'datetime64[ns]'\n",
    "    timestamps = pd.to_datetime(df['Timestamp'], unit='ms')\n",
    "    sampling_rate = 1 / (timestamps.diff().dt.total_seconds().median())\n",
    "    window_size = int(sampling_rate * 300) if sampling_rate > 0 else 1\n",
    "    \n",
    "    # Check if there are enough samples for at least one 5-minute window\n",
    "    if len(df) < window_size:\n",
    "        print(f\"Skipping {file_path} due to insufficient data for a 5-minute window.\")\n",
    "        continue  # Skip the current iteration and move to the next file\n",
    "\n",
    "    cfg = tsfel.get_features_by_domain()\n",
    "    \n",
    "    if sampling_rate > 0:\n",
    "        \n",
    "        features = tsfel.time_series_features_extractor(cfg, df[['FilteredEuclideanDistance']], fs=sampling_rate, window_size=window_size)\n",
    "        output_file_name = f\"{base_name}_TSFEL_output.csv\"\n",
    "        output_file_path = os.path.join(patient_output_directory, output_file_name)\n",
    "        \n",
    "        features.to_csv(output_file_path, index=False)\n",
    "        \n",
    "        print(f\"Features extracted and saved to {output_file_path}\")\n",
    "    else:\n",
    "        print(f\"Sampling rate for file {file_path} is undefined or zero. Cannot extract features.\")\n",
    "\n"
   ]
  },
  {
   "cell_type": "code",
   "execution_count": 11,
   "id": "1e7dbe5f",
   "metadata": {},
   "outputs": [
    {
     "name": "stdout",
     "output_type": "stream",
     "text": [
      "List of subdirectories written to D:\\Parkinson's\\Features_Extraction_5mins\\subdirectories_list.txt\n"
     ]
    }
   ],
   "source": [
    "import os\n",
    "\n",
    "# Base directory to search for subdirectories\n",
    "base_dir = \"D:\\\\Parkinson's\\\\Features_Extraction_5mins\\\\\"\n",
    "\n",
    "# Initialize a list to hold the names of the subdirectories\n",
    "subdirectories = []\n",
    "\n",
    "# Walk through the directory\n",
    "for root, dirs, files in os.walk(base_dir):\n",
    "    for name in dirs:\n",
    "        # Construct the path of the subdirectory\n",
    "        dir_path = os.path.join(root, name)\n",
    "        # Add the path to the list (omit if you only need the name)\n",
    "        subdirectories.append(dir_path.replace(base_dir, ''))  # Remove base_dir part to get relative paths\n",
    "\n",
    "# Path where to save the list of subdirectories\n",
    "output_file_path = os.path.join(base_dir, \"subdirectories_list.txt\")\n",
    "\n",
    "# Write the list of subdirectories to a file\n",
    "with open(output_file_path, 'w') as file:\n",
    "    for subdir in subdirectories:\n",
    "        file.write(\"%s\\n\" % subdir)\n",
    "\n",
    "print(f\"List of subdirectories written to {output_file_path}\")\n"
   ]
  },
  {
   "cell_type": "code",
   "execution_count": 12,
   "id": "65091d4b",
   "metadata": {},
   "outputs": [
    {
     "name": "stdout",
     "output_type": "stream",
     "text": [
      "Copied 12593_03182019_TSFEL_output.csv to D:\\Parkinson's\\Features_Extraction_5mins\\\n",
      "Copied 13039_10012019_TSFEL_output.csv to D:\\Parkinson's\\Features_Extraction_5mins\\\n",
      "Copied 14281_02192019_TSFEL_output.csv to D:\\Parkinson's\\Features_Extraction_5mins\\\n",
      "Copied 14331_06052019_TSFEL_output.csv to D:\\Parkinson's\\Features_Extraction_5mins\\\n",
      "Copied 18567_03202019_TSFEL_output.csv to D:\\Parkinson's\\Features_Extraction_5mins\\\n",
      "Copied 3020_04122019_TSFEL_output.csv to D:\\Parkinson's\\Features_Extraction_5mins\\\n",
      "Copied 3023_06062019_TSFEL_output.csv to D:\\Parkinson's\\Features_Extraction_5mins\\\n",
      "Copied 3028_03122019_TSFEL_output.csv to D:\\Parkinson's\\Features_Extraction_5mins\\\n",
      "Copied 3029_05312019_TSFEL_output.csv to D:\\Parkinson's\\Features_Extraction_5mins\\\n",
      "Copied 3050_03052019_TSFEL_output.csv to D:\\Parkinson's\\Features_Extraction_5mins\\\n",
      "Copied 3055_12182019_TSFEL_output.csv to D:\\Parkinson's\\Features_Extraction_5mins\\\n",
      "Copied 3057_02042019_TSFEL_output.csv to D:\\Parkinson's\\Features_Extraction_5mins\\\n",
      "Copied 3061_04012019_TSFEL_output.csv to D:\\Parkinson's\\Features_Extraction_5mins\\\n",
      "Copied 3062_02252019_TSFEL_output.csv to D:\\Parkinson's\\Features_Extraction_5mins\\\n",
      "Copied 3064_05072019_TSFEL_output.csv to D:\\Parkinson's\\Features_Extraction_5mins\\\n",
      "Copied 3066_06192019_TSFEL_output.csv to D:\\Parkinson's\\Features_Extraction_5mins\\\n",
      "Copied 3068_06172019_TSFEL_output.csv to D:\\Parkinson's\\Features_Extraction_5mins\\\n",
      "Copied 3072_11132019_TSFEL_output.csv to D:\\Parkinson's\\Features_Extraction_5mins\\\n",
      "Copied 3074_10282019_TSFEL_output.csv to D:\\Parkinson's\\Features_Extraction_5mins\\\n",
      "Copied 3077_04012019_TSFEL_output.csv to D:\\Parkinson's\\Features_Extraction_5mins\\\n",
      "Copied 3078_06102019_TSFEL_output.csv to D:\\Parkinson's\\Features_Extraction_5mins\\\n",
      "Copied 3085_01222019_TSFEL_output.csv to D:\\Parkinson's\\Features_Extraction_5mins\\\n",
      "Copied 3086_03122019_TSFEL_output.csv to D:\\Parkinson's\\Features_Extraction_5mins\\\n",
      "Copied 3169_12112019_TSFEL_output.csv to D:\\Parkinson's\\Features_Extraction_5mins\\\n",
      "Copied 3181_10282019_TSFEL_output.csv to D:\\Parkinson's\\Features_Extraction_5mins\\\n",
      "Copied 3207_03132019_TSFEL_output.csv to D:\\Parkinson's\\Features_Extraction_5mins\\\n",
      "Copied 3216_10072019_TSFEL_output.csv to D:\\Parkinson's\\Features_Extraction_5mins\\\n",
      "Copied 3218_10022019_TSFEL_output.csv to D:\\Parkinson's\\Features_Extraction_5mins\\\n",
      "Copied 3223_01092019_TSFEL_output.csv to D:\\Parkinson's\\Features_Extraction_5mins\\\n",
      "Copied 3224_04242019_TSFEL_output.csv to D:\\Parkinson's\\Features_Extraction_5mins\\\n",
      "Copied 3227_05302019_TSFEL_output.csv to D:\\Parkinson's\\Features_Extraction_5mins\\\n",
      "Copied 3234_04252019_TSFEL_output.csv to D:\\Parkinson's\\Features_Extraction_5mins\\\n",
      "Copied 3237_04022019_TSFEL_output.csv to D:\\Parkinson's\\Features_Extraction_5mins\\\n",
      "Copied 3354_05202019_TSFEL_output.csv to D:\\Parkinson's\\Features_Extraction_5mins\\\n",
      "Copied 3366_11112019_TSFEL_output.csv to D:\\Parkinson's\\Features_Extraction_5mins\\\n",
      "Copied 3367_08022019_TSFEL_output.csv to D:\\Parkinson's\\Features_Extraction_5mins\\\n",
      "Copied 3403_07082019_TSFEL_output.csv to D:\\Parkinson's\\Features_Extraction_5mins\\\n",
      "Copied 3404_07012019_TSFEL_output.csv to D:\\Parkinson's\\Features_Extraction_5mins\\\n",
      "Copied 3407_10042019_TSFEL_output.csv to D:\\Parkinson's\\Features_Extraction_5mins\\\n",
      "Copied 3415_03222019_TSFEL_output.csv to D:\\Parkinson's\\Features_Extraction_5mins\\\n",
      "Copied 3417_06202019_TSFEL_output.csv to D:\\Parkinson's\\Features_Extraction_5mins\\\n",
      "Copied 3424_07012019_TSFEL_output.csv to D:\\Parkinson's\\Features_Extraction_5mins\\\n",
      "Copied 3428_07012019_TSFEL_output.csv to D:\\Parkinson's\\Features_Extraction_5mins\\\n",
      "Copied 3429_07012019_TSFEL_output.csv to D:\\Parkinson's\\Features_Extraction_5mins\\\n",
      "Copied 3431_09192019_TSFEL_output.csv to D:\\Parkinson's\\Features_Extraction_5mins\\\n",
      "Copied 3433_11012019_TSFEL_output.csv to D:\\Parkinson's\\Features_Extraction_5mins\\\n",
      "Copied 3434_10012019_TSFEL_output.csv to D:\\Parkinson's\\Features_Extraction_5mins\\\n",
      "Copied 3435_10012019_TSFEL_output.csv to D:\\Parkinson's\\Features_Extraction_5mins\\\n",
      "Copied 3439_01312019_TSFEL_output.csv to D:\\Parkinson's\\Features_Extraction_5mins\\\n",
      "Copied 3443_03202019_TSFEL_output.csv to D:\\Parkinson's\\Features_Extraction_5mins\\\n",
      "Copied 3444_04192019_TSFEL_output.csv to D:\\Parkinson's\\Features_Extraction_5mins\\\n",
      "Copied 3446_05312019_TSFEL_output.csv to D:\\Parkinson's\\Features_Extraction_5mins\\\n",
      "Copied 3448_05152019_TSFEL_output.csv to D:\\Parkinson's\\Features_Extraction_5mins\\\n",
      "Copied 3451_12012019_TSFEL_output.csv to D:\\Parkinson's\\Features_Extraction_5mins\\\n",
      "Copied 3453_11262019_TSFEL_output.csv to D:\\Parkinson's\\Features_Extraction_5mins\\\n",
      "Copied 3459_05292019_TSFEL_output.csv to D:\\Parkinson's\\Features_Extraction_5mins\\\n",
      "Copied 3460_05292019_TSFEL_output.csv to D:\\Parkinson's\\Features_Extraction_5mins\\\n",
      "Copied 3461_05212019_TSFEL_output.csv to D:\\Parkinson's\\Features_Extraction_5mins\\\n",
      "Copied 3464_10292019_TSFEL_output.csv to D:\\Parkinson's\\Features_Extraction_5mins\\\n",
      "Copied 3465_10222019_TSFEL_output.csv to D:\\Parkinson's\\Features_Extraction_5mins\\\n",
      "Copied 3467_12102019_TSFEL_output.csv to D:\\Parkinson's\\Features_Extraction_5mins\\\n",
      "Copied 3472_06182019_TSFEL_output.csv to D:\\Parkinson's\\Features_Extraction_5mins\\\n",
      "Copied 3503_02052019_TSFEL_output.csv to D:\\Parkinson's\\Features_Extraction_5mins\\\n",
      "Copied 3517_10012019_TSFEL_output.csv to D:\\Parkinson's\\Features_Extraction_5mins\\\n",
      "Copied 3521_12012019_TSFEL_output.csv to D:\\Parkinson's\\Features_Extraction_5mins\\\n",
      "Copied 3522_12012019_TSFEL_output.csv to D:\\Parkinson's\\Features_Extraction_5mins\\\n",
      "Copied 3528_01092019_TSFEL_output.csv to D:\\Parkinson's\\Features_Extraction_5mins\\\n",
      "Copied 3532_03042019_TSFEL_output.csv to D:\\Parkinson's\\Features_Extraction_5mins\\\n",
      "Copied 3540_10012019_TSFEL_output.csv to D:\\Parkinson's\\Features_Extraction_5mins\\\n",
      "Copied 3565_07122019_TSFEL_output.csv to D:\\Parkinson's\\Features_Extraction_5mins\\\n",
      "Copied 3567_07102019_TSFEL_output.csv to D:\\Parkinson's\\Features_Extraction_5mins\\\n",
      "Copied 3570_07012019_TSFEL_output.csv to D:\\Parkinson's\\Features_Extraction_5mins\\\n",
      "Copied 3572_08262019_TSFEL_output.csv to D:\\Parkinson's\\Features_Extraction_5mins\\\n",
      "Copied 3577_12092019_TSFEL_output.csv to D:\\Parkinson's\\Features_Extraction_5mins\\\n",
      "Copied 3585_07292019_TSFEL_output.csv to D:\\Parkinson's\\Features_Extraction_5mins\\\n",
      "Copied 3586_07082019_TSFEL_output.csv to D:\\Parkinson's\\Features_Extraction_5mins\\\n",
      "Copied 3619_11142019_TSFEL_output.csv to D:\\Parkinson's\\Features_Extraction_5mins\\\n",
      "Copied 3654_04222019_TSFEL_output.csv to D:\\Parkinson's\\Features_Extraction_5mins\\\n",
      "Copied 3666_04022019_TSFEL_output.csv to D:\\Parkinson's\\Features_Extraction_5mins\\\n",
      "Copied 3959_10042019_TSFEL_output.csv to D:\\Parkinson's\\Features_Extraction_5mins\\\n",
      "Copied 3960_12022019_TSFEL_output.csv to D:\\Parkinson's\\Features_Extraction_5mins\\\n",
      "Copied 3966_03082019_TSFEL_output.csv to D:\\Parkinson's\\Features_Extraction_5mins\\\n",
      "Copied 3969_03062019_TSFEL_output.csv to D:\\Parkinson's\\Features_Extraction_5mins\\\n",
      "Copied 40067_12012019_TSFEL_output.csv to D:\\Parkinson's\\Features_Extraction_5mins\\\n",
      "Copied 4051_05032019_TSFEL_output.csv to D:\\Parkinson's\\Features_Extraction_5mins\\\n",
      "Copied 4052_07102019_TSFEL_output.csv to D:\\Parkinson's\\Features_Extraction_5mins\\\n",
      "Copied 4054_06072019_TSFEL_output.csv to D:\\Parkinson's\\Features_Extraction_5mins\\\n",
      "Copied 4055_07012019_TSFEL_output.csv to D:\\Parkinson's\\Features_Extraction_5mins\\\n",
      "Copied 4056_07012019_TSFEL_output.csv to D:\\Parkinson's\\Features_Extraction_5mins\\\n",
      "Copied 4057_07012019_TSFEL_output.csv to D:\\Parkinson's\\Features_Extraction_5mins\\\n",
      "Copied 4071_08012019_TSFEL_output.csv to D:\\Parkinson's\\Features_Extraction_5mins\\\n",
      "Copied 4073_09162019_TSFEL_output.csv to D:\\Parkinson's\\Features_Extraction_5mins\\\n",
      "Copied 4074_10022019_TSFEL_output.csv to D:\\Parkinson's\\Features_Extraction_5mins\\\n",
      "Copied 4091_08012019_TSFEL_output.csv to D:\\Parkinson's\\Features_Extraction_5mins\\\n",
      "Copied 4096_09092019_TSFEL_output.csv to D:\\Parkinson's\\Features_Extraction_5mins\\\n",
      "Copied 4098_11012019_TSFEL_output.csv to D:\\Parkinson's\\Features_Extraction_5mins\\\n",
      "Copied 4099_12022019_TSFEL_output.csv to D:\\Parkinson's\\Features_Extraction_5mins\\\n",
      "Copied 4101_11012019_TSFEL_output.csv to D:\\Parkinson's\\Features_Extraction_5mins\\\n",
      "Copied 4102_12012019_TSFEL_output.csv to D:\\Parkinson's\\Features_Extraction_5mins\\\n",
      "Copied 4104_01252019_TSFEL_output.csv to D:\\Parkinson's\\Features_Extraction_5mins\\\n",
      "Copied 4106_01152019_TSFEL_output.csv to D:\\Parkinson's\\Features_Extraction_5mins\\\n",
      "Copied 4108_01282019_TSFEL_output.csv to D:\\Parkinson's\\Features_Extraction_5mins\\\n",
      "Copied 4111_02082019_TSFEL_output.csv to D:\\Parkinson's\\Features_Extraction_5mins\\\n",
      "Copied 4115_03262019_TSFEL_output.csv to D:\\Parkinson's\\Features_Extraction_5mins\\\n",
      "Copied 4117_05102019_TSFEL_output.csv to D:\\Parkinson's\\Features_Extraction_5mins\\\n",
      "Copied 41184_04012019_TSFEL_output.csv to D:\\Parkinson's\\Features_Extraction_5mins\\\n",
      "Copied 41749_07012019_TSFEL_output.csv to D:\\Parkinson's\\Features_Extraction_5mins\\\n",
      "Copied 42724_01222019_TSFEL_output.csv to D:\\Parkinson's\\Features_Extraction_5mins\\\n",
      "Copied 50009_04022019_TSFEL_output.csv to D:\\Parkinson's\\Features_Extraction_5mins\\\n",
      "Copied 50192_06012019_TSFEL_output.csv to D:\\Parkinson's\\Features_Extraction_5mins\\\n",
      "Copied 50222_08192019_TSFEL_output.csv to D:\\Parkinson's\\Features_Extraction_5mins\\\n",
      "Copied 50225_08192019_TSFEL_output.csv to D:\\Parkinson's\\Features_Extraction_5mins\\\n",
      "Copied 50621_06112019_TSFEL_output.csv to D:\\Parkinson's\\Features_Extraction_5mins\\\n",
      "Copied 50670_02132019_TSFEL_output.csv to D:\\Parkinson's\\Features_Extraction_5mins\\\n",
      "Copied 50860_11012019_TSFEL_output.csv to D:\\Parkinson's\\Features_Extraction_5mins\\\n",
      "Copied 50901_12012019_TSFEL_output.csv to D:\\Parkinson's\\Features_Extraction_5mins\\\n",
      "Copied 51186_05162019_TSFEL_output.csv to D:\\Parkinson's\\Features_Extraction_5mins\\\n",
      "Copied 51252_07012019_TSFEL_output.csv to D:\\Parkinson's\\Features_Extraction_5mins\\\n",
      "Copied 51311_06132019_TSFEL_output.csv to D:\\Parkinson's\\Features_Extraction_5mins\\\n",
      "Copied 51518_07222019_TSFEL_output.csv to D:\\Parkinson's\\Features_Extraction_5mins\\\n",
      "Copied 51540_10012019_TSFEL_output.csv to D:\\Parkinson's\\Features_Extraction_5mins\\\n",
      "Copied 51625_08012019_TSFEL_output.csv to D:\\Parkinson's\\Features_Extraction_5mins\\\n",
      "Copied 51731_10092019_TSFEL_output.csv to D:\\Parkinson's\\Features_Extraction_5mins\\\n",
      "Copied 51867_09012019_TSFEL_output.csv to D:\\Parkinson's\\Features_Extraction_5mins\\\n",
      "Copied 51971_10012019_TSFEL_output.csv to D:\\Parkinson's\\Features_Extraction_5mins\\\n",
      "Copied 52062_01032019_TSFEL_output.csv to D:\\Parkinson's\\Features_Extraction_5mins\\\n",
      "Copied 52353_11132019_TSFEL_output.csv to D:\\Parkinson's\\Features_Extraction_5mins\\\n",
      "Copied 52355_02202019_TSFEL_output.csv to D:\\Parkinson's\\Features_Extraction_5mins\\\n",
      "Copied 52400_10012019_TSFEL_output.csv to D:\\Parkinson's\\Features_Extraction_5mins\\\n",
      "Copied 52752_03012019_TSFEL_output.csv to D:\\Parkinson's\\Features_Extraction_5mins\\\n",
      "Copied 52872_07022019_TSFEL_output.csv to D:\\Parkinson's\\Features_Extraction_5mins\\\n",
      "Copied 52874_11012019_TSFEL_output.csv to D:\\Parkinson's\\Features_Extraction_5mins\\\n",
      "Copied 52888_06012019_TSFEL_output.csv to D:\\Parkinson's\\Features_Extraction_5mins\\\n",
      "Copied 52982_02012019_TSFEL_output.csv to D:\\Parkinson's\\Features_Extraction_5mins\\\n",
      "Copied 53054_05012019_TSFEL_output.csv to D:\\Parkinson's\\Features_Extraction_5mins\\\n",
      "Copied 53308_06012019_TSFEL_output.csv to D:\\Parkinson's\\Features_Extraction_5mins\\\n",
      "Copied 53595_07242019_TSFEL_output.csv to D:\\Parkinson's\\Features_Extraction_5mins\\\n",
      "Copied 53600_09112019_TSFEL_output.csv to D:\\Parkinson's\\Features_Extraction_5mins\\\n",
      "Copied 53866_05012019_TSFEL_output.csv to D:\\Parkinson's\\Features_Extraction_5mins\\\n",
      "Copied 53988_02012019_TSFEL_output.csv to D:\\Parkinson's\\Features_Extraction_5mins\\\n",
      "Copied 54110_12022019_TSFEL_output.csv to D:\\Parkinson's\\Features_Extraction_5mins\\\n",
      "Copied 54144_03012019_TSFEL_output.csv to D:\\Parkinson's\\Features_Extraction_5mins\\\n",
      "Copied 54161_10212019_TSFEL_output.csv to D:\\Parkinson's\\Features_Extraction_5mins\\\n",
      "Copied 54196_08082019_TSFEL_output.csv to D:\\Parkinson's\\Features_Extraction_5mins\\\n",
      "Copied 54197_06262019_TSFEL_output.csv to D:\\Parkinson's\\Features_Extraction_5mins\\\n",
      "Copied 54266_05042019_TSFEL_output.csv to D:\\Parkinson's\\Features_Extraction_5mins\\\n",
      "Copied 54309_08012019_TSFEL_output.csv to D:\\Parkinson's\\Features_Extraction_5mins\\\n",
      "Copied 54391_10072019_TSFEL_output.csv to D:\\Parkinson's\\Features_Extraction_5mins\\\n",
      "Copied 54991_11012019_TSFEL_output.csv to D:\\Parkinson's\\Features_Extraction_5mins\\\n",
      "Copied 55098_06072019_TSFEL_output.csv to D:\\Parkinson's\\Features_Extraction_5mins\\\n",
      "Copied 55124_08012019_TSFEL_output.csv to D:\\Parkinson's\\Features_Extraction_5mins\\\n",
      "Copied 55151_07012019_TSFEL_output.csv to D:\\Parkinson's\\Features_Extraction_5mins\\\n",
      "Copied 55251_09012019_TSFEL_output.csv to D:\\Parkinson's\\Features_Extraction_5mins\\\n",
      "Copied 55282_07012019_TSFEL_output.csv to D:\\Parkinson's\\Features_Extraction_5mins\\\n",
      "Copied 55349_07012019_TSFEL_output.csv to D:\\Parkinson's\\Features_Extraction_5mins\\\n",
      "Copied 55441_06272019_TSFEL_output.csv to D:\\Parkinson's\\Features_Extraction_5mins\\\n",
      "Copied 55560_08012019_TSFEL_output.csv to D:\\Parkinson's\\Features_Extraction_5mins\\\n",
      "Copied 55615_06012019_TSFEL_output.csv to D:\\Parkinson's\\Features_Extraction_5mins\\\n",
      "Copied 55822_08082019_TSFEL_output.csv to D:\\Parkinson's\\Features_Extraction_5mins\\\n",
      "Copied 55842_08232019_TSFEL_output.csv to D:\\Parkinson's\\Features_Extraction_5mins\\\n",
      "Copied 56048_02012019_TSFEL_output.csv to D:\\Parkinson's\\Features_Extraction_5mins\\\n",
      "Copied 56136_11012019_TSFEL_output.csv to D:\\Parkinson's\\Features_Extraction_5mins\\\n",
      "Copied 56405_05012019_TSFEL_output.csv to D:\\Parkinson's\\Features_Extraction_5mins\\\n",
      "Copied 56435_10032019_TSFEL_output.csv to D:\\Parkinson's\\Features_Extraction_5mins\\\n",
      "Copied 56492_10042019_TSFEL_output.csv to D:\\Parkinson's\\Features_Extraction_5mins\\\n",
      "Copied 56582_04122019_TSFEL_output.csv to D:\\Parkinson's\\Features_Extraction_5mins\\\n",
      "Copied 56744_08012019_TSFEL_output.csv to D:\\Parkinson's\\Features_Extraction_5mins\\\n",
      "Copied 56779_04052019_TSFEL_output.csv to D:\\Parkinson's\\Features_Extraction_5mins\\\n",
      "Copied 56800_03292019_TSFEL_output.csv to D:\\Parkinson's\\Features_Extraction_5mins\\\n",
      "Copied 57127_08012019_TSFEL_output.csv to D:\\Parkinson's\\Features_Extraction_5mins\\\n",
      "Copied 57234_09012019_TSFEL_output.csv to D:\\Parkinson's\\Features_Extraction_5mins\\\n",
      "Copied 57277_01032019_TSFEL_output.csv to D:\\Parkinson's\\Features_Extraction_5mins\\\n",
      "Copied 57398_09062019_TSFEL_output.csv to D:\\Parkinson's\\Features_Extraction_5mins\\\n",
      "Copied 57887_02132019_TSFEL_output.csv to D:\\Parkinson's\\Features_Extraction_5mins\\\n",
      "Copied 58026_08212019_TSFEL_output.csv to D:\\Parkinson's\\Features_Extraction_5mins\\\n",
      "Copied 58030_05012019_TSFEL_output.csv to D:\\Parkinson's\\Features_Extraction_5mins\\\n",
      "Copied 58074_06012019_TSFEL_output.csv to D:\\Parkinson's\\Features_Extraction_5mins\\\n",
      "Copied 58138_03012019_TSFEL_output.csv to D:\\Parkinson's\\Features_Extraction_5mins\\\n",
      "Copied 58164_06012019_TSFEL_output.csv to D:\\Parkinson's\\Features_Extraction_5mins\\\n",
      "Copied 58342_10312019_TSFEL_output.csv to D:\\Parkinson's\\Features_Extraction_5mins\\\n",
      "Copied 58454_07152019_TSFEL_output.csv to D:\\Parkinson's\\Features_Extraction_5mins\\\n",
      "Copied 58510_06012019_TSFEL_output.csv to D:\\Parkinson's\\Features_Extraction_5mins\\\n",
      "Copied 58550_09012019_TSFEL_output.csv to D:\\Parkinson's\\Features_Extraction_5mins\\\n",
      "Copied 58671_08012019_TSFEL_output.csv to D:\\Parkinson's\\Features_Extraction_5mins\\\n",
      "Copied 58680_08012019_TSFEL_output.csv to D:\\Parkinson's\\Features_Extraction_5mins\\\n",
      "Copied 58721_07182019_TSFEL_output.csv to D:\\Parkinson's\\Features_Extraction_5mins\\\n",
      "Copied 58783_08012019_TSFEL_output.csv to D:\\Parkinson's\\Features_Extraction_5mins\\\n",
      "Copied 58843_05012019_TSFEL_output.csv to D:\\Parkinson's\\Features_Extraction_5mins\\\n",
      "Copied 58916_10012019_TSFEL_output.csv to D:\\Parkinson's\\Features_Extraction_5mins\\\n",
      "Copied 59042_10032019_TSFEL_output.csv to D:\\Parkinson's\\Features_Extraction_5mins\\\n",
      "Copied 59121_10012019_TSFEL_output.csv to D:\\Parkinson's\\Features_Extraction_5mins\\\n",
      "Copied 59174_06012019_TSFEL_output.csv to D:\\Parkinson's\\Features_Extraction_5mins\\\n",
      "Copied 59178_07022019_TSFEL_output.csv to D:\\Parkinson's\\Features_Extraction_5mins\\\n",
      "Copied 59310_11012019_TSFEL_output.csv to D:\\Parkinson's\\Features_Extraction_5mins\\\n",
      "Copied 59409_08282019_TSFEL_output.csv to D:\\Parkinson's\\Features_Extraction_5mins\\\n",
      "Copied 59558_07012019_TSFEL_output.csv to D:\\Parkinson's\\Features_Extraction_5mins\\\n",
      "Copied 59724_08012019_TSFEL_output.csv to D:\\Parkinson's\\Features_Extraction_5mins\\\n",
      "Copied 59797_12012019_TSFEL_output.csv to D:\\Parkinson's\\Features_Extraction_5mins\\\n",
      "Copied 60013_10012019_TSFEL_output.csv to D:\\Parkinson's\\Features_Extraction_5mins\\\n",
      "Copied 65002_11012019_TSFEL_output.csv to D:\\Parkinson's\\Features_Extraction_5mins\\\n",
      "Copied 70035_07012019_TSFEL_output.csv to D:\\Parkinson's\\Features_Extraction_5mins\\\n",
      "Copied 70106_08012019_TSFEL_output.csv to D:\\Parkinson's\\Features_Extraction_5mins\\\n",
      "Copied 70179_01102019_TSFEL_output.csv to D:\\Parkinson's\\Features_Extraction_5mins\\\n",
      "Copied 70188_10012019_TSFEL_output.csv to D:\\Parkinson's\\Features_Extraction_5mins\\\n",
      "Copied 70326_08012019_TSFEL_output.csv to D:\\Parkinson's\\Features_Extraction_5mins\\\n",
      "Copied 70345_10012019_TSFEL_output.csv to D:\\Parkinson's\\Features_Extraction_5mins\\\n",
      "Copied 70378_12012019_TSFEL_output.csv to D:\\Parkinson's\\Features_Extraction_5mins\\\n",
      "Copied 70432_09092019_TSFEL_output.csv to D:\\Parkinson's\\Features_Extraction_5mins\\\n",
      "Copied 70519_11222019_TSFEL_output.csv to D:\\Parkinson's\\Features_Extraction_5mins\\\n",
      "Copied 70631_11012019_TSFEL_output.csv to D:\\Parkinson's\\Features_Extraction_5mins\\\n",
      "Copied 70645_09012019_TSFEL_output.csv to D:\\Parkinson's\\Features_Extraction_5mins\\\n",
      "Copied 70652_10012019_TSFEL_output.csv to D:\\Parkinson's\\Features_Extraction_5mins\\\n",
      "Copied 70659_11012019_TSFEL_output.csv to D:\\Parkinson's\\Features_Extraction_5mins\\\n",
      "Copied 70810_03272019_TSFEL_output.csv to D:\\Parkinson's\\Features_Extraction_5mins\\\n",
      "Copied 71065_01012019_TSFEL_output.csv to D:\\Parkinson's\\Features_Extraction_5mins\\\n",
      "Copied 71189_10102019_TSFEL_output.csv to D:\\Parkinson's\\Features_Extraction_5mins\\\n",
      "Copied 71215_05312019_TSFEL_output.csv to D:\\Parkinson's\\Features_Extraction_5mins\\\n",
      "Copied 71394_03012019_TSFEL_output.csv to D:\\Parkinson's\\Features_Extraction_5mins\\\n",
      "Copied 71658_11012019_TSFEL_output.csv to D:\\Parkinson's\\Features_Extraction_5mins\\\n"
     ]
    }
   ],
   "source": [
    "import os\n",
    "import shutil\n",
    "\n",
    "# Path to the text file containing the list of subdirectories\n",
    "list_file_path = \"D:\\\\Parkinson's\\\\Features_Extraction_5mins\\\\subdirectories_list.txt\"\n",
    "\n",
    "# Base directory where the subdirectories are located\n",
    "base_dir = \"D:\\\\Parkinson's\\\\Features_Extraction_5mins\\\\\"\n",
    "\n",
    "# Destination directory where files will be placed\n",
    "# Ensure this is what you want, as it copies files to the same directory as the subdirectories_list.txt\n",
    "destination_dir = base_dir\n",
    "\n",
    "# Read the list of subdirectories from the file\n",
    "with open(list_file_path, 'r') as file:\n",
    "    subdirectories = [line.strip() for line in file.readlines()]\n",
    "\n",
    "# Process each subdirectory listed in the text file\n",
    "for subdir in subdirectories:\n",
    "    # Full path to the current subdirectory\n",
    "    subdir_path = os.path.join(base_dir, subdir)\n",
    "    \n",
    "    # Check if the subdirectory exists\n",
    "    if os.path.exists(subdir_path) and os.path.isdir(subdir_path):\n",
    "        # List all files in the subdirectory\n",
    "        for file_name in os.listdir(subdir_path):\n",
    "            # Full path to the current file\n",
    "            file_path = os.path.join(subdir_path, file_name)\n",
    "            \n",
    "            # Check if it is a file (and not another directory)\n",
    "            if os.path.isfile(file_path):\n",
    "                # Full path to the destination file\n",
    "                destination_file_path = os.path.join(destination_dir, file_name)\n",
    "                \n",
    "                # Check to ensure no file overwriting\n",
    "                if not os.path.exists(destination_file_path):\n",
    "                    try:\n",
    "                        # Copy the file to the destination directory\n",
    "                        shutil.copy2(file_path, destination_file_path)\n",
    "                        print(f\"Copied {file_name} to {destination_dir}\")\n",
    "                    except Exception as e:\n",
    "                        print(f\"Failed to copy {file_name} due to: {e}\")\n",
    "                else:\n",
    "                    print(f\"File already exists at destination: {destination_file_path}\")\n",
    "    else:\n",
    "        print(f\"Subdirectory does not exist: {subdir_path}\")\n"
   ]
  },
  {
   "cell_type": "code",
   "execution_count": null,
   "id": "052e6658",
   "metadata": {},
   "outputs": [],
   "source": [
    "###Calculating Statistics"
   ]
  },
  {
   "cell_type": "code",
   "execution_count": 13,
   "id": "c22fa6dd",
   "metadata": {},
   "outputs": [
    {
     "name": "stdout",
     "output_type": "stream",
     "text": [
      "Processed and saved: 12593_03182019_TSFEL_output_stats.csv\n",
      "Processed and saved: 13039_10012019_TSFEL_output_stats.csv\n",
      "Processed and saved: 14281_02192019_TSFEL_output_stats.csv\n",
      "Processed and saved: 14331_06052019_TSFEL_output_stats.csv\n",
      "Processed and saved: 18567_03202019_TSFEL_output_stats.csv\n",
      "Processed and saved: 3002_03152019_TSFEL_output_stats.csv\n",
      "Processed and saved: 3003_03292019_TSFEL_output_stats.csv\n",
      "Processed and saved: 3004_03292019_TSFEL_output_stats.csv\n",
      "Processed and saved: 3013_12112019_TSFEL_output_stats.csv\n",
      "Processed and saved: 3020_04122019_TSFEL_output_stats.csv\n",
      "Processed and saved: 3023_06062019_TSFEL_output_stats.csv\n",
      "Processed and saved: 3028_03122019_TSFEL_output_stats.csv\n",
      "Processed and saved: 3029_05312019_TSFEL_output_stats.csv\n",
      "Processed and saved: 3050_03052019_TSFEL_output_stats.csv\n",
      "Processed and saved: 3055_12182019_TSFEL_output_stats.csv\n",
      "Processed and saved: 3057_02042019_TSFEL_output_stats.csv\n",
      "Processed and saved: 3061_04012019_TSFEL_output_stats.csv\n",
      "Processed and saved: 3062_02252019_TSFEL_output_stats.csv\n",
      "Processed and saved: 3064_05072019_TSFEL_output_stats.csv\n",
      "Processed and saved: 3066_06192019_TSFEL_output_stats.csv\n",
      "Processed and saved: 3068_06172019_TSFEL_output_stats.csv\n",
      "Processed and saved: 3072_11132019_TSFEL_output_stats.csv\n",
      "Processed and saved: 3074_10282019_TSFEL_output_stats.csv\n",
      "Processed and saved: 3077_04012019_TSFEL_output_stats.csv\n",
      "Processed and saved: 3078_06102019_TSFEL_output_stats.csv\n",
      "Processed and saved: 3085_01222019_TSFEL_output_stats.csv\n",
      "Processed and saved: 3086_03122019_TSFEL_output_stats.csv\n",
      "Processed and saved: 3169_12112019_TSFEL_output_stats.csv\n",
      "Processed and saved: 3181_10282019_TSFEL_output_stats.csv\n",
      "Processed and saved: 3207_03132019_TSFEL_output_stats.csv\n",
      "Processed and saved: 3216_10072019_TSFEL_output_stats.csv\n",
      "Processed and saved: 3218_10022019_TSFEL_output_stats.csv\n",
      "Processed and saved: 3223_01092019_TSFEL_output_stats.csv\n",
      "Processed and saved: 3224_04242019_TSFEL_output_stats.csv\n",
      "Processed and saved: 3227_05302019_TSFEL_output_stats.csv\n",
      "Processed and saved: 3234_04252019_TSFEL_output_stats.csv\n",
      "Processed and saved: 3237_04022019_TSFEL_output_stats.csv\n",
      "Processed and saved: 3354_05202019_TSFEL_output_stats.csv\n",
      "Processed and saved: 3366_11112019_TSFEL_output_stats.csv\n",
      "Processed and saved: 3367_08022019_TSFEL_output_stats.csv\n",
      "Processed and saved: 3403_07082019_TSFEL_output_stats.csv\n",
      "Processed and saved: 3404_07012019_TSFEL_output_stats.csv\n",
      "Processed and saved: 3407_10042019_TSFEL_output_stats.csv\n",
      "Processed and saved: 3415_03222019_TSFEL_output_stats.csv\n",
      "Processed and saved: 3417_06202019_TSFEL_output_stats.csv\n",
      "Processed and saved: 3424_07012019_TSFEL_output_stats.csv\n",
      "Processed and saved: 3428_07012019_TSFEL_output_stats.csv\n",
      "Processed and saved: 3429_07012019_TSFEL_output_stats.csv\n",
      "Processed and saved: 3431_09192019_TSFEL_output_stats.csv\n",
      "Processed and saved: 3433_11012019_TSFEL_output_stats.csv\n",
      "Processed and saved: 3434_10012019_TSFEL_output_stats.csv\n",
      "Processed and saved: 3435_10012019_TSFEL_output_stats.csv\n",
      "Processed and saved: 3439_01312019_TSFEL_output_stats.csv\n",
      "Processed and saved: 3443_03202019_TSFEL_output_stats.csv\n",
      "Processed and saved: 3444_04192019_TSFEL_output_stats.csv\n",
      "Processed and saved: 3446_05312019_TSFEL_output_stats.csv\n",
      "Processed and saved: 3448_05152019_TSFEL_output_stats.csv\n",
      "Processed and saved: 3451_12012019_TSFEL_output_stats.csv\n",
      "Processed and saved: 3453_11262019_TSFEL_output_stats.csv\n",
      "Processed and saved: 3459_05292019_TSFEL_output_stats.csv\n",
      "Processed and saved: 3460_05292019_TSFEL_output_stats.csv\n",
      "Processed and saved: 3461_05212019_TSFEL_output_stats.csv\n",
      "Processed and saved: 3464_10292019_TSFEL_output_stats.csv\n",
      "Processed and saved: 3465_10222019_TSFEL_output_stats.csv\n",
      "Processed and saved: 3467_12102019_TSFEL_output_stats.csv\n",
      "Processed and saved: 3472_06182019_TSFEL_output_stats.csv\n",
      "Processed and saved: 3503_02052019_TSFEL_output_stats.csv\n",
      "Processed and saved: 3517_10012019_TSFEL_output_stats.csv\n",
      "Processed and saved: 3521_12012019_TSFEL_output_stats.csv\n",
      "Processed and saved: 3522_12012019_TSFEL_output_stats.csv\n",
      "Processed and saved: 3528_01092019_TSFEL_output_stats.csv\n",
      "Processed and saved: 3532_03042019_TSFEL_output_stats.csv\n",
      "Processed and saved: 3540_10012019_TSFEL_output_stats.csv\n",
      "Processed and saved: 3565_07122019_TSFEL_output_stats.csv\n",
      "Processed and saved: 3567_07102019_TSFEL_output_stats.csv\n",
      "Processed and saved: 3570_07012019_TSFEL_output_stats.csv\n",
      "Processed and saved: 3572_08262019_TSFEL_output_stats.csv\n",
      "Processed and saved: 3577_12092019_TSFEL_output_stats.csv\n",
      "Processed and saved: 3585_07292019_TSFEL_output_stats.csv\n",
      "Processed and saved: 3586_07082019_TSFEL_output_stats.csv\n",
      "Processed and saved: 3619_11142019_TSFEL_output_stats.csv\n",
      "Processed and saved: 3654_04222019_TSFEL_output_stats.csv\n",
      "Processed and saved: 3666_04022019_TSFEL_output_stats.csv\n",
      "Processed and saved: 3959_10042019_TSFEL_output_stats.csv\n",
      "Processed and saved: 3960_12022019_TSFEL_output_stats.csv\n",
      "Processed and saved: 3966_03082019_TSFEL_output_stats.csv\n",
      "Processed and saved: 3969_03062019_TSFEL_output_stats.csv\n",
      "Processed and saved: 40067_12012019_TSFEL_output_stats.csv\n",
      "Processed and saved: 4051_05032019_TSFEL_output_stats.csv\n",
      "Processed and saved: 4052_07102019_TSFEL_output_stats.csv\n",
      "Processed and saved: 4054_06072019_TSFEL_output_stats.csv\n",
      "Processed and saved: 4055_07012019_TSFEL_output_stats.csv\n",
      "Processed and saved: 4056_07012019_TSFEL_output_stats.csv\n",
      "Processed and saved: 4057_07012019_TSFEL_output_stats.csv\n",
      "Processed and saved: 4071_08012019_TSFEL_output_stats.csv\n",
      "Processed and saved: 4073_09162019_TSFEL_output_stats.csv\n",
      "Processed and saved: 4074_10022019_TSFEL_output_stats.csv\n",
      "Processed and saved: 4091_08012019_TSFEL_output_stats.csv\n",
      "Processed and saved: 4096_09092019_TSFEL_output_stats.csv\n",
      "Processed and saved: 4098_11012019_TSFEL_output_stats.csv\n",
      "Processed and saved: 4099_12022019_TSFEL_output_stats.csv\n",
      "Processed and saved: 4101_11012019_TSFEL_output_stats.csv\n",
      "Processed and saved: 4102_12012019_TSFEL_output_stats.csv\n",
      "Processed and saved: 4104_01252019_TSFEL_output_stats.csv\n",
      "Processed and saved: 4106_01152019_TSFEL_output_stats.csv\n",
      "Processed and saved: 4108_01282019_TSFEL_output_stats.csv\n",
      "Processed and saved: 4111_02082019_TSFEL_output_stats.csv\n",
      "Processed and saved: 4115_03262019_TSFEL_output_stats.csv\n",
      "Processed and saved: 4117_05102019_TSFEL_output_stats.csv\n",
      "Processed and saved: 41184_04012019_TSFEL_output_stats.csv\n",
      "Processed and saved: 41749_07012019_TSFEL_output_stats.csv\n",
      "Processed and saved: 42724_01222019_TSFEL_output_stats.csv\n",
      "Processed and saved: 50009_04022019_TSFEL_output_stats.csv\n",
      "Processed and saved: 50192_06012019_TSFEL_output_stats.csv\n",
      "Processed and saved: 50222_08192019_TSFEL_output_stats.csv\n",
      "Processed and saved: 50225_08192019_TSFEL_output_stats.csv\n",
      "Processed and saved: 50621_06112019_TSFEL_output_stats.csv\n",
      "Processed and saved: 50670_02132019_TSFEL_output_stats.csv\n",
      "Processed and saved: 50860_11012019_TSFEL_output_stats.csv\n",
      "Processed and saved: 50901_12012019_TSFEL_output_stats.csv\n",
      "Processed and saved: 51186_05162019_TSFEL_output_stats.csv\n",
      "Processed and saved: 51252_07012019_TSFEL_output_stats.csv\n",
      "Processed and saved: 51311_06132019_TSFEL_output_stats.csv\n",
      "Processed and saved: 51518_07222019_TSFEL_output_stats.csv\n",
      "Processed and saved: 51540_10012019_TSFEL_output_stats.csv\n",
      "Processed and saved: 51625_08012019_TSFEL_output_stats.csv\n",
      "Processed and saved: 51731_10092019_TSFEL_output_stats.csv\n",
      "Processed and saved: 51867_09012019_TSFEL_output_stats.csv\n",
      "Processed and saved: 51971_10012019_TSFEL_output_stats.csv\n",
      "Processed and saved: 52062_01032019_TSFEL_output_stats.csv\n",
      "Processed and saved: 52353_11132019_TSFEL_output_stats.csv\n",
      "Processed and saved: 52355_02202019_TSFEL_output_stats.csv\n",
      "Processed and saved: 52400_10012019_TSFEL_output_stats.csv\n",
      "Processed and saved: 52752_03012019_TSFEL_output_stats.csv\n",
      "Processed and saved: 52872_07022019_TSFEL_output_stats.csv\n",
      "Processed and saved: 52874_11012019_TSFEL_output_stats.csv\n",
      "Processed and saved: 52888_06012019_TSFEL_output_stats.csv\n",
      "Processed and saved: 52982_02012019_TSFEL_output_stats.csv\n",
      "Processed and saved: 53054_05012019_TSFEL_output_stats.csv\n",
      "Processed and saved: 53308_06012019_TSFEL_output_stats.csv\n",
      "Processed and saved: 53595_07242019_TSFEL_output_stats.csv\n",
      "Processed and saved: 53600_09112019_TSFEL_output_stats.csv\n",
      "Processed and saved: 53866_05012019_TSFEL_output_stats.csv\n",
      "Processed and saved: 53988_02012019_TSFEL_output_stats.csv\n",
      "Processed and saved: 54110_12022019_TSFEL_output_stats.csv\n",
      "Processed and saved: 54144_03012019_TSFEL_output_stats.csv\n",
      "Processed and saved: 54161_10212019_TSFEL_output_stats.csv\n",
      "Processed and saved: 54196_08082019_TSFEL_output_stats.csv\n",
      "Processed and saved: 54197_06262019_TSFEL_output_stats.csv\n",
      "Processed and saved: 54266_05042019_TSFEL_output_stats.csv\n",
      "Processed and saved: 54309_08012019_TSFEL_output_stats.csv\n",
      "Processed and saved: 54391_10072019_TSFEL_output_stats.csv\n",
      "Processed and saved: 54991_11012019_TSFEL_output_stats.csv\n",
      "Processed and saved: 55098_06072019_TSFEL_output_stats.csv\n",
      "Processed and saved: 55124_08012019_TSFEL_output_stats.csv\n",
      "Processed and saved: 55151_07012019_TSFEL_output_stats.csv\n",
      "Processed and saved: 55251_09012019_TSFEL_output_stats.csv\n",
      "Processed and saved: 55282_07012019_TSFEL_output_stats.csv\n",
      "Processed and saved: 55349_07012019_TSFEL_output_stats.csv\n",
      "Processed and saved: 55441_06272019_TSFEL_output_stats.csv\n",
      "Processed and saved: 55560_08012019_TSFEL_output_stats.csv\n",
      "Processed and saved: 55615_06012019_TSFEL_output_stats.csv\n",
      "Processed and saved: 55822_08082019_TSFEL_output_stats.csv\n",
      "Processed and saved: 55842_08232019_TSFEL_output_stats.csv\n",
      "Processed and saved: 56048_02012019_TSFEL_output_stats.csv\n",
      "Processed and saved: 56136_11012019_TSFEL_output_stats.csv\n",
      "Processed and saved: 56405_05012019_TSFEL_output_stats.csv\n",
      "Processed and saved: 56435_10032019_TSFEL_output_stats.csv\n",
      "Processed and saved: 56492_10042019_TSFEL_output_stats.csv\n",
      "Processed and saved: 56582_04122019_TSFEL_output_stats.csv\n",
      "Processed and saved: 56744_08012019_TSFEL_output_stats.csv\n",
      "Processed and saved: 56779_04052019_TSFEL_output_stats.csv\n",
      "Processed and saved: 56800_03292019_TSFEL_output_stats.csv\n",
      "Processed and saved: 57127_08012019_TSFEL_output_stats.csv\n",
      "Processed and saved: 57234_09012019_TSFEL_output_stats.csv\n",
      "Processed and saved: 57277_01032019_TSFEL_output_stats.csv\n",
      "Processed and saved: 57398_09062019_TSFEL_output_stats.csv\n",
      "Processed and saved: 57887_02132019_TSFEL_output_stats.csv\n",
      "Processed and saved: 58026_08212019_TSFEL_output_stats.csv\n",
      "Processed and saved: 58030_05012019_TSFEL_output_stats.csv\n",
      "Processed and saved: 58074_06012019_TSFEL_output_stats.csv\n",
      "Processed and saved: 58138_03012019_TSFEL_output_stats.csv\n",
      "Processed and saved: 58164_06012019_TSFEL_output_stats.csv\n",
      "Processed and saved: 58342_10312019_TSFEL_output_stats.csv\n",
      "Processed and saved: 58454_07152019_TSFEL_output_stats.csv\n",
      "Processed and saved: 58510_06012019_TSFEL_output_stats.csv\n",
      "Processed and saved: 58550_09012019_TSFEL_output_stats.csv\n",
      "Processed and saved: 58671_08012019_TSFEL_output_stats.csv\n",
      "Processed and saved: 58680_08012019_TSFEL_output_stats.csv\n",
      "Processed and saved: 58721_07182019_TSFEL_output_stats.csv\n",
      "Processed and saved: 58783_08012019_TSFEL_output_stats.csv\n",
      "Processed and saved: 58843_05012019_TSFEL_output_stats.csv\n",
      "Processed and saved: 58916_10012019_TSFEL_output_stats.csv\n",
      "Processed and saved: 59042_10032019_TSFEL_output_stats.csv\n",
      "Processed and saved: 59121_10012019_TSFEL_output_stats.csv\n",
      "Processed and saved: 59174_06012019_TSFEL_output_stats.csv\n",
      "Processed and saved: 59178_07022019_TSFEL_output_stats.csv\n",
      "Processed and saved: 59310_11012019_TSFEL_output_stats.csv\n",
      "Processed and saved: 59409_08282019_TSFEL_output_stats.csv\n",
      "Processed and saved: 59558_07012019_TSFEL_output_stats.csv\n",
      "Processed and saved: 59724_08012019_TSFEL_output_stats.csv\n",
      "Processed and saved: 59797_12012019_TSFEL_output_stats.csv\n",
      "Processed and saved: 60013_10012019_TSFEL_output_stats.csv\n",
      "Processed and saved: 65002_11012019_TSFEL_output_stats.csv\n",
      "Processed and saved: 70035_07012019_TSFEL_output_stats.csv\n",
      "Processed and saved: 70106_08012019_TSFEL_output_stats.csv\n",
      "Processed and saved: 70179_01102019_TSFEL_output_stats.csv\n",
      "Processed and saved: 70188_10012019_TSFEL_output_stats.csv\n",
      "Processed and saved: 70326_08012019_TSFEL_output_stats.csv\n",
      "Processed and saved: 70345_10012019_TSFEL_output_stats.csv\n",
      "Processed and saved: 70378_12012019_TSFEL_output_stats.csv\n",
      "Processed and saved: 70432_09092019_TSFEL_output_stats.csv\n",
      "Processed and saved: 70519_11222019_TSFEL_output_stats.csv\n",
      "Processed and saved: 70631_11012019_TSFEL_output_stats.csv\n",
      "Processed and saved: 70645_09012019_TSFEL_output_stats.csv\n",
      "Processed and saved: 70652_10012019_TSFEL_output_stats.csv\n",
      "Processed and saved: 70659_11012019_TSFEL_output_stats.csv\n",
      "Processed and saved: 70810_03272019_TSFEL_output_stats.csv\n",
      "Processed and saved: 71065_01012019_TSFEL_output_stats.csv\n",
      "Processed and saved: 71189_10102019_TSFEL_output_stats.csv\n",
      "Processed and saved: 71215_05312019_TSFEL_output_stats.csv\n",
      "Processed and saved: 71394_03012019_TSFEL_output_stats.csv\n",
      "Processed and saved: 71658_11012019_TSFEL_output_stats.csv\n",
      "Processed and saved: 71770_12012019_TSFEL_output_stats.csv\n",
      "Processed and saved: 71809_11012019_TSFEL_output_stats.csv\n",
      "Processed and saved: 72110_09012019_TSFEL_output_stats.csv\n",
      "Processed and saved: 72138_12012019_TSFEL_output_stats.csv\n",
      "Processed and saved: 72222_04012019_TSFEL_output_stats.csv\n",
      "Processed and saved: 72352_01012019_TSFEL_output_stats.csv\n",
      "Processed and saved: 72419_10012019_TSFEL_output_stats.csv\n",
      "Processed and saved: 72651_09122019_TSFEL_output_stats.csv\n",
      "Processed and saved: 72784_12122019_TSFEL_output_stats.csv\n",
      "Processed and saved: 72877_11222019_TSFEL_output_stats.csv\n",
      "Processed and saved: 73082_06012019_TSFEL_output_stats.csv\n",
      "Processed and saved: 73134_01012019_TSFEL_output_stats.csv\n",
      "Processed and saved: 73134_12012019_TSFEL_output_stats.csv\n",
      "Processed and saved: 73397_10182019_TSFEL_output_stats.csv\n",
      "Processed and saved: 73432_10012019_TSFEL_output_stats.csv\n",
      "Processed and saved: 73614_02012019_TSFEL_output_stats.csv\n",
      "Processed and saved: 73787_12012019_TSFEL_output_stats.csv\n",
      "Processed and saved: 73887_07012019_TSFEL_output_stats.csv\n",
      "Processed and saved: 73935_11012019_TSFEL_output_stats.csv\n",
      "Processed and saved: 74034_04012019_TSFEL_output_stats.csv\n",
      "Processed and saved: 74067_05012019_TSFEL_output_stats.csv\n",
      "Processed and saved: 74251_12022019_TSFEL_output_stats.csv\n",
      "Processed and saved: 74497_10012019_TSFEL_output_stats.csv\n",
      "Processed and saved: 74696_11012019_TSFEL_output_stats.csv\n",
      "Processed and saved: 75403_05312019_TSFEL_output_stats.csv\n",
      "Processed and saved: 75411_11202019_TSFEL_output_stats.csv\n",
      "Processed and saved: 75420_09012019_TSFEL_output_stats.csv\n",
      "Processed and saved: 75421_10162019_TSFEL_output_stats.csv\n",
      "Processed and saved: 75423_11012019_TSFEL_output_stats.csv\n",
      "Processed and saved: 75434_11012019_TSFEL_output_stats.csv\n",
      "Processed and saved: 75484_12022019_TSFEL_output_stats.csv\n",
      "Processed and saved: 75492_10012019_TSFEL_output_stats.csv\n",
      "Processed and saved: 75496_10012019_TSFEL_output_stats.csv\n",
      "Processed and saved: 75508_11012019_TSFEL_output_stats.csv\n",
      "Processed and saved: 75512_12012019_TSFEL_output_stats.csv\n",
      "Processed and saved: 75547_12012019_TSFEL_output_stats.csv\n",
      "Processed and saved: 90456_09012019_TSFEL_output_stats.csv\n",
      "Processed and saved: 91097_07112019_TSFEL_output_stats.csv\n"
     ]
    }
   ],
   "source": [
    "import os\n",
    "import pandas as pd\n",
    "\n",
    "def process_files(input_directory, output_directory):\n",
    "    # Ensure the output directory exists\n",
    "    if not os.path.exists(output_directory):\n",
    "        os.makedirs(output_directory)\n",
    "\n",
    "    # Iterate over all files in the input directory\n",
    "    for filename in os.listdir(input_directory):\n",
    "        if filename.endswith(\".csv\"):\n",
    "            # Construct the full file path\n",
    "            file_path = os.path.join(input_directory, filename)\n",
    "            \n",
    "            # Load the CSV file\n",
    "            data = pd.read_csv(file_path)\n",
    "            \n",
    "            # Calculate descriptive statistics and drop 'count'\n",
    "            descriptive_stats = data.describe().drop('count')\n",
    "            \n",
    "            # Flatten the DataFrame to a single row per feature set\n",
    "            descriptive_stats_flat = descriptive_stats.unstack().to_frame().T\n",
    "            \n",
    "            # Create new column names by combining the statistic with the feature name\n",
    "            descriptive_stats_flat.columns = ['{}_{}'.format(stat, feature) for feature, stat in descriptive_stats_flat.columns]\n",
    "            \n",
    "            # Construct the output file path\n",
    "            base_filename = os.path.splitext(filename)[0]\n",
    "            output_filename = f\"{base_filename}_stats.csv\"\n",
    "            output_filepath = os.path.join(output_directory, output_filename)\n",
    "            \n",
    "            # Save the flattened descriptive statistics to CSV\n",
    "            descriptive_stats_flat.to_csv(output_filepath, index=False)\n",
    "            \n",
    "            print(f\"Processed and saved: {output_filename}\")\n",
    "\n",
    "# Define the input and output directories\n",
    "input_directory = 'D:\\\\Parkinson\\'s\\\\Feature extraction\\\\Features_Extraction_5mins'\n",
    "output_directory = 'D:\\\\Parkinson\\'s\\\\Feature extraction\\\\Features_Extraction_5mins\\\\Stats'\n",
    "\n",
    "# Process all files\n",
    "process_files(input_directory, output_directory)"
   ]
  },
  {
   "cell_type": "code",
   "execution_count": 14,
   "id": "1617dc1a",
   "metadata": {},
   "outputs": [
    {
     "name": "stdout",
     "output_type": "stream",
     "text": [
      "Combined file with patient numbers saved as: D:\\Parkinson's\\Feature extraction\\Features_Extraction_5mins\\TSFEL_features_Stats_combine.xlsx\n"
     ]
    }
   ],
   "source": [
    "import os\n",
    "import pandas as pd\n",
    "\n",
    "def combine_files_with_patient_number(input_directory, output_filename):\n",
    "    combined_df = pd.DataFrame()  # Initialize an empty DataFrame to hold combined data\n",
    "    \n",
    "    # Iterate over all files in the input directory\n",
    "    for filename in os.listdir(input_directory):\n",
    "        if filename.endswith(\".csv\"):  # Ensure we're only processing CSV files\n",
    "            file_path = os.path.join(input_directory, filename)\n",
    "            # Extract the patient number from the filename\n",
    "            patient_number = filename.split('_')[0]\n",
    "            # Read the current file into a DataFrame\n",
    "            temp_df = pd.read_csv(file_path)\n",
    "            # Add the patient number as a new column\n",
    "            temp_df['PatientNumber'] = patient_number\n",
    "            # Append the data from the current file to the combined DataFrame\n",
    "            combined_df = pd.concat([combined_df, temp_df], axis=0, ignore_index=True)\n",
    "    \n",
    "    # Save the combined DataFrame to an Excel file\n",
    "    combined_df.to_excel(output_filename, index=False)\n",
    "    print(f\"Combined file with patient numbers saved as: {output_filename}\")\n",
    "\n",
    "# Define the input directory and output filename\n",
    "input_directory = 'D:\\\\Parkinson\\'s\\\\Feature extraction\\\\Features_Extraction_5mins\\\\Stats'\n",
    "output_filename = 'D:\\\\Parkinson\\'s\\\\Feature extraction\\\\Features_Extraction_5mins\\\\TSFEL_features_5Mins_Stats_combine.xlsx'\n",
    "\n",
    "# Combine all files and include patient numbers\n",
    "combine_files_with_patient_number(input_directory, output_filename)"
   ]
  },
  {
   "cell_type": "code",
   "execution_count": 16,
   "id": "913dfe29",
   "metadata": {},
   "outputs": [
    {
     "name": "stderr",
     "output_type": "stream",
     "text": [
      "C:\\Users\\upama\\AppData\\Local\\Temp\\ipykernel_9196\\54223558.py:18: SettingWithCopyWarning: \n",
      "A value is trying to be set on a copy of a slice from a DataFrame.\n",
      "Try using .loc[row_indexer,col_indexer] = value instead\n",
      "\n",
      "See the caveats in the documentation: https://pandas.pydata.org/pandas-docs/stable/user_guide/indexing.html#returning-a-view-versus-a-copy\n",
      "  additional_df_filtered['PATNO'] = additional_df_filtered['PATNO'].astype(str)\n"
     ]
    },
    {
     "name": "stdout",
     "output_type": "stream",
     "text": [
      "Combined file has been updated and saved back to: D:\\Parkinson's\\Feature extraction\\Features_Extraction_5mins\\TSFEL_features_5Mins_Stats_combine.xlsx\n"
     ]
    }
   ],
   "source": [
    "import pandas as pd\n",
    "\n",
    "# Load the combined TSFEL features Excel file\n",
    "combined_path = 'D:\\\\Parkinson\\'s\\\\Feature extraction\\\\Features_Extraction_5mins\\\\TSFEL_features_5Mins_Stats_combine.xlsx'\n",
    "combined_df = pd.read_excel(combined_path)\n",
    "\n",
    "# Load the additional data Excel file and the specific sheet\n",
    "additional_data_path = 'D:\\\\Data Count (2).xlsx'\n",
    "additional_df = pd.read_excel(additional_data_path, sheet_name='2019 Data Match')\n",
    "\n",
    "# We're interested in the following columns from the additional data\n",
    "additional_columns = ['PATNO', 'MOCA(2019)', 'Age', 'Sex', 'EDUCATION YEARS', 'Parkinson\\'s Vs Control']\n",
    "\n",
    "# Filter the additional data DataFrame to only include these columns\n",
    "additional_df_filtered = additional_df[additional_columns]\n",
    "\n",
    "# Convert PATNO to string if it's not already, to ensure matching works correctly\n",
    "additional_df_filtered['PATNO'] = additional_df_filtered['PATNO'].astype(str)\n",
    "combined_df['PatientNumber'] = combined_df['PatientNumber'].astype(str)\n",
    "\n",
    "# Merge the combined DataFrame with the additional information\n",
    "# This assumes 'PatientNumber' in the combined_df matches 'PATNO' in the additional_df_filtered\n",
    "combined_updated_df = pd.merge(combined_df, additional_df_filtered, left_on='PatientNumber', right_on='PATNO', how='left')\n",
    "\n",
    "# Drop the PATNO column after the merge, as it's redundant\n",
    "combined_updated_df.drop('PATNO', axis=1, inplace=True)\n",
    "\n",
    "# Save the updated combined DataFrame back to Excel\n",
    "combined_updated_df.to_excel(combined_path, index=False)\n",
    "\n",
    "print(f\"Combined file has been updated and saved back to: {combined_path}\")\n"
   ]
  },
  {
   "cell_type": "code",
   "execution_count": null,
   "id": "2f3a4afb",
   "metadata": {},
   "outputs": [],
   "source": []
  }
 ],
 "metadata": {
  "kernelspec": {
   "display_name": "Python 3 (ipykernel)",
   "language": "python",
   "name": "python3"
  },
  "language_info": {
   "codemirror_mode": {
    "name": "ipython",
    "version": 3
   },
   "file_extension": ".py",
   "mimetype": "text/x-python",
   "name": "python",
   "nbconvert_exporter": "python",
   "pygments_lexer": "ipython3",
   "version": "3.11.5"
  }
 },
 "nbformat": 4,
 "nbformat_minor": 5
}
