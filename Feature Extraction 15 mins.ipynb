{
 "cells": [
  {
   "cell_type": "code",
   "execution_count": 1,
   "id": "e02bd1ae",
   "metadata": {},
   "outputs": [
    {
     "name": "stdout",
     "output_type": "stream",
     "text": [
      "*** Feature extraction started ***\n"
     ]
    },
    {
     "data": {
      "text/html": [
       "\n",
       "              <p>\n",
       "                  Progress: 100% Complete\n",
       "              <p/>\n",
       "              <progress\n",
       "                  value='31'\n",
       "                  max='31',\n",
       "                  style='width: 25%',\n",
       "              >\n",
       "                  31\n",
       "              </progress>\n",
       "\n",
       "    "
      ],
      "text/plain": [
       "<IPython.core.display.HTML object>"
      ]
     },
     "metadata": {},
     "output_type": "display_data"
    },
    {
     "name": "stdout",
     "output_type": "stream",
     "text": [
      "\n",
      "*** Feature extraction finished ***\n",
      "Features extracted and saved to D:\\Parkinson's\\Features_Extraction_15mins\\12593\\12593_03182019_TSFEL_output.csv\n",
      "*** Feature extraction started ***\n"
     ]
    },
    {
     "data": {
      "text/html": [
       "\n",
       "              <p>\n",
       "                  Progress: 100% Complete\n",
       "              <p/>\n",
       "              <progress\n",
       "                  value='31'\n",
       "                  max='31',\n",
       "                  style='width: 25%',\n",
       "              >\n",
       "                  31\n",
       "              </progress>\n",
       "\n",
       "    "
      ],
      "text/plain": [
       "<IPython.core.display.HTML object>"
      ]
     },
     "metadata": {},
     "output_type": "display_data"
    },
    {
     "name": "stdout",
     "output_type": "stream",
     "text": [
      "\n",
      "*** Feature extraction finished ***\n",
      "Features extracted and saved to D:\\Parkinson's\\Features_Extraction_15mins\\13039\\13039_10012019_TSFEL_output.csv\n",
      "*** Feature extraction started ***\n"
     ]
    },
    {
     "data": {
      "text/html": [
       "\n",
       "              <p>\n",
       "                  Progress: 100% Complete\n",
       "              <p/>\n",
       "              <progress\n",
       "                  value='20'\n",
       "                  max='20',\n",
       "                  style='width: 25%',\n",
       "              >\n",
       "                  20\n",
       "              </progress>\n",
       "\n",
       "    "
      ],
      "text/plain": [
       "<IPython.core.display.HTML object>"
      ]
     },
     "metadata": {},
     "output_type": "display_data"
    },
    {
     "name": "stdout",
     "output_type": "stream",
     "text": [
      "\n",
      "*** Feature extraction finished ***\n",
      "Features extracted and saved to D:\\Parkinson's\\Features_Extraction_15mins\\14281\\14281_02192019_TSFEL_output.csv\n",
      "*** Feature extraction started ***\n"
     ]
    },
    {
     "data": {
      "text/html": [
       "\n",
       "              <p>\n",
       "                  Progress: 100% Complete\n",
       "              <p/>\n",
       "              <progress\n",
       "                  value='28'\n",
       "                  max='28',\n",
       "                  style='width: 25%',\n",
       "              >\n",
       "                  28\n",
       "              </progress>\n",
       "\n",
       "    "
      ],
      "text/plain": [
       "<IPython.core.display.HTML object>"
      ]
     },
     "metadata": {},
     "output_type": "display_data"
    },
    {
     "name": "stdout",
     "output_type": "stream",
     "text": [
      "\n",
      "*** Feature extraction finished ***\n",
      "Features extracted and saved to D:\\Parkinson's\\Features_Extraction_15mins\\14331\\14331_06052019_TSFEL_output.csv\n",
      "*** Feature extraction started ***\n"
     ]
    },
    {
     "data": {
      "text/html": [
       "\n",
       "              <p>\n",
       "                  Progress: 100% Complete\n",
       "              <p/>\n",
       "              <progress\n",
       "                  value='31'\n",
       "                  max='31',\n",
       "                  style='width: 25%',\n",
       "              >\n",
       "                  31\n",
       "              </progress>\n",
       "\n",
       "    "
      ],
      "text/plain": [
       "<IPython.core.display.HTML object>"
      ]
     },
     "metadata": {},
     "output_type": "display_data"
    },
    {
     "name": "stdout",
     "output_type": "stream",
     "text": [
      "\n",
      "*** Feature extraction finished ***\n",
      "Features extracted and saved to D:\\Parkinson's\\Features_Extraction_15mins\\18567\\18567_03202019_TSFEL_output.csv\n",
      "*** Feature extraction started ***\n"
     ]
    },
    {
     "data": {
      "text/html": [
       "\n",
       "              <p>\n",
       "                  Progress: 100% Complete\n",
       "              <p/>\n",
       "              <progress\n",
       "                  value='31'\n",
       "                  max='31',\n",
       "                  style='width: 25%',\n",
       "              >\n",
       "                  31\n",
       "              </progress>\n",
       "\n",
       "    "
      ],
      "text/plain": [
       "<IPython.core.display.HTML object>"
      ]
     },
     "metadata": {},
     "output_type": "display_data"
    },
    {
     "name": "stdout",
     "output_type": "stream",
     "text": [
      "\n",
      "*** Feature extraction finished ***\n",
      "Features extracted and saved to D:\\Parkinson's\\Features_Extraction_15mins\\3002\\3002_03152019_TSFEL_output.csv\n",
      "*** Feature extraction started ***\n"
     ]
    },
    {
     "data": {
      "text/html": [
       "\n",
       "              <p>\n",
       "                  Progress: 100% Complete\n",
       "              <p/>\n",
       "              <progress\n",
       "                  value='31'\n",
       "                  max='31',\n",
       "                  style='width: 25%',\n",
       "              >\n",
       "                  31\n",
       "              </progress>\n",
       "\n",
       "    "
      ],
      "text/plain": [
       "<IPython.core.display.HTML object>"
      ]
     },
     "metadata": {},
     "output_type": "display_data"
    },
    {
     "name": "stdout",
     "output_type": "stream",
     "text": [
      "\n",
      "*** Feature extraction finished ***\n",
      "Features extracted and saved to D:\\Parkinson's\\Features_Extraction_15mins\\3003\\3003_03292019_TSFEL_output.csv\n",
      "*** Feature extraction started ***\n"
     ]
    },
    {
     "data": {
      "text/html": [
       "\n",
       "              <p>\n",
       "                  Progress: 100% Complete\n",
       "              <p/>\n",
       "              <progress\n",
       "                  value='31'\n",
       "                  max='31',\n",
       "                  style='width: 25%',\n",
       "              >\n",
       "                  31\n",
       "              </progress>\n",
       "\n",
       "    "
      ],
      "text/plain": [
       "<IPython.core.display.HTML object>"
      ]
     },
     "metadata": {},
     "output_type": "display_data"
    },
    {
     "name": "stdout",
     "output_type": "stream",
     "text": [
      "\n",
      "*** Feature extraction finished ***\n",
      "Features extracted and saved to D:\\Parkinson's\\Features_Extraction_15mins\\3004\\3004_03292019_TSFEL_output.csv\n",
      "*** Feature extraction started ***\n"
     ]
    },
    {
     "data": {
      "text/html": [
       "\n",
       "              <p>\n",
       "                  Progress: 100% Complete\n",
       "              <p/>\n",
       "              <progress\n",
       "                  value='31'\n",
       "                  max='31',\n",
       "                  style='width: 25%',\n",
       "              >\n",
       "                  31\n",
       "              </progress>\n",
       "\n",
       "    "
      ],
      "text/plain": [
       "<IPython.core.display.HTML object>"
      ]
     },
     "metadata": {},
     "output_type": "display_data"
    },
    {
     "name": "stdout",
     "output_type": "stream",
     "text": [
      "\n",
      "*** Feature extraction finished ***\n",
      "Features extracted and saved to D:\\Parkinson's\\Features_Extraction_15mins\\3013\\3013_12112019_TSFEL_output.csv\n",
      "*** Feature extraction started ***\n"
     ]
    },
    {
     "data": {
      "text/html": [
       "\n",
       "              <p>\n",
       "                  Progress: 100% Complete\n",
       "              <p/>\n",
       "              <progress\n",
       "                  value='31'\n",
       "                  max='31',\n",
       "                  style='width: 25%',\n",
       "              >\n",
       "                  31\n",
       "              </progress>\n",
       "\n",
       "    "
      ],
      "text/plain": [
       "<IPython.core.display.HTML object>"
      ]
     },
     "metadata": {},
     "output_type": "display_data"
    },
    {
     "name": "stdout",
     "output_type": "stream",
     "text": [
      "\n",
      "*** Feature extraction finished ***\n",
      "Features extracted and saved to D:\\Parkinson's\\Features_Extraction_15mins\\3020\\3020_04122019_TSFEL_output.csv\n",
      "*** Feature extraction started ***\n"
     ]
    },
    {
     "data": {
      "text/html": [
       "\n",
       "              <p>\n",
       "                  Progress: 100% Complete\n",
       "              <p/>\n",
       "              <progress\n",
       "                  value='31'\n",
       "                  max='31',\n",
       "                  style='width: 25%',\n",
       "              >\n",
       "                  31\n",
       "              </progress>\n",
       "\n",
       "    "
      ],
      "text/plain": [
       "<IPython.core.display.HTML object>"
      ]
     },
     "metadata": {},
     "output_type": "display_data"
    },
    {
     "name": "stdout",
     "output_type": "stream",
     "text": [
      "\n",
      "*** Feature extraction finished ***\n",
      "Features extracted and saved to D:\\Parkinson's\\Features_Extraction_15mins\\3023\\3023_06062019_TSFEL_output.csv\n",
      "*** Feature extraction started ***\n"
     ]
    },
    {
     "data": {
      "text/html": [
       "\n",
       "              <p>\n",
       "                  Progress: 100% Complete\n",
       "              <p/>\n",
       "              <progress\n",
       "                  value='31'\n",
       "                  max='31',\n",
       "                  style='width: 25%',\n",
       "              >\n",
       "                  31\n",
       "              </progress>\n",
       "\n",
       "    "
      ],
      "text/plain": [
       "<IPython.core.display.HTML object>"
      ]
     },
     "metadata": {},
     "output_type": "display_data"
    },
    {
     "name": "stdout",
     "output_type": "stream",
     "text": [
      "\n",
      "*** Feature extraction finished ***\n",
      "Features extracted and saved to D:\\Parkinson's\\Features_Extraction_15mins\\3028\\3028_03122019_TSFEL_output.csv\n",
      "*** Feature extraction started ***\n"
     ]
    },
    {
     "data": {
      "text/html": [
       "\n",
       "              <p>\n",
       "                  Progress: 100% Complete\n",
       "              <p/>\n",
       "              <progress\n",
       "                  value='31'\n",
       "                  max='31',\n",
       "                  style='width: 25%',\n",
       "              >\n",
       "                  31\n",
       "              </progress>\n",
       "\n",
       "    "
      ],
      "text/plain": [
       "<IPython.core.display.HTML object>"
      ]
     },
     "metadata": {},
     "output_type": "display_data"
    },
    {
     "name": "stdout",
     "output_type": "stream",
     "text": [
      "\n",
      "*** Feature extraction finished ***\n",
      "Features extracted and saved to D:\\Parkinson's\\Features_Extraction_15mins\\3029\\3029_05312019_TSFEL_output.csv\n",
      "*** Feature extraction started ***\n"
     ]
    },
    {
     "data": {
      "text/html": [
       "\n",
       "              <p>\n",
       "                  Progress: 100% Complete\n",
       "              <p/>\n",
       "              <progress\n",
       "                  value='31'\n",
       "                  max='31',\n",
       "                  style='width: 25%',\n",
       "              >\n",
       "                  31\n",
       "              </progress>\n",
       "\n",
       "    "
      ],
      "text/plain": [
       "<IPython.core.display.HTML object>"
      ]
     },
     "metadata": {},
     "output_type": "display_data"
    },
    {
     "name": "stdout",
     "output_type": "stream",
     "text": [
      "\n",
      "*** Feature extraction finished ***\n",
      "Features extracted and saved to D:\\Parkinson's\\Features_Extraction_15mins\\3050\\3050_03052019_TSFEL_output.csv\n",
      "*** Feature extraction started ***\n"
     ]
    },
    {
     "data": {
      "text/html": [
       "\n",
       "              <p>\n",
       "                  Progress: 100% Complete\n",
       "              <p/>\n",
       "              <progress\n",
       "                  value='27'\n",
       "                  max='27',\n",
       "                  style='width: 25%',\n",
       "              >\n",
       "                  27\n",
       "              </progress>\n",
       "\n",
       "    "
      ],
      "text/plain": [
       "<IPython.core.display.HTML object>"
      ]
     },
     "metadata": {},
     "output_type": "display_data"
    },
    {
     "name": "stdout",
     "output_type": "stream",
     "text": [
      "\n",
      "*** Feature extraction finished ***\n",
      "Features extracted and saved to D:\\Parkinson's\\Features_Extraction_15mins\\3055\\3055_12182019_TSFEL_output.csv\n",
      "*** Feature extraction started ***\n"
     ]
    },
    {
     "data": {
      "text/html": [
       "\n",
       "              <p>\n",
       "                  Progress: 100% Complete\n",
       "              <p/>\n",
       "              <progress\n",
       "                  value='31'\n",
       "                  max='31',\n",
       "                  style='width: 25%',\n",
       "              >\n",
       "                  31\n",
       "              </progress>\n",
       "\n",
       "    "
      ],
      "text/plain": [
       "<IPython.core.display.HTML object>"
      ]
     },
     "metadata": {},
     "output_type": "display_data"
    },
    {
     "name": "stdout",
     "output_type": "stream",
     "text": [
      "\n",
      "*** Feature extraction finished ***\n",
      "Features extracted and saved to D:\\Parkinson's\\Features_Extraction_15mins\\3057\\3057_02042019_TSFEL_output.csv\n",
      "*** Feature extraction started ***\n"
     ]
    },
    {
     "data": {
      "text/html": [
       "\n",
       "              <p>\n",
       "                  Progress: 100% Complete\n",
       "              <p/>\n",
       "              <progress\n",
       "                  value='30'\n",
       "                  max='30',\n",
       "                  style='width: 25%',\n",
       "              >\n",
       "                  30\n",
       "              </progress>\n",
       "\n",
       "    "
      ],
      "text/plain": [
       "<IPython.core.display.HTML object>"
      ]
     },
     "metadata": {},
     "output_type": "display_data"
    },
    {
     "name": "stdout",
     "output_type": "stream",
     "text": [
      "\n",
      "*** Feature extraction finished ***\n",
      "Features extracted and saved to D:\\Parkinson's\\Features_Extraction_15mins\\3061\\3061_04012019_TSFEL_output.csv\n",
      "*** Feature extraction started ***\n"
     ]
    },
    {
     "data": {
      "text/html": [
       "\n",
       "              <p>\n",
       "                  Progress: 100% Complete\n",
       "              <p/>\n",
       "              <progress\n",
       "                  value='31'\n",
       "                  max='31',\n",
       "                  style='width: 25%',\n",
       "              >\n",
       "                  31\n",
       "              </progress>\n",
       "\n",
       "    "
      ],
      "text/plain": [
       "<IPython.core.display.HTML object>"
      ]
     },
     "metadata": {},
     "output_type": "display_data"
    },
    {
     "name": "stdout",
     "output_type": "stream",
     "text": [
      "\n",
      "*** Feature extraction finished ***\n",
      "Features extracted and saved to D:\\Parkinson's\\Features_Extraction_15mins\\3062\\3062_02252019_TSFEL_output.csv\n",
      "*** Feature extraction started ***\n"
     ]
    },
    {
     "data": {
      "text/html": [
       "\n",
       "              <p>\n",
       "                  Progress: 100% Complete\n",
       "              <p/>\n",
       "              <progress\n",
       "                  value='28'\n",
       "                  max='28',\n",
       "                  style='width: 25%',\n",
       "              >\n",
       "                  28\n",
       "              </progress>\n",
       "\n",
       "    "
      ],
      "text/plain": [
       "<IPython.core.display.HTML object>"
      ]
     },
     "metadata": {},
     "output_type": "display_data"
    },
    {
     "name": "stdout",
     "output_type": "stream",
     "text": [
      "\n",
      "*** Feature extraction finished ***\n",
      "Features extracted and saved to D:\\Parkinson's\\Features_Extraction_15mins\\3064\\3064_05072019_TSFEL_output.csv\n",
      "*** Feature extraction started ***\n"
     ]
    },
    {
     "data": {
      "text/html": [
       "\n",
       "              <p>\n",
       "                  Progress: 100% Complete\n",
       "              <p/>\n",
       "              <progress\n",
       "                  value='17'\n",
       "                  max='17',\n",
       "                  style='width: 25%',\n",
       "              >\n",
       "                  17\n",
       "              </progress>\n",
       "\n",
       "    "
      ],
      "text/plain": [
       "<IPython.core.display.HTML object>"
      ]
     },
     "metadata": {},
     "output_type": "display_data"
    },
    {
     "name": "stdout",
     "output_type": "stream",
     "text": [
      "\n",
      "*** Feature extraction finished ***\n",
      "Features extracted and saved to D:\\Parkinson's\\Features_Extraction_15mins\\3066\\3066_06192019_TSFEL_output.csv\n",
      "*** Feature extraction started ***\n"
     ]
    },
    {
     "data": {
      "text/html": [
       "\n",
       "              <p>\n",
       "                  Progress: 100% Complete\n",
       "              <p/>\n",
       "              <progress\n",
       "                  value='31'\n",
       "                  max='31',\n",
       "                  style='width: 25%',\n",
       "              >\n",
       "                  31\n",
       "              </progress>\n",
       "\n",
       "    "
      ],
      "text/plain": [
       "<IPython.core.display.HTML object>"
      ]
     },
     "metadata": {},
     "output_type": "display_data"
    },
    {
     "name": "stdout",
     "output_type": "stream",
     "text": [
      "\n",
      "*** Feature extraction finished ***\n",
      "Features extracted and saved to D:\\Parkinson's\\Features_Extraction_15mins\\3068\\3068_06172019_TSFEL_output.csv\n",
      "*** Feature extraction started ***\n"
     ]
    },
    {
     "data": {
      "text/html": [
       "\n",
       "              <p>\n",
       "                  Progress: 100% Complete\n",
       "              <p/>\n",
       "              <progress\n",
       "                  value='31'\n",
       "                  max='31',\n",
       "                  style='width: 25%',\n",
       "              >\n",
       "                  31\n",
       "              </progress>\n",
       "\n",
       "    "
      ],
      "text/plain": [
       "<IPython.core.display.HTML object>"
      ]
     },
     "metadata": {},
     "output_type": "display_data"
    },
    {
     "name": "stdout",
     "output_type": "stream",
     "text": [
      "\n",
      "*** Feature extraction finished ***\n",
      "Features extracted and saved to D:\\Parkinson's\\Features_Extraction_15mins\\3072\\3072_11132019_TSFEL_output.csv\n",
      "*** Feature extraction started ***\n"
     ]
    },
    {
     "data": {
      "text/html": [
       "\n",
       "              <p>\n",
       "                  Progress: 100% Complete\n",
       "              <p/>\n",
       "              <progress\n",
       "                  value='29'\n",
       "                  max='29',\n",
       "                  style='width: 25%',\n",
       "              >\n",
       "                  29\n",
       "              </progress>\n",
       "\n",
       "    "
      ],
      "text/plain": [
       "<IPython.core.display.HTML object>"
      ]
     },
     "metadata": {},
     "output_type": "display_data"
    },
    {
     "name": "stdout",
     "output_type": "stream",
     "text": [
      "\n",
      "*** Feature extraction finished ***\n",
      "Features extracted and saved to D:\\Parkinson's\\Features_Extraction_15mins\\3074\\3074_10282019_TSFEL_output.csv\n",
      "*** Feature extraction started ***\n"
     ]
    },
    {
     "data": {
      "text/html": [
       "\n",
       "              <p>\n",
       "                  Progress: 100% Complete\n",
       "              <p/>\n",
       "              <progress\n",
       "                  value='31'\n",
       "                  max='31',\n",
       "                  style='width: 25%',\n",
       "              >\n",
       "                  31\n",
       "              </progress>\n",
       "\n",
       "    "
      ],
      "text/plain": [
       "<IPython.core.display.HTML object>"
      ]
     },
     "metadata": {},
     "output_type": "display_data"
    },
    {
     "name": "stdout",
     "output_type": "stream",
     "text": [
      "\n",
      "*** Feature extraction finished ***\n",
      "Features extracted and saved to D:\\Parkinson's\\Features_Extraction_15mins\\3077\\3077_04012019_TSFEL_output.csv\n",
      "*** Feature extraction started ***\n"
     ]
    },
    {
     "data": {
      "text/html": [
       "\n",
       "              <p>\n",
       "                  Progress: 100% Complete\n",
       "              <p/>\n",
       "              <progress\n",
       "                  value='31'\n",
       "                  max='31',\n",
       "                  style='width: 25%',\n",
       "              >\n",
       "                  31\n",
       "              </progress>\n",
       "\n",
       "    "
      ],
      "text/plain": [
       "<IPython.core.display.HTML object>"
      ]
     },
     "metadata": {},
     "output_type": "display_data"
    },
    {
     "name": "stdout",
     "output_type": "stream",
     "text": [
      "\n",
      "*** Feature extraction finished ***\n",
      "Features extracted and saved to D:\\Parkinson's\\Features_Extraction_15mins\\3078\\3078_06102019_TSFEL_output.csv\n",
      "*** Feature extraction started ***\n"
     ]
    },
    {
     "data": {
      "text/html": [
       "\n",
       "              <p>\n",
       "                  Progress: 100% Complete\n",
       "              <p/>\n",
       "              <progress\n",
       "                  value='30'\n",
       "                  max='30',\n",
       "                  style='width: 25%',\n",
       "              >\n",
       "                  30\n",
       "              </progress>\n",
       "\n",
       "    "
      ],
      "text/plain": [
       "<IPython.core.display.HTML object>"
      ]
     },
     "metadata": {},
     "output_type": "display_data"
    },
    {
     "name": "stdout",
     "output_type": "stream",
     "text": [
      "\n",
      "*** Feature extraction finished ***\n",
      "Features extracted and saved to D:\\Parkinson's\\Features_Extraction_15mins\\3085\\3085_01222019_TSFEL_output.csv\n",
      "*** Feature extraction started ***\n"
     ]
    },
    {
     "data": {
      "text/html": [
       "\n",
       "              <p>\n",
       "                  Progress: 100% Complete\n",
       "              <p/>\n",
       "              <progress\n",
       "                  value='29'\n",
       "                  max='29',\n",
       "                  style='width: 25%',\n",
       "              >\n",
       "                  29\n",
       "              </progress>\n",
       "\n",
       "    "
      ],
      "text/plain": [
       "<IPython.core.display.HTML object>"
      ]
     },
     "metadata": {},
     "output_type": "display_data"
    },
    {
     "name": "stdout",
     "output_type": "stream",
     "text": [
      "\n",
      "*** Feature extraction finished ***\n",
      "Features extracted and saved to D:\\Parkinson's\\Features_Extraction_15mins\\3086\\3086_03122019_TSFEL_output.csv\n",
      "Skipping D:\\Parkinson's\\Filtered_Data_9_to_5_updated\\Filtered_Data_9_to_5_updated\\3119_03282019_filtered.csv due to insufficient data for a 15-minute window.\n",
      "*** Feature extraction started ***\n"
     ]
    },
    {
     "data": {
      "text/html": [
       "\n",
       "              <p>\n",
       "                  Progress: 100% Complete\n",
       "              <p/>\n",
       "              <progress\n",
       "                  value='16'\n",
       "                  max='16',\n",
       "                  style='width: 25%',\n",
       "              >\n",
       "                  16\n",
       "              </progress>\n",
       "\n",
       "    "
      ],
      "text/plain": [
       "<IPython.core.display.HTML object>"
      ]
     },
     "metadata": {},
     "output_type": "display_data"
    },
    {
     "name": "stdout",
     "output_type": "stream",
     "text": [
      "\n",
      "*** Feature extraction finished ***\n",
      "Features extracted and saved to D:\\Parkinson's\\Features_Extraction_15mins\\3169\\3169_12112019_TSFEL_output.csv\n",
      "*** Feature extraction started ***\n"
     ]
    },
    {
     "data": {
      "text/html": [
       "\n",
       "              <p>\n",
       "                  Progress: 100% Complete\n",
       "              <p/>\n",
       "              <progress\n",
       "                  value='21'\n",
       "                  max='21',\n",
       "                  style='width: 25%',\n",
       "              >\n",
       "                  21\n",
       "              </progress>\n",
       "\n",
       "    "
      ],
      "text/plain": [
       "<IPython.core.display.HTML object>"
      ]
     },
     "metadata": {},
     "output_type": "display_data"
    },
    {
     "name": "stdout",
     "output_type": "stream",
     "text": [
      "\n",
      "*** Feature extraction finished ***\n",
      "Features extracted and saved to D:\\Parkinson's\\Features_Extraction_15mins\\3181\\3181_10282019_TSFEL_output.csv\n",
      "*** Feature extraction started ***\n"
     ]
    },
    {
     "data": {
      "text/html": [
       "\n",
       "              <p>\n",
       "                  Progress: 100% Complete\n",
       "              <p/>\n",
       "              <progress\n",
       "                  value='31'\n",
       "                  max='31',\n",
       "                  style='width: 25%',\n",
       "              >\n",
       "                  31\n",
       "              </progress>\n",
       "\n",
       "    "
      ],
      "text/plain": [
       "<IPython.core.display.HTML object>"
      ]
     },
     "metadata": {},
     "output_type": "display_data"
    },
    {
     "name": "stdout",
     "output_type": "stream",
     "text": [
      "\n",
      "*** Feature extraction finished ***\n",
      "Features extracted and saved to D:\\Parkinson's\\Features_Extraction_15mins\\3207\\3207_03132019_TSFEL_output.csv\n",
      "*** Feature extraction started ***\n"
     ]
    },
    {
     "data": {
      "text/html": [
       "\n",
       "              <p>\n",
       "                  Progress: 100% Complete\n",
       "              <p/>\n",
       "              <progress\n",
       "                  value='31'\n",
       "                  max='31',\n",
       "                  style='width: 25%',\n",
       "              >\n",
       "                  31\n",
       "              </progress>\n",
       "\n",
       "    "
      ],
      "text/plain": [
       "<IPython.core.display.HTML object>"
      ]
     },
     "metadata": {},
     "output_type": "display_data"
    },
    {
     "name": "stdout",
     "output_type": "stream",
     "text": [
      "\n",
      "*** Feature extraction finished ***\n",
      "Features extracted and saved to D:\\Parkinson's\\Features_Extraction_15mins\\3216\\3216_10072019_TSFEL_output.csv\n",
      "*** Feature extraction started ***\n"
     ]
    },
    {
     "data": {
      "text/html": [
       "\n",
       "              <p>\n",
       "                  Progress: 100% Complete\n",
       "              <p/>\n",
       "              <progress\n",
       "                  value='31'\n",
       "                  max='31',\n",
       "                  style='width: 25%',\n",
       "              >\n",
       "                  31\n",
       "              </progress>\n",
       "\n",
       "    "
      ],
      "text/plain": [
       "<IPython.core.display.HTML object>"
      ]
     },
     "metadata": {},
     "output_type": "display_data"
    },
    {
     "name": "stdout",
     "output_type": "stream",
     "text": [
      "\n",
      "*** Feature extraction finished ***\n",
      "Features extracted and saved to D:\\Parkinson's\\Features_Extraction_15mins\\3218\\3218_10022019_TSFEL_output.csv\n",
      "*** Feature extraction started ***\n"
     ]
    },
    {
     "data": {
      "text/html": [
       "\n",
       "              <p>\n",
       "                  Progress: 100% Complete\n",
       "              <p/>\n",
       "              <progress\n",
       "                  value='31'\n",
       "                  max='31',\n",
       "                  style='width: 25%',\n",
       "              >\n",
       "                  31\n",
       "              </progress>\n",
       "\n",
       "    "
      ],
      "text/plain": [
       "<IPython.core.display.HTML object>"
      ]
     },
     "metadata": {},
     "output_type": "display_data"
    },
    {
     "name": "stdout",
     "output_type": "stream",
     "text": [
      "\n",
      "*** Feature extraction finished ***\n",
      "Features extracted and saved to D:\\Parkinson's\\Features_Extraction_15mins\\3223\\3223_01092019_TSFEL_output.csv\n",
      "*** Feature extraction started ***\n"
     ]
    },
    {
     "data": {
      "text/html": [
       "\n",
       "              <p>\n",
       "                  Progress: 100% Complete\n",
       "              <p/>\n",
       "              <progress\n",
       "                  value='31'\n",
       "                  max='31',\n",
       "                  style='width: 25%',\n",
       "              >\n",
       "                  31\n",
       "              </progress>\n",
       "\n",
       "    "
      ],
      "text/plain": [
       "<IPython.core.display.HTML object>"
      ]
     },
     "metadata": {},
     "output_type": "display_data"
    },
    {
     "name": "stdout",
     "output_type": "stream",
     "text": [
      "\n",
      "*** Feature extraction finished ***\n",
      "Features extracted and saved to D:\\Parkinson's\\Features_Extraction_15mins\\3224\\3224_04242019_TSFEL_output.csv\n",
      "*** Feature extraction started ***\n"
     ]
    },
    {
     "data": {
      "text/html": [
       "\n",
       "              <p>\n",
       "                  Progress: 100% Complete\n",
       "              <p/>\n",
       "              <progress\n",
       "                  value='31'\n",
       "                  max='31',\n",
       "                  style='width: 25%',\n",
       "              >\n",
       "                  31\n",
       "              </progress>\n",
       "\n",
       "    "
      ],
      "text/plain": [
       "<IPython.core.display.HTML object>"
      ]
     },
     "metadata": {},
     "output_type": "display_data"
    },
    {
     "name": "stdout",
     "output_type": "stream",
     "text": [
      "\n",
      "*** Feature extraction finished ***\n",
      "Features extracted and saved to D:\\Parkinson's\\Features_Extraction_15mins\\3227\\3227_05302019_TSFEL_output.csv\n",
      "*** Feature extraction started ***\n"
     ]
    },
    {
     "data": {
      "text/html": [
       "\n",
       "              <p>\n",
       "                  Progress: 100% Complete\n",
       "              <p/>\n",
       "              <progress\n",
       "                  value='31'\n",
       "                  max='31',\n",
       "                  style='width: 25%',\n",
       "              >\n",
       "                  31\n",
       "              </progress>\n",
       "\n",
       "    "
      ],
      "text/plain": [
       "<IPython.core.display.HTML object>"
      ]
     },
     "metadata": {},
     "output_type": "display_data"
    },
    {
     "name": "stdout",
     "output_type": "stream",
     "text": [
      "\n",
      "*** Feature extraction finished ***\n",
      "Features extracted and saved to D:\\Parkinson's\\Features_Extraction_15mins\\3234\\3234_04252019_TSFEL_output.csv\n",
      "*** Feature extraction started ***\n"
     ]
    },
    {
     "data": {
      "text/html": [
       "\n",
       "              <p>\n",
       "                  Progress: 100% Complete\n",
       "              <p/>\n",
       "              <progress\n",
       "                  value='31'\n",
       "                  max='31',\n",
       "                  style='width: 25%',\n",
       "              >\n",
       "                  31\n",
       "              </progress>\n",
       "\n",
       "    "
      ],
      "text/plain": [
       "<IPython.core.display.HTML object>"
      ]
     },
     "metadata": {},
     "output_type": "display_data"
    },
    {
     "name": "stdout",
     "output_type": "stream",
     "text": [
      "\n",
      "*** Feature extraction finished ***\n",
      "Features extracted and saved to D:\\Parkinson's\\Features_Extraction_15mins\\3237\\3237_04022019_TSFEL_output.csv\n",
      "*** Feature extraction started ***\n"
     ]
    },
    {
     "data": {
      "text/html": [
       "\n",
       "              <p>\n",
       "                  Progress: 100% Complete\n",
       "              <p/>\n",
       "              <progress\n",
       "                  value='31'\n",
       "                  max='31',\n",
       "                  style='width: 25%',\n",
       "              >\n",
       "                  31\n",
       "              </progress>\n",
       "\n",
       "    "
      ],
      "text/plain": [
       "<IPython.core.display.HTML object>"
      ]
     },
     "metadata": {},
     "output_type": "display_data"
    },
    {
     "name": "stdout",
     "output_type": "stream",
     "text": [
      "\n",
      "*** Feature extraction finished ***\n",
      "Features extracted and saved to D:\\Parkinson's\\Features_Extraction_15mins\\3354\\3354_05202019_TSFEL_output.csv\n",
      "*** Feature extraction started ***\n"
     ]
    },
    {
     "data": {
      "text/html": [
       "\n",
       "              <p>\n",
       "                  Progress: 100% Complete\n",
       "              <p/>\n",
       "              <progress\n",
       "                  value='31'\n",
       "                  max='31',\n",
       "                  style='width: 25%',\n",
       "              >\n",
       "                  31\n",
       "              </progress>\n",
       "\n",
       "    "
      ],
      "text/plain": [
       "<IPython.core.display.HTML object>"
      ]
     },
     "metadata": {},
     "output_type": "display_data"
    },
    {
     "name": "stdout",
     "output_type": "stream",
     "text": [
      "\n",
      "*** Feature extraction finished ***\n",
      "Features extracted and saved to D:\\Parkinson's\\Features_Extraction_15mins\\3366\\3366_11112019_TSFEL_output.csv\n",
      "*** Feature extraction started ***\n"
     ]
    },
    {
     "data": {
      "text/html": [
       "\n",
       "              <p>\n",
       "                  Progress: 100% Complete\n",
       "              <p/>\n",
       "              <progress\n",
       "                  value='31'\n",
       "                  max='31',\n",
       "                  style='width: 25%',\n",
       "              >\n",
       "                  31\n",
       "              </progress>\n",
       "\n",
       "    "
      ],
      "text/plain": [
       "<IPython.core.display.HTML object>"
      ]
     },
     "metadata": {},
     "output_type": "display_data"
    },
    {
     "name": "stdout",
     "output_type": "stream",
     "text": [
      "\n",
      "*** Feature extraction finished ***\n",
      "Features extracted and saved to D:\\Parkinson's\\Features_Extraction_15mins\\3367\\3367_08022019_TSFEL_output.csv\n",
      "*** Feature extraction started ***\n"
     ]
    },
    {
     "data": {
      "text/html": [
       "\n",
       "              <p>\n",
       "                  Progress: 100% Complete\n",
       "              <p/>\n",
       "              <progress\n",
       "                  value='31'\n",
       "                  max='31',\n",
       "                  style='width: 25%',\n",
       "              >\n",
       "                  31\n",
       "              </progress>\n",
       "\n",
       "    "
      ],
      "text/plain": [
       "<IPython.core.display.HTML object>"
      ]
     },
     "metadata": {},
     "output_type": "display_data"
    },
    {
     "name": "stdout",
     "output_type": "stream",
     "text": [
      "\n",
      "*** Feature extraction finished ***\n",
      "Features extracted and saved to D:\\Parkinson's\\Features_Extraction_15mins\\3403\\3403_07082019_TSFEL_output.csv\n",
      "*** Feature extraction started ***\n"
     ]
    },
    {
     "data": {
      "text/html": [
       "\n",
       "              <p>\n",
       "                  Progress: 100% Complete\n",
       "              <p/>\n",
       "              <progress\n",
       "                  value='31'\n",
       "                  max='31',\n",
       "                  style='width: 25%',\n",
       "              >\n",
       "                  31\n",
       "              </progress>\n",
       "\n",
       "    "
      ],
      "text/plain": [
       "<IPython.core.display.HTML object>"
      ]
     },
     "metadata": {},
     "output_type": "display_data"
    },
    {
     "name": "stdout",
     "output_type": "stream",
     "text": [
      "\n",
      "*** Feature extraction finished ***\n",
      "Features extracted and saved to D:\\Parkinson's\\Features_Extraction_15mins\\3404\\3404_07012019_TSFEL_output.csv\n",
      "*** Feature extraction started ***\n"
     ]
    },
    {
     "data": {
      "text/html": [
       "\n",
       "              <p>\n",
       "                  Progress: 100% Complete\n",
       "              <p/>\n",
       "              <progress\n",
       "                  value='31'\n",
       "                  max='31',\n",
       "                  style='width: 25%',\n",
       "              >\n",
       "                  31\n",
       "              </progress>\n",
       "\n",
       "    "
      ],
      "text/plain": [
       "<IPython.core.display.HTML object>"
      ]
     },
     "metadata": {},
     "output_type": "display_data"
    },
    {
     "name": "stdout",
     "output_type": "stream",
     "text": [
      "\n",
      "*** Feature extraction finished ***\n",
      "Features extracted and saved to D:\\Parkinson's\\Features_Extraction_15mins\\3407\\3407_10042019_TSFEL_output.csv\n",
      "*** Feature extraction started ***\n"
     ]
    },
    {
     "data": {
      "text/html": [
       "\n",
       "              <p>\n",
       "                  Progress: 100% Complete\n",
       "              <p/>\n",
       "              <progress\n",
       "                  value='31'\n",
       "                  max='31',\n",
       "                  style='width: 25%',\n",
       "              >\n",
       "                  31\n",
       "              </progress>\n",
       "\n",
       "    "
      ],
      "text/plain": [
       "<IPython.core.display.HTML object>"
      ]
     },
     "metadata": {},
     "output_type": "display_data"
    },
    {
     "name": "stdout",
     "output_type": "stream",
     "text": [
      "\n",
      "*** Feature extraction finished ***\n",
      "Features extracted and saved to D:\\Parkinson's\\Features_Extraction_15mins\\3415\\3415_03222019_TSFEL_output.csv\n",
      "*** Feature extraction started ***\n"
     ]
    },
    {
     "data": {
      "text/html": [
       "\n",
       "              <p>\n",
       "                  Progress: 100% Complete\n",
       "              <p/>\n",
       "              <progress\n",
       "                  value='31'\n",
       "                  max='31',\n",
       "                  style='width: 25%',\n",
       "              >\n",
       "                  31\n",
       "              </progress>\n",
       "\n",
       "    "
      ],
      "text/plain": [
       "<IPython.core.display.HTML object>"
      ]
     },
     "metadata": {},
     "output_type": "display_data"
    },
    {
     "name": "stdout",
     "output_type": "stream",
     "text": [
      "\n",
      "*** Feature extraction finished ***\n",
      "Features extracted and saved to D:\\Parkinson's\\Features_Extraction_15mins\\3417\\3417_06202019_TSFEL_output.csv\n",
      "*** Feature extraction started ***\n"
     ]
    },
    {
     "data": {
      "text/html": [
       "\n",
       "              <p>\n",
       "                  Progress: 100% Complete\n",
       "              <p/>\n",
       "              <progress\n",
       "                  value='1'\n",
       "                  max='1',\n",
       "                  style='width: 25%',\n",
       "              >\n",
       "                  1\n",
       "              </progress>\n",
       "\n",
       "    "
      ],
      "text/plain": [
       "<IPython.core.display.HTML object>"
      ]
     },
     "metadata": {},
     "output_type": "display_data"
    },
    {
     "name": "stdout",
     "output_type": "stream",
     "text": [
      "\n",
      "*** Feature extraction finished ***\n",
      "Features extracted and saved to D:\\Parkinson's\\Features_Extraction_15mins\\3424\\3424_07012019_TSFEL_output.csv\n",
      "*** Feature extraction started ***\n"
     ]
    },
    {
     "data": {
      "text/html": [
       "\n",
       "              <p>\n",
       "                  Progress: 100% Complete\n",
       "              <p/>\n",
       "              <progress\n",
       "                  value='31'\n",
       "                  max='31',\n",
       "                  style='width: 25%',\n",
       "              >\n",
       "                  31\n",
       "              </progress>\n",
       "\n",
       "    "
      ],
      "text/plain": [
       "<IPython.core.display.HTML object>"
      ]
     },
     "metadata": {},
     "output_type": "display_data"
    },
    {
     "name": "stdout",
     "output_type": "stream",
     "text": [
      "\n",
      "*** Feature extraction finished ***\n",
      "Features extracted and saved to D:\\Parkinson's\\Features_Extraction_15mins\\3428\\3428_07012019_TSFEL_output.csv\n",
      "*** Feature extraction started ***\n"
     ]
    },
    {
     "data": {
      "text/html": [
       "\n",
       "              <p>\n",
       "                  Progress: 100% Complete\n",
       "              <p/>\n",
       "              <progress\n",
       "                  value='31'\n",
       "                  max='31',\n",
       "                  style='width: 25%',\n",
       "              >\n",
       "                  31\n",
       "              </progress>\n",
       "\n",
       "    "
      ],
      "text/plain": [
       "<IPython.core.display.HTML object>"
      ]
     },
     "metadata": {},
     "output_type": "display_data"
    },
    {
     "name": "stdout",
     "output_type": "stream",
     "text": [
      "\n",
      "*** Feature extraction finished ***\n",
      "Features extracted and saved to D:\\Parkinson's\\Features_Extraction_15mins\\3429\\3429_07012019_TSFEL_output.csv\n",
      "*** Feature extraction started ***\n"
     ]
    },
    {
     "data": {
      "text/html": [
       "\n",
       "              <p>\n",
       "                  Progress: 100% Complete\n",
       "              <p/>\n",
       "              <progress\n",
       "                  value='11'\n",
       "                  max='11',\n",
       "                  style='width: 25%',\n",
       "              >\n",
       "                  11\n",
       "              </progress>\n",
       "\n",
       "    "
      ],
      "text/plain": [
       "<IPython.core.display.HTML object>"
      ]
     },
     "metadata": {},
     "output_type": "display_data"
    },
    {
     "name": "stdout",
     "output_type": "stream",
     "text": [
      "\n",
      "*** Feature extraction finished ***\n",
      "Features extracted and saved to D:\\Parkinson's\\Features_Extraction_15mins\\3431\\3431_09192019_TSFEL_output.csv\n",
      "*** Feature extraction started ***\n"
     ]
    },
    {
     "data": {
      "text/html": [
       "\n",
       "              <p>\n",
       "                  Progress: 100% Complete\n",
       "              <p/>\n",
       "              <progress\n",
       "                  value='25'\n",
       "                  max='25',\n",
       "                  style='width: 25%',\n",
       "              >\n",
       "                  25\n",
       "              </progress>\n",
       "\n",
       "    "
      ],
      "text/plain": [
       "<IPython.core.display.HTML object>"
      ]
     },
     "metadata": {},
     "output_type": "display_data"
    },
    {
     "name": "stdout",
     "output_type": "stream",
     "text": [
      "\n",
      "*** Feature extraction finished ***\n",
      "Features extracted and saved to D:\\Parkinson's\\Features_Extraction_15mins\\3433\\3433_11012019_TSFEL_output.csv\n",
      "*** Feature extraction started ***\n"
     ]
    },
    {
     "data": {
      "text/html": [
       "\n",
       "              <p>\n",
       "                  Progress: 100% Complete\n",
       "              <p/>\n",
       "              <progress\n",
       "                  value='31'\n",
       "                  max='31',\n",
       "                  style='width: 25%',\n",
       "              >\n",
       "                  31\n",
       "              </progress>\n",
       "\n",
       "    "
      ],
      "text/plain": [
       "<IPython.core.display.HTML object>"
      ]
     },
     "metadata": {},
     "output_type": "display_data"
    },
    {
     "name": "stdout",
     "output_type": "stream",
     "text": [
      "\n",
      "*** Feature extraction finished ***\n",
      "Features extracted and saved to D:\\Parkinson's\\Features_Extraction_15mins\\3434\\3434_10012019_TSFEL_output.csv\n",
      "*** Feature extraction started ***\n"
     ]
    },
    {
     "data": {
      "text/html": [
       "\n",
       "              <p>\n",
       "                  Progress: 100% Complete\n",
       "              <p/>\n",
       "              <progress\n",
       "                  value='9'\n",
       "                  max='9',\n",
       "                  style='width: 25%',\n",
       "              >\n",
       "                  9\n",
       "              </progress>\n",
       "\n",
       "    "
      ],
      "text/plain": [
       "<IPython.core.display.HTML object>"
      ]
     },
     "metadata": {},
     "output_type": "display_data"
    },
    {
     "name": "stdout",
     "output_type": "stream",
     "text": [
      "\n",
      "*** Feature extraction finished ***\n",
      "Features extracted and saved to D:\\Parkinson's\\Features_Extraction_15mins\\3435\\3435_10012019_TSFEL_output.csv\n",
      "*** Feature extraction started ***\n"
     ]
    },
    {
     "data": {
      "text/html": [
       "\n",
       "              <p>\n",
       "                  Progress: 100% Complete\n",
       "              <p/>\n",
       "              <progress\n",
       "                  value='31'\n",
       "                  max='31',\n",
       "                  style='width: 25%',\n",
       "              >\n",
       "                  31\n",
       "              </progress>\n",
       "\n",
       "    "
      ],
      "text/plain": [
       "<IPython.core.display.HTML object>"
      ]
     },
     "metadata": {},
     "output_type": "display_data"
    },
    {
     "name": "stdout",
     "output_type": "stream",
     "text": [
      "\n",
      "*** Feature extraction finished ***\n",
      "Features extracted and saved to D:\\Parkinson's\\Features_Extraction_15mins\\3439\\3439_01312019_TSFEL_output.csv\n",
      "*** Feature extraction started ***\n"
     ]
    },
    {
     "data": {
      "text/html": [
       "\n",
       "              <p>\n",
       "                  Progress: 100% Complete\n",
       "              <p/>\n",
       "              <progress\n",
       "                  value='31'\n",
       "                  max='31',\n",
       "                  style='width: 25%',\n",
       "              >\n",
       "                  31\n",
       "              </progress>\n",
       "\n",
       "    "
      ],
      "text/plain": [
       "<IPython.core.display.HTML object>"
      ]
     },
     "metadata": {},
     "output_type": "display_data"
    },
    {
     "name": "stdout",
     "output_type": "stream",
     "text": [
      "\n",
      "*** Feature extraction finished ***\n",
      "Features extracted and saved to D:\\Parkinson's\\Features_Extraction_15mins\\3443\\3443_03202019_TSFEL_output.csv\n",
      "*** Feature extraction started ***\n"
     ]
    },
    {
     "data": {
      "text/html": [
       "\n",
       "              <p>\n",
       "                  Progress: 100% Complete\n",
       "              <p/>\n",
       "              <progress\n",
       "                  value='31'\n",
       "                  max='31',\n",
       "                  style='width: 25%',\n",
       "              >\n",
       "                  31\n",
       "              </progress>\n",
       "\n",
       "    "
      ],
      "text/plain": [
       "<IPython.core.display.HTML object>"
      ]
     },
     "metadata": {},
     "output_type": "display_data"
    },
    {
     "name": "stdout",
     "output_type": "stream",
     "text": [
      "\n",
      "*** Feature extraction finished ***\n",
      "Features extracted and saved to D:\\Parkinson's\\Features_Extraction_15mins\\3444\\3444_04192019_TSFEL_output.csv\n",
      "*** Feature extraction started ***\n"
     ]
    },
    {
     "data": {
      "text/html": [
       "\n",
       "              <p>\n",
       "                  Progress: 100% Complete\n",
       "              <p/>\n",
       "              <progress\n",
       "                  value='31'\n",
       "                  max='31',\n",
       "                  style='width: 25%',\n",
       "              >\n",
       "                  31\n",
       "              </progress>\n",
       "\n",
       "    "
      ],
      "text/plain": [
       "<IPython.core.display.HTML object>"
      ]
     },
     "metadata": {},
     "output_type": "display_data"
    },
    {
     "name": "stdout",
     "output_type": "stream",
     "text": [
      "\n",
      "*** Feature extraction finished ***\n",
      "Features extracted and saved to D:\\Parkinson's\\Features_Extraction_15mins\\3446\\3446_05312019_TSFEL_output.csv\n",
      "*** Feature extraction started ***\n"
     ]
    },
    {
     "data": {
      "text/html": [
       "\n",
       "              <p>\n",
       "                  Progress: 100% Complete\n",
       "              <p/>\n",
       "              <progress\n",
       "                  value='31'\n",
       "                  max='31',\n",
       "                  style='width: 25%',\n",
       "              >\n",
       "                  31\n",
       "              </progress>\n",
       "\n",
       "    "
      ],
      "text/plain": [
       "<IPython.core.display.HTML object>"
      ]
     },
     "metadata": {},
     "output_type": "display_data"
    },
    {
     "name": "stdout",
     "output_type": "stream",
     "text": [
      "\n",
      "*** Feature extraction finished ***\n",
      "Features extracted and saved to D:\\Parkinson's\\Features_Extraction_15mins\\3448\\3448_05152019_TSFEL_output.csv\n",
      "*** Feature extraction started ***\n"
     ]
    },
    {
     "data": {
      "text/html": [
       "\n",
       "              <p>\n",
       "                  Progress: 100% Complete\n",
       "              <p/>\n",
       "              <progress\n",
       "                  value='28'\n",
       "                  max='28',\n",
       "                  style='width: 25%',\n",
       "              >\n",
       "                  28\n",
       "              </progress>\n",
       "\n",
       "    "
      ],
      "text/plain": [
       "<IPython.core.display.HTML object>"
      ]
     },
     "metadata": {},
     "output_type": "display_data"
    },
    {
     "name": "stdout",
     "output_type": "stream",
     "text": [
      "\n",
      "*** Feature extraction finished ***\n",
      "Features extracted and saved to D:\\Parkinson's\\Features_Extraction_15mins\\3451\\3451_12012019_TSFEL_output.csv\n",
      "*** Feature extraction started ***\n"
     ]
    },
    {
     "data": {
      "text/html": [
       "\n",
       "              <p>\n",
       "                  Progress: 100% Complete\n",
       "              <p/>\n",
       "              <progress\n",
       "                  value='28'\n",
       "                  max='28',\n",
       "                  style='width: 25%',\n",
       "              >\n",
       "                  28\n",
       "              </progress>\n",
       "\n",
       "    "
      ],
      "text/plain": [
       "<IPython.core.display.HTML object>"
      ]
     },
     "metadata": {},
     "output_type": "display_data"
    },
    {
     "name": "stdout",
     "output_type": "stream",
     "text": [
      "\n",
      "*** Feature extraction finished ***\n",
      "Features extracted and saved to D:\\Parkinson's\\Features_Extraction_15mins\\3453\\3453_11262019_TSFEL_output.csv\n",
      "*** Feature extraction started ***\n"
     ]
    },
    {
     "data": {
      "text/html": [
       "\n",
       "              <p>\n",
       "                  Progress: 100% Complete\n",
       "              <p/>\n",
       "              <progress\n",
       "                  value='31'\n",
       "                  max='31',\n",
       "                  style='width: 25%',\n",
       "              >\n",
       "                  31\n",
       "              </progress>\n",
       "\n",
       "    "
      ],
      "text/plain": [
       "<IPython.core.display.HTML object>"
      ]
     },
     "metadata": {},
     "output_type": "display_data"
    },
    {
     "name": "stdout",
     "output_type": "stream",
     "text": [
      "\n",
      "*** Feature extraction finished ***\n",
      "Features extracted and saved to D:\\Parkinson's\\Features_Extraction_15mins\\3459\\3459_05292019_TSFEL_output.csv\n",
      "*** Feature extraction started ***\n"
     ]
    },
    {
     "data": {
      "text/html": [
       "\n",
       "              <p>\n",
       "                  Progress: 100% Complete\n",
       "              <p/>\n",
       "              <progress\n",
       "                  value='31'\n",
       "                  max='31',\n",
       "                  style='width: 25%',\n",
       "              >\n",
       "                  31\n",
       "              </progress>\n",
       "\n",
       "    "
      ],
      "text/plain": [
       "<IPython.core.display.HTML object>"
      ]
     },
     "metadata": {},
     "output_type": "display_data"
    },
    {
     "name": "stdout",
     "output_type": "stream",
     "text": [
      "\n",
      "*** Feature extraction finished ***\n",
      "Features extracted and saved to D:\\Parkinson's\\Features_Extraction_15mins\\3460\\3460_05292019_TSFEL_output.csv\n",
      "*** Feature extraction started ***\n"
     ]
    },
    {
     "data": {
      "text/html": [
       "\n",
       "              <p>\n",
       "                  Progress: 100% Complete\n",
       "              <p/>\n",
       "              <progress\n",
       "                  value='31'\n",
       "                  max='31',\n",
       "                  style='width: 25%',\n",
       "              >\n",
       "                  31\n",
       "              </progress>\n",
       "\n",
       "    "
      ],
      "text/plain": [
       "<IPython.core.display.HTML object>"
      ]
     },
     "metadata": {},
     "output_type": "display_data"
    },
    {
     "name": "stdout",
     "output_type": "stream",
     "text": [
      "\n",
      "*** Feature extraction finished ***\n",
      "Features extracted and saved to D:\\Parkinson's\\Features_Extraction_15mins\\3461\\3461_05212019_TSFEL_output.csv\n",
      "*** Feature extraction started ***\n"
     ]
    },
    {
     "data": {
      "text/html": [
       "\n",
       "              <p>\n",
       "                  Progress: 100% Complete\n",
       "              <p/>\n",
       "              <progress\n",
       "                  value='31'\n",
       "                  max='31',\n",
       "                  style='width: 25%',\n",
       "              >\n",
       "                  31\n",
       "              </progress>\n",
       "\n",
       "    "
      ],
      "text/plain": [
       "<IPython.core.display.HTML object>"
      ]
     },
     "metadata": {},
     "output_type": "display_data"
    },
    {
     "name": "stdout",
     "output_type": "stream",
     "text": [
      "\n",
      "*** Feature extraction finished ***\n",
      "Features extracted and saved to D:\\Parkinson's\\Features_Extraction_15mins\\3464\\3464_10292019_TSFEL_output.csv\n",
      "*** Feature extraction started ***\n"
     ]
    },
    {
     "data": {
      "text/html": [
       "\n",
       "              <p>\n",
       "                  Progress: 100% Complete\n",
       "              <p/>\n",
       "              <progress\n",
       "                  value='31'\n",
       "                  max='31',\n",
       "                  style='width: 25%',\n",
       "              >\n",
       "                  31\n",
       "              </progress>\n",
       "\n",
       "    "
      ],
      "text/plain": [
       "<IPython.core.display.HTML object>"
      ]
     },
     "metadata": {},
     "output_type": "display_data"
    },
    {
     "name": "stdout",
     "output_type": "stream",
     "text": [
      "\n",
      "*** Feature extraction finished ***\n",
      "Features extracted and saved to D:\\Parkinson's\\Features_Extraction_15mins\\3465\\3465_10222019_TSFEL_output.csv\n",
      "*** Feature extraction started ***\n"
     ]
    },
    {
     "data": {
      "text/html": [
       "\n",
       "              <p>\n",
       "                  Progress: 100% Complete\n",
       "              <p/>\n",
       "              <progress\n",
       "                  value='31'\n",
       "                  max='31',\n",
       "                  style='width: 25%',\n",
       "              >\n",
       "                  31\n",
       "              </progress>\n",
       "\n",
       "    "
      ],
      "text/plain": [
       "<IPython.core.display.HTML object>"
      ]
     },
     "metadata": {},
     "output_type": "display_data"
    },
    {
     "name": "stdout",
     "output_type": "stream",
     "text": [
      "\n",
      "*** Feature extraction finished ***\n",
      "Features extracted and saved to D:\\Parkinson's\\Features_Extraction_15mins\\3467\\3467_12102019_TSFEL_output.csv\n",
      "*** Feature extraction started ***\n"
     ]
    },
    {
     "data": {
      "text/html": [
       "\n",
       "              <p>\n",
       "                  Progress: 100% Complete\n",
       "              <p/>\n",
       "              <progress\n",
       "                  value='31'\n",
       "                  max='31',\n",
       "                  style='width: 25%',\n",
       "              >\n",
       "                  31\n",
       "              </progress>\n",
       "\n",
       "    "
      ],
      "text/plain": [
       "<IPython.core.display.HTML object>"
      ]
     },
     "metadata": {},
     "output_type": "display_data"
    },
    {
     "name": "stdout",
     "output_type": "stream",
     "text": [
      "\n",
      "*** Feature extraction finished ***\n",
      "Features extracted and saved to D:\\Parkinson's\\Features_Extraction_15mins\\3472\\3472_06182019_TSFEL_output.csv\n",
      "*** Feature extraction started ***\n"
     ]
    },
    {
     "data": {
      "text/html": [
       "\n",
       "              <p>\n",
       "                  Progress: 100% Complete\n",
       "              <p/>\n",
       "              <progress\n",
       "                  value='31'\n",
       "                  max='31',\n",
       "                  style='width: 25%',\n",
       "              >\n",
       "                  31\n",
       "              </progress>\n",
       "\n",
       "    "
      ],
      "text/plain": [
       "<IPython.core.display.HTML object>"
      ]
     },
     "metadata": {},
     "output_type": "display_data"
    },
    {
     "name": "stdout",
     "output_type": "stream",
     "text": [
      "\n",
      "*** Feature extraction finished ***\n",
      "Features extracted and saved to D:\\Parkinson's\\Features_Extraction_15mins\\3503\\3503_02052019_TSFEL_output.csv\n",
      "*** Feature extraction started ***\n"
     ]
    },
    {
     "data": {
      "text/html": [
       "\n",
       "              <p>\n",
       "                  Progress: 100% Complete\n",
       "              <p/>\n",
       "              <progress\n",
       "                  value='31'\n",
       "                  max='31',\n",
       "                  style='width: 25%',\n",
       "              >\n",
       "                  31\n",
       "              </progress>\n",
       "\n",
       "    "
      ],
      "text/plain": [
       "<IPython.core.display.HTML object>"
      ]
     },
     "metadata": {},
     "output_type": "display_data"
    },
    {
     "name": "stdout",
     "output_type": "stream",
     "text": [
      "\n",
      "*** Feature extraction finished ***\n",
      "Features extracted and saved to D:\\Parkinson's\\Features_Extraction_15mins\\3517\\3517_10012019_TSFEL_output.csv\n",
      "*** Feature extraction started ***\n"
     ]
    },
    {
     "data": {
      "text/html": [
       "\n",
       "              <p>\n",
       "                  Progress: 100% Complete\n",
       "              <p/>\n",
       "              <progress\n",
       "                  value='31'\n",
       "                  max='31',\n",
       "                  style='width: 25%',\n",
       "              >\n",
       "                  31\n",
       "              </progress>\n",
       "\n",
       "    "
      ],
      "text/plain": [
       "<IPython.core.display.HTML object>"
      ]
     },
     "metadata": {},
     "output_type": "display_data"
    },
    {
     "name": "stdout",
     "output_type": "stream",
     "text": [
      "\n",
      "*** Feature extraction finished ***\n",
      "Features extracted and saved to D:\\Parkinson's\\Features_Extraction_15mins\\3521\\3521_12012019_TSFEL_output.csv\n",
      "*** Feature extraction started ***\n"
     ]
    },
    {
     "data": {
      "text/html": [
       "\n",
       "              <p>\n",
       "                  Progress: 100% Complete\n",
       "              <p/>\n",
       "              <progress\n",
       "                  value='31'\n",
       "                  max='31',\n",
       "                  style='width: 25%',\n",
       "              >\n",
       "                  31\n",
       "              </progress>\n",
       "\n",
       "    "
      ],
      "text/plain": [
       "<IPython.core.display.HTML object>"
      ]
     },
     "metadata": {},
     "output_type": "display_data"
    },
    {
     "name": "stdout",
     "output_type": "stream",
     "text": [
      "\n",
      "*** Feature extraction finished ***\n",
      "Features extracted and saved to D:\\Parkinson's\\Features_Extraction_15mins\\3522\\3522_12012019_TSFEL_output.csv\n",
      "*** Feature extraction started ***\n"
     ]
    },
    {
     "data": {
      "text/html": [
       "\n",
       "              <p>\n",
       "                  Progress: 100% Complete\n",
       "              <p/>\n",
       "              <progress\n",
       "                  value='31'\n",
       "                  max='31',\n",
       "                  style='width: 25%',\n",
       "              >\n",
       "                  31\n",
       "              </progress>\n",
       "\n",
       "    "
      ],
      "text/plain": [
       "<IPython.core.display.HTML object>"
      ]
     },
     "metadata": {},
     "output_type": "display_data"
    },
    {
     "name": "stdout",
     "output_type": "stream",
     "text": [
      "\n",
      "*** Feature extraction finished ***\n",
      "Features extracted and saved to D:\\Parkinson's\\Features_Extraction_15mins\\3528\\3528_01092019_TSFEL_output.csv\n",
      "*** Feature extraction started ***\n"
     ]
    },
    {
     "data": {
      "text/html": [
       "\n",
       "              <p>\n",
       "                  Progress: 100% Complete\n",
       "              <p/>\n",
       "              <progress\n",
       "                  value='31'\n",
       "                  max='31',\n",
       "                  style='width: 25%',\n",
       "              >\n",
       "                  31\n",
       "              </progress>\n",
       "\n",
       "    "
      ],
      "text/plain": [
       "<IPython.core.display.HTML object>"
      ]
     },
     "metadata": {},
     "output_type": "display_data"
    },
    {
     "name": "stdout",
     "output_type": "stream",
     "text": [
      "\n",
      "*** Feature extraction finished ***\n",
      "Features extracted and saved to D:\\Parkinson's\\Features_Extraction_15mins\\3532\\3532_03042019_TSFEL_output.csv\n",
      "*** Feature extraction started ***\n"
     ]
    },
    {
     "data": {
      "text/html": [
       "\n",
       "              <p>\n",
       "                  Progress: 100% Complete\n",
       "              <p/>\n",
       "              <progress\n",
       "                  value='31'\n",
       "                  max='31',\n",
       "                  style='width: 25%',\n",
       "              >\n",
       "                  31\n",
       "              </progress>\n",
       "\n",
       "    "
      ],
      "text/plain": [
       "<IPython.core.display.HTML object>"
      ]
     },
     "metadata": {},
     "output_type": "display_data"
    },
    {
     "name": "stdout",
     "output_type": "stream",
     "text": [
      "\n",
      "*** Feature extraction finished ***\n",
      "Features extracted and saved to D:\\Parkinson's\\Features_Extraction_15mins\\3540\\3540_10012019_TSFEL_output.csv\n",
      "*** Feature extraction started ***\n"
     ]
    },
    {
     "data": {
      "text/html": [
       "\n",
       "              <p>\n",
       "                  Progress: 100% Complete\n",
       "              <p/>\n",
       "              <progress\n",
       "                  value='31'\n",
       "                  max='31',\n",
       "                  style='width: 25%',\n",
       "              >\n",
       "                  31\n",
       "              </progress>\n",
       "\n",
       "    "
      ],
      "text/plain": [
       "<IPython.core.display.HTML object>"
      ]
     },
     "metadata": {},
     "output_type": "display_data"
    },
    {
     "name": "stdout",
     "output_type": "stream",
     "text": [
      "\n",
      "*** Feature extraction finished ***\n",
      "Features extracted and saved to D:\\Parkinson's\\Features_Extraction_15mins\\3565\\3565_07122019_TSFEL_output.csv\n",
      "*** Feature extraction started ***\n"
     ]
    },
    {
     "data": {
      "text/html": [
       "\n",
       "              <p>\n",
       "                  Progress: 100% Complete\n",
       "              <p/>\n",
       "              <progress\n",
       "                  value='31'\n",
       "                  max='31',\n",
       "                  style='width: 25%',\n",
       "              >\n",
       "                  31\n",
       "              </progress>\n",
       "\n",
       "    "
      ],
      "text/plain": [
       "<IPython.core.display.HTML object>"
      ]
     },
     "metadata": {},
     "output_type": "display_data"
    },
    {
     "name": "stdout",
     "output_type": "stream",
     "text": [
      "\n",
      "*** Feature extraction finished ***\n",
      "Features extracted and saved to D:\\Parkinson's\\Features_Extraction_15mins\\3567\\3567_07102019_TSFEL_output.csv\n",
      "*** Feature extraction started ***\n"
     ]
    },
    {
     "data": {
      "text/html": [
       "\n",
       "              <p>\n",
       "                  Progress: 100% Complete\n",
       "              <p/>\n",
       "              <progress\n",
       "                  value='31'\n",
       "                  max='31',\n",
       "                  style='width: 25%',\n",
       "              >\n",
       "                  31\n",
       "              </progress>\n",
       "\n",
       "    "
      ],
      "text/plain": [
       "<IPython.core.display.HTML object>"
      ]
     },
     "metadata": {},
     "output_type": "display_data"
    },
    {
     "name": "stdout",
     "output_type": "stream",
     "text": [
      "\n",
      "*** Feature extraction finished ***\n",
      "Features extracted and saved to D:\\Parkinson's\\Features_Extraction_15mins\\3570\\3570_07012019_TSFEL_output.csv\n",
      "*** Feature extraction started ***\n"
     ]
    },
    {
     "data": {
      "text/html": [
       "\n",
       "              <p>\n",
       "                  Progress: 100% Complete\n",
       "              <p/>\n",
       "              <progress\n",
       "                  value='20'\n",
       "                  max='20',\n",
       "                  style='width: 25%',\n",
       "              >\n",
       "                  20\n",
       "              </progress>\n",
       "\n",
       "    "
      ],
      "text/plain": [
       "<IPython.core.display.HTML object>"
      ]
     },
     "metadata": {},
     "output_type": "display_data"
    },
    {
     "name": "stdout",
     "output_type": "stream",
     "text": [
      "\n",
      "*** Feature extraction finished ***\n",
      "Features extracted and saved to D:\\Parkinson's\\Features_Extraction_15mins\\3572\\3572_08262019_TSFEL_output.csv\n",
      "*** Feature extraction started ***\n"
     ]
    },
    {
     "data": {
      "text/html": [
       "\n",
       "              <p>\n",
       "                  Progress: 100% Complete\n",
       "              <p/>\n",
       "              <progress\n",
       "                  value='3'\n",
       "                  max='3',\n",
       "                  style='width: 25%',\n",
       "              >\n",
       "                  3\n",
       "              </progress>\n",
       "\n",
       "    "
      ],
      "text/plain": [
       "<IPython.core.display.HTML object>"
      ]
     },
     "metadata": {},
     "output_type": "display_data"
    },
    {
     "name": "stdout",
     "output_type": "stream",
     "text": [
      "\n",
      "*** Feature extraction finished ***\n",
      "Features extracted and saved to D:\\Parkinson's\\Features_Extraction_15mins\\3577\\3577_12092019_TSFEL_output.csv\n",
      "*** Feature extraction started ***\n"
     ]
    },
    {
     "data": {
      "text/html": [
       "\n",
       "              <p>\n",
       "                  Progress: 100% Complete\n",
       "              <p/>\n",
       "              <progress\n",
       "                  value='31'\n",
       "                  max='31',\n",
       "                  style='width: 25%',\n",
       "              >\n",
       "                  31\n",
       "              </progress>\n",
       "\n",
       "    "
      ],
      "text/plain": [
       "<IPython.core.display.HTML object>"
      ]
     },
     "metadata": {},
     "output_type": "display_data"
    },
    {
     "name": "stdout",
     "output_type": "stream",
     "text": [
      "\n",
      "*** Feature extraction finished ***\n",
      "Features extracted and saved to D:\\Parkinson's\\Features_Extraction_15mins\\3585\\3585_07292019_TSFEL_output.csv\n",
      "*** Feature extraction started ***\n"
     ]
    },
    {
     "data": {
      "text/html": [
       "\n",
       "              <p>\n",
       "                  Progress: 100% Complete\n",
       "              <p/>\n",
       "              <progress\n",
       "                  value='24'\n",
       "                  max='24',\n",
       "                  style='width: 25%',\n",
       "              >\n",
       "                  24\n",
       "              </progress>\n",
       "\n",
       "    "
      ],
      "text/plain": [
       "<IPython.core.display.HTML object>"
      ]
     },
     "metadata": {},
     "output_type": "display_data"
    },
    {
     "name": "stdout",
     "output_type": "stream",
     "text": [
      "\n",
      "*** Feature extraction finished ***\n",
      "Features extracted and saved to D:\\Parkinson's\\Features_Extraction_15mins\\3586\\3586_07082019_TSFEL_output.csv\n",
      "*** Feature extraction started ***\n"
     ]
    },
    {
     "data": {
      "text/html": [
       "\n",
       "              <p>\n",
       "                  Progress: 100% Complete\n",
       "              <p/>\n",
       "              <progress\n",
       "                  value='18'\n",
       "                  max='18',\n",
       "                  style='width: 25%',\n",
       "              >\n",
       "                  18\n",
       "              </progress>\n",
       "\n",
       "    "
      ],
      "text/plain": [
       "<IPython.core.display.HTML object>"
      ]
     },
     "metadata": {},
     "output_type": "display_data"
    },
    {
     "name": "stdout",
     "output_type": "stream",
     "text": [
      "\n",
      "*** Feature extraction finished ***\n",
      "Features extracted and saved to D:\\Parkinson's\\Features_Extraction_15mins\\3619\\3619_11142019_TSFEL_output.csv\n",
      "*** Feature extraction started ***\n"
     ]
    },
    {
     "data": {
      "text/html": [
       "\n",
       "              <p>\n",
       "                  Progress: 100% Complete\n",
       "              <p/>\n",
       "              <progress\n",
       "                  value='30'\n",
       "                  max='30',\n",
       "                  style='width: 25%',\n",
       "              >\n",
       "                  30\n",
       "              </progress>\n",
       "\n",
       "    "
      ],
      "text/plain": [
       "<IPython.core.display.HTML object>"
      ]
     },
     "metadata": {},
     "output_type": "display_data"
    },
    {
     "name": "stdout",
     "output_type": "stream",
     "text": [
      "\n",
      "*** Feature extraction finished ***\n",
      "Features extracted and saved to D:\\Parkinson's\\Features_Extraction_15mins\\3654\\3654_04222019_TSFEL_output.csv\n",
      "*** Feature extraction started ***\n"
     ]
    },
    {
     "data": {
      "text/html": [
       "\n",
       "              <p>\n",
       "                  Progress: 100% Complete\n",
       "              <p/>\n",
       "              <progress\n",
       "                  value='28'\n",
       "                  max='28',\n",
       "                  style='width: 25%',\n",
       "              >\n",
       "                  28\n",
       "              </progress>\n",
       "\n",
       "    "
      ],
      "text/plain": [
       "<IPython.core.display.HTML object>"
      ]
     },
     "metadata": {},
     "output_type": "display_data"
    },
    {
     "name": "stdout",
     "output_type": "stream",
     "text": [
      "\n",
      "*** Feature extraction finished ***\n",
      "Features extracted and saved to D:\\Parkinson's\\Features_Extraction_15mins\\3666\\3666_04022019_TSFEL_output.csv\n",
      "*** Feature extraction started ***\n"
     ]
    },
    {
     "data": {
      "text/html": [
       "\n",
       "              <p>\n",
       "                  Progress: 100% Complete\n",
       "              <p/>\n",
       "              <progress\n",
       "                  value='27'\n",
       "                  max='27',\n",
       "                  style='width: 25%',\n",
       "              >\n",
       "                  27\n",
       "              </progress>\n",
       "\n",
       "    "
      ],
      "text/plain": [
       "<IPython.core.display.HTML object>"
      ]
     },
     "metadata": {},
     "output_type": "display_data"
    },
    {
     "name": "stdout",
     "output_type": "stream",
     "text": [
      "\n",
      "*** Feature extraction finished ***\n",
      "Features extracted and saved to D:\\Parkinson's\\Features_Extraction_15mins\\3959\\3959_10042019_TSFEL_output.csv\n",
      "*** Feature extraction started ***\n"
     ]
    },
    {
     "data": {
      "text/html": [
       "\n",
       "              <p>\n",
       "                  Progress: 100% Complete\n",
       "              <p/>\n",
       "              <progress\n",
       "                  value='31'\n",
       "                  max='31',\n",
       "                  style='width: 25%',\n",
       "              >\n",
       "                  31\n",
       "              </progress>\n",
       "\n",
       "    "
      ],
      "text/plain": [
       "<IPython.core.display.HTML object>"
      ]
     },
     "metadata": {},
     "output_type": "display_data"
    },
    {
     "name": "stdout",
     "output_type": "stream",
     "text": [
      "\n",
      "*** Feature extraction finished ***\n",
      "Features extracted and saved to D:\\Parkinson's\\Features_Extraction_15mins\\3960\\3960_12022019_TSFEL_output.csv\n",
      "*** Feature extraction started ***\n"
     ]
    },
    {
     "data": {
      "text/html": [
       "\n",
       "              <p>\n",
       "                  Progress: 100% Complete\n",
       "              <p/>\n",
       "              <progress\n",
       "                  value='26'\n",
       "                  max='26',\n",
       "                  style='width: 25%',\n",
       "              >\n",
       "                  26\n",
       "              </progress>\n",
       "\n",
       "    "
      ],
      "text/plain": [
       "<IPython.core.display.HTML object>"
      ]
     },
     "metadata": {},
     "output_type": "display_data"
    },
    {
     "name": "stdout",
     "output_type": "stream",
     "text": [
      "\n",
      "*** Feature extraction finished ***\n",
      "Features extracted and saved to D:\\Parkinson's\\Features_Extraction_15mins\\3966\\3966_03082019_TSFEL_output.csv\n",
      "*** Feature extraction started ***\n"
     ]
    },
    {
     "data": {
      "text/html": [
       "\n",
       "              <p>\n",
       "                  Progress: 100% Complete\n",
       "              <p/>\n",
       "              <progress\n",
       "                  value='24'\n",
       "                  max='24',\n",
       "                  style='width: 25%',\n",
       "              >\n",
       "                  24\n",
       "              </progress>\n",
       "\n",
       "    "
      ],
      "text/plain": [
       "<IPython.core.display.HTML object>"
      ]
     },
     "metadata": {},
     "output_type": "display_data"
    },
    {
     "name": "stdout",
     "output_type": "stream",
     "text": [
      "\n",
      "*** Feature extraction finished ***\n",
      "Features extracted and saved to D:\\Parkinson's\\Features_Extraction_15mins\\3969\\3969_03062019_TSFEL_output.csv\n",
      "*** Feature extraction started ***\n"
     ]
    },
    {
     "data": {
      "text/html": [
       "\n",
       "              <p>\n",
       "                  Progress: 100% Complete\n",
       "              <p/>\n",
       "              <progress\n",
       "                  value='31'\n",
       "                  max='31',\n",
       "                  style='width: 25%',\n",
       "              >\n",
       "                  31\n",
       "              </progress>\n",
       "\n",
       "    "
      ],
      "text/plain": [
       "<IPython.core.display.HTML object>"
      ]
     },
     "metadata": {},
     "output_type": "display_data"
    },
    {
     "name": "stdout",
     "output_type": "stream",
     "text": [
      "\n",
      "*** Feature extraction finished ***\n",
      "Features extracted and saved to D:\\Parkinson's\\Features_Extraction_15mins\\40067\\40067_12012019_TSFEL_output.csv\n",
      "*** Feature extraction started ***\n"
     ]
    },
    {
     "data": {
      "text/html": [
       "\n",
       "              <p>\n",
       "                  Progress: 100% Complete\n",
       "              <p/>\n",
       "              <progress\n",
       "                  value='31'\n",
       "                  max='31',\n",
       "                  style='width: 25%',\n",
       "              >\n",
       "                  31\n",
       "              </progress>\n",
       "\n",
       "    "
      ],
      "text/plain": [
       "<IPython.core.display.HTML object>"
      ]
     },
     "metadata": {},
     "output_type": "display_data"
    },
    {
     "name": "stdout",
     "output_type": "stream",
     "text": [
      "\n",
      "*** Feature extraction finished ***\n",
      "Features extracted and saved to D:\\Parkinson's\\Features_Extraction_15mins\\4051\\4051_05032019_TSFEL_output.csv\n",
      "*** Feature extraction started ***\n"
     ]
    },
    {
     "data": {
      "text/html": [
       "\n",
       "              <p>\n",
       "                  Progress: 100% Complete\n",
       "              <p/>\n",
       "              <progress\n",
       "                  value='9'\n",
       "                  max='9',\n",
       "                  style='width: 25%',\n",
       "              >\n",
       "                  9\n",
       "              </progress>\n",
       "\n",
       "    "
      ],
      "text/plain": [
       "<IPython.core.display.HTML object>"
      ]
     },
     "metadata": {},
     "output_type": "display_data"
    },
    {
     "name": "stdout",
     "output_type": "stream",
     "text": [
      "\n",
      "*** Feature extraction finished ***\n",
      "Features extracted and saved to D:\\Parkinson's\\Features_Extraction_15mins\\4052\\4052_07102019_TSFEL_output.csv\n",
      "*** Feature extraction started ***\n"
     ]
    },
    {
     "data": {
      "text/html": [
       "\n",
       "              <p>\n",
       "                  Progress: 100% Complete\n",
       "              <p/>\n",
       "              <progress\n",
       "                  value='31'\n",
       "                  max='31',\n",
       "                  style='width: 25%',\n",
       "              >\n",
       "                  31\n",
       "              </progress>\n",
       "\n",
       "    "
      ],
      "text/plain": [
       "<IPython.core.display.HTML object>"
      ]
     },
     "metadata": {},
     "output_type": "display_data"
    },
    {
     "name": "stdout",
     "output_type": "stream",
     "text": [
      "\n",
      "*** Feature extraction finished ***\n",
      "Features extracted and saved to D:\\Parkinson's\\Features_Extraction_15mins\\4054\\4054_06072019_TSFEL_output.csv\n",
      "*** Feature extraction started ***\n"
     ]
    },
    {
     "data": {
      "text/html": [
       "\n",
       "              <p>\n",
       "                  Progress: 100% Complete\n",
       "              <p/>\n",
       "              <progress\n",
       "                  value='31'\n",
       "                  max='31',\n",
       "                  style='width: 25%',\n",
       "              >\n",
       "                  31\n",
       "              </progress>\n",
       "\n",
       "    "
      ],
      "text/plain": [
       "<IPython.core.display.HTML object>"
      ]
     },
     "metadata": {},
     "output_type": "display_data"
    },
    {
     "name": "stdout",
     "output_type": "stream",
     "text": [
      "\n",
      "*** Feature extraction finished ***\n",
      "Features extracted and saved to D:\\Parkinson's\\Features_Extraction_15mins\\4055\\4055_07012019_TSFEL_output.csv\n",
      "*** Feature extraction started ***\n"
     ]
    },
    {
     "data": {
      "text/html": [
       "\n",
       "              <p>\n",
       "                  Progress: 100% Complete\n",
       "              <p/>\n",
       "              <progress\n",
       "                  value='31'\n",
       "                  max='31',\n",
       "                  style='width: 25%',\n",
       "              >\n",
       "                  31\n",
       "              </progress>\n",
       "\n",
       "    "
      ],
      "text/plain": [
       "<IPython.core.display.HTML object>"
      ]
     },
     "metadata": {},
     "output_type": "display_data"
    },
    {
     "name": "stdout",
     "output_type": "stream",
     "text": [
      "\n",
      "*** Feature extraction finished ***\n",
      "Features extracted and saved to D:\\Parkinson's\\Features_Extraction_15mins\\4056\\4056_07012019_TSFEL_output.csv\n",
      "*** Feature extraction started ***\n"
     ]
    },
    {
     "data": {
      "text/html": [
       "\n",
       "              <p>\n",
       "                  Progress: 100% Complete\n",
       "              <p/>\n",
       "              <progress\n",
       "                  value='31'\n",
       "                  max='31',\n",
       "                  style='width: 25%',\n",
       "              >\n",
       "                  31\n",
       "              </progress>\n",
       "\n",
       "    "
      ],
      "text/plain": [
       "<IPython.core.display.HTML object>"
      ]
     },
     "metadata": {},
     "output_type": "display_data"
    },
    {
     "name": "stdout",
     "output_type": "stream",
     "text": [
      "\n",
      "*** Feature extraction finished ***\n",
      "Features extracted and saved to D:\\Parkinson's\\Features_Extraction_15mins\\4057\\4057_07012019_TSFEL_output.csv\n",
      "Skipping D:\\Parkinson's\\Filtered_Data_9_to_5_updated\\Filtered_Data_9_to_5_updated\\4059_08092019_filtered.csv due to insufficient data for a 15-minute window.\n",
      "*** Feature extraction started ***\n"
     ]
    },
    {
     "data": {
      "text/html": [
       "\n",
       "              <p>\n",
       "                  Progress: 100% Complete\n",
       "              <p/>\n",
       "              <progress\n",
       "                  value='31'\n",
       "                  max='31',\n",
       "                  style='width: 25%',\n",
       "              >\n",
       "                  31\n",
       "              </progress>\n",
       "\n",
       "    "
      ],
      "text/plain": [
       "<IPython.core.display.HTML object>"
      ]
     },
     "metadata": {},
     "output_type": "display_data"
    },
    {
     "name": "stdout",
     "output_type": "stream",
     "text": [
      "\n",
      "*** Feature extraction finished ***\n",
      "Features extracted and saved to D:\\Parkinson's\\Features_Extraction_15mins\\4071\\4071_08012019_TSFEL_output.csv\n",
      "*** Feature extraction started ***\n"
     ]
    },
    {
     "data": {
      "text/html": [
       "\n",
       "              <p>\n",
       "                  Progress: 100% Complete\n",
       "              <p/>\n",
       "              <progress\n",
       "                  value='31'\n",
       "                  max='31',\n",
       "                  style='width: 25%',\n",
       "              >\n",
       "                  31\n",
       "              </progress>\n",
       "\n",
       "    "
      ],
      "text/plain": [
       "<IPython.core.display.HTML object>"
      ]
     },
     "metadata": {},
     "output_type": "display_data"
    },
    {
     "name": "stdout",
     "output_type": "stream",
     "text": [
      "\n",
      "*** Feature extraction finished ***\n",
      "Features extracted and saved to D:\\Parkinson's\\Features_Extraction_15mins\\4073\\4073_09162019_TSFEL_output.csv\n",
      "*** Feature extraction started ***\n"
     ]
    },
    {
     "data": {
      "text/html": [
       "\n",
       "              <p>\n",
       "                  Progress: 100% Complete\n",
       "              <p/>\n",
       "              <progress\n",
       "                  value='31'\n",
       "                  max='31',\n",
       "                  style='width: 25%',\n",
       "              >\n",
       "                  31\n",
       "              </progress>\n",
       "\n",
       "    "
      ],
      "text/plain": [
       "<IPython.core.display.HTML object>"
      ]
     },
     "metadata": {},
     "output_type": "display_data"
    },
    {
     "name": "stdout",
     "output_type": "stream",
     "text": [
      "\n",
      "*** Feature extraction finished ***\n",
      "Features extracted and saved to D:\\Parkinson's\\Features_Extraction_15mins\\4074\\4074_10022019_TSFEL_output.csv\n",
      "*** Feature extraction started ***\n"
     ]
    },
    {
     "data": {
      "text/html": [
       "\n",
       "              <p>\n",
       "                  Progress: 100% Complete\n",
       "              <p/>\n",
       "              <progress\n",
       "                  value='31'\n",
       "                  max='31',\n",
       "                  style='width: 25%',\n",
       "              >\n",
       "                  31\n",
       "              </progress>\n",
       "\n",
       "    "
      ],
      "text/plain": [
       "<IPython.core.display.HTML object>"
      ]
     },
     "metadata": {},
     "output_type": "display_data"
    },
    {
     "name": "stdout",
     "output_type": "stream",
     "text": [
      "\n",
      "*** Feature extraction finished ***\n",
      "Features extracted and saved to D:\\Parkinson's\\Features_Extraction_15mins\\4091\\4091_08012019_TSFEL_output.csv\n",
      "*** Feature extraction started ***\n"
     ]
    },
    {
     "data": {
      "text/html": [
       "\n",
       "              <p>\n",
       "                  Progress: 100% Complete\n",
       "              <p/>\n",
       "              <progress\n",
       "                  value='31'\n",
       "                  max='31',\n",
       "                  style='width: 25%',\n",
       "              >\n",
       "                  31\n",
       "              </progress>\n",
       "\n",
       "    "
      ],
      "text/plain": [
       "<IPython.core.display.HTML object>"
      ]
     },
     "metadata": {},
     "output_type": "display_data"
    },
    {
     "name": "stdout",
     "output_type": "stream",
     "text": [
      "\n",
      "*** Feature extraction finished ***\n",
      "Features extracted and saved to D:\\Parkinson's\\Features_Extraction_15mins\\4096\\4096_09092019_TSFEL_output.csv\n",
      "*** Feature extraction started ***\n"
     ]
    },
    {
     "data": {
      "text/html": [
       "\n",
       "              <p>\n",
       "                  Progress: 100% Complete\n",
       "              <p/>\n",
       "              <progress\n",
       "                  value='31'\n",
       "                  max='31',\n",
       "                  style='width: 25%',\n",
       "              >\n",
       "                  31\n",
       "              </progress>\n",
       "\n",
       "    "
      ],
      "text/plain": [
       "<IPython.core.display.HTML object>"
      ]
     },
     "metadata": {},
     "output_type": "display_data"
    },
    {
     "name": "stdout",
     "output_type": "stream",
     "text": [
      "\n",
      "*** Feature extraction finished ***\n",
      "Features extracted and saved to D:\\Parkinson's\\Features_Extraction_15mins\\4098\\4098_11012019_TSFEL_output.csv\n",
      "*** Feature extraction started ***\n"
     ]
    },
    {
     "data": {
      "text/html": [
       "\n",
       "              <p>\n",
       "                  Progress: 100% Complete\n",
       "              <p/>\n",
       "              <progress\n",
       "                  value='31'\n",
       "                  max='31',\n",
       "                  style='width: 25%',\n",
       "              >\n",
       "                  31\n",
       "              </progress>\n",
       "\n",
       "    "
      ],
      "text/plain": [
       "<IPython.core.display.HTML object>"
      ]
     },
     "metadata": {},
     "output_type": "display_data"
    },
    {
     "name": "stdout",
     "output_type": "stream",
     "text": [
      "\n",
      "*** Feature extraction finished ***\n",
      "Features extracted and saved to D:\\Parkinson's\\Features_Extraction_15mins\\4099\\4099_12022019_TSFEL_output.csv\n",
      "*** Feature extraction started ***\n"
     ]
    },
    {
     "data": {
      "text/html": [
       "\n",
       "              <p>\n",
       "                  Progress: 100% Complete\n",
       "              <p/>\n",
       "              <progress\n",
       "                  value='31'\n",
       "                  max='31',\n",
       "                  style='width: 25%',\n",
       "              >\n",
       "                  31\n",
       "              </progress>\n",
       "\n",
       "    "
      ],
      "text/plain": [
       "<IPython.core.display.HTML object>"
      ]
     },
     "metadata": {},
     "output_type": "display_data"
    },
    {
     "name": "stdout",
     "output_type": "stream",
     "text": [
      "\n",
      "*** Feature extraction finished ***\n",
      "Features extracted and saved to D:\\Parkinson's\\Features_Extraction_15mins\\4101\\4101_11012019_TSFEL_output.csv\n",
      "*** Feature extraction started ***\n"
     ]
    },
    {
     "data": {
      "text/html": [
       "\n",
       "              <p>\n",
       "                  Progress: 100% Complete\n",
       "              <p/>\n",
       "              <progress\n",
       "                  value='31'\n",
       "                  max='31',\n",
       "                  style='width: 25%',\n",
       "              >\n",
       "                  31\n",
       "              </progress>\n",
       "\n",
       "    "
      ],
      "text/plain": [
       "<IPython.core.display.HTML object>"
      ]
     },
     "metadata": {},
     "output_type": "display_data"
    },
    {
     "name": "stdout",
     "output_type": "stream",
     "text": [
      "\n",
      "*** Feature extraction finished ***\n",
      "Features extracted and saved to D:\\Parkinson's\\Features_Extraction_15mins\\4102\\4102_12012019_TSFEL_output.csv\n",
      "*** Feature extraction started ***\n"
     ]
    },
    {
     "data": {
      "text/html": [
       "\n",
       "              <p>\n",
       "                  Progress: 100% Complete\n",
       "              <p/>\n",
       "              <progress\n",
       "                  value='31'\n",
       "                  max='31',\n",
       "                  style='width: 25%',\n",
       "              >\n",
       "                  31\n",
       "              </progress>\n",
       "\n",
       "    "
      ],
      "text/plain": [
       "<IPython.core.display.HTML object>"
      ]
     },
     "metadata": {},
     "output_type": "display_data"
    },
    {
     "name": "stdout",
     "output_type": "stream",
     "text": [
      "\n",
      "*** Feature extraction finished ***\n",
      "Features extracted and saved to D:\\Parkinson's\\Features_Extraction_15mins\\4104\\4104_01252019_TSFEL_output.csv\n",
      "*** Feature extraction started ***\n"
     ]
    },
    {
     "data": {
      "text/html": [
       "\n",
       "              <p>\n",
       "                  Progress: 100% Complete\n",
       "              <p/>\n",
       "              <progress\n",
       "                  value='31'\n",
       "                  max='31',\n",
       "                  style='width: 25%',\n",
       "              >\n",
       "                  31\n",
       "              </progress>\n",
       "\n",
       "    "
      ],
      "text/plain": [
       "<IPython.core.display.HTML object>"
      ]
     },
     "metadata": {},
     "output_type": "display_data"
    },
    {
     "name": "stdout",
     "output_type": "stream",
     "text": [
      "\n",
      "*** Feature extraction finished ***\n",
      "Features extracted and saved to D:\\Parkinson's\\Features_Extraction_15mins\\4106\\4106_01152019_TSFEL_output.csv\n",
      "*** Feature extraction started ***\n"
     ]
    },
    {
     "data": {
      "text/html": [
       "\n",
       "              <p>\n",
       "                  Progress: 100% Complete\n",
       "              <p/>\n",
       "              <progress\n",
       "                  value='31'\n",
       "                  max='31',\n",
       "                  style='width: 25%',\n",
       "              >\n",
       "                  31\n",
       "              </progress>\n",
       "\n",
       "    "
      ],
      "text/plain": [
       "<IPython.core.display.HTML object>"
      ]
     },
     "metadata": {},
     "output_type": "display_data"
    },
    {
     "name": "stdout",
     "output_type": "stream",
     "text": [
      "\n",
      "*** Feature extraction finished ***\n",
      "Features extracted and saved to D:\\Parkinson's\\Features_Extraction_15mins\\4108\\4108_01282019_TSFEL_output.csv\n",
      "*** Feature extraction started ***\n"
     ]
    },
    {
     "data": {
      "text/html": [
       "\n",
       "              <p>\n",
       "                  Progress: 100% Complete\n",
       "              <p/>\n",
       "              <progress\n",
       "                  value='31'\n",
       "                  max='31',\n",
       "                  style='width: 25%',\n",
       "              >\n",
       "                  31\n",
       "              </progress>\n",
       "\n",
       "    "
      ],
      "text/plain": [
       "<IPython.core.display.HTML object>"
      ]
     },
     "metadata": {},
     "output_type": "display_data"
    },
    {
     "name": "stdout",
     "output_type": "stream",
     "text": [
      "\n",
      "*** Feature extraction finished ***\n",
      "Features extracted and saved to D:\\Parkinson's\\Features_Extraction_15mins\\4111\\4111_02082019_TSFEL_output.csv\n",
      "*** Feature extraction started ***\n"
     ]
    },
    {
     "data": {
      "text/html": [
       "\n",
       "              <p>\n",
       "                  Progress: 100% Complete\n",
       "              <p/>\n",
       "              <progress\n",
       "                  value='31'\n",
       "                  max='31',\n",
       "                  style='width: 25%',\n",
       "              >\n",
       "                  31\n",
       "              </progress>\n",
       "\n",
       "    "
      ],
      "text/plain": [
       "<IPython.core.display.HTML object>"
      ]
     },
     "metadata": {},
     "output_type": "display_data"
    },
    {
     "name": "stdout",
     "output_type": "stream",
     "text": [
      "\n",
      "*** Feature extraction finished ***\n",
      "Features extracted and saved to D:\\Parkinson's\\Features_Extraction_15mins\\4115\\4115_03262019_TSFEL_output.csv\n",
      "*** Feature extraction started ***\n"
     ]
    },
    {
     "data": {
      "text/html": [
       "\n",
       "              <p>\n",
       "                  Progress: 100% Complete\n",
       "              <p/>\n",
       "              <progress\n",
       "                  value='31'\n",
       "                  max='31',\n",
       "                  style='width: 25%',\n",
       "              >\n",
       "                  31\n",
       "              </progress>\n",
       "\n",
       "    "
      ],
      "text/plain": [
       "<IPython.core.display.HTML object>"
      ]
     },
     "metadata": {},
     "output_type": "display_data"
    },
    {
     "name": "stdout",
     "output_type": "stream",
     "text": [
      "\n",
      "*** Feature extraction finished ***\n",
      "Features extracted and saved to D:\\Parkinson's\\Features_Extraction_15mins\\4117\\4117_05102019_TSFEL_output.csv\n",
      "*** Feature extraction started ***\n"
     ]
    },
    {
     "data": {
      "text/html": [
       "\n",
       "              <p>\n",
       "                  Progress: 100% Complete\n",
       "              <p/>\n",
       "              <progress\n",
       "                  value='31'\n",
       "                  max='31',\n",
       "                  style='width: 25%',\n",
       "              >\n",
       "                  31\n",
       "              </progress>\n",
       "\n",
       "    "
      ],
      "text/plain": [
       "<IPython.core.display.HTML object>"
      ]
     },
     "metadata": {},
     "output_type": "display_data"
    },
    {
     "name": "stdout",
     "output_type": "stream",
     "text": [
      "\n",
      "*** Feature extraction finished ***\n",
      "Features extracted and saved to D:\\Parkinson's\\Features_Extraction_15mins\\41184\\41184_04012019_TSFEL_output.csv\n",
      "*** Feature extraction started ***\n"
     ]
    },
    {
     "data": {
      "text/html": [
       "\n",
       "              <p>\n",
       "                  Progress: 100% Complete\n",
       "              <p/>\n",
       "              <progress\n",
       "                  value='31'\n",
       "                  max='31',\n",
       "                  style='width: 25%',\n",
       "              >\n",
       "                  31\n",
       "              </progress>\n",
       "\n",
       "    "
      ],
      "text/plain": [
       "<IPython.core.display.HTML object>"
      ]
     },
     "metadata": {},
     "output_type": "display_data"
    },
    {
     "name": "stdout",
     "output_type": "stream",
     "text": [
      "\n",
      "*** Feature extraction finished ***\n",
      "Features extracted and saved to D:\\Parkinson's\\Features_Extraction_15mins\\41749\\41749_07012019_TSFEL_output.csv\n",
      "*** Feature extraction started ***\n"
     ]
    },
    {
     "data": {
      "text/html": [
       "\n",
       "              <p>\n",
       "                  Progress: 100% Complete\n",
       "              <p/>\n",
       "              <progress\n",
       "                  value='31'\n",
       "                  max='31',\n",
       "                  style='width: 25%',\n",
       "              >\n",
       "                  31\n",
       "              </progress>\n",
       "\n",
       "    "
      ],
      "text/plain": [
       "<IPython.core.display.HTML object>"
      ]
     },
     "metadata": {},
     "output_type": "display_data"
    },
    {
     "name": "stdout",
     "output_type": "stream",
     "text": [
      "\n",
      "*** Feature extraction finished ***\n",
      "Features extracted and saved to D:\\Parkinson's\\Features_Extraction_15mins\\42724\\42724_01222019_TSFEL_output.csv\n",
      "*** Feature extraction started ***\n"
     ]
    },
    {
     "data": {
      "text/html": [
       "\n",
       "              <p>\n",
       "                  Progress: 100% Complete\n",
       "              <p/>\n",
       "              <progress\n",
       "                  value='31'\n",
       "                  max='31',\n",
       "                  style='width: 25%',\n",
       "              >\n",
       "                  31\n",
       "              </progress>\n",
       "\n",
       "    "
      ],
      "text/plain": [
       "<IPython.core.display.HTML object>"
      ]
     },
     "metadata": {},
     "output_type": "display_data"
    },
    {
     "name": "stdout",
     "output_type": "stream",
     "text": [
      "\n",
      "*** Feature extraction finished ***\n",
      "Features extracted and saved to D:\\Parkinson's\\Features_Extraction_15mins\\50009\\50009_04022019_TSFEL_output.csv\n",
      "*** Feature extraction started ***\n"
     ]
    },
    {
     "data": {
      "text/html": [
       "\n",
       "              <p>\n",
       "                  Progress: 100% Complete\n",
       "              <p/>\n",
       "              <progress\n",
       "                  value='31'\n",
       "                  max='31',\n",
       "                  style='width: 25%',\n",
       "              >\n",
       "                  31\n",
       "              </progress>\n",
       "\n",
       "    "
      ],
      "text/plain": [
       "<IPython.core.display.HTML object>"
      ]
     },
     "metadata": {},
     "output_type": "display_data"
    },
    {
     "name": "stdout",
     "output_type": "stream",
     "text": [
      "\n",
      "*** Feature extraction finished ***\n",
      "Features extracted and saved to D:\\Parkinson's\\Features_Extraction_15mins\\50192\\50192_06012019_TSFEL_output.csv\n",
      "*** Feature extraction started ***\n"
     ]
    },
    {
     "data": {
      "text/html": [
       "\n",
       "              <p>\n",
       "                  Progress: 100% Complete\n",
       "              <p/>\n",
       "              <progress\n",
       "                  value='22'\n",
       "                  max='22',\n",
       "                  style='width: 25%',\n",
       "              >\n",
       "                  22\n",
       "              </progress>\n",
       "\n",
       "    "
      ],
      "text/plain": [
       "<IPython.core.display.HTML object>"
      ]
     },
     "metadata": {},
     "output_type": "display_data"
    },
    {
     "name": "stdout",
     "output_type": "stream",
     "text": [
      "\n",
      "*** Feature extraction finished ***\n",
      "Features extracted and saved to D:\\Parkinson's\\Features_Extraction_15mins\\50222\\50222_08192019_TSFEL_output.csv\n",
      "*** Feature extraction started ***\n"
     ]
    },
    {
     "data": {
      "text/html": [
       "\n",
       "              <p>\n",
       "                  Progress: 100% Complete\n",
       "              <p/>\n",
       "              <progress\n",
       "                  value='31'\n",
       "                  max='31',\n",
       "                  style='width: 25%',\n",
       "              >\n",
       "                  31\n",
       "              </progress>\n",
       "\n",
       "    "
      ],
      "text/plain": [
       "<IPython.core.display.HTML object>"
      ]
     },
     "metadata": {},
     "output_type": "display_data"
    },
    {
     "name": "stdout",
     "output_type": "stream",
     "text": [
      "\n",
      "*** Feature extraction finished ***\n",
      "Features extracted and saved to D:\\Parkinson's\\Features_Extraction_15mins\\50225\\50225_08192019_TSFEL_output.csv\n",
      "*** Feature extraction started ***\n"
     ]
    },
    {
     "data": {
      "text/html": [
       "\n",
       "              <p>\n",
       "                  Progress: 100% Complete\n",
       "              <p/>\n",
       "              <progress\n",
       "                  value='31'\n",
       "                  max='31',\n",
       "                  style='width: 25%',\n",
       "              >\n",
       "                  31\n",
       "              </progress>\n",
       "\n",
       "    "
      ],
      "text/plain": [
       "<IPython.core.display.HTML object>"
      ]
     },
     "metadata": {},
     "output_type": "display_data"
    },
    {
     "name": "stdout",
     "output_type": "stream",
     "text": [
      "\n",
      "*** Feature extraction finished ***\n",
      "Features extracted and saved to D:\\Parkinson's\\Features_Extraction_15mins\\50621\\50621_06112019_TSFEL_output.csv\n",
      "*** Feature extraction started ***\n"
     ]
    },
    {
     "data": {
      "text/html": [
       "\n",
       "              <p>\n",
       "                  Progress: 100% Complete\n",
       "              <p/>\n",
       "              <progress\n",
       "                  value='31'\n",
       "                  max='31',\n",
       "                  style='width: 25%',\n",
       "              >\n",
       "                  31\n",
       "              </progress>\n",
       "\n",
       "    "
      ],
      "text/plain": [
       "<IPython.core.display.HTML object>"
      ]
     },
     "metadata": {},
     "output_type": "display_data"
    },
    {
     "name": "stdout",
     "output_type": "stream",
     "text": [
      "\n",
      "*** Feature extraction finished ***\n",
      "Features extracted and saved to D:\\Parkinson's\\Features_Extraction_15mins\\50670\\50670_02132019_TSFEL_output.csv\n",
      "*** Feature extraction started ***\n"
     ]
    },
    {
     "data": {
      "text/html": [
       "\n",
       "              <p>\n",
       "                  Progress: 100% Complete\n",
       "              <p/>\n",
       "              <progress\n",
       "                  value='31'\n",
       "                  max='31',\n",
       "                  style='width: 25%',\n",
       "              >\n",
       "                  31\n",
       "              </progress>\n",
       "\n",
       "    "
      ],
      "text/plain": [
       "<IPython.core.display.HTML object>"
      ]
     },
     "metadata": {},
     "output_type": "display_data"
    },
    {
     "name": "stdout",
     "output_type": "stream",
     "text": [
      "\n",
      "*** Feature extraction finished ***\n",
      "Features extracted and saved to D:\\Parkinson's\\Features_Extraction_15mins\\50860\\50860_11012019_TSFEL_output.csv\n",
      "*** Feature extraction started ***\n"
     ]
    },
    {
     "data": {
      "text/html": [
       "\n",
       "              <p>\n",
       "                  Progress: 100% Complete\n",
       "              <p/>\n",
       "              <progress\n",
       "                  value='31'\n",
       "                  max='31',\n",
       "                  style='width: 25%',\n",
       "              >\n",
       "                  31\n",
       "              </progress>\n",
       "\n",
       "    "
      ],
      "text/plain": [
       "<IPython.core.display.HTML object>"
      ]
     },
     "metadata": {},
     "output_type": "display_data"
    },
    {
     "name": "stdout",
     "output_type": "stream",
     "text": [
      "\n",
      "*** Feature extraction finished ***\n",
      "Features extracted and saved to D:\\Parkinson's\\Features_Extraction_15mins\\50901\\50901_12012019_TSFEL_output.csv\n",
      "*** Feature extraction started ***\n"
     ]
    },
    {
     "data": {
      "text/html": [
       "\n",
       "              <p>\n",
       "                  Progress: 100% Complete\n",
       "              <p/>\n",
       "              <progress\n",
       "                  value='31'\n",
       "                  max='31',\n",
       "                  style='width: 25%',\n",
       "              >\n",
       "                  31\n",
       "              </progress>\n",
       "\n",
       "    "
      ],
      "text/plain": [
       "<IPython.core.display.HTML object>"
      ]
     },
     "metadata": {},
     "output_type": "display_data"
    },
    {
     "name": "stdout",
     "output_type": "stream",
     "text": [
      "\n",
      "*** Feature extraction finished ***\n",
      "Features extracted and saved to D:\\Parkinson's\\Features_Extraction_15mins\\51186\\51186_05162019_TSFEL_output.csv\n",
      "*** Feature extraction started ***\n"
     ]
    },
    {
     "data": {
      "text/html": [
       "\n",
       "              <p>\n",
       "                  Progress: 100% Complete\n",
       "              <p/>\n",
       "              <progress\n",
       "                  value='31'\n",
       "                  max='31',\n",
       "                  style='width: 25%',\n",
       "              >\n",
       "                  31\n",
       "              </progress>\n",
       "\n",
       "    "
      ],
      "text/plain": [
       "<IPython.core.display.HTML object>"
      ]
     },
     "metadata": {},
     "output_type": "display_data"
    },
    {
     "name": "stdout",
     "output_type": "stream",
     "text": [
      "\n",
      "*** Feature extraction finished ***\n",
      "Features extracted and saved to D:\\Parkinson's\\Features_Extraction_15mins\\51252\\51252_07012019_TSFEL_output.csv\n",
      "*** Feature extraction started ***\n"
     ]
    },
    {
     "data": {
      "text/html": [
       "\n",
       "              <p>\n",
       "                  Progress: 100% Complete\n",
       "              <p/>\n",
       "              <progress\n",
       "                  value='31'\n",
       "                  max='31',\n",
       "                  style='width: 25%',\n",
       "              >\n",
       "                  31\n",
       "              </progress>\n",
       "\n",
       "    "
      ],
      "text/plain": [
       "<IPython.core.display.HTML object>"
      ]
     },
     "metadata": {},
     "output_type": "display_data"
    },
    {
     "name": "stdout",
     "output_type": "stream",
     "text": [
      "\n",
      "*** Feature extraction finished ***\n",
      "Features extracted and saved to D:\\Parkinson's\\Features_Extraction_15mins\\51311\\51311_06132019_TSFEL_output.csv\n",
      "*** Feature extraction started ***\n"
     ]
    },
    {
     "data": {
      "text/html": [
       "\n",
       "              <p>\n",
       "                  Progress: 100% Complete\n",
       "              <p/>\n",
       "              <progress\n",
       "                  value='30'\n",
       "                  max='30',\n",
       "                  style='width: 25%',\n",
       "              >\n",
       "                  30\n",
       "              </progress>\n",
       "\n",
       "    "
      ],
      "text/plain": [
       "<IPython.core.display.HTML object>"
      ]
     },
     "metadata": {},
     "output_type": "display_data"
    },
    {
     "name": "stdout",
     "output_type": "stream",
     "text": [
      "\n",
      "*** Feature extraction finished ***\n",
      "Features extracted and saved to D:\\Parkinson's\\Features_Extraction_15mins\\51518\\51518_07222019_TSFEL_output.csv\n",
      "*** Feature extraction started ***\n"
     ]
    },
    {
     "data": {
      "text/html": [
       "\n",
       "              <p>\n",
       "                  Progress: 100% Complete\n",
       "              <p/>\n",
       "              <progress\n",
       "                  value='31'\n",
       "                  max='31',\n",
       "                  style='width: 25%',\n",
       "              >\n",
       "                  31\n",
       "              </progress>\n",
       "\n",
       "    "
      ],
      "text/plain": [
       "<IPython.core.display.HTML object>"
      ]
     },
     "metadata": {},
     "output_type": "display_data"
    },
    {
     "name": "stdout",
     "output_type": "stream",
     "text": [
      "\n",
      "*** Feature extraction finished ***\n",
      "Features extracted and saved to D:\\Parkinson's\\Features_Extraction_15mins\\51540\\51540_10012019_TSFEL_output.csv\n",
      "*** Feature extraction started ***\n"
     ]
    },
    {
     "data": {
      "text/html": [
       "\n",
       "              <p>\n",
       "                  Progress: 100% Complete\n",
       "              <p/>\n",
       "              <progress\n",
       "                  value='20'\n",
       "                  max='20',\n",
       "                  style='width: 25%',\n",
       "              >\n",
       "                  20\n",
       "              </progress>\n",
       "\n",
       "    "
      ],
      "text/plain": [
       "<IPython.core.display.HTML object>"
      ]
     },
     "metadata": {},
     "output_type": "display_data"
    },
    {
     "name": "stdout",
     "output_type": "stream",
     "text": [
      "\n",
      "*** Feature extraction finished ***\n",
      "Features extracted and saved to D:\\Parkinson's\\Features_Extraction_15mins\\51625\\51625_08012019_TSFEL_output.csv\n",
      "*** Feature extraction started ***\n"
     ]
    },
    {
     "data": {
      "text/html": [
       "\n",
       "              <p>\n",
       "                  Progress: 100% Complete\n",
       "              <p/>\n",
       "              <progress\n",
       "                  value='31'\n",
       "                  max='31',\n",
       "                  style='width: 25%',\n",
       "              >\n",
       "                  31\n",
       "              </progress>\n",
       "\n",
       "    "
      ],
      "text/plain": [
       "<IPython.core.display.HTML object>"
      ]
     },
     "metadata": {},
     "output_type": "display_data"
    },
    {
     "name": "stdout",
     "output_type": "stream",
     "text": [
      "\n",
      "*** Feature extraction finished ***\n",
      "Features extracted and saved to D:\\Parkinson's\\Features_Extraction_15mins\\51731\\51731_10092019_TSFEL_output.csv\n",
      "*** Feature extraction started ***\n"
     ]
    },
    {
     "data": {
      "text/html": [
       "\n",
       "              <p>\n",
       "                  Progress: 100% Complete\n",
       "              <p/>\n",
       "              <progress\n",
       "                  value='31'\n",
       "                  max='31',\n",
       "                  style='width: 25%',\n",
       "              >\n",
       "                  31\n",
       "              </progress>\n",
       "\n",
       "    "
      ],
      "text/plain": [
       "<IPython.core.display.HTML object>"
      ]
     },
     "metadata": {},
     "output_type": "display_data"
    },
    {
     "name": "stdout",
     "output_type": "stream",
     "text": [
      "\n",
      "*** Feature extraction finished ***\n",
      "Features extracted and saved to D:\\Parkinson's\\Features_Extraction_15mins\\51867\\51867_09012019_TSFEL_output.csv\n",
      "*** Feature extraction started ***\n"
     ]
    },
    {
     "data": {
      "text/html": [
       "\n",
       "              <p>\n",
       "                  Progress: 100% Complete\n",
       "              <p/>\n",
       "              <progress\n",
       "                  value='31'\n",
       "                  max='31',\n",
       "                  style='width: 25%',\n",
       "              >\n",
       "                  31\n",
       "              </progress>\n",
       "\n",
       "    "
      ],
      "text/plain": [
       "<IPython.core.display.HTML object>"
      ]
     },
     "metadata": {},
     "output_type": "display_data"
    },
    {
     "name": "stdout",
     "output_type": "stream",
     "text": [
      "\n",
      "*** Feature extraction finished ***\n",
      "Features extracted and saved to D:\\Parkinson's\\Features_Extraction_15mins\\51971\\51971_10012019_TSFEL_output.csv\n",
      "*** Feature extraction started ***\n"
     ]
    },
    {
     "data": {
      "text/html": [
       "\n",
       "              <p>\n",
       "                  Progress: 100% Complete\n",
       "              <p/>\n",
       "              <progress\n",
       "                  value='31'\n",
       "                  max='31',\n",
       "                  style='width: 25%',\n",
       "              >\n",
       "                  31\n",
       "              </progress>\n",
       "\n",
       "    "
      ],
      "text/plain": [
       "<IPython.core.display.HTML object>"
      ]
     },
     "metadata": {},
     "output_type": "display_data"
    },
    {
     "name": "stdout",
     "output_type": "stream",
     "text": [
      "\n",
      "*** Feature extraction finished ***\n",
      "Features extracted and saved to D:\\Parkinson's\\Features_Extraction_15mins\\52062\\52062_01032019_TSFEL_output.csv\n",
      "*** Feature extraction started ***\n"
     ]
    },
    {
     "data": {
      "text/html": [
       "\n",
       "              <p>\n",
       "                  Progress: 100% Complete\n",
       "              <p/>\n",
       "              <progress\n",
       "                  value='31'\n",
       "                  max='31',\n",
       "                  style='width: 25%',\n",
       "              >\n",
       "                  31\n",
       "              </progress>\n",
       "\n",
       "    "
      ],
      "text/plain": [
       "<IPython.core.display.HTML object>"
      ]
     },
     "metadata": {},
     "output_type": "display_data"
    },
    {
     "name": "stdout",
     "output_type": "stream",
     "text": [
      "\n",
      "*** Feature extraction finished ***\n",
      "Features extracted and saved to D:\\Parkinson's\\Features_Extraction_15mins\\52353\\52353_11132019_TSFEL_output.csv\n",
      "*** Feature extraction started ***\n"
     ]
    },
    {
     "data": {
      "text/html": [
       "\n",
       "              <p>\n",
       "                  Progress: 100% Complete\n",
       "              <p/>\n",
       "              <progress\n",
       "                  value='31'\n",
       "                  max='31',\n",
       "                  style='width: 25%',\n",
       "              >\n",
       "                  31\n",
       "              </progress>\n",
       "\n",
       "    "
      ],
      "text/plain": [
       "<IPython.core.display.HTML object>"
      ]
     },
     "metadata": {},
     "output_type": "display_data"
    },
    {
     "name": "stdout",
     "output_type": "stream",
     "text": [
      "\n",
      "*** Feature extraction finished ***\n",
      "Features extracted and saved to D:\\Parkinson's\\Features_Extraction_15mins\\52355\\52355_02202019_TSFEL_output.csv\n",
      "*** Feature extraction started ***\n"
     ]
    },
    {
     "data": {
      "text/html": [
       "\n",
       "              <p>\n",
       "                  Progress: 100% Complete\n",
       "              <p/>\n",
       "              <progress\n",
       "                  value='31'\n",
       "                  max='31',\n",
       "                  style='width: 25%',\n",
       "              >\n",
       "                  31\n",
       "              </progress>\n",
       "\n",
       "    "
      ],
      "text/plain": [
       "<IPython.core.display.HTML object>"
      ]
     },
     "metadata": {},
     "output_type": "display_data"
    },
    {
     "name": "stdout",
     "output_type": "stream",
     "text": [
      "\n",
      "*** Feature extraction finished ***\n",
      "Features extracted and saved to D:\\Parkinson's\\Features_Extraction_15mins\\52400\\52400_10012019_TSFEL_output.csv\n",
      "*** Feature extraction started ***\n"
     ]
    },
    {
     "data": {
      "text/html": [
       "\n",
       "              <p>\n",
       "                  Progress: 100% Complete\n",
       "              <p/>\n",
       "              <progress\n",
       "                  value='31'\n",
       "                  max='31',\n",
       "                  style='width: 25%',\n",
       "              >\n",
       "                  31\n",
       "              </progress>\n",
       "\n",
       "    "
      ],
      "text/plain": [
       "<IPython.core.display.HTML object>"
      ]
     },
     "metadata": {},
     "output_type": "display_data"
    },
    {
     "name": "stdout",
     "output_type": "stream",
     "text": [
      "\n",
      "*** Feature extraction finished ***\n",
      "Features extracted and saved to D:\\Parkinson's\\Features_Extraction_15mins\\52752\\52752_03012019_TSFEL_output.csv\n",
      "*** Feature extraction started ***\n"
     ]
    },
    {
     "data": {
      "text/html": [
       "\n",
       "              <p>\n",
       "                  Progress: 100% Complete\n",
       "              <p/>\n",
       "              <progress\n",
       "                  value='26'\n",
       "                  max='26',\n",
       "                  style='width: 25%',\n",
       "              >\n",
       "                  26\n",
       "              </progress>\n",
       "\n",
       "    "
      ],
      "text/plain": [
       "<IPython.core.display.HTML object>"
      ]
     },
     "metadata": {},
     "output_type": "display_data"
    },
    {
     "name": "stdout",
     "output_type": "stream",
     "text": [
      "\n",
      "*** Feature extraction finished ***\n",
      "Features extracted and saved to D:\\Parkinson's\\Features_Extraction_15mins\\52872\\52872_07022019_TSFEL_output.csv\n",
      "*** Feature extraction started ***\n"
     ]
    },
    {
     "data": {
      "text/html": [
       "\n",
       "              <p>\n",
       "                  Progress: 100% Complete\n",
       "              <p/>\n",
       "              <progress\n",
       "                  value='31'\n",
       "                  max='31',\n",
       "                  style='width: 25%',\n",
       "              >\n",
       "                  31\n",
       "              </progress>\n",
       "\n",
       "    "
      ],
      "text/plain": [
       "<IPython.core.display.HTML object>"
      ]
     },
     "metadata": {},
     "output_type": "display_data"
    },
    {
     "name": "stdout",
     "output_type": "stream",
     "text": [
      "\n",
      "*** Feature extraction finished ***\n",
      "Features extracted and saved to D:\\Parkinson's\\Features_Extraction_15mins\\52874\\52874_11012019_TSFEL_output.csv\n",
      "*** Feature extraction started ***\n"
     ]
    },
    {
     "data": {
      "text/html": [
       "\n",
       "              <p>\n",
       "                  Progress: 100% Complete\n",
       "              <p/>\n",
       "              <progress\n",
       "                  value='31'\n",
       "                  max='31',\n",
       "                  style='width: 25%',\n",
       "              >\n",
       "                  31\n",
       "              </progress>\n",
       "\n",
       "    "
      ],
      "text/plain": [
       "<IPython.core.display.HTML object>"
      ]
     },
     "metadata": {},
     "output_type": "display_data"
    },
    {
     "name": "stdout",
     "output_type": "stream",
     "text": [
      "\n",
      "*** Feature extraction finished ***\n",
      "Features extracted and saved to D:\\Parkinson's\\Features_Extraction_15mins\\52888\\52888_06012019_TSFEL_output.csv\n",
      "*** Feature extraction started ***\n"
     ]
    },
    {
     "data": {
      "text/html": [
       "\n",
       "              <p>\n",
       "                  Progress: 100% Complete\n",
       "              <p/>\n",
       "              <progress\n",
       "                  value='31'\n",
       "                  max='31',\n",
       "                  style='width: 25%',\n",
       "              >\n",
       "                  31\n",
       "              </progress>\n",
       "\n",
       "    "
      ],
      "text/plain": [
       "<IPython.core.display.HTML object>"
      ]
     },
     "metadata": {},
     "output_type": "display_data"
    },
    {
     "name": "stdout",
     "output_type": "stream",
     "text": [
      "\n",
      "*** Feature extraction finished ***\n",
      "Features extracted and saved to D:\\Parkinson's\\Features_Extraction_15mins\\52982\\52982_02012019_TSFEL_output.csv\n",
      "*** Feature extraction started ***\n"
     ]
    },
    {
     "data": {
      "text/html": [
       "\n",
       "              <p>\n",
       "                  Progress: 100% Complete\n",
       "              <p/>\n",
       "              <progress\n",
       "                  value='31'\n",
       "                  max='31',\n",
       "                  style='width: 25%',\n",
       "              >\n",
       "                  31\n",
       "              </progress>\n",
       "\n",
       "    "
      ],
      "text/plain": [
       "<IPython.core.display.HTML object>"
      ]
     },
     "metadata": {},
     "output_type": "display_data"
    },
    {
     "name": "stdout",
     "output_type": "stream",
     "text": [
      "\n",
      "*** Feature extraction finished ***\n",
      "Features extracted and saved to D:\\Parkinson's\\Features_Extraction_15mins\\53054\\53054_05012019_TSFEL_output.csv\n",
      "Skipping D:\\Parkinson's\\Filtered_Data_9_to_5_updated\\Filtered_Data_9_to_5_updated\\53258_05012019_filtered.csv due to insufficient data for a 15-minute window.\n",
      "*** Feature extraction started ***\n"
     ]
    },
    {
     "data": {
      "text/html": [
       "\n",
       "              <p>\n",
       "                  Progress: 100% Complete\n",
       "              <p/>\n",
       "              <progress\n",
       "                  value='31'\n",
       "                  max='31',\n",
       "                  style='width: 25%',\n",
       "              >\n",
       "                  31\n",
       "              </progress>\n",
       "\n",
       "    "
      ],
      "text/plain": [
       "<IPython.core.display.HTML object>"
      ]
     },
     "metadata": {},
     "output_type": "display_data"
    },
    {
     "name": "stdout",
     "output_type": "stream",
     "text": [
      "\n",
      "*** Feature extraction finished ***\n",
      "Features extracted and saved to D:\\Parkinson's\\Features_Extraction_15mins\\53308\\53308_06012019_TSFEL_output.csv\n",
      "*** Feature extraction started ***\n"
     ]
    },
    {
     "data": {
      "text/html": [
       "\n",
       "              <p>\n",
       "                  Progress: 100% Complete\n",
       "              <p/>\n",
       "              <progress\n",
       "                  value='17'\n",
       "                  max='17',\n",
       "                  style='width: 25%',\n",
       "              >\n",
       "                  17\n",
       "              </progress>\n",
       "\n",
       "    "
      ],
      "text/plain": [
       "<IPython.core.display.HTML object>"
      ]
     },
     "metadata": {},
     "output_type": "display_data"
    },
    {
     "name": "stdout",
     "output_type": "stream",
     "text": [
      "\n",
      "*** Feature extraction finished ***\n",
      "Features extracted and saved to D:\\Parkinson's\\Features_Extraction_15mins\\53595\\53595_07242019_TSFEL_output.csv\n",
      "*** Feature extraction started ***\n"
     ]
    },
    {
     "data": {
      "text/html": [
       "\n",
       "              <p>\n",
       "                  Progress: 100% Complete\n",
       "              <p/>\n",
       "              <progress\n",
       "                  value='13'\n",
       "                  max='13',\n",
       "                  style='width: 25%',\n",
       "              >\n",
       "                  13\n",
       "              </progress>\n",
       "\n",
       "    "
      ],
      "text/plain": [
       "<IPython.core.display.HTML object>"
      ]
     },
     "metadata": {},
     "output_type": "display_data"
    },
    {
     "name": "stdout",
     "output_type": "stream",
     "text": [
      "\n",
      "*** Feature extraction finished ***\n",
      "Features extracted and saved to D:\\Parkinson's\\Features_Extraction_15mins\\53600\\53600_09112019_TSFEL_output.csv\n",
      "*** Feature extraction started ***\n"
     ]
    },
    {
     "data": {
      "text/html": [
       "\n",
       "              <p>\n",
       "                  Progress: 100% Complete\n",
       "              <p/>\n",
       "              <progress\n",
       "                  value='31'\n",
       "                  max='31',\n",
       "                  style='width: 25%',\n",
       "              >\n",
       "                  31\n",
       "              </progress>\n",
       "\n",
       "    "
      ],
      "text/plain": [
       "<IPython.core.display.HTML object>"
      ]
     },
     "metadata": {},
     "output_type": "display_data"
    },
    {
     "name": "stdout",
     "output_type": "stream",
     "text": [
      "\n",
      "*** Feature extraction finished ***\n",
      "Features extracted and saved to D:\\Parkinson's\\Features_Extraction_15mins\\53866\\53866_05012019_TSFEL_output.csv\n",
      "Skipping D:\\Parkinson's\\Filtered_Data_9_to_5_updated\\Filtered_Data_9_to_5_updated\\53925_06012019_filtered.csv due to insufficient data for a 15-minute window.\n",
      "*** Feature extraction started ***\n"
     ]
    },
    {
     "data": {
      "text/html": [
       "\n",
       "              <p>\n",
       "                  Progress: 100% Complete\n",
       "              <p/>\n",
       "              <progress\n",
       "                  value='31'\n",
       "                  max='31',\n",
       "                  style='width: 25%',\n",
       "              >\n",
       "                  31\n",
       "              </progress>\n",
       "\n",
       "    "
      ],
      "text/plain": [
       "<IPython.core.display.HTML object>"
      ]
     },
     "metadata": {},
     "output_type": "display_data"
    },
    {
     "name": "stdout",
     "output_type": "stream",
     "text": [
      "\n",
      "*** Feature extraction finished ***\n",
      "Features extracted and saved to D:\\Parkinson's\\Features_Extraction_15mins\\53988\\53988_02012019_TSFEL_output.csv\n",
      "*** Feature extraction started ***\n"
     ]
    },
    {
     "data": {
      "text/html": [
       "\n",
       "              <p>\n",
       "                  Progress: 100% Complete\n",
       "              <p/>\n",
       "              <progress\n",
       "                  value='18'\n",
       "                  max='18',\n",
       "                  style='width: 25%',\n",
       "              >\n",
       "                  18\n",
       "              </progress>\n",
       "\n",
       "    "
      ],
      "text/plain": [
       "<IPython.core.display.HTML object>"
      ]
     },
     "metadata": {},
     "output_type": "display_data"
    },
    {
     "name": "stdout",
     "output_type": "stream",
     "text": [
      "\n",
      "*** Feature extraction finished ***\n",
      "Features extracted and saved to D:\\Parkinson's\\Features_Extraction_15mins\\54110\\54110_12022019_TSFEL_output.csv\n",
      "*** Feature extraction started ***\n"
     ]
    },
    {
     "data": {
      "text/html": [
       "\n",
       "              <p>\n",
       "                  Progress: 100% Complete\n",
       "              <p/>\n",
       "              <progress\n",
       "                  value='31'\n",
       "                  max='31',\n",
       "                  style='width: 25%',\n",
       "              >\n",
       "                  31\n",
       "              </progress>\n",
       "\n",
       "    "
      ],
      "text/plain": [
       "<IPython.core.display.HTML object>"
      ]
     },
     "metadata": {},
     "output_type": "display_data"
    },
    {
     "name": "stdout",
     "output_type": "stream",
     "text": [
      "\n",
      "*** Feature extraction finished ***\n",
      "Features extracted and saved to D:\\Parkinson's\\Features_Extraction_15mins\\54144\\54144_03012019_TSFEL_output.csv\n",
      "*** Feature extraction started ***\n"
     ]
    },
    {
     "data": {
      "text/html": [
       "\n",
       "              <p>\n",
       "                  Progress: 100% Complete\n",
       "              <p/>\n",
       "              <progress\n",
       "                  value='17'\n",
       "                  max='17',\n",
       "                  style='width: 25%',\n",
       "              >\n",
       "                  17\n",
       "              </progress>\n",
       "\n",
       "    "
      ],
      "text/plain": [
       "<IPython.core.display.HTML object>"
      ]
     },
     "metadata": {},
     "output_type": "display_data"
    },
    {
     "name": "stdout",
     "output_type": "stream",
     "text": [
      "\n",
      "*** Feature extraction finished ***\n",
      "Features extracted and saved to D:\\Parkinson's\\Features_Extraction_15mins\\54161\\54161_10212019_TSFEL_output.csv\n",
      "*** Feature extraction started ***\n"
     ]
    },
    {
     "data": {
      "text/html": [
       "\n",
       "              <p>\n",
       "                  Progress: 100% Complete\n",
       "              <p/>\n",
       "              <progress\n",
       "                  value='31'\n",
       "                  max='31',\n",
       "                  style='width: 25%',\n",
       "              >\n",
       "                  31\n",
       "              </progress>\n",
       "\n",
       "    "
      ],
      "text/plain": [
       "<IPython.core.display.HTML object>"
      ]
     },
     "metadata": {},
     "output_type": "display_data"
    },
    {
     "name": "stdout",
     "output_type": "stream",
     "text": [
      "\n",
      "*** Feature extraction finished ***\n",
      "Features extracted and saved to D:\\Parkinson's\\Features_Extraction_15mins\\54196\\54196_08082019_TSFEL_output.csv\n",
      "*** Feature extraction started ***\n"
     ]
    },
    {
     "data": {
      "text/html": [
       "\n",
       "              <p>\n",
       "                  Progress: 100% Complete\n",
       "              <p/>\n",
       "              <progress\n",
       "                  value='11'\n",
       "                  max='11',\n",
       "                  style='width: 25%',\n",
       "              >\n",
       "                  11\n",
       "              </progress>\n",
       "\n",
       "    "
      ],
      "text/plain": [
       "<IPython.core.display.HTML object>"
      ]
     },
     "metadata": {},
     "output_type": "display_data"
    },
    {
     "name": "stdout",
     "output_type": "stream",
     "text": [
      "\n",
      "*** Feature extraction finished ***\n",
      "Features extracted and saved to D:\\Parkinson's\\Features_Extraction_15mins\\54197\\54197_06262019_TSFEL_output.csv\n",
      "*** Feature extraction started ***\n"
     ]
    },
    {
     "data": {
      "text/html": [
       "\n",
       "              <p>\n",
       "                  Progress: 100% Complete\n",
       "              <p/>\n",
       "              <progress\n",
       "                  value='15'\n",
       "                  max='15',\n",
       "                  style='width: 25%',\n",
       "              >\n",
       "                  15\n",
       "              </progress>\n",
       "\n",
       "    "
      ],
      "text/plain": [
       "<IPython.core.display.HTML object>"
      ]
     },
     "metadata": {},
     "output_type": "display_data"
    },
    {
     "name": "stdout",
     "output_type": "stream",
     "text": [
      "\n",
      "*** Feature extraction finished ***\n",
      "Features extracted and saved to D:\\Parkinson's\\Features_Extraction_15mins\\54266\\54266_05042019_TSFEL_output.csv\n",
      "*** Feature extraction started ***\n"
     ]
    },
    {
     "data": {
      "text/html": [
       "\n",
       "              <p>\n",
       "                  Progress: 100% Complete\n",
       "              <p/>\n",
       "              <progress\n",
       "                  value='31'\n",
       "                  max='31',\n",
       "                  style='width: 25%',\n",
       "              >\n",
       "                  31\n",
       "              </progress>\n",
       "\n",
       "    "
      ],
      "text/plain": [
       "<IPython.core.display.HTML object>"
      ]
     },
     "metadata": {},
     "output_type": "display_data"
    },
    {
     "name": "stdout",
     "output_type": "stream",
     "text": [
      "\n",
      "*** Feature extraction finished ***\n",
      "Features extracted and saved to D:\\Parkinson's\\Features_Extraction_15mins\\54309\\54309_08012019_TSFEL_output.csv\n",
      "*** Feature extraction started ***\n"
     ]
    },
    {
     "data": {
      "text/html": [
       "\n",
       "              <p>\n",
       "                  Progress: 100% Complete\n",
       "              <p/>\n",
       "              <progress\n",
       "                  value='15'\n",
       "                  max='15',\n",
       "                  style='width: 25%',\n",
       "              >\n",
       "                  15\n",
       "              </progress>\n",
       "\n",
       "    "
      ],
      "text/plain": [
       "<IPython.core.display.HTML object>"
      ]
     },
     "metadata": {},
     "output_type": "display_data"
    },
    {
     "name": "stdout",
     "output_type": "stream",
     "text": [
      "\n",
      "*** Feature extraction finished ***\n",
      "Features extracted and saved to D:\\Parkinson's\\Features_Extraction_15mins\\54391\\54391_10072019_TSFEL_output.csv\n",
      "*** Feature extraction started ***\n"
     ]
    },
    {
     "data": {
      "text/html": [
       "\n",
       "              <p>\n",
       "                  Progress: 100% Complete\n",
       "              <p/>\n",
       "              <progress\n",
       "                  value='31'\n",
       "                  max='31',\n",
       "                  style='width: 25%',\n",
       "              >\n",
       "                  31\n",
       "              </progress>\n",
       "\n",
       "    "
      ],
      "text/plain": [
       "<IPython.core.display.HTML object>"
      ]
     },
     "metadata": {},
     "output_type": "display_data"
    },
    {
     "name": "stdout",
     "output_type": "stream",
     "text": [
      "\n",
      "*** Feature extraction finished ***\n",
      "Features extracted and saved to D:\\Parkinson's\\Features_Extraction_15mins\\54991\\54991_11012019_TSFEL_output.csv\n",
      "*** Feature extraction started ***\n"
     ]
    },
    {
     "data": {
      "text/html": [
       "\n",
       "              <p>\n",
       "                  Progress: 100% Complete\n",
       "              <p/>\n",
       "              <progress\n",
       "                  value='21'\n",
       "                  max='21',\n",
       "                  style='width: 25%',\n",
       "              >\n",
       "                  21\n",
       "              </progress>\n",
       "\n",
       "    "
      ],
      "text/plain": [
       "<IPython.core.display.HTML object>"
      ]
     },
     "metadata": {},
     "output_type": "display_data"
    },
    {
     "name": "stdout",
     "output_type": "stream",
     "text": [
      "\n",
      "*** Feature extraction finished ***\n",
      "Features extracted and saved to D:\\Parkinson's\\Features_Extraction_15mins\\55098\\55098_06072019_TSFEL_output.csv\n",
      "*** Feature extraction started ***\n"
     ]
    },
    {
     "data": {
      "text/html": [
       "\n",
       "              <p>\n",
       "                  Progress: 100% Complete\n",
       "              <p/>\n",
       "              <progress\n",
       "                  value='31'\n",
       "                  max='31',\n",
       "                  style='width: 25%',\n",
       "              >\n",
       "                  31\n",
       "              </progress>\n",
       "\n",
       "    "
      ],
      "text/plain": [
       "<IPython.core.display.HTML object>"
      ]
     },
     "metadata": {},
     "output_type": "display_data"
    },
    {
     "name": "stdout",
     "output_type": "stream",
     "text": [
      "\n",
      "*** Feature extraction finished ***\n",
      "Features extracted and saved to D:\\Parkinson's\\Features_Extraction_15mins\\55124\\55124_08012019_TSFEL_output.csv\n",
      "*** Feature extraction started ***\n"
     ]
    },
    {
     "data": {
      "text/html": [
       "\n",
       "              <p>\n",
       "                  Progress: 100% Complete\n",
       "              <p/>\n",
       "              <progress\n",
       "                  value='31'\n",
       "                  max='31',\n",
       "                  style='width: 25%',\n",
       "              >\n",
       "                  31\n",
       "              </progress>\n",
       "\n",
       "    "
      ],
      "text/plain": [
       "<IPython.core.display.HTML object>"
      ]
     },
     "metadata": {},
     "output_type": "display_data"
    },
    {
     "name": "stdout",
     "output_type": "stream",
     "text": [
      "\n",
      "*** Feature extraction finished ***\n",
      "Features extracted and saved to D:\\Parkinson's\\Features_Extraction_15mins\\55151\\55151_07012019_TSFEL_output.csv\n",
      "*** Feature extraction started ***\n"
     ]
    },
    {
     "data": {
      "text/html": [
       "\n",
       "              <p>\n",
       "                  Progress: 100% Complete\n",
       "              <p/>\n",
       "              <progress\n",
       "                  value='31'\n",
       "                  max='31',\n",
       "                  style='width: 25%',\n",
       "              >\n",
       "                  31\n",
       "              </progress>\n",
       "\n",
       "    "
      ],
      "text/plain": [
       "<IPython.core.display.HTML object>"
      ]
     },
     "metadata": {},
     "output_type": "display_data"
    },
    {
     "name": "stdout",
     "output_type": "stream",
     "text": [
      "\n",
      "*** Feature extraction finished ***\n",
      "Features extracted and saved to D:\\Parkinson's\\Features_Extraction_15mins\\55251\\55251_09012019_TSFEL_output.csv\n",
      "*** Feature extraction started ***\n"
     ]
    },
    {
     "data": {
      "text/html": [
       "\n",
       "              <p>\n",
       "                  Progress: 100% Complete\n",
       "              <p/>\n",
       "              <progress\n",
       "                  value='31'\n",
       "                  max='31',\n",
       "                  style='width: 25%',\n",
       "              >\n",
       "                  31\n",
       "              </progress>\n",
       "\n",
       "    "
      ],
      "text/plain": [
       "<IPython.core.display.HTML object>"
      ]
     },
     "metadata": {},
     "output_type": "display_data"
    },
    {
     "name": "stdout",
     "output_type": "stream",
     "text": [
      "\n",
      "*** Feature extraction finished ***\n",
      "Features extracted and saved to D:\\Parkinson's\\Features_Extraction_15mins\\55282\\55282_07012019_TSFEL_output.csv\n",
      "*** Feature extraction started ***\n"
     ]
    },
    {
     "data": {
      "text/html": [
       "\n",
       "              <p>\n",
       "                  Progress: 100% Complete\n",
       "              <p/>\n",
       "              <progress\n",
       "                  value='31'\n",
       "                  max='31',\n",
       "                  style='width: 25%',\n",
       "              >\n",
       "                  31\n",
       "              </progress>\n",
       "\n",
       "    "
      ],
      "text/plain": [
       "<IPython.core.display.HTML object>"
      ]
     },
     "metadata": {},
     "output_type": "display_data"
    },
    {
     "name": "stdout",
     "output_type": "stream",
     "text": [
      "\n",
      "*** Feature extraction finished ***\n",
      "Features extracted and saved to D:\\Parkinson's\\Features_Extraction_15mins\\55349\\55349_07012019_TSFEL_output.csv\n",
      "Skipping D:\\Parkinson's\\Filtered_Data_9_to_5_updated\\Filtered_Data_9_to_5_updated\\55380_09012019_filtered.csv due to insufficient data for a 15-minute window.\n",
      "*** Feature extraction started ***\n"
     ]
    },
    {
     "data": {
      "text/html": [
       "\n",
       "              <p>\n",
       "                  Progress: 100% Complete\n",
       "              <p/>\n",
       "              <progress\n",
       "                  value='16'\n",
       "                  max='16',\n",
       "                  style='width: 25%',\n",
       "              >\n",
       "                  16\n",
       "              </progress>\n",
       "\n",
       "    "
      ],
      "text/plain": [
       "<IPython.core.display.HTML object>"
      ]
     },
     "metadata": {},
     "output_type": "display_data"
    },
    {
     "name": "stdout",
     "output_type": "stream",
     "text": [
      "\n",
      "*** Feature extraction finished ***\n",
      "Features extracted and saved to D:\\Parkinson's\\Features_Extraction_15mins\\55441\\55441_06272019_TSFEL_output.csv\n",
      "*** Feature extraction started ***\n"
     ]
    },
    {
     "data": {
      "text/html": [
       "\n",
       "              <p>\n",
       "                  Progress: 100% Complete\n",
       "              <p/>\n",
       "              <progress\n",
       "                  value='31'\n",
       "                  max='31',\n",
       "                  style='width: 25%',\n",
       "              >\n",
       "                  31\n",
       "              </progress>\n",
       "\n",
       "    "
      ],
      "text/plain": [
       "<IPython.core.display.HTML object>"
      ]
     },
     "metadata": {},
     "output_type": "display_data"
    },
    {
     "name": "stdout",
     "output_type": "stream",
     "text": [
      "\n",
      "*** Feature extraction finished ***\n",
      "Features extracted and saved to D:\\Parkinson's\\Features_Extraction_15mins\\55560\\55560_08012019_TSFEL_output.csv\n",
      "*** Feature extraction started ***\n"
     ]
    },
    {
     "data": {
      "text/html": [
       "\n",
       "              <p>\n",
       "                  Progress: 100% Complete\n",
       "              <p/>\n",
       "              <progress\n",
       "                  value='31'\n",
       "                  max='31',\n",
       "                  style='width: 25%',\n",
       "              >\n",
       "                  31\n",
       "              </progress>\n",
       "\n",
       "    "
      ],
      "text/plain": [
       "<IPython.core.display.HTML object>"
      ]
     },
     "metadata": {},
     "output_type": "display_data"
    },
    {
     "name": "stdout",
     "output_type": "stream",
     "text": [
      "\n",
      "*** Feature extraction finished ***\n",
      "Features extracted and saved to D:\\Parkinson's\\Features_Extraction_15mins\\55615\\55615_06012019_TSFEL_output.csv\n",
      "*** Feature extraction started ***\n"
     ]
    },
    {
     "data": {
      "text/html": [
       "\n",
       "              <p>\n",
       "                  Progress: 100% Complete\n",
       "              <p/>\n",
       "              <progress\n",
       "                  value='6'\n",
       "                  max='6',\n",
       "                  style='width: 25%',\n",
       "              >\n",
       "                  6\n",
       "              </progress>\n",
       "\n",
       "    "
      ],
      "text/plain": [
       "<IPython.core.display.HTML object>"
      ]
     },
     "metadata": {},
     "output_type": "display_data"
    },
    {
     "name": "stdout",
     "output_type": "stream",
     "text": [
      "\n",
      "*** Feature extraction finished ***\n",
      "Features extracted and saved to D:\\Parkinson's\\Features_Extraction_15mins\\55822\\55822_08082019_TSFEL_output.csv\n",
      "*** Feature extraction started ***\n"
     ]
    },
    {
     "data": {
      "text/html": [
       "\n",
       "              <p>\n",
       "                  Progress: 100% Complete\n",
       "              <p/>\n",
       "              <progress\n",
       "                  value='1'\n",
       "                  max='1',\n",
       "                  style='width: 25%',\n",
       "              >\n",
       "                  1\n",
       "              </progress>\n",
       "\n",
       "    "
      ],
      "text/plain": [
       "<IPython.core.display.HTML object>"
      ]
     },
     "metadata": {},
     "output_type": "display_data"
    },
    {
     "name": "stdout",
     "output_type": "stream",
     "text": [
      "\n",
      "*** Feature extraction finished ***\n",
      "Features extracted and saved to D:\\Parkinson's\\Features_Extraction_15mins\\55842\\55842_08232019_TSFEL_output.csv\n",
      "*** Feature extraction started ***\n"
     ]
    },
    {
     "data": {
      "text/html": [
       "\n",
       "              <p>\n",
       "                  Progress: 100% Complete\n",
       "              <p/>\n",
       "              <progress\n",
       "                  value='25'\n",
       "                  max='25',\n",
       "                  style='width: 25%',\n",
       "              >\n",
       "                  25\n",
       "              </progress>\n",
       "\n",
       "    "
      ],
      "text/plain": [
       "<IPython.core.display.HTML object>"
      ]
     },
     "metadata": {},
     "output_type": "display_data"
    },
    {
     "name": "stdout",
     "output_type": "stream",
     "text": [
      "\n",
      "*** Feature extraction finished ***\n",
      "Features extracted and saved to D:\\Parkinson's\\Features_Extraction_15mins\\56048\\56048_02012019_TSFEL_output.csv\n",
      "*** Feature extraction started ***\n"
     ]
    },
    {
     "data": {
      "text/html": [
       "\n",
       "              <p>\n",
       "                  Progress: 100% Complete\n",
       "              <p/>\n",
       "              <progress\n",
       "                  value='31'\n",
       "                  max='31',\n",
       "                  style='width: 25%',\n",
       "              >\n",
       "                  31\n",
       "              </progress>\n",
       "\n",
       "    "
      ],
      "text/plain": [
       "<IPython.core.display.HTML object>"
      ]
     },
     "metadata": {},
     "output_type": "display_data"
    },
    {
     "name": "stdout",
     "output_type": "stream",
     "text": [
      "\n",
      "*** Feature extraction finished ***\n",
      "Features extracted and saved to D:\\Parkinson's\\Features_Extraction_15mins\\56136\\56136_11012019_TSFEL_output.csv\n",
      "*** Feature extraction started ***\n"
     ]
    },
    {
     "data": {
      "text/html": [
       "\n",
       "              <p>\n",
       "                  Progress: 100% Complete\n",
       "              <p/>\n",
       "              <progress\n",
       "                  value='31'\n",
       "                  max='31',\n",
       "                  style='width: 25%',\n",
       "              >\n",
       "                  31\n",
       "              </progress>\n",
       "\n",
       "    "
      ],
      "text/plain": [
       "<IPython.core.display.HTML object>"
      ]
     },
     "metadata": {},
     "output_type": "display_data"
    },
    {
     "name": "stdout",
     "output_type": "stream",
     "text": [
      "\n",
      "*** Feature extraction finished ***\n",
      "Features extracted and saved to D:\\Parkinson's\\Features_Extraction_15mins\\56405\\56405_05012019_TSFEL_output.csv\n",
      "*** Feature extraction started ***\n"
     ]
    },
    {
     "data": {
      "text/html": [
       "\n",
       "              <p>\n",
       "                  Progress: 100% Complete\n",
       "              <p/>\n",
       "              <progress\n",
       "                  value='6'\n",
       "                  max='6',\n",
       "                  style='width: 25%',\n",
       "              >\n",
       "                  6\n",
       "              </progress>\n",
       "\n",
       "    "
      ],
      "text/plain": [
       "<IPython.core.display.HTML object>"
      ]
     },
     "metadata": {},
     "output_type": "display_data"
    },
    {
     "name": "stdout",
     "output_type": "stream",
     "text": [
      "\n",
      "*** Feature extraction finished ***\n",
      "Features extracted and saved to D:\\Parkinson's\\Features_Extraction_15mins\\56435\\56435_10032019_TSFEL_output.csv\n",
      "*** Feature extraction started ***\n"
     ]
    },
    {
     "data": {
      "text/html": [
       "\n",
       "              <p>\n",
       "                  Progress: 100% Complete\n",
       "              <p/>\n",
       "              <progress\n",
       "                  value='31'\n",
       "                  max='31',\n",
       "                  style='width: 25%',\n",
       "              >\n",
       "                  31\n",
       "              </progress>\n",
       "\n",
       "    "
      ],
      "text/plain": [
       "<IPython.core.display.HTML object>"
      ]
     },
     "metadata": {},
     "output_type": "display_data"
    },
    {
     "name": "stdout",
     "output_type": "stream",
     "text": [
      "\n",
      "*** Feature extraction finished ***\n",
      "Features extracted and saved to D:\\Parkinson's\\Features_Extraction_15mins\\56492\\56492_10042019_TSFEL_output.csv\n",
      "*** Feature extraction started ***\n"
     ]
    },
    {
     "data": {
      "text/html": [
       "\n",
       "              <p>\n",
       "                  Progress: 100% Complete\n",
       "              <p/>\n",
       "              <progress\n",
       "                  value='11'\n",
       "                  max='11',\n",
       "                  style='width: 25%',\n",
       "              >\n",
       "                  11\n",
       "              </progress>\n",
       "\n",
       "    "
      ],
      "text/plain": [
       "<IPython.core.display.HTML object>"
      ]
     },
     "metadata": {},
     "output_type": "display_data"
    },
    {
     "name": "stdout",
     "output_type": "stream",
     "text": [
      "\n",
      "*** Feature extraction finished ***\n",
      "Features extracted and saved to D:\\Parkinson's\\Features_Extraction_15mins\\56582\\56582_04122019_TSFEL_output.csv\n",
      "*** Feature extraction started ***\n"
     ]
    },
    {
     "data": {
      "text/html": [
       "\n",
       "              <p>\n",
       "                  Progress: 100% Complete\n",
       "              <p/>\n",
       "              <progress\n",
       "                  value='31'\n",
       "                  max='31',\n",
       "                  style='width: 25%',\n",
       "              >\n",
       "                  31\n",
       "              </progress>\n",
       "\n",
       "    "
      ],
      "text/plain": [
       "<IPython.core.display.HTML object>"
      ]
     },
     "metadata": {},
     "output_type": "display_data"
    },
    {
     "name": "stdout",
     "output_type": "stream",
     "text": [
      "\n",
      "*** Feature extraction finished ***\n",
      "Features extracted and saved to D:\\Parkinson's\\Features_Extraction_15mins\\56744\\56744_08012019_TSFEL_output.csv\n",
      "*** Feature extraction started ***\n"
     ]
    },
    {
     "data": {
      "text/html": [
       "\n",
       "              <p>\n",
       "                  Progress: 100% Complete\n",
       "              <p/>\n",
       "              <progress\n",
       "                  value='31'\n",
       "                  max='31',\n",
       "                  style='width: 25%',\n",
       "              >\n",
       "                  31\n",
       "              </progress>\n",
       "\n",
       "    "
      ],
      "text/plain": [
       "<IPython.core.display.HTML object>"
      ]
     },
     "metadata": {},
     "output_type": "display_data"
    },
    {
     "name": "stdout",
     "output_type": "stream",
     "text": [
      "\n",
      "*** Feature extraction finished ***\n",
      "Features extracted and saved to D:\\Parkinson's\\Features_Extraction_15mins\\56779\\56779_04052019_TSFEL_output.csv\n",
      "*** Feature extraction started ***\n"
     ]
    },
    {
     "data": {
      "text/html": [
       "\n",
       "              <p>\n",
       "                  Progress: 100% Complete\n",
       "              <p/>\n",
       "              <progress\n",
       "                  value='31'\n",
       "                  max='31',\n",
       "                  style='width: 25%',\n",
       "              >\n",
       "                  31\n",
       "              </progress>\n",
       "\n",
       "    "
      ],
      "text/plain": [
       "<IPython.core.display.HTML object>"
      ]
     },
     "metadata": {},
     "output_type": "display_data"
    },
    {
     "name": "stdout",
     "output_type": "stream",
     "text": [
      "\n",
      "*** Feature extraction finished ***\n",
      "Features extracted and saved to D:\\Parkinson's\\Features_Extraction_15mins\\56800\\56800_03292019_TSFEL_output.csv\n",
      "*** Feature extraction started ***\n"
     ]
    },
    {
     "data": {
      "text/html": [
       "\n",
       "              <p>\n",
       "                  Progress: 100% Complete\n",
       "              <p/>\n",
       "              <progress\n",
       "                  value='31'\n",
       "                  max='31',\n",
       "                  style='width: 25%',\n",
       "              >\n",
       "                  31\n",
       "              </progress>\n",
       "\n",
       "    "
      ],
      "text/plain": [
       "<IPython.core.display.HTML object>"
      ]
     },
     "metadata": {},
     "output_type": "display_data"
    },
    {
     "name": "stdout",
     "output_type": "stream",
     "text": [
      "\n",
      "*** Feature extraction finished ***\n",
      "Features extracted and saved to D:\\Parkinson's\\Features_Extraction_15mins\\57127\\57127_08012019_TSFEL_output.csv\n",
      "*** Feature extraction started ***\n"
     ]
    },
    {
     "data": {
      "text/html": [
       "\n",
       "              <p>\n",
       "                  Progress: 100% Complete\n",
       "              <p/>\n",
       "              <progress\n",
       "                  value='31'\n",
       "                  max='31',\n",
       "                  style='width: 25%',\n",
       "              >\n",
       "                  31\n",
       "              </progress>\n",
       "\n",
       "    "
      ],
      "text/plain": [
       "<IPython.core.display.HTML object>"
      ]
     },
     "metadata": {},
     "output_type": "display_data"
    },
    {
     "name": "stdout",
     "output_type": "stream",
     "text": [
      "\n",
      "*** Feature extraction finished ***\n",
      "Features extracted and saved to D:\\Parkinson's\\Features_Extraction_15mins\\57234\\57234_09012019_TSFEL_output.csv\n",
      "*** Feature extraction started ***\n"
     ]
    },
    {
     "data": {
      "text/html": [
       "\n",
       "              <p>\n",
       "                  Progress: 100% Complete\n",
       "              <p/>\n",
       "              <progress\n",
       "                  value='13'\n",
       "                  max='13',\n",
       "                  style='width: 25%',\n",
       "              >\n",
       "                  13\n",
       "              </progress>\n",
       "\n",
       "    "
      ],
      "text/plain": [
       "<IPython.core.display.HTML object>"
      ]
     },
     "metadata": {},
     "output_type": "display_data"
    },
    {
     "name": "stdout",
     "output_type": "stream",
     "text": [
      "\n",
      "*** Feature extraction finished ***\n",
      "Features extracted and saved to D:\\Parkinson's\\Features_Extraction_15mins\\57277\\57277_01032019_TSFEL_output.csv\n",
      "*** Feature extraction started ***\n"
     ]
    },
    {
     "data": {
      "text/html": [
       "\n",
       "              <p>\n",
       "                  Progress: 100% Complete\n",
       "              <p/>\n",
       "              <progress\n",
       "                  value='19'\n",
       "                  max='19',\n",
       "                  style='width: 25%',\n",
       "              >\n",
       "                  19\n",
       "              </progress>\n",
       "\n",
       "    "
      ],
      "text/plain": [
       "<IPython.core.display.HTML object>"
      ]
     },
     "metadata": {},
     "output_type": "display_data"
    },
    {
     "name": "stdout",
     "output_type": "stream",
     "text": [
      "\n",
      "*** Feature extraction finished ***\n",
      "Features extracted and saved to D:\\Parkinson's\\Features_Extraction_15mins\\57398\\57398_09062019_TSFEL_output.csv\n",
      "Skipping D:\\Parkinson's\\Filtered_Data_9_to_5_updated\\Filtered_Data_9_to_5_updated\\57605_02212019_filtered.csv due to insufficient data for a 15-minute window.\n",
      "*** Feature extraction started ***\n"
     ]
    },
    {
     "data": {
      "text/html": [
       "\n",
       "              <p>\n",
       "                  Progress: 100% Complete\n",
       "              <p/>\n",
       "              <progress\n",
       "                  value='31'\n",
       "                  max='31',\n",
       "                  style='width: 25%',\n",
       "              >\n",
       "                  31\n",
       "              </progress>\n",
       "\n",
       "    "
      ],
      "text/plain": [
       "<IPython.core.display.HTML object>"
      ]
     },
     "metadata": {},
     "output_type": "display_data"
    },
    {
     "name": "stdout",
     "output_type": "stream",
     "text": [
      "\n",
      "*** Feature extraction finished ***\n",
      "Features extracted and saved to D:\\Parkinson's\\Features_Extraction_15mins\\57887\\57887_02132019_TSFEL_output.csv\n",
      "*** Feature extraction started ***\n"
     ]
    },
    {
     "data": {
      "text/html": [
       "\n",
       "              <p>\n",
       "                  Progress: 100% Complete\n",
       "              <p/>\n",
       "              <progress\n",
       "                  value='15'\n",
       "                  max='15',\n",
       "                  style='width: 25%',\n",
       "              >\n",
       "                  15\n",
       "              </progress>\n",
       "\n",
       "    "
      ],
      "text/plain": [
       "<IPython.core.display.HTML object>"
      ]
     },
     "metadata": {},
     "output_type": "display_data"
    },
    {
     "name": "stdout",
     "output_type": "stream",
     "text": [
      "\n",
      "*** Feature extraction finished ***\n",
      "Features extracted and saved to D:\\Parkinson's\\Features_Extraction_15mins\\58026\\58026_08212019_TSFEL_output.csv\n",
      "*** Feature extraction started ***\n"
     ]
    },
    {
     "data": {
      "text/html": [
       "\n",
       "              <p>\n",
       "                  Progress: 100% Complete\n",
       "              <p/>\n",
       "              <progress\n",
       "                  value='31'\n",
       "                  max='31',\n",
       "                  style='width: 25%',\n",
       "              >\n",
       "                  31\n",
       "              </progress>\n",
       "\n",
       "    "
      ],
      "text/plain": [
       "<IPython.core.display.HTML object>"
      ]
     },
     "metadata": {},
     "output_type": "display_data"
    },
    {
     "name": "stdout",
     "output_type": "stream",
     "text": [
      "\n",
      "*** Feature extraction finished ***\n",
      "Features extracted and saved to D:\\Parkinson's\\Features_Extraction_15mins\\58030\\58030_05012019_TSFEL_output.csv\n",
      "*** Feature extraction started ***\n"
     ]
    },
    {
     "data": {
      "text/html": [
       "\n",
       "              <p>\n",
       "                  Progress: 100% Complete\n",
       "              <p/>\n",
       "              <progress\n",
       "                  value='16'\n",
       "                  max='16',\n",
       "                  style='width: 25%',\n",
       "              >\n",
       "                  16\n",
       "              </progress>\n",
       "\n",
       "    "
      ],
      "text/plain": [
       "<IPython.core.display.HTML object>"
      ]
     },
     "metadata": {},
     "output_type": "display_data"
    },
    {
     "name": "stdout",
     "output_type": "stream",
     "text": [
      "\n",
      "*** Feature extraction finished ***\n",
      "Features extracted and saved to D:\\Parkinson's\\Features_Extraction_15mins\\58074\\58074_06012019_TSFEL_output.csv\n",
      "Skipping D:\\Parkinson's\\Filtered_Data_9_to_5_updated\\Filtered_Data_9_to_5_updated\\58111_11032019_filtered.csv due to insufficient data for a 15-minute window.\n",
      "*** Feature extraction started ***\n"
     ]
    },
    {
     "data": {
      "text/html": [
       "\n",
       "              <p>\n",
       "                  Progress: 100% Complete\n",
       "              <p/>\n",
       "              <progress\n",
       "                  value='19'\n",
       "                  max='19',\n",
       "                  style='width: 25%',\n",
       "              >\n",
       "                  19\n",
       "              </progress>\n",
       "\n",
       "    "
      ],
      "text/plain": [
       "<IPython.core.display.HTML object>"
      ]
     },
     "metadata": {},
     "output_type": "display_data"
    },
    {
     "name": "stdout",
     "output_type": "stream",
     "text": [
      "\n",
      "*** Feature extraction finished ***\n",
      "Features extracted and saved to D:\\Parkinson's\\Features_Extraction_15mins\\58138\\58138_03012019_TSFEL_output.csv\n",
      "*** Feature extraction started ***\n"
     ]
    },
    {
     "data": {
      "text/html": [
       "\n",
       "              <p>\n",
       "                  Progress: 100% Complete\n",
       "              <p/>\n",
       "              <progress\n",
       "                  value='25'\n",
       "                  max='25',\n",
       "                  style='width: 25%',\n",
       "              >\n",
       "                  25\n",
       "              </progress>\n",
       "\n",
       "    "
      ],
      "text/plain": [
       "<IPython.core.display.HTML object>"
      ]
     },
     "metadata": {},
     "output_type": "display_data"
    },
    {
     "name": "stdout",
     "output_type": "stream",
     "text": [
      "\n",
      "*** Feature extraction finished ***\n",
      "Features extracted and saved to D:\\Parkinson's\\Features_Extraction_15mins\\58164\\58164_06012019_TSFEL_output.csv\n",
      "*** Feature extraction started ***\n"
     ]
    },
    {
     "data": {
      "text/html": [
       "\n",
       "              <p>\n",
       "                  Progress: 100% Complete\n",
       "              <p/>\n",
       "              <progress\n",
       "                  value='21'\n",
       "                  max='21',\n",
       "                  style='width: 25%',\n",
       "              >\n",
       "                  21\n",
       "              </progress>\n",
       "\n",
       "    "
      ],
      "text/plain": [
       "<IPython.core.display.HTML object>"
      ]
     },
     "metadata": {},
     "output_type": "display_data"
    },
    {
     "name": "stdout",
     "output_type": "stream",
     "text": [
      "\n",
      "*** Feature extraction finished ***\n",
      "Features extracted and saved to D:\\Parkinson's\\Features_Extraction_15mins\\58342\\58342_10312019_TSFEL_output.csv\n",
      "*** Feature extraction started ***\n"
     ]
    },
    {
     "data": {
      "text/html": [
       "\n",
       "              <p>\n",
       "                  Progress: 100% Complete\n",
       "              <p/>\n",
       "              <progress\n",
       "                  value='24'\n",
       "                  max='24',\n",
       "                  style='width: 25%',\n",
       "              >\n",
       "                  24\n",
       "              </progress>\n",
       "\n",
       "    "
      ],
      "text/plain": [
       "<IPython.core.display.HTML object>"
      ]
     },
     "metadata": {},
     "output_type": "display_data"
    },
    {
     "name": "stdout",
     "output_type": "stream",
     "text": [
      "\n",
      "*** Feature extraction finished ***\n",
      "Features extracted and saved to D:\\Parkinson's\\Features_Extraction_15mins\\58454\\58454_07152019_TSFEL_output.csv\n",
      "*** Feature extraction started ***\n"
     ]
    },
    {
     "data": {
      "text/html": [
       "\n",
       "              <p>\n",
       "                  Progress: 100% Complete\n",
       "              <p/>\n",
       "              <progress\n",
       "                  value='31'\n",
       "                  max='31',\n",
       "                  style='width: 25%',\n",
       "              >\n",
       "                  31\n",
       "              </progress>\n",
       "\n",
       "    "
      ],
      "text/plain": [
       "<IPython.core.display.HTML object>"
      ]
     },
     "metadata": {},
     "output_type": "display_data"
    },
    {
     "name": "stdout",
     "output_type": "stream",
     "text": [
      "\n",
      "*** Feature extraction finished ***\n",
      "Features extracted and saved to D:\\Parkinson's\\Features_Extraction_15mins\\58510\\58510_06012019_TSFEL_output.csv\n",
      "*** Feature extraction started ***\n"
     ]
    },
    {
     "data": {
      "text/html": [
       "\n",
       "              <p>\n",
       "                  Progress: 100% Complete\n",
       "              <p/>\n",
       "              <progress\n",
       "                  value='31'\n",
       "                  max='31',\n",
       "                  style='width: 25%',\n",
       "              >\n",
       "                  31\n",
       "              </progress>\n",
       "\n",
       "    "
      ],
      "text/plain": [
       "<IPython.core.display.HTML object>"
      ]
     },
     "metadata": {},
     "output_type": "display_data"
    },
    {
     "name": "stdout",
     "output_type": "stream",
     "text": [
      "\n",
      "*** Feature extraction finished ***\n",
      "Features extracted and saved to D:\\Parkinson's\\Features_Extraction_15mins\\58550\\58550_09012019_TSFEL_output.csv\n",
      "*** Feature extraction started ***\n"
     ]
    },
    {
     "data": {
      "text/html": [
       "\n",
       "              <p>\n",
       "                  Progress: 100% Complete\n",
       "              <p/>\n",
       "              <progress\n",
       "                  value='31'\n",
       "                  max='31',\n",
       "                  style='width: 25%',\n",
       "              >\n",
       "                  31\n",
       "              </progress>\n",
       "\n",
       "    "
      ],
      "text/plain": [
       "<IPython.core.display.HTML object>"
      ]
     },
     "metadata": {},
     "output_type": "display_data"
    },
    {
     "name": "stdout",
     "output_type": "stream",
     "text": [
      "\n",
      "*** Feature extraction finished ***\n",
      "Features extracted and saved to D:\\Parkinson's\\Features_Extraction_15mins\\58671\\58671_08012019_TSFEL_output.csv\n",
      "*** Feature extraction started ***\n"
     ]
    },
    {
     "data": {
      "text/html": [
       "\n",
       "              <p>\n",
       "                  Progress: 100% Complete\n",
       "              <p/>\n",
       "              <progress\n",
       "                  value='31'\n",
       "                  max='31',\n",
       "                  style='width: 25%',\n",
       "              >\n",
       "                  31\n",
       "              </progress>\n",
       "\n",
       "    "
      ],
      "text/plain": [
       "<IPython.core.display.HTML object>"
      ]
     },
     "metadata": {},
     "output_type": "display_data"
    },
    {
     "name": "stdout",
     "output_type": "stream",
     "text": [
      "\n",
      "*** Feature extraction finished ***\n",
      "Features extracted and saved to D:\\Parkinson's\\Features_Extraction_15mins\\58680\\58680_08012019_TSFEL_output.csv\n",
      "*** Feature extraction started ***\n"
     ]
    },
    {
     "data": {
      "text/html": [
       "\n",
       "              <p>\n",
       "                  Progress: 100% Complete\n",
       "              <p/>\n",
       "              <progress\n",
       "                  value='31'\n",
       "                  max='31',\n",
       "                  style='width: 25%',\n",
       "              >\n",
       "                  31\n",
       "              </progress>\n",
       "\n",
       "    "
      ],
      "text/plain": [
       "<IPython.core.display.HTML object>"
      ]
     },
     "metadata": {},
     "output_type": "display_data"
    },
    {
     "name": "stdout",
     "output_type": "stream",
     "text": [
      "\n",
      "*** Feature extraction finished ***\n",
      "Features extracted and saved to D:\\Parkinson's\\Features_Extraction_15mins\\58721\\58721_07182019_TSFEL_output.csv\n",
      "*** Feature extraction started ***\n"
     ]
    },
    {
     "data": {
      "text/html": [
       "\n",
       "              <p>\n",
       "                  Progress: 100% Complete\n",
       "              <p/>\n",
       "              <progress\n",
       "                  value='31'\n",
       "                  max='31',\n",
       "                  style='width: 25%',\n",
       "              >\n",
       "                  31\n",
       "              </progress>\n",
       "\n",
       "    "
      ],
      "text/plain": [
       "<IPython.core.display.HTML object>"
      ]
     },
     "metadata": {},
     "output_type": "display_data"
    },
    {
     "name": "stdout",
     "output_type": "stream",
     "text": [
      "\n",
      "*** Feature extraction finished ***\n",
      "Features extracted and saved to D:\\Parkinson's\\Features_Extraction_15mins\\58783\\58783_08012019_TSFEL_output.csv\n",
      "*** Feature extraction started ***\n"
     ]
    },
    {
     "data": {
      "text/html": [
       "\n",
       "              <p>\n",
       "                  Progress: 100% Complete\n",
       "              <p/>\n",
       "              <progress\n",
       "                  value='31'\n",
       "                  max='31',\n",
       "                  style='width: 25%',\n",
       "              >\n",
       "                  31\n",
       "              </progress>\n",
       "\n",
       "    "
      ],
      "text/plain": [
       "<IPython.core.display.HTML object>"
      ]
     },
     "metadata": {},
     "output_type": "display_data"
    },
    {
     "name": "stdout",
     "output_type": "stream",
     "text": [
      "\n",
      "*** Feature extraction finished ***\n",
      "Features extracted and saved to D:\\Parkinson's\\Features_Extraction_15mins\\58843\\58843_05012019_TSFEL_output.csv\n",
      "*** Feature extraction started ***\n"
     ]
    },
    {
     "data": {
      "text/html": [
       "\n",
       "              <p>\n",
       "                  Progress: 100% Complete\n",
       "              <p/>\n",
       "              <progress\n",
       "                  value='31'\n",
       "                  max='31',\n",
       "                  style='width: 25%',\n",
       "              >\n",
       "                  31\n",
       "              </progress>\n",
       "\n",
       "    "
      ],
      "text/plain": [
       "<IPython.core.display.HTML object>"
      ]
     },
     "metadata": {},
     "output_type": "display_data"
    },
    {
     "name": "stdout",
     "output_type": "stream",
     "text": [
      "\n",
      "*** Feature extraction finished ***\n",
      "Features extracted and saved to D:\\Parkinson's\\Features_Extraction_15mins\\58916\\58916_10012019_TSFEL_output.csv\n",
      "Skipping D:\\Parkinson's\\Filtered_Data_9_to_5_updated\\Filtered_Data_9_to_5_updated\\58990_06012019_filtered.csv due to insufficient data for a 15-minute window.\n",
      "*** Feature extraction started ***\n"
     ]
    },
    {
     "data": {
      "text/html": [
       "\n",
       "              <p>\n",
       "                  Progress: 100% Complete\n",
       "              <p/>\n",
       "              <progress\n",
       "                  value='6'\n",
       "                  max='6',\n",
       "                  style='width: 25%',\n",
       "              >\n",
       "                  6\n",
       "              </progress>\n",
       "\n",
       "    "
      ],
      "text/plain": [
       "<IPython.core.display.HTML object>"
      ]
     },
     "metadata": {},
     "output_type": "display_data"
    },
    {
     "name": "stdout",
     "output_type": "stream",
     "text": [
      "\n",
      "*** Feature extraction finished ***\n",
      "Features extracted and saved to D:\\Parkinson's\\Features_Extraction_15mins\\59042\\59042_10032019_TSFEL_output.csv\n",
      "*** Feature extraction started ***\n"
     ]
    },
    {
     "data": {
      "text/html": [
       "\n",
       "              <p>\n",
       "                  Progress: 100% Complete\n",
       "              <p/>\n",
       "              <progress\n",
       "                  value='31'\n",
       "                  max='31',\n",
       "                  style='width: 25%',\n",
       "              >\n",
       "                  31\n",
       "              </progress>\n",
       "\n",
       "    "
      ],
      "text/plain": [
       "<IPython.core.display.HTML object>"
      ]
     },
     "metadata": {},
     "output_type": "display_data"
    },
    {
     "name": "stdout",
     "output_type": "stream",
     "text": [
      "\n",
      "*** Feature extraction finished ***\n",
      "Features extracted and saved to D:\\Parkinson's\\Features_Extraction_15mins\\59121\\59121_10012019_TSFEL_output.csv\n",
      "*** Feature extraction started ***\n"
     ]
    },
    {
     "data": {
      "text/html": [
       "\n",
       "              <p>\n",
       "                  Progress: 100% Complete\n",
       "              <p/>\n",
       "              <progress\n",
       "                  value='31'\n",
       "                  max='31',\n",
       "                  style='width: 25%',\n",
       "              >\n",
       "                  31\n",
       "              </progress>\n",
       "\n",
       "    "
      ],
      "text/plain": [
       "<IPython.core.display.HTML object>"
      ]
     },
     "metadata": {},
     "output_type": "display_data"
    },
    {
     "name": "stdout",
     "output_type": "stream",
     "text": [
      "\n",
      "*** Feature extraction finished ***\n",
      "Features extracted and saved to D:\\Parkinson's\\Features_Extraction_15mins\\59174\\59174_06012019_TSFEL_output.csv\n",
      "*** Feature extraction started ***\n"
     ]
    },
    {
     "data": {
      "text/html": [
       "\n",
       "              <p>\n",
       "                  Progress: 100% Complete\n",
       "              <p/>\n",
       "              <progress\n",
       "                  value='24'\n",
       "                  max='24',\n",
       "                  style='width: 25%',\n",
       "              >\n",
       "                  24\n",
       "              </progress>\n",
       "\n",
       "    "
      ],
      "text/plain": [
       "<IPython.core.display.HTML object>"
      ]
     },
     "metadata": {},
     "output_type": "display_data"
    },
    {
     "name": "stdout",
     "output_type": "stream",
     "text": [
      "\n",
      "*** Feature extraction finished ***\n",
      "Features extracted and saved to D:\\Parkinson's\\Features_Extraction_15mins\\59178\\59178_07022019_TSFEL_output.csv\n",
      "*** Feature extraction started ***\n"
     ]
    },
    {
     "data": {
      "text/html": [
       "\n",
       "              <p>\n",
       "                  Progress: 100% Complete\n",
       "              <p/>\n",
       "              <progress\n",
       "                  value='31'\n",
       "                  max='31',\n",
       "                  style='width: 25%',\n",
       "              >\n",
       "                  31\n",
       "              </progress>\n",
       "\n",
       "    "
      ],
      "text/plain": [
       "<IPython.core.display.HTML object>"
      ]
     },
     "metadata": {},
     "output_type": "display_data"
    },
    {
     "name": "stdout",
     "output_type": "stream",
     "text": [
      "\n",
      "*** Feature extraction finished ***\n",
      "Features extracted and saved to D:\\Parkinson's\\Features_Extraction_15mins\\59310\\59310_11012019_TSFEL_output.csv\n",
      "*** Feature extraction started ***\n"
     ]
    },
    {
     "data": {
      "text/html": [
       "\n",
       "              <p>\n",
       "                  Progress: 100% Complete\n",
       "              <p/>\n",
       "              <progress\n",
       "                  value='23'\n",
       "                  max='23',\n",
       "                  style='width: 25%',\n",
       "              >\n",
       "                  23\n",
       "              </progress>\n",
       "\n",
       "    "
      ],
      "text/plain": [
       "<IPython.core.display.HTML object>"
      ]
     },
     "metadata": {},
     "output_type": "display_data"
    },
    {
     "name": "stdout",
     "output_type": "stream",
     "text": [
      "\n",
      "*** Feature extraction finished ***\n",
      "Features extracted and saved to D:\\Parkinson's\\Features_Extraction_15mins\\59409\\59409_08282019_TSFEL_output.csv\n",
      "Skipping D:\\Parkinson's\\Filtered_Data_9_to_5_updated\\Filtered_Data_9_to_5_updated\\59466_09182019_filtered.csv due to insufficient data for a 15-minute window.\n",
      "*** Feature extraction started ***\n"
     ]
    },
    {
     "data": {
      "text/html": [
       "\n",
       "              <p>\n",
       "                  Progress: 100% Complete\n",
       "              <p/>\n",
       "              <progress\n",
       "                  value='31'\n",
       "                  max='31',\n",
       "                  style='width: 25%',\n",
       "              >\n",
       "                  31\n",
       "              </progress>\n",
       "\n",
       "    "
      ],
      "text/plain": [
       "<IPython.core.display.HTML object>"
      ]
     },
     "metadata": {},
     "output_type": "display_data"
    },
    {
     "name": "stdout",
     "output_type": "stream",
     "text": [
      "\n",
      "*** Feature extraction finished ***\n",
      "Features extracted and saved to D:\\Parkinson's\\Features_Extraction_15mins\\59558\\59558_07012019_TSFEL_output.csv\n",
      "*** Feature extraction started ***\n"
     ]
    },
    {
     "data": {
      "text/html": [
       "\n",
       "              <p>\n",
       "                  Progress: 100% Complete\n",
       "              <p/>\n",
       "              <progress\n",
       "                  value='31'\n",
       "                  max='31',\n",
       "                  style='width: 25%',\n",
       "              >\n",
       "                  31\n",
       "              </progress>\n",
       "\n",
       "    "
      ],
      "text/plain": [
       "<IPython.core.display.HTML object>"
      ]
     },
     "metadata": {},
     "output_type": "display_data"
    },
    {
     "name": "stdout",
     "output_type": "stream",
     "text": [
      "\n",
      "*** Feature extraction finished ***\n",
      "Features extracted and saved to D:\\Parkinson's\\Features_Extraction_15mins\\59724\\59724_08012019_TSFEL_output.csv\n",
      "Skipping D:\\Parkinson's\\Filtered_Data_9_to_5_updated\\Filtered_Data_9_to_5_updated\\59797_01012019_filtered.csv due to insufficient data for a 15-minute window.\n",
      "*** Feature extraction started ***\n"
     ]
    },
    {
     "data": {
      "text/html": [
       "\n",
       "              <p>\n",
       "                  Progress: 100% Complete\n",
       "              <p/>\n",
       "              <progress\n",
       "                  value='31'\n",
       "                  max='31',\n",
       "                  style='width: 25%',\n",
       "              >\n",
       "                  31\n",
       "              </progress>\n",
       "\n",
       "    "
      ],
      "text/plain": [
       "<IPython.core.display.HTML object>"
      ]
     },
     "metadata": {},
     "output_type": "display_data"
    },
    {
     "name": "stdout",
     "output_type": "stream",
     "text": [
      "\n",
      "*** Feature extraction finished ***\n",
      "Features extracted and saved to D:\\Parkinson's\\Features_Extraction_15mins\\59797\\59797_12012019_TSFEL_output.csv\n",
      "Skipping D:\\Parkinson's\\Filtered_Data_9_to_5_updated\\Filtered_Data_9_to_5_updated\\59866_07112019_filtered.csv due to insufficient data for a 15-minute window.\n",
      "*** Feature extraction started ***\n"
     ]
    },
    {
     "data": {
      "text/html": [
       "\n",
       "              <p>\n",
       "                  Progress: 100% Complete\n",
       "              <p/>\n",
       "              <progress\n",
       "                  value='31'\n",
       "                  max='31',\n",
       "                  style='width: 25%',\n",
       "              >\n",
       "                  31\n",
       "              </progress>\n",
       "\n",
       "    "
      ],
      "text/plain": [
       "<IPython.core.display.HTML object>"
      ]
     },
     "metadata": {},
     "output_type": "display_data"
    },
    {
     "name": "stdout",
     "output_type": "stream",
     "text": [
      "\n",
      "*** Feature extraction finished ***\n",
      "Features extracted and saved to D:\\Parkinson's\\Features_Extraction_15mins\\60013\\60013_10012019_TSFEL_output.csv\n",
      "*** Feature extraction started ***\n"
     ]
    },
    {
     "data": {
      "text/html": [
       "\n",
       "              <p>\n",
       "                  Progress: 100% Complete\n",
       "              <p/>\n",
       "              <progress\n",
       "                  value='31'\n",
       "                  max='31',\n",
       "                  style='width: 25%',\n",
       "              >\n",
       "                  31\n",
       "              </progress>\n",
       "\n",
       "    "
      ],
      "text/plain": [
       "<IPython.core.display.HTML object>"
      ]
     },
     "metadata": {},
     "output_type": "display_data"
    },
    {
     "name": "stdout",
     "output_type": "stream",
     "text": [
      "\n",
      "*** Feature extraction finished ***\n",
      "Features extracted and saved to D:\\Parkinson's\\Features_Extraction_15mins\\65002\\65002_11012019_TSFEL_output.csv\n",
      "*** Feature extraction started ***\n"
     ]
    },
    {
     "data": {
      "text/html": [
       "\n",
       "              <p>\n",
       "                  Progress: 100% Complete\n",
       "              <p/>\n",
       "              <progress\n",
       "                  value='31'\n",
       "                  max='31',\n",
       "                  style='width: 25%',\n",
       "              >\n",
       "                  31\n",
       "              </progress>\n",
       "\n",
       "    "
      ],
      "text/plain": [
       "<IPython.core.display.HTML object>"
      ]
     },
     "metadata": {},
     "output_type": "display_data"
    },
    {
     "name": "stdout",
     "output_type": "stream",
     "text": [
      "\n",
      "*** Feature extraction finished ***\n",
      "Features extracted and saved to D:\\Parkinson's\\Features_Extraction_15mins\\70035\\70035_07012019_TSFEL_output.csv\n",
      "*** Feature extraction started ***\n"
     ]
    },
    {
     "data": {
      "text/html": [
       "\n",
       "              <p>\n",
       "                  Progress: 100% Complete\n",
       "              <p/>\n",
       "              <progress\n",
       "                  value='31'\n",
       "                  max='31',\n",
       "                  style='width: 25%',\n",
       "              >\n",
       "                  31\n",
       "              </progress>\n",
       "\n",
       "    "
      ],
      "text/plain": [
       "<IPython.core.display.HTML object>"
      ]
     },
     "metadata": {},
     "output_type": "display_data"
    },
    {
     "name": "stdout",
     "output_type": "stream",
     "text": [
      "\n",
      "*** Feature extraction finished ***\n",
      "Features extracted and saved to D:\\Parkinson's\\Features_Extraction_15mins\\70106\\70106_08012019_TSFEL_output.csv\n",
      "*** Feature extraction started ***\n"
     ]
    },
    {
     "data": {
      "text/html": [
       "\n",
       "              <p>\n",
       "                  Progress: 100% Complete\n",
       "              <p/>\n",
       "              <progress\n",
       "                  value='27'\n",
       "                  max='27',\n",
       "                  style='width: 25%',\n",
       "              >\n",
       "                  27\n",
       "              </progress>\n",
       "\n",
       "    "
      ],
      "text/plain": [
       "<IPython.core.display.HTML object>"
      ]
     },
     "metadata": {},
     "output_type": "display_data"
    },
    {
     "name": "stdout",
     "output_type": "stream",
     "text": [
      "\n",
      "*** Feature extraction finished ***\n",
      "Features extracted and saved to D:\\Parkinson's\\Features_Extraction_15mins\\70179\\70179_01102019_TSFEL_output.csv\n",
      "*** Feature extraction started ***\n"
     ]
    },
    {
     "data": {
      "text/html": [
       "\n",
       "              <p>\n",
       "                  Progress: 100% Complete\n",
       "              <p/>\n",
       "              <progress\n",
       "                  value='31'\n",
       "                  max='31',\n",
       "                  style='width: 25%',\n",
       "              >\n",
       "                  31\n",
       "              </progress>\n",
       "\n",
       "    "
      ],
      "text/plain": [
       "<IPython.core.display.HTML object>"
      ]
     },
     "metadata": {},
     "output_type": "display_data"
    },
    {
     "name": "stdout",
     "output_type": "stream",
     "text": [
      "\n",
      "*** Feature extraction finished ***\n",
      "Features extracted and saved to D:\\Parkinson's\\Features_Extraction_15mins\\70188\\70188_10012019_TSFEL_output.csv\n",
      "*** Feature extraction started ***\n"
     ]
    },
    {
     "data": {
      "text/html": [
       "\n",
       "              <p>\n",
       "                  Progress: 100% Complete\n",
       "              <p/>\n",
       "              <progress\n",
       "                  value='31'\n",
       "                  max='31',\n",
       "                  style='width: 25%',\n",
       "              >\n",
       "                  31\n",
       "              </progress>\n",
       "\n",
       "    "
      ],
      "text/plain": [
       "<IPython.core.display.HTML object>"
      ]
     },
     "metadata": {},
     "output_type": "display_data"
    },
    {
     "name": "stdout",
     "output_type": "stream",
     "text": [
      "\n",
      "*** Feature extraction finished ***\n",
      "Features extracted and saved to D:\\Parkinson's\\Features_Extraction_15mins\\70326\\70326_08012019_TSFEL_output.csv\n",
      "*** Feature extraction started ***\n"
     ]
    },
    {
     "data": {
      "text/html": [
       "\n",
       "              <p>\n",
       "                  Progress: 100% Complete\n",
       "              <p/>\n",
       "              <progress\n",
       "                  value='31'\n",
       "                  max='31',\n",
       "                  style='width: 25%',\n",
       "              >\n",
       "                  31\n",
       "              </progress>\n",
       "\n",
       "    "
      ],
      "text/plain": [
       "<IPython.core.display.HTML object>"
      ]
     },
     "metadata": {},
     "output_type": "display_data"
    },
    {
     "name": "stdout",
     "output_type": "stream",
     "text": [
      "\n",
      "*** Feature extraction finished ***\n",
      "Features extracted and saved to D:\\Parkinson's\\Features_Extraction_15mins\\70345\\70345_10012019_TSFEL_output.csv\n",
      "*** Feature extraction started ***\n"
     ]
    },
    {
     "data": {
      "text/html": [
       "\n",
       "              <p>\n",
       "                  Progress: 100% Complete\n",
       "              <p/>\n",
       "              <progress\n",
       "                  value='31'\n",
       "                  max='31',\n",
       "                  style='width: 25%',\n",
       "              >\n",
       "                  31\n",
       "              </progress>\n",
       "\n",
       "    "
      ],
      "text/plain": [
       "<IPython.core.display.HTML object>"
      ]
     },
     "metadata": {},
     "output_type": "display_data"
    },
    {
     "name": "stdout",
     "output_type": "stream",
     "text": [
      "\n",
      "*** Feature extraction finished ***\n",
      "Features extracted and saved to D:\\Parkinson's\\Features_Extraction_15mins\\70378\\70378_12012019_TSFEL_output.csv\n",
      "*** Feature extraction started ***\n"
     ]
    },
    {
     "data": {
      "text/html": [
       "\n",
       "              <p>\n",
       "                  Progress: 100% Complete\n",
       "              <p/>\n",
       "              <progress\n",
       "                  value='2'\n",
       "                  max='2',\n",
       "                  style='width: 25%',\n",
       "              >\n",
       "                  2\n",
       "              </progress>\n",
       "\n",
       "    "
      ],
      "text/plain": [
       "<IPython.core.display.HTML object>"
      ]
     },
     "metadata": {},
     "output_type": "display_data"
    },
    {
     "name": "stdout",
     "output_type": "stream",
     "text": [
      "\n",
      "*** Feature extraction finished ***\n",
      "Features extracted and saved to D:\\Parkinson's\\Features_Extraction_15mins\\70432\\70432_09092019_TSFEL_output.csv\n",
      "*** Feature extraction started ***\n"
     ]
    },
    {
     "data": {
      "text/html": [
       "\n",
       "              <p>\n",
       "                  Progress: 100% Complete\n",
       "              <p/>\n",
       "              <progress\n",
       "                  value='31'\n",
       "                  max='31',\n",
       "                  style='width: 25%',\n",
       "              >\n",
       "                  31\n",
       "              </progress>\n",
       "\n",
       "    "
      ],
      "text/plain": [
       "<IPython.core.display.HTML object>"
      ]
     },
     "metadata": {},
     "output_type": "display_data"
    },
    {
     "name": "stdout",
     "output_type": "stream",
     "text": [
      "\n",
      "*** Feature extraction finished ***\n",
      "Features extracted and saved to D:\\Parkinson's\\Features_Extraction_15mins\\70519\\70519_11222019_TSFEL_output.csv\n",
      "*** Feature extraction started ***\n"
     ]
    },
    {
     "data": {
      "text/html": [
       "\n",
       "              <p>\n",
       "                  Progress: 100% Complete\n",
       "              <p/>\n",
       "              <progress\n",
       "                  value='17'\n",
       "                  max='17',\n",
       "                  style='width: 25%',\n",
       "              >\n",
       "                  17\n",
       "              </progress>\n",
       "\n",
       "    "
      ],
      "text/plain": [
       "<IPython.core.display.HTML object>"
      ]
     },
     "metadata": {},
     "output_type": "display_data"
    },
    {
     "name": "stdout",
     "output_type": "stream",
     "text": [
      "\n",
      "*** Feature extraction finished ***\n",
      "Features extracted and saved to D:\\Parkinson's\\Features_Extraction_15mins\\70631\\70631_11012019_TSFEL_output.csv\n",
      "*** Feature extraction started ***\n"
     ]
    },
    {
     "data": {
      "text/html": [
       "\n",
       "              <p>\n",
       "                  Progress: 100% Complete\n",
       "              <p/>\n",
       "              <progress\n",
       "                  value='29'\n",
       "                  max='29',\n",
       "                  style='width: 25%',\n",
       "              >\n",
       "                  29\n",
       "              </progress>\n",
       "\n",
       "    "
      ],
      "text/plain": [
       "<IPython.core.display.HTML object>"
      ]
     },
     "metadata": {},
     "output_type": "display_data"
    },
    {
     "name": "stdout",
     "output_type": "stream",
     "text": [
      "\n",
      "*** Feature extraction finished ***\n",
      "Features extracted and saved to D:\\Parkinson's\\Features_Extraction_15mins\\70645\\70645_09012019_TSFEL_output.csv\n",
      "*** Feature extraction started ***\n"
     ]
    },
    {
     "data": {
      "text/html": [
       "\n",
       "              <p>\n",
       "                  Progress: 100% Complete\n",
       "              <p/>\n",
       "              <progress\n",
       "                  value='31'\n",
       "                  max='31',\n",
       "                  style='width: 25%',\n",
       "              >\n",
       "                  31\n",
       "              </progress>\n",
       "\n",
       "    "
      ],
      "text/plain": [
       "<IPython.core.display.HTML object>"
      ]
     },
     "metadata": {},
     "output_type": "display_data"
    },
    {
     "name": "stdout",
     "output_type": "stream",
     "text": [
      "\n",
      "*** Feature extraction finished ***\n",
      "Features extracted and saved to D:\\Parkinson's\\Features_Extraction_15mins\\70652\\70652_10012019_TSFEL_output.csv\n",
      "*** Feature extraction started ***\n"
     ]
    },
    {
     "data": {
      "text/html": [
       "\n",
       "              <p>\n",
       "                  Progress: 100% Complete\n",
       "              <p/>\n",
       "              <progress\n",
       "                  value='15'\n",
       "                  max='15',\n",
       "                  style='width: 25%',\n",
       "              >\n",
       "                  15\n",
       "              </progress>\n",
       "\n",
       "    "
      ],
      "text/plain": [
       "<IPython.core.display.HTML object>"
      ]
     },
     "metadata": {},
     "output_type": "display_data"
    },
    {
     "name": "stdout",
     "output_type": "stream",
     "text": [
      "\n",
      "*** Feature extraction finished ***\n",
      "Features extracted and saved to D:\\Parkinson's\\Features_Extraction_15mins\\70659\\70659_11012019_TSFEL_output.csv\n",
      "*** Feature extraction started ***\n"
     ]
    },
    {
     "data": {
      "text/html": [
       "\n",
       "              <p>\n",
       "                  Progress: 100% Complete\n",
       "              <p/>\n",
       "              <progress\n",
       "                  value='24'\n",
       "                  max='24',\n",
       "                  style='width: 25%',\n",
       "              >\n",
       "                  24\n",
       "              </progress>\n",
       "\n",
       "    "
      ],
      "text/plain": [
       "<IPython.core.display.HTML object>"
      ]
     },
     "metadata": {},
     "output_type": "display_data"
    },
    {
     "name": "stdout",
     "output_type": "stream",
     "text": [
      "\n",
      "*** Feature extraction finished ***\n",
      "Features extracted and saved to D:\\Parkinson's\\Features_Extraction_15mins\\70810\\70810_03272019_TSFEL_output.csv\n",
      "*** Feature extraction started ***\n"
     ]
    },
    {
     "data": {
      "text/html": [
       "\n",
       "              <p>\n",
       "                  Progress: 100% Complete\n",
       "              <p/>\n",
       "              <progress\n",
       "                  value='31'\n",
       "                  max='31',\n",
       "                  style='width: 25%',\n",
       "              >\n",
       "                  31\n",
       "              </progress>\n",
       "\n",
       "    "
      ],
      "text/plain": [
       "<IPython.core.display.HTML object>"
      ]
     },
     "metadata": {},
     "output_type": "display_data"
    },
    {
     "name": "stdout",
     "output_type": "stream",
     "text": [
      "\n",
      "*** Feature extraction finished ***\n",
      "Features extracted and saved to D:\\Parkinson's\\Features_Extraction_15mins\\71065\\71065_01012019_TSFEL_output.csv\n",
      "*** Feature extraction started ***\n"
     ]
    },
    {
     "data": {
      "text/html": [
       "\n",
       "              <p>\n",
       "                  Progress: 100% Complete\n",
       "              <p/>\n",
       "              <progress\n",
       "                  value='22'\n",
       "                  max='22',\n",
       "                  style='width: 25%',\n",
       "              >\n",
       "                  22\n",
       "              </progress>\n",
       "\n",
       "    "
      ],
      "text/plain": [
       "<IPython.core.display.HTML object>"
      ]
     },
     "metadata": {},
     "output_type": "display_data"
    },
    {
     "name": "stdout",
     "output_type": "stream",
     "text": [
      "\n",
      "*** Feature extraction finished ***\n",
      "Features extracted and saved to D:\\Parkinson's\\Features_Extraction_15mins\\71189\\71189_10102019_TSFEL_output.csv\n",
      "*** Feature extraction started ***\n"
     ]
    },
    {
     "data": {
      "text/html": [
       "\n",
       "              <p>\n",
       "                  Progress: 100% Complete\n",
       "              <p/>\n",
       "              <progress\n",
       "                  value='31'\n",
       "                  max='31',\n",
       "                  style='width: 25%',\n",
       "              >\n",
       "                  31\n",
       "              </progress>\n",
       "\n",
       "    "
      ],
      "text/plain": [
       "<IPython.core.display.HTML object>"
      ]
     },
     "metadata": {},
     "output_type": "display_data"
    },
    {
     "name": "stdout",
     "output_type": "stream",
     "text": [
      "\n",
      "*** Feature extraction finished ***\n",
      "Features extracted and saved to D:\\Parkinson's\\Features_Extraction_15mins\\71215\\71215_05312019_TSFEL_output.csv\n",
      "*** Feature extraction started ***\n"
     ]
    },
    {
     "data": {
      "text/html": [
       "\n",
       "              <p>\n",
       "                  Progress: 100% Complete\n",
       "              <p/>\n",
       "              <progress\n",
       "                  value='31'\n",
       "                  max='31',\n",
       "                  style='width: 25%',\n",
       "              >\n",
       "                  31\n",
       "              </progress>\n",
       "\n",
       "    "
      ],
      "text/plain": [
       "<IPython.core.display.HTML object>"
      ]
     },
     "metadata": {},
     "output_type": "display_data"
    },
    {
     "name": "stdout",
     "output_type": "stream",
     "text": [
      "\n",
      "*** Feature extraction finished ***\n",
      "Features extracted and saved to D:\\Parkinson's\\Features_Extraction_15mins\\71394\\71394_03012019_TSFEL_output.csv\n",
      "*** Feature extraction started ***\n"
     ]
    },
    {
     "data": {
      "text/html": [
       "\n",
       "              <p>\n",
       "                  Progress: 100% Complete\n",
       "              <p/>\n",
       "              <progress\n",
       "                  value='31'\n",
       "                  max='31',\n",
       "                  style='width: 25%',\n",
       "              >\n",
       "                  31\n",
       "              </progress>\n",
       "\n",
       "    "
      ],
      "text/plain": [
       "<IPython.core.display.HTML object>"
      ]
     },
     "metadata": {},
     "output_type": "display_data"
    },
    {
     "name": "stdout",
     "output_type": "stream",
     "text": [
      "\n",
      "*** Feature extraction finished ***\n",
      "Features extracted and saved to D:\\Parkinson's\\Features_Extraction_15mins\\71658\\71658_11012019_TSFEL_output.csv\n",
      "*** Feature extraction started ***\n"
     ]
    },
    {
     "data": {
      "text/html": [
       "\n",
       "              <p>\n",
       "                  Progress: 100% Complete\n",
       "              <p/>\n",
       "              <progress\n",
       "                  value='31'\n",
       "                  max='31',\n",
       "                  style='width: 25%',\n",
       "              >\n",
       "                  31\n",
       "              </progress>\n",
       "\n",
       "    "
      ],
      "text/plain": [
       "<IPython.core.display.HTML object>"
      ]
     },
     "metadata": {},
     "output_type": "display_data"
    },
    {
     "name": "stdout",
     "output_type": "stream",
     "text": [
      "\n",
      "*** Feature extraction finished ***\n",
      "Features extracted and saved to D:\\Parkinson's\\Features_Extraction_15mins\\71770\\71770_12012019_TSFEL_output.csv\n",
      "*** Feature extraction started ***\n"
     ]
    },
    {
     "data": {
      "text/html": [
       "\n",
       "              <p>\n",
       "                  Progress: 100% Complete\n",
       "              <p/>\n",
       "              <progress\n",
       "                  value='31'\n",
       "                  max='31',\n",
       "                  style='width: 25%',\n",
       "              >\n",
       "                  31\n",
       "              </progress>\n",
       "\n",
       "    "
      ],
      "text/plain": [
       "<IPython.core.display.HTML object>"
      ]
     },
     "metadata": {},
     "output_type": "display_data"
    },
    {
     "name": "stdout",
     "output_type": "stream",
     "text": [
      "\n",
      "*** Feature extraction finished ***\n",
      "Features extracted and saved to D:\\Parkinson's\\Features_Extraction_15mins\\71809\\71809_11012019_TSFEL_output.csv\n",
      "*** Feature extraction started ***\n"
     ]
    },
    {
     "data": {
      "text/html": [
       "\n",
       "              <p>\n",
       "                  Progress: 100% Complete\n",
       "              <p/>\n",
       "              <progress\n",
       "                  value='31'\n",
       "                  max='31',\n",
       "                  style='width: 25%',\n",
       "              >\n",
       "                  31\n",
       "              </progress>\n",
       "\n",
       "    "
      ],
      "text/plain": [
       "<IPython.core.display.HTML object>"
      ]
     },
     "metadata": {},
     "output_type": "display_data"
    },
    {
     "name": "stdout",
     "output_type": "stream",
     "text": [
      "\n",
      "*** Feature extraction finished ***\n",
      "Features extracted and saved to D:\\Parkinson's\\Features_Extraction_15mins\\72110\\72110_09012019_TSFEL_output.csv\n",
      "*** Feature extraction started ***\n"
     ]
    },
    {
     "data": {
      "text/html": [
       "\n",
       "              <p>\n",
       "                  Progress: 100% Complete\n",
       "              <p/>\n",
       "              <progress\n",
       "                  value='31'\n",
       "                  max='31',\n",
       "                  style='width: 25%',\n",
       "              >\n",
       "                  31\n",
       "              </progress>\n",
       "\n",
       "    "
      ],
      "text/plain": [
       "<IPython.core.display.HTML object>"
      ]
     },
     "metadata": {},
     "output_type": "display_data"
    },
    {
     "name": "stdout",
     "output_type": "stream",
     "text": [
      "\n",
      "*** Feature extraction finished ***\n",
      "Features extracted and saved to D:\\Parkinson's\\Features_Extraction_15mins\\72138\\72138_12012019_TSFEL_output.csv\n",
      "*** Feature extraction started ***\n"
     ]
    },
    {
     "data": {
      "text/html": [
       "\n",
       "              <p>\n",
       "                  Progress: 100% Complete\n",
       "              <p/>\n",
       "              <progress\n",
       "                  value='27'\n",
       "                  max='27',\n",
       "                  style='width: 25%',\n",
       "              >\n",
       "                  27\n",
       "              </progress>\n",
       "\n",
       "    "
      ],
      "text/plain": [
       "<IPython.core.display.HTML object>"
      ]
     },
     "metadata": {},
     "output_type": "display_data"
    },
    {
     "name": "stdout",
     "output_type": "stream",
     "text": [
      "\n",
      "*** Feature extraction finished ***\n",
      "Features extracted and saved to D:\\Parkinson's\\Features_Extraction_15mins\\72222\\72222_04012019_TSFEL_output.csv\n",
      "*** Feature extraction started ***\n"
     ]
    },
    {
     "data": {
      "text/html": [
       "\n",
       "              <p>\n",
       "                  Progress: 100% Complete\n",
       "              <p/>\n",
       "              <progress\n",
       "                  value='31'\n",
       "                  max='31',\n",
       "                  style='width: 25%',\n",
       "              >\n",
       "                  31\n",
       "              </progress>\n",
       "\n",
       "    "
      ],
      "text/plain": [
       "<IPython.core.display.HTML object>"
      ]
     },
     "metadata": {},
     "output_type": "display_data"
    },
    {
     "name": "stdout",
     "output_type": "stream",
     "text": [
      "\n",
      "*** Feature extraction finished ***\n",
      "Features extracted and saved to D:\\Parkinson's\\Features_Extraction_15mins\\72352\\72352_01012019_TSFEL_output.csv\n",
      "*** Feature extraction started ***\n"
     ]
    },
    {
     "data": {
      "text/html": [
       "\n",
       "              <p>\n",
       "                  Progress: 100% Complete\n",
       "              <p/>\n",
       "              <progress\n",
       "                  value='31'\n",
       "                  max='31',\n",
       "                  style='width: 25%',\n",
       "              >\n",
       "                  31\n",
       "              </progress>\n",
       "\n",
       "    "
      ],
      "text/plain": [
       "<IPython.core.display.HTML object>"
      ]
     },
     "metadata": {},
     "output_type": "display_data"
    },
    {
     "name": "stdout",
     "output_type": "stream",
     "text": [
      "\n",
      "*** Feature extraction finished ***\n",
      "Features extracted and saved to D:\\Parkinson's\\Features_Extraction_15mins\\72419\\72419_10012019_TSFEL_output.csv\n",
      "Skipping D:\\Parkinson's\\Filtered_Data_9_to_5_updated\\Filtered_Data_9_to_5_updated\\72562_09302019_filtered.csv due to insufficient data for a 15-minute window.\n",
      "*** Feature extraction started ***\n"
     ]
    },
    {
     "data": {
      "text/html": [
       "\n",
       "              <p>\n",
       "                  Progress: 100% Complete\n",
       "              <p/>\n",
       "              <progress\n",
       "                  value='23'\n",
       "                  max='23',\n",
       "                  style='width: 25%',\n",
       "              >\n",
       "                  23\n",
       "              </progress>\n",
       "\n",
       "    "
      ],
      "text/plain": [
       "<IPython.core.display.HTML object>"
      ]
     },
     "metadata": {},
     "output_type": "display_data"
    },
    {
     "name": "stdout",
     "output_type": "stream",
     "text": [
      "\n",
      "*** Feature extraction finished ***\n",
      "Features extracted and saved to D:\\Parkinson's\\Features_Extraction_15mins\\72651\\72651_09122019_TSFEL_output.csv\n",
      "*** Feature extraction started ***\n"
     ]
    },
    {
     "data": {
      "text/html": [
       "\n",
       "              <p>\n",
       "                  Progress: 100% Complete\n",
       "              <p/>\n",
       "              <progress\n",
       "                  value='19'\n",
       "                  max='19',\n",
       "                  style='width: 25%',\n",
       "              >\n",
       "                  19\n",
       "              </progress>\n",
       "\n",
       "    "
      ],
      "text/plain": [
       "<IPython.core.display.HTML object>"
      ]
     },
     "metadata": {},
     "output_type": "display_data"
    },
    {
     "name": "stdout",
     "output_type": "stream",
     "text": [
      "\n",
      "*** Feature extraction finished ***\n",
      "Features extracted and saved to D:\\Parkinson's\\Features_Extraction_15mins\\72784\\72784_12122019_TSFEL_output.csv\n",
      "*** Feature extraction started ***\n"
     ]
    },
    {
     "data": {
      "text/html": [
       "\n",
       "              <p>\n",
       "                  Progress: 100% Complete\n",
       "              <p/>\n",
       "              <progress\n",
       "                  value='14'\n",
       "                  max='14',\n",
       "                  style='width: 25%',\n",
       "              >\n",
       "                  14\n",
       "              </progress>\n",
       "\n",
       "    "
      ],
      "text/plain": [
       "<IPython.core.display.HTML object>"
      ]
     },
     "metadata": {},
     "output_type": "display_data"
    },
    {
     "name": "stdout",
     "output_type": "stream",
     "text": [
      "\n",
      "*** Feature extraction finished ***\n",
      "Features extracted and saved to D:\\Parkinson's\\Features_Extraction_15mins\\72877\\72877_11222019_TSFEL_output.csv\n",
      "*** Feature extraction started ***\n"
     ]
    },
    {
     "data": {
      "text/html": [
       "\n",
       "              <p>\n",
       "                  Progress: 100% Complete\n",
       "              <p/>\n",
       "              <progress\n",
       "                  value='31'\n",
       "                  max='31',\n",
       "                  style='width: 25%',\n",
       "              >\n",
       "                  31\n",
       "              </progress>\n",
       "\n",
       "    "
      ],
      "text/plain": [
       "<IPython.core.display.HTML object>"
      ]
     },
     "metadata": {},
     "output_type": "display_data"
    },
    {
     "name": "stdout",
     "output_type": "stream",
     "text": [
      "\n",
      "*** Feature extraction finished ***\n",
      "Features extracted and saved to D:\\Parkinson's\\Features_Extraction_15mins\\73082\\73082_06012019_TSFEL_output.csv\n",
      "*** Feature extraction started ***\n"
     ]
    },
    {
     "data": {
      "text/html": [
       "\n",
       "              <p>\n",
       "                  Progress: 100% Complete\n",
       "              <p/>\n",
       "              <progress\n",
       "                  value='31'\n",
       "                  max='31',\n",
       "                  style='width: 25%',\n",
       "              >\n",
       "                  31\n",
       "              </progress>\n",
       "\n",
       "    "
      ],
      "text/plain": [
       "<IPython.core.display.HTML object>"
      ]
     },
     "metadata": {},
     "output_type": "display_data"
    },
    {
     "name": "stdout",
     "output_type": "stream",
     "text": [
      "\n",
      "*** Feature extraction finished ***\n",
      "Features extracted and saved to D:\\Parkinson's\\Features_Extraction_15mins\\73134\\73134_01012019_TSFEL_output.csv\n",
      "*** Feature extraction started ***\n"
     ]
    },
    {
     "data": {
      "text/html": [
       "\n",
       "              <p>\n",
       "                  Progress: 100% Complete\n",
       "              <p/>\n",
       "              <progress\n",
       "                  value='31'\n",
       "                  max='31',\n",
       "                  style='width: 25%',\n",
       "              >\n",
       "                  31\n",
       "              </progress>\n",
       "\n",
       "    "
      ],
      "text/plain": [
       "<IPython.core.display.HTML object>"
      ]
     },
     "metadata": {},
     "output_type": "display_data"
    },
    {
     "name": "stdout",
     "output_type": "stream",
     "text": [
      "\n",
      "*** Feature extraction finished ***\n",
      "Features extracted and saved to D:\\Parkinson's\\Features_Extraction_15mins\\73134\\73134_12012019_TSFEL_output.csv\n",
      "*** Feature extraction started ***\n"
     ]
    },
    {
     "data": {
      "text/html": [
       "\n",
       "              <p>\n",
       "                  Progress: 100% Complete\n",
       "              <p/>\n",
       "              <progress\n",
       "                  value='20'\n",
       "                  max='20',\n",
       "                  style='width: 25%',\n",
       "              >\n",
       "                  20\n",
       "              </progress>\n",
       "\n",
       "    "
      ],
      "text/plain": [
       "<IPython.core.display.HTML object>"
      ]
     },
     "metadata": {},
     "output_type": "display_data"
    },
    {
     "name": "stdout",
     "output_type": "stream",
     "text": [
      "\n",
      "*** Feature extraction finished ***\n",
      "Features extracted and saved to D:\\Parkinson's\\Features_Extraction_15mins\\73397\\73397_10182019_TSFEL_output.csv\n",
      "*** Feature extraction started ***\n"
     ]
    },
    {
     "data": {
      "text/html": [
       "\n",
       "              <p>\n",
       "                  Progress: 100% Complete\n",
       "              <p/>\n",
       "              <progress\n",
       "                  value='31'\n",
       "                  max='31',\n",
       "                  style='width: 25%',\n",
       "              >\n",
       "                  31\n",
       "              </progress>\n",
       "\n",
       "    "
      ],
      "text/plain": [
       "<IPython.core.display.HTML object>"
      ]
     },
     "metadata": {},
     "output_type": "display_data"
    },
    {
     "name": "stdout",
     "output_type": "stream",
     "text": [
      "\n",
      "*** Feature extraction finished ***\n",
      "Features extracted and saved to D:\\Parkinson's\\Features_Extraction_15mins\\73432\\73432_10012019_TSFEL_output.csv\n",
      "*** Feature extraction started ***\n"
     ]
    },
    {
     "data": {
      "text/html": [
       "\n",
       "              <p>\n",
       "                  Progress: 100% Complete\n",
       "              <p/>\n",
       "              <progress\n",
       "                  value='31'\n",
       "                  max='31',\n",
       "                  style='width: 25%',\n",
       "              >\n",
       "                  31\n",
       "              </progress>\n",
       "\n",
       "    "
      ],
      "text/plain": [
       "<IPython.core.display.HTML object>"
      ]
     },
     "metadata": {},
     "output_type": "display_data"
    },
    {
     "name": "stdout",
     "output_type": "stream",
     "text": [
      "\n",
      "*** Feature extraction finished ***\n",
      "Features extracted and saved to D:\\Parkinson's\\Features_Extraction_15mins\\73614\\73614_02012019_TSFEL_output.csv\n",
      "*** Feature extraction started ***\n"
     ]
    },
    {
     "data": {
      "text/html": [
       "\n",
       "              <p>\n",
       "                  Progress: 100% Complete\n",
       "              <p/>\n",
       "              <progress\n",
       "                  value='31'\n",
       "                  max='31',\n",
       "                  style='width: 25%',\n",
       "              >\n",
       "                  31\n",
       "              </progress>\n",
       "\n",
       "    "
      ],
      "text/plain": [
       "<IPython.core.display.HTML object>"
      ]
     },
     "metadata": {},
     "output_type": "display_data"
    },
    {
     "name": "stdout",
     "output_type": "stream",
     "text": [
      "\n",
      "*** Feature extraction finished ***\n",
      "Features extracted and saved to D:\\Parkinson's\\Features_Extraction_15mins\\73787\\73787_12012019_TSFEL_output.csv\n",
      "*** Feature extraction started ***\n"
     ]
    },
    {
     "data": {
      "text/html": [
       "\n",
       "              <p>\n",
       "                  Progress: 100% Complete\n",
       "              <p/>\n",
       "              <progress\n",
       "                  value='31'\n",
       "                  max='31',\n",
       "                  style='width: 25%',\n",
       "              >\n",
       "                  31\n",
       "              </progress>\n",
       "\n",
       "    "
      ],
      "text/plain": [
       "<IPython.core.display.HTML object>"
      ]
     },
     "metadata": {},
     "output_type": "display_data"
    },
    {
     "name": "stdout",
     "output_type": "stream",
     "text": [
      "\n",
      "*** Feature extraction finished ***\n",
      "Features extracted and saved to D:\\Parkinson's\\Features_Extraction_15mins\\73887\\73887_07012019_TSFEL_output.csv\n",
      "*** Feature extraction started ***\n"
     ]
    },
    {
     "data": {
      "text/html": [
       "\n",
       "              <p>\n",
       "                  Progress: 100% Complete\n",
       "              <p/>\n",
       "              <progress\n",
       "                  value='1'\n",
       "                  max='1',\n",
       "                  style='width: 25%',\n",
       "              >\n",
       "                  1\n",
       "              </progress>\n",
       "\n",
       "    "
      ],
      "text/plain": [
       "<IPython.core.display.HTML object>"
      ]
     },
     "metadata": {},
     "output_type": "display_data"
    },
    {
     "name": "stdout",
     "output_type": "stream",
     "text": [
      "\n",
      "*** Feature extraction finished ***\n",
      "Features extracted and saved to D:\\Parkinson's\\Features_Extraction_15mins\\73935\\73935_11012019_TSFEL_output.csv\n",
      "*** Feature extraction started ***\n"
     ]
    },
    {
     "data": {
      "text/html": [
       "\n",
       "              <p>\n",
       "                  Progress: 100% Complete\n",
       "              <p/>\n",
       "              <progress\n",
       "                  value='31'\n",
       "                  max='31',\n",
       "                  style='width: 25%',\n",
       "              >\n",
       "                  31\n",
       "              </progress>\n",
       "\n",
       "    "
      ],
      "text/plain": [
       "<IPython.core.display.HTML object>"
      ]
     },
     "metadata": {},
     "output_type": "display_data"
    },
    {
     "name": "stdout",
     "output_type": "stream",
     "text": [
      "\n",
      "*** Feature extraction finished ***\n",
      "Features extracted and saved to D:\\Parkinson's\\Features_Extraction_15mins\\74034\\74034_04012019_TSFEL_output.csv\n",
      "*** Feature extraction started ***\n"
     ]
    },
    {
     "data": {
      "text/html": [
       "\n",
       "              <p>\n",
       "                  Progress: 100% Complete\n",
       "              <p/>\n",
       "              <progress\n",
       "                  value='31'\n",
       "                  max='31',\n",
       "                  style='width: 25%',\n",
       "              >\n",
       "                  31\n",
       "              </progress>\n",
       "\n",
       "    "
      ],
      "text/plain": [
       "<IPython.core.display.HTML object>"
      ]
     },
     "metadata": {},
     "output_type": "display_data"
    },
    {
     "name": "stdout",
     "output_type": "stream",
     "text": [
      "\n",
      "*** Feature extraction finished ***\n",
      "Features extracted and saved to D:\\Parkinson's\\Features_Extraction_15mins\\74067\\74067_05012019_TSFEL_output.csv\n",
      "*** Feature extraction started ***\n"
     ]
    },
    {
     "data": {
      "text/html": [
       "\n",
       "              <p>\n",
       "                  Progress: 100% Complete\n",
       "              <p/>\n",
       "              <progress\n",
       "                  value='17'\n",
       "                  max='17',\n",
       "                  style='width: 25%',\n",
       "              >\n",
       "                  17\n",
       "              </progress>\n",
       "\n",
       "    "
      ],
      "text/plain": [
       "<IPython.core.display.HTML object>"
      ]
     },
     "metadata": {},
     "output_type": "display_data"
    },
    {
     "name": "stdout",
     "output_type": "stream",
     "text": [
      "\n",
      "*** Feature extraction finished ***\n",
      "Features extracted and saved to D:\\Parkinson's\\Features_Extraction_15mins\\74251\\74251_12022019_TSFEL_output.csv\n",
      "*** Feature extraction started ***\n"
     ]
    },
    {
     "data": {
      "text/html": [
       "\n",
       "              <p>\n",
       "                  Progress: 100% Complete\n",
       "              <p/>\n",
       "              <progress\n",
       "                  value='31'\n",
       "                  max='31',\n",
       "                  style='width: 25%',\n",
       "              >\n",
       "                  31\n",
       "              </progress>\n",
       "\n",
       "    "
      ],
      "text/plain": [
       "<IPython.core.display.HTML object>"
      ]
     },
     "metadata": {},
     "output_type": "display_data"
    },
    {
     "name": "stdout",
     "output_type": "stream",
     "text": [
      "\n",
      "*** Feature extraction finished ***\n",
      "Features extracted and saved to D:\\Parkinson's\\Features_Extraction_15mins\\74497\\74497_10012019_TSFEL_output.csv\n",
      "*** Feature extraction started ***\n"
     ]
    },
    {
     "data": {
      "text/html": [
       "\n",
       "              <p>\n",
       "                  Progress: 100% Complete\n",
       "              <p/>\n",
       "              <progress\n",
       "                  value='31'\n",
       "                  max='31',\n",
       "                  style='width: 25%',\n",
       "              >\n",
       "                  31\n",
       "              </progress>\n",
       "\n",
       "    "
      ],
      "text/plain": [
       "<IPython.core.display.HTML object>"
      ]
     },
     "metadata": {},
     "output_type": "display_data"
    },
    {
     "name": "stdout",
     "output_type": "stream",
     "text": [
      "\n",
      "*** Feature extraction finished ***\n",
      "Features extracted and saved to D:\\Parkinson's\\Features_Extraction_15mins\\74696\\74696_11012019_TSFEL_output.csv\n",
      "*** Feature extraction started ***\n"
     ]
    },
    {
     "data": {
      "text/html": [
       "\n",
       "              <p>\n",
       "                  Progress: 100% Complete\n",
       "              <p/>\n",
       "              <progress\n",
       "                  value='31'\n",
       "                  max='31',\n",
       "                  style='width: 25%',\n",
       "              >\n",
       "                  31\n",
       "              </progress>\n",
       "\n",
       "    "
      ],
      "text/plain": [
       "<IPython.core.display.HTML object>"
      ]
     },
     "metadata": {},
     "output_type": "display_data"
    },
    {
     "name": "stdout",
     "output_type": "stream",
     "text": [
      "\n",
      "*** Feature extraction finished ***\n",
      "Features extracted and saved to D:\\Parkinson's\\Features_Extraction_15mins\\75403\\75403_05312019_TSFEL_output.csv\n",
      "*** Feature extraction started ***\n"
     ]
    },
    {
     "data": {
      "text/html": [
       "\n",
       "              <p>\n",
       "                  Progress: 100% Complete\n",
       "              <p/>\n",
       "              <progress\n",
       "                  value='8'\n",
       "                  max='8',\n",
       "                  style='width: 25%',\n",
       "              >\n",
       "                  8\n",
       "              </progress>\n",
       "\n",
       "    "
      ],
      "text/plain": [
       "<IPython.core.display.HTML object>"
      ]
     },
     "metadata": {},
     "output_type": "display_data"
    },
    {
     "name": "stdout",
     "output_type": "stream",
     "text": [
      "\n",
      "*** Feature extraction finished ***\n",
      "Features extracted and saved to D:\\Parkinson's\\Features_Extraction_15mins\\75411\\75411_11202019_TSFEL_output.csv\n",
      "*** Feature extraction started ***\n"
     ]
    },
    {
     "data": {
      "text/html": [
       "\n",
       "              <p>\n",
       "                  Progress: 100% Complete\n",
       "              <p/>\n",
       "              <progress\n",
       "                  value='31'\n",
       "                  max='31',\n",
       "                  style='width: 25%',\n",
       "              >\n",
       "                  31\n",
       "              </progress>\n",
       "\n",
       "    "
      ],
      "text/plain": [
       "<IPython.core.display.HTML object>"
      ]
     },
     "metadata": {},
     "output_type": "display_data"
    },
    {
     "name": "stdout",
     "output_type": "stream",
     "text": [
      "\n",
      "*** Feature extraction finished ***\n",
      "Features extracted and saved to D:\\Parkinson's\\Features_Extraction_15mins\\75420\\75420_09012019_TSFEL_output.csv\n",
      "*** Feature extraction started ***\n"
     ]
    },
    {
     "data": {
      "text/html": [
       "\n",
       "              <p>\n",
       "                  Progress: 100% Complete\n",
       "              <p/>\n",
       "              <progress\n",
       "                  value='6'\n",
       "                  max='6',\n",
       "                  style='width: 25%',\n",
       "              >\n",
       "                  6\n",
       "              </progress>\n",
       "\n",
       "    "
      ],
      "text/plain": [
       "<IPython.core.display.HTML object>"
      ]
     },
     "metadata": {},
     "output_type": "display_data"
    },
    {
     "name": "stdout",
     "output_type": "stream",
     "text": [
      "\n",
      "*** Feature extraction finished ***\n",
      "Features extracted and saved to D:\\Parkinson's\\Features_Extraction_15mins\\75421\\75421_10162019_TSFEL_output.csv\n",
      "*** Feature extraction started ***\n"
     ]
    },
    {
     "data": {
      "text/html": [
       "\n",
       "              <p>\n",
       "                  Progress: 100% Complete\n",
       "              <p/>\n",
       "              <progress\n",
       "                  value='31'\n",
       "                  max='31',\n",
       "                  style='width: 25%',\n",
       "              >\n",
       "                  31\n",
       "              </progress>\n",
       "\n",
       "    "
      ],
      "text/plain": [
       "<IPython.core.display.HTML object>"
      ]
     },
     "metadata": {},
     "output_type": "display_data"
    },
    {
     "name": "stdout",
     "output_type": "stream",
     "text": [
      "\n",
      "*** Feature extraction finished ***\n",
      "Features extracted and saved to D:\\Parkinson's\\Features_Extraction_15mins\\75423\\75423_11012019_TSFEL_output.csv\n",
      "*** Feature extraction started ***\n"
     ]
    },
    {
     "data": {
      "text/html": [
       "\n",
       "              <p>\n",
       "                  Progress: 100% Complete\n",
       "              <p/>\n",
       "              <progress\n",
       "                  value='31'\n",
       "                  max='31',\n",
       "                  style='width: 25%',\n",
       "              >\n",
       "                  31\n",
       "              </progress>\n",
       "\n",
       "    "
      ],
      "text/plain": [
       "<IPython.core.display.HTML object>"
      ]
     },
     "metadata": {},
     "output_type": "display_data"
    },
    {
     "name": "stdout",
     "output_type": "stream",
     "text": [
      "\n",
      "*** Feature extraction finished ***\n",
      "Features extracted and saved to D:\\Parkinson's\\Features_Extraction_15mins\\75434\\75434_11012019_TSFEL_output.csv\n",
      "*** Feature extraction started ***\n"
     ]
    },
    {
     "data": {
      "text/html": [
       "\n",
       "              <p>\n",
       "                  Progress: 100% Complete\n",
       "              <p/>\n",
       "              <progress\n",
       "                  value='31'\n",
       "                  max='31',\n",
       "                  style='width: 25%',\n",
       "              >\n",
       "                  31\n",
       "              </progress>\n",
       "\n",
       "    "
      ],
      "text/plain": [
       "<IPython.core.display.HTML object>"
      ]
     },
     "metadata": {},
     "output_type": "display_data"
    },
    {
     "name": "stdout",
     "output_type": "stream",
     "text": [
      "\n",
      "*** Feature extraction finished ***\n",
      "Features extracted and saved to D:\\Parkinson's\\Features_Extraction_15mins\\75484\\75484_12022019_TSFEL_output.csv\n",
      "*** Feature extraction started ***\n"
     ]
    },
    {
     "data": {
      "text/html": [
       "\n",
       "              <p>\n",
       "                  Progress: 100% Complete\n",
       "              <p/>\n",
       "              <progress\n",
       "                  value='31'\n",
       "                  max='31',\n",
       "                  style='width: 25%',\n",
       "              >\n",
       "                  31\n",
       "              </progress>\n",
       "\n",
       "    "
      ],
      "text/plain": [
       "<IPython.core.display.HTML object>"
      ]
     },
     "metadata": {},
     "output_type": "display_data"
    },
    {
     "name": "stdout",
     "output_type": "stream",
     "text": [
      "\n",
      "*** Feature extraction finished ***\n",
      "Features extracted and saved to D:\\Parkinson's\\Features_Extraction_15mins\\75492\\75492_10012019_TSFEL_output.csv\n",
      "*** Feature extraction started ***\n"
     ]
    },
    {
     "data": {
      "text/html": [
       "\n",
       "              <p>\n",
       "                  Progress: 100% Complete\n",
       "              <p/>\n",
       "              <progress\n",
       "                  value='31'\n",
       "                  max='31',\n",
       "                  style='width: 25%',\n",
       "              >\n",
       "                  31\n",
       "              </progress>\n",
       "\n",
       "    "
      ],
      "text/plain": [
       "<IPython.core.display.HTML object>"
      ]
     },
     "metadata": {},
     "output_type": "display_data"
    },
    {
     "name": "stdout",
     "output_type": "stream",
     "text": [
      "\n",
      "*** Feature extraction finished ***\n",
      "Features extracted and saved to D:\\Parkinson's\\Features_Extraction_15mins\\75496\\75496_10012019_TSFEL_output.csv\n",
      "*** Feature extraction started ***\n"
     ]
    },
    {
     "data": {
      "text/html": [
       "\n",
       "              <p>\n",
       "                  Progress: 100% Complete\n",
       "              <p/>\n",
       "              <progress\n",
       "                  value='31'\n",
       "                  max='31',\n",
       "                  style='width: 25%',\n",
       "              >\n",
       "                  31\n",
       "              </progress>\n",
       "\n",
       "    "
      ],
      "text/plain": [
       "<IPython.core.display.HTML object>"
      ]
     },
     "metadata": {},
     "output_type": "display_data"
    },
    {
     "name": "stdout",
     "output_type": "stream",
     "text": [
      "\n",
      "*** Feature extraction finished ***\n",
      "Features extracted and saved to D:\\Parkinson's\\Features_Extraction_15mins\\75508\\75508_11012019_TSFEL_output.csv\n",
      "*** Feature extraction started ***\n"
     ]
    },
    {
     "data": {
      "text/html": [
       "\n",
       "              <p>\n",
       "                  Progress: 100% Complete\n",
       "              <p/>\n",
       "              <progress\n",
       "                  value='31'\n",
       "                  max='31',\n",
       "                  style='width: 25%',\n",
       "              >\n",
       "                  31\n",
       "              </progress>\n",
       "\n",
       "    "
      ],
      "text/plain": [
       "<IPython.core.display.HTML object>"
      ]
     },
     "metadata": {},
     "output_type": "display_data"
    },
    {
     "name": "stdout",
     "output_type": "stream",
     "text": [
      "\n",
      "*** Feature extraction finished ***\n",
      "Features extracted and saved to D:\\Parkinson's\\Features_Extraction_15mins\\75512\\75512_12012019_TSFEL_output.csv\n",
      "*** Feature extraction started ***\n"
     ]
    },
    {
     "data": {
      "text/html": [
       "\n",
       "              <p>\n",
       "                  Progress: 100% Complete\n",
       "              <p/>\n",
       "              <progress\n",
       "                  value='31'\n",
       "                  max='31',\n",
       "                  style='width: 25%',\n",
       "              >\n",
       "                  31\n",
       "              </progress>\n",
       "\n",
       "    "
      ],
      "text/plain": [
       "<IPython.core.display.HTML object>"
      ]
     },
     "metadata": {},
     "output_type": "display_data"
    },
    {
     "name": "stdout",
     "output_type": "stream",
     "text": [
      "\n",
      "*** Feature extraction finished ***\n",
      "Features extracted and saved to D:\\Parkinson's\\Features_Extraction_15mins\\75547\\75547_12012019_TSFEL_output.csv\n",
      "*** Feature extraction started ***\n"
     ]
    },
    {
     "data": {
      "text/html": [
       "\n",
       "              <p>\n",
       "                  Progress: 100% Complete\n",
       "              <p/>\n",
       "              <progress\n",
       "                  value='31'\n",
       "                  max='31',\n",
       "                  style='width: 25%',\n",
       "              >\n",
       "                  31\n",
       "              </progress>\n",
       "\n",
       "    "
      ],
      "text/plain": [
       "<IPython.core.display.HTML object>"
      ]
     },
     "metadata": {},
     "output_type": "display_data"
    },
    {
     "name": "stdout",
     "output_type": "stream",
     "text": [
      "\n",
      "*** Feature extraction finished ***\n",
      "Features extracted and saved to D:\\Parkinson's\\Features_Extraction_15mins\\90456\\90456_09012019_TSFEL_output.csv\n",
      "*** Feature extraction started ***\n"
     ]
    },
    {
     "data": {
      "text/html": [
       "\n",
       "              <p>\n",
       "                  Progress: 100% Complete\n",
       "              <p/>\n",
       "              <progress\n",
       "                  value='27'\n",
       "                  max='27',\n",
       "                  style='width: 25%',\n",
       "              >\n",
       "                  27\n",
       "              </progress>\n",
       "\n",
       "    "
      ],
      "text/plain": [
       "<IPython.core.display.HTML object>"
      ]
     },
     "metadata": {},
     "output_type": "display_data"
    },
    {
     "name": "stdout",
     "output_type": "stream",
     "text": [
      "\n",
      "*** Feature extraction finished ***\n",
      "Features extracted and saved to D:\\Parkinson's\\Features_Extraction_15mins\\91097\\91097_07112019_TSFEL_output.csv\n"
     ]
    }
   ],
   "source": [
    "import pandas as pd\n",
    "import tsfel\n",
    "import os\n",
    "from glob import glob\n",
    "\n",
    "# The root directory of the dataset\n",
    "main_directory = \"D:\\\\Parkinson's\\\\Filtered_Data_9_to_5_updated\\\\Filtered_Data_9_to_5_updated\"\n",
    "output_directory = \"D:\\\\Parkinson's\\\\Features_Extraction_15mins\"\n",
    "\n",
    "# Ensure the output directory exists\n",
    "os.makedirs(output_directory, exist_ok=True)\n",
    "\n",
    "# Get all CSV files in the main directory that match the pattern\n",
    "file_paths = glob(os.path.join(main_directory, \"*_filtered.csv\"))\n",
    "\n",
    "# Feature extraction process for each file\n",
    "for file_path in file_paths:\n",
    "    # Extract the base file name without extension to use in the output file name\n",
    "    base_name = os.path.basename(file_path).replace('_filtered.csv', '')\n",
    "    patient_id = base_name.split('_')[0]  # Assuming the patient ID is part of the base_name\n",
    "    \n",
    "    # Create a patient-specific output directory\n",
    "    patient_output_directory = os.path.join(output_directory, patient_id)\n",
    "    os.makedirs(patient_output_directory, exist_ok=True)\n",
    "    \n",
    "    # Load the data from CSV\n",
    "    df = pd.read_csv(file_path)\n",
    "    \n",
    "    # Convert 'Timestamp' from milliseconds to 'datetime64[ns]'\n",
    "    timestamps = pd.to_datetime(df['Timestamp'], unit='ms')\n",
    "    sampling_rate = 1 / (timestamps.diff().dt.total_seconds().median())\n",
    "    # Calculate window size for a 15-minute window based on the sampling rate\n",
    "    window_size = int(sampling_rate * 900) if sampling_rate > 0 else 1  # 900 seconds = 15 minutes\n",
    "    \n",
    "    # Ensure there are enough samples for at least one 15-minute window\n",
    "    if len(df) < window_size:\n",
    "        print(f\"Skipping {file_path} due to insufficient data for a 15-minute window.\")\n",
    "        continue  # Skip to the next file if this one doesn't have enough data\n",
    "\n",
    "    # Configuration for TSFEL feature extraction\n",
    "    cfg = tsfel.get_features_by_domain()\n",
    "    \n",
    "    # Proceed with feature extraction if the sampling rate is positive\n",
    "    if sampling_rate > 0:\n",
    "        # Extract features using TSFEL\n",
    "        features = tsfel.time_series_features_extractor(cfg, df[['FilteredEuclideanDistance']], fs=sampling_rate, window_size=window_size)\n",
    "        output_file_name = f\"{base_name}_TSFEL_output.csv\"\n",
    "        output_file_path = os.path.join(patient_output_directory, output_file_name)\n",
    "        \n",
    "        # Save the extracted features to a CSV file\n",
    "        features.to_csv(output_file_path, index=False)\n",
    "        \n",
    "        print(f\"Features extracted and saved to {output_file_path}\")\n",
    "    else:\n",
    "        print(f\"Sampling rate for file {file_path} is undefined or zero. Cannot extract features.\")\n"
   ]
  },
  {
   "cell_type": "code",
   "execution_count": 3,
   "id": "dbc6697f",
   "metadata": {},
   "outputs": [
    {
     "name": "stdout",
     "output_type": "stream",
     "text": [
      "List of subdirectories written to D:\\Parkinson's\\Features_Extraction_15mins\\subdirectories_list.txt\n"
     ]
    }
   ],
   "source": [
    "import os\n",
    "\n",
    "# Base directory to search for subdirectories\n",
    "base_dir = \"D:\\\\Parkinson's\\\\Features_Extraction_15mins\\\\\"\n",
    "\n",
    "# Initialize a list to hold the names of the subdirectories\n",
    "subdirectories = []\n",
    "\n",
    "# Walk through the directory\n",
    "for root, dirs, files in os.walk(base_dir):\n",
    "    for name in dirs:\n",
    "        # Construct the path of the subdirectory\n",
    "        dir_path = os.path.join(root, name)\n",
    "        # Add the path to the list (omit if you only need the name)\n",
    "        subdirectories.append(dir_path.replace(base_dir, ''))  # Remove base_dir part to get relative paths\n",
    "\n",
    "# Path where to save the list of subdirectories\n",
    "output_file_path = os.path.join(base_dir, \"subdirectories_list.txt\")\n",
    "\n",
    "# Write the list of subdirectories to a file\n",
    "with open(output_file_path, 'w') as file:\n",
    "    for subdir in subdirectories:\n",
    "        file.write(\"%s\\n\" % subdir)\n",
    "\n",
    "print(f\"List of subdirectories written to {output_file_path}\")"
   ]
  },
  {
   "cell_type": "code",
   "execution_count": 4,
   "id": "e9d69078",
   "metadata": {},
   "outputs": [
    {
     "name": "stdout",
     "output_type": "stream",
     "text": [
      "Copied 12593_03182019_TSFEL_output.csv to D:\\Parkinson's\\Features_Extraction_15mins\\\n",
      "Copied 13039_10012019_TSFEL_output.csv to D:\\Parkinson's\\Features_Extraction_15mins\\\n",
      "Copied 14281_02192019_TSFEL_output.csv to D:\\Parkinson's\\Features_Extraction_15mins\\\n",
      "Copied 14331_06052019_TSFEL_output.csv to D:\\Parkinson's\\Features_Extraction_15mins\\\n",
      "Copied 18567_03202019_TSFEL_output.csv to D:\\Parkinson's\\Features_Extraction_15mins\\\n",
      "Copied 3002_03152019_TSFEL_output.csv to D:\\Parkinson's\\Features_Extraction_15mins\\\n",
      "Copied 3003_03292019_TSFEL_output.csv to D:\\Parkinson's\\Features_Extraction_15mins\\\n",
      "Copied 3004_03292019_TSFEL_output.csv to D:\\Parkinson's\\Features_Extraction_15mins\\\n",
      "Copied 3013_12112019_TSFEL_output.csv to D:\\Parkinson's\\Features_Extraction_15mins\\\n",
      "Copied 3020_04122019_TSFEL_output.csv to D:\\Parkinson's\\Features_Extraction_15mins\\\n",
      "Copied 3023_06062019_TSFEL_output.csv to D:\\Parkinson's\\Features_Extraction_15mins\\\n",
      "Copied 3028_03122019_TSFEL_output.csv to D:\\Parkinson's\\Features_Extraction_15mins\\\n",
      "Copied 3029_05312019_TSFEL_output.csv to D:\\Parkinson's\\Features_Extraction_15mins\\\n",
      "Copied 3050_03052019_TSFEL_output.csv to D:\\Parkinson's\\Features_Extraction_15mins\\\n",
      "Copied 3055_12182019_TSFEL_output.csv to D:\\Parkinson's\\Features_Extraction_15mins\\\n",
      "Copied 3057_02042019_TSFEL_output.csv to D:\\Parkinson's\\Features_Extraction_15mins\\\n",
      "Copied 3061_04012019_TSFEL_output.csv to D:\\Parkinson's\\Features_Extraction_15mins\\\n",
      "Copied 3062_02252019_TSFEL_output.csv to D:\\Parkinson's\\Features_Extraction_15mins\\\n",
      "Copied 3064_05072019_TSFEL_output.csv to D:\\Parkinson's\\Features_Extraction_15mins\\\n",
      "Copied 3066_06192019_TSFEL_output.csv to D:\\Parkinson's\\Features_Extraction_15mins\\\n",
      "Copied 3068_06172019_TSFEL_output.csv to D:\\Parkinson's\\Features_Extraction_15mins\\\n",
      "Copied 3072_11132019_TSFEL_output.csv to D:\\Parkinson's\\Features_Extraction_15mins\\\n",
      "Copied 3074_10282019_TSFEL_output.csv to D:\\Parkinson's\\Features_Extraction_15mins\\\n",
      "Copied 3077_04012019_TSFEL_output.csv to D:\\Parkinson's\\Features_Extraction_15mins\\\n",
      "Copied 3078_06102019_TSFEL_output.csv to D:\\Parkinson's\\Features_Extraction_15mins\\\n",
      "Copied 3085_01222019_TSFEL_output.csv to D:\\Parkinson's\\Features_Extraction_15mins\\\n",
      "Copied 3086_03122019_TSFEL_output.csv to D:\\Parkinson's\\Features_Extraction_15mins\\\n",
      "Copied 3169_12112019_TSFEL_output.csv to D:\\Parkinson's\\Features_Extraction_15mins\\\n",
      "Copied 3181_10282019_TSFEL_output.csv to D:\\Parkinson's\\Features_Extraction_15mins\\\n",
      "Copied 3207_03132019_TSFEL_output.csv to D:\\Parkinson's\\Features_Extraction_15mins\\\n",
      "Copied 3216_10072019_TSFEL_output.csv to D:\\Parkinson's\\Features_Extraction_15mins\\\n",
      "Copied 3218_10022019_TSFEL_output.csv to D:\\Parkinson's\\Features_Extraction_15mins\\\n",
      "Copied 3223_01092019_TSFEL_output.csv to D:\\Parkinson's\\Features_Extraction_15mins\\\n",
      "Copied 3224_04242019_TSFEL_output.csv to D:\\Parkinson's\\Features_Extraction_15mins\\\n",
      "Copied 3227_05302019_TSFEL_output.csv to D:\\Parkinson's\\Features_Extraction_15mins\\\n",
      "Copied 3234_04252019_TSFEL_output.csv to D:\\Parkinson's\\Features_Extraction_15mins\\\n",
      "Copied 3237_04022019_TSFEL_output.csv to D:\\Parkinson's\\Features_Extraction_15mins\\\n",
      "Copied 3354_05202019_TSFEL_output.csv to D:\\Parkinson's\\Features_Extraction_15mins\\\n",
      "Copied 3366_11112019_TSFEL_output.csv to D:\\Parkinson's\\Features_Extraction_15mins\\\n",
      "Copied 3367_08022019_TSFEL_output.csv to D:\\Parkinson's\\Features_Extraction_15mins\\\n",
      "Copied 3403_07082019_TSFEL_output.csv to D:\\Parkinson's\\Features_Extraction_15mins\\\n",
      "Copied 3404_07012019_TSFEL_output.csv to D:\\Parkinson's\\Features_Extraction_15mins\\\n",
      "Copied 3407_10042019_TSFEL_output.csv to D:\\Parkinson's\\Features_Extraction_15mins\\\n",
      "Copied 3415_03222019_TSFEL_output.csv to D:\\Parkinson's\\Features_Extraction_15mins\\\n",
      "Copied 3417_06202019_TSFEL_output.csv to D:\\Parkinson's\\Features_Extraction_15mins\\\n",
      "Copied 3424_07012019_TSFEL_output.csv to D:\\Parkinson's\\Features_Extraction_15mins\\\n",
      "Copied 3428_07012019_TSFEL_output.csv to D:\\Parkinson's\\Features_Extraction_15mins\\\n",
      "Copied 3429_07012019_TSFEL_output.csv to D:\\Parkinson's\\Features_Extraction_15mins\\\n",
      "Copied 3431_09192019_TSFEL_output.csv to D:\\Parkinson's\\Features_Extraction_15mins\\\n",
      "Copied 3433_11012019_TSFEL_output.csv to D:\\Parkinson's\\Features_Extraction_15mins\\\n",
      "Copied 3434_10012019_TSFEL_output.csv to D:\\Parkinson's\\Features_Extraction_15mins\\\n",
      "Copied 3435_10012019_TSFEL_output.csv to D:\\Parkinson's\\Features_Extraction_15mins\\\n",
      "Copied 3439_01312019_TSFEL_output.csv to D:\\Parkinson's\\Features_Extraction_15mins\\\n",
      "Copied 3443_03202019_TSFEL_output.csv to D:\\Parkinson's\\Features_Extraction_15mins\\\n",
      "Copied 3444_04192019_TSFEL_output.csv to D:\\Parkinson's\\Features_Extraction_15mins\\\n",
      "Copied 3446_05312019_TSFEL_output.csv to D:\\Parkinson's\\Features_Extraction_15mins\\\n",
      "Copied 3448_05152019_TSFEL_output.csv to D:\\Parkinson's\\Features_Extraction_15mins\\\n",
      "Copied 3451_12012019_TSFEL_output.csv to D:\\Parkinson's\\Features_Extraction_15mins\\\n",
      "Copied 3453_11262019_TSFEL_output.csv to D:\\Parkinson's\\Features_Extraction_15mins\\\n",
      "Copied 3459_05292019_TSFEL_output.csv to D:\\Parkinson's\\Features_Extraction_15mins\\\n",
      "Copied 3460_05292019_TSFEL_output.csv to D:\\Parkinson's\\Features_Extraction_15mins\\\n",
      "Copied 3461_05212019_TSFEL_output.csv to D:\\Parkinson's\\Features_Extraction_15mins\\\n",
      "Copied 3464_10292019_TSFEL_output.csv to D:\\Parkinson's\\Features_Extraction_15mins\\\n",
      "Copied 3465_10222019_TSFEL_output.csv to D:\\Parkinson's\\Features_Extraction_15mins\\\n",
      "Copied 3467_12102019_TSFEL_output.csv to D:\\Parkinson's\\Features_Extraction_15mins\\\n",
      "Copied 3472_06182019_TSFEL_output.csv to D:\\Parkinson's\\Features_Extraction_15mins\\\n",
      "Copied 3503_02052019_TSFEL_output.csv to D:\\Parkinson's\\Features_Extraction_15mins\\\n",
      "Copied 3517_10012019_TSFEL_output.csv to D:\\Parkinson's\\Features_Extraction_15mins\\\n",
      "Copied 3521_12012019_TSFEL_output.csv to D:\\Parkinson's\\Features_Extraction_15mins\\\n",
      "Copied 3522_12012019_TSFEL_output.csv to D:\\Parkinson's\\Features_Extraction_15mins\\\n",
      "Copied 3528_01092019_TSFEL_output.csv to D:\\Parkinson's\\Features_Extraction_15mins\\\n",
      "Copied 3532_03042019_TSFEL_output.csv to D:\\Parkinson's\\Features_Extraction_15mins\\\n",
      "Copied 3540_10012019_TSFEL_output.csv to D:\\Parkinson's\\Features_Extraction_15mins\\\n",
      "Copied 3565_07122019_TSFEL_output.csv to D:\\Parkinson's\\Features_Extraction_15mins\\\n",
      "Copied 3567_07102019_TSFEL_output.csv to D:\\Parkinson's\\Features_Extraction_15mins\\\n",
      "Copied 3570_07012019_TSFEL_output.csv to D:\\Parkinson's\\Features_Extraction_15mins\\\n",
      "Copied 3572_08262019_TSFEL_output.csv to D:\\Parkinson's\\Features_Extraction_15mins\\\n",
      "Copied 3577_12092019_TSFEL_output.csv to D:\\Parkinson's\\Features_Extraction_15mins\\\n",
      "Copied 3585_07292019_TSFEL_output.csv to D:\\Parkinson's\\Features_Extraction_15mins\\\n",
      "Copied 3586_07082019_TSFEL_output.csv to D:\\Parkinson's\\Features_Extraction_15mins\\\n",
      "Copied 3619_11142019_TSFEL_output.csv to D:\\Parkinson's\\Features_Extraction_15mins\\\n",
      "Copied 3654_04222019_TSFEL_output.csv to D:\\Parkinson's\\Features_Extraction_15mins\\\n",
      "Copied 3666_04022019_TSFEL_output.csv to D:\\Parkinson's\\Features_Extraction_15mins\\\n",
      "Copied 3959_10042019_TSFEL_output.csv to D:\\Parkinson's\\Features_Extraction_15mins\\\n",
      "Copied 3960_12022019_TSFEL_output.csv to D:\\Parkinson's\\Features_Extraction_15mins\\\n",
      "Copied 3966_03082019_TSFEL_output.csv to D:\\Parkinson's\\Features_Extraction_15mins\\\n",
      "Copied 3969_03062019_TSFEL_output.csv to D:\\Parkinson's\\Features_Extraction_15mins\\\n",
      "Copied 40067_12012019_TSFEL_output.csv to D:\\Parkinson's\\Features_Extraction_15mins\\\n",
      "Copied 4051_05032019_TSFEL_output.csv to D:\\Parkinson's\\Features_Extraction_15mins\\\n",
      "Copied 4052_07102019_TSFEL_output.csv to D:\\Parkinson's\\Features_Extraction_15mins\\\n",
      "Copied 4054_06072019_TSFEL_output.csv to D:\\Parkinson's\\Features_Extraction_15mins\\\n",
      "Copied 4055_07012019_TSFEL_output.csv to D:\\Parkinson's\\Features_Extraction_15mins\\\n",
      "Copied 4056_07012019_TSFEL_output.csv to D:\\Parkinson's\\Features_Extraction_15mins\\\n",
      "Copied 4057_07012019_TSFEL_output.csv to D:\\Parkinson's\\Features_Extraction_15mins\\\n",
      "Copied 4071_08012019_TSFEL_output.csv to D:\\Parkinson's\\Features_Extraction_15mins\\\n",
      "Copied 4073_09162019_TSFEL_output.csv to D:\\Parkinson's\\Features_Extraction_15mins\\\n",
      "Copied 4074_10022019_TSFEL_output.csv to D:\\Parkinson's\\Features_Extraction_15mins\\\n",
      "Copied 4091_08012019_TSFEL_output.csv to D:\\Parkinson's\\Features_Extraction_15mins\\\n",
      "Copied 4096_09092019_TSFEL_output.csv to D:\\Parkinson's\\Features_Extraction_15mins\\\n",
      "Copied 4098_11012019_TSFEL_output.csv to D:\\Parkinson's\\Features_Extraction_15mins\\\n",
      "Copied 4099_12022019_TSFEL_output.csv to D:\\Parkinson's\\Features_Extraction_15mins\\\n",
      "Copied 4101_11012019_TSFEL_output.csv to D:\\Parkinson's\\Features_Extraction_15mins\\\n",
      "Copied 4102_12012019_TSFEL_output.csv to D:\\Parkinson's\\Features_Extraction_15mins\\\n",
      "Copied 4104_01252019_TSFEL_output.csv to D:\\Parkinson's\\Features_Extraction_15mins\\\n",
      "Copied 4106_01152019_TSFEL_output.csv to D:\\Parkinson's\\Features_Extraction_15mins\\\n",
      "Copied 4108_01282019_TSFEL_output.csv to D:\\Parkinson's\\Features_Extraction_15mins\\\n",
      "Copied 4111_02082019_TSFEL_output.csv to D:\\Parkinson's\\Features_Extraction_15mins\\\n",
      "Copied 4115_03262019_TSFEL_output.csv to D:\\Parkinson's\\Features_Extraction_15mins\\\n",
      "Copied 4117_05102019_TSFEL_output.csv to D:\\Parkinson's\\Features_Extraction_15mins\\\n",
      "Copied 41184_04012019_TSFEL_output.csv to D:\\Parkinson's\\Features_Extraction_15mins\\\n",
      "Copied 41749_07012019_TSFEL_output.csv to D:\\Parkinson's\\Features_Extraction_15mins\\\n",
      "Copied 42724_01222019_TSFEL_output.csv to D:\\Parkinson's\\Features_Extraction_15mins\\\n",
      "Copied 50009_04022019_TSFEL_output.csv to D:\\Parkinson's\\Features_Extraction_15mins\\\n",
      "Copied 50192_06012019_TSFEL_output.csv to D:\\Parkinson's\\Features_Extraction_15mins\\\n",
      "Copied 50222_08192019_TSFEL_output.csv to D:\\Parkinson's\\Features_Extraction_15mins\\\n",
      "Copied 50225_08192019_TSFEL_output.csv to D:\\Parkinson's\\Features_Extraction_15mins\\\n",
      "Copied 50621_06112019_TSFEL_output.csv to D:\\Parkinson's\\Features_Extraction_15mins\\\n",
      "Copied 50670_02132019_TSFEL_output.csv to D:\\Parkinson's\\Features_Extraction_15mins\\\n",
      "Copied 50860_11012019_TSFEL_output.csv to D:\\Parkinson's\\Features_Extraction_15mins\\\n",
      "Copied 50901_12012019_TSFEL_output.csv to D:\\Parkinson's\\Features_Extraction_15mins\\\n",
      "Copied 51186_05162019_TSFEL_output.csv to D:\\Parkinson's\\Features_Extraction_15mins\\\n",
      "Copied 51252_07012019_TSFEL_output.csv to D:\\Parkinson's\\Features_Extraction_15mins\\\n",
      "Copied 51311_06132019_TSFEL_output.csv to D:\\Parkinson's\\Features_Extraction_15mins\\\n",
      "Copied 51518_07222019_TSFEL_output.csv to D:\\Parkinson's\\Features_Extraction_15mins\\\n",
      "Copied 51540_10012019_TSFEL_output.csv to D:\\Parkinson's\\Features_Extraction_15mins\\\n",
      "Copied 51625_08012019_TSFEL_output.csv to D:\\Parkinson's\\Features_Extraction_15mins\\\n",
      "Copied 51731_10092019_TSFEL_output.csv to D:\\Parkinson's\\Features_Extraction_15mins\\\n",
      "Copied 51867_09012019_TSFEL_output.csv to D:\\Parkinson's\\Features_Extraction_15mins\\\n",
      "Copied 51971_10012019_TSFEL_output.csv to D:\\Parkinson's\\Features_Extraction_15mins\\\n",
      "Copied 52062_01032019_TSFEL_output.csv to D:\\Parkinson's\\Features_Extraction_15mins\\\n",
      "Copied 52353_11132019_TSFEL_output.csv to D:\\Parkinson's\\Features_Extraction_15mins\\\n",
      "Copied 52355_02202019_TSFEL_output.csv to D:\\Parkinson's\\Features_Extraction_15mins\\\n",
      "Copied 52400_10012019_TSFEL_output.csv to D:\\Parkinson's\\Features_Extraction_15mins\\\n",
      "Copied 52752_03012019_TSFEL_output.csv to D:\\Parkinson's\\Features_Extraction_15mins\\\n",
      "Copied 52872_07022019_TSFEL_output.csv to D:\\Parkinson's\\Features_Extraction_15mins\\\n",
      "Copied 52874_11012019_TSFEL_output.csv to D:\\Parkinson's\\Features_Extraction_15mins\\\n",
      "Copied 52888_06012019_TSFEL_output.csv to D:\\Parkinson's\\Features_Extraction_15mins\\\n",
      "Copied 52982_02012019_TSFEL_output.csv to D:\\Parkinson's\\Features_Extraction_15mins\\\n",
      "Copied 53054_05012019_TSFEL_output.csv to D:\\Parkinson's\\Features_Extraction_15mins\\\n",
      "Copied 53308_06012019_TSFEL_output.csv to D:\\Parkinson's\\Features_Extraction_15mins\\\n",
      "Copied 53595_07242019_TSFEL_output.csv to D:\\Parkinson's\\Features_Extraction_15mins\\\n",
      "Copied 53600_09112019_TSFEL_output.csv to D:\\Parkinson's\\Features_Extraction_15mins\\\n",
      "Copied 53866_05012019_TSFEL_output.csv to D:\\Parkinson's\\Features_Extraction_15mins\\\n",
      "Copied 53988_02012019_TSFEL_output.csv to D:\\Parkinson's\\Features_Extraction_15mins\\\n",
      "Copied 54110_12022019_TSFEL_output.csv to D:\\Parkinson's\\Features_Extraction_15mins\\\n",
      "Copied 54144_03012019_TSFEL_output.csv to D:\\Parkinson's\\Features_Extraction_15mins\\\n",
      "Copied 54161_10212019_TSFEL_output.csv to D:\\Parkinson's\\Features_Extraction_15mins\\\n",
      "Copied 54196_08082019_TSFEL_output.csv to D:\\Parkinson's\\Features_Extraction_15mins\\\n",
      "Copied 54197_06262019_TSFEL_output.csv to D:\\Parkinson's\\Features_Extraction_15mins\\\n",
      "Copied 54266_05042019_TSFEL_output.csv to D:\\Parkinson's\\Features_Extraction_15mins\\\n",
      "Copied 54309_08012019_TSFEL_output.csv to D:\\Parkinson's\\Features_Extraction_15mins\\\n",
      "Copied 54391_10072019_TSFEL_output.csv to D:\\Parkinson's\\Features_Extraction_15mins\\\n",
      "Copied 54991_11012019_TSFEL_output.csv to D:\\Parkinson's\\Features_Extraction_15mins\\\n",
      "Copied 55098_06072019_TSFEL_output.csv to D:\\Parkinson's\\Features_Extraction_15mins\\\n",
      "Copied 55124_08012019_TSFEL_output.csv to D:\\Parkinson's\\Features_Extraction_15mins\\\n",
      "Copied 55151_07012019_TSFEL_output.csv to D:\\Parkinson's\\Features_Extraction_15mins\\\n",
      "Copied 55251_09012019_TSFEL_output.csv to D:\\Parkinson's\\Features_Extraction_15mins\\\n",
      "Copied 55282_07012019_TSFEL_output.csv to D:\\Parkinson's\\Features_Extraction_15mins\\\n",
      "Copied 55349_07012019_TSFEL_output.csv to D:\\Parkinson's\\Features_Extraction_15mins\\\n",
      "Copied 55441_06272019_TSFEL_output.csv to D:\\Parkinson's\\Features_Extraction_15mins\\\n",
      "Copied 55560_08012019_TSFEL_output.csv to D:\\Parkinson's\\Features_Extraction_15mins\\\n",
      "Copied 55615_06012019_TSFEL_output.csv to D:\\Parkinson's\\Features_Extraction_15mins\\\n",
      "Copied 55822_08082019_TSFEL_output.csv to D:\\Parkinson's\\Features_Extraction_15mins\\\n",
      "Copied 55842_08232019_TSFEL_output.csv to D:\\Parkinson's\\Features_Extraction_15mins\\\n",
      "Copied 56048_02012019_TSFEL_output.csv to D:\\Parkinson's\\Features_Extraction_15mins\\\n",
      "Copied 56136_11012019_TSFEL_output.csv to D:\\Parkinson's\\Features_Extraction_15mins\\\n",
      "Copied 56405_05012019_TSFEL_output.csv to D:\\Parkinson's\\Features_Extraction_15mins\\\n",
      "Copied 56435_10032019_TSFEL_output.csv to D:\\Parkinson's\\Features_Extraction_15mins\\\n",
      "Copied 56492_10042019_TSFEL_output.csv to D:\\Parkinson's\\Features_Extraction_15mins\\\n",
      "Copied 56582_04122019_TSFEL_output.csv to D:\\Parkinson's\\Features_Extraction_15mins\\\n",
      "Copied 56744_08012019_TSFEL_output.csv to D:\\Parkinson's\\Features_Extraction_15mins\\\n",
      "Copied 56779_04052019_TSFEL_output.csv to D:\\Parkinson's\\Features_Extraction_15mins\\\n",
      "Copied 56800_03292019_TSFEL_output.csv to D:\\Parkinson's\\Features_Extraction_15mins\\\n",
      "Copied 57127_08012019_TSFEL_output.csv to D:\\Parkinson's\\Features_Extraction_15mins\\\n",
      "Copied 57234_09012019_TSFEL_output.csv to D:\\Parkinson's\\Features_Extraction_15mins\\\n",
      "Copied 57277_01032019_TSFEL_output.csv to D:\\Parkinson's\\Features_Extraction_15mins\\\n",
      "Copied 57398_09062019_TSFEL_output.csv to D:\\Parkinson's\\Features_Extraction_15mins\\\n",
      "Copied 57887_02132019_TSFEL_output.csv to D:\\Parkinson's\\Features_Extraction_15mins\\\n",
      "Copied 58026_08212019_TSFEL_output.csv to D:\\Parkinson's\\Features_Extraction_15mins\\\n",
      "Copied 58030_05012019_TSFEL_output.csv to D:\\Parkinson's\\Features_Extraction_15mins\\\n",
      "Copied 58074_06012019_TSFEL_output.csv to D:\\Parkinson's\\Features_Extraction_15mins\\\n",
      "Copied 58138_03012019_TSFEL_output.csv to D:\\Parkinson's\\Features_Extraction_15mins\\\n",
      "Copied 58164_06012019_TSFEL_output.csv to D:\\Parkinson's\\Features_Extraction_15mins\\\n",
      "Copied 58342_10312019_TSFEL_output.csv to D:\\Parkinson's\\Features_Extraction_15mins\\\n",
      "Copied 58454_07152019_TSFEL_output.csv to D:\\Parkinson's\\Features_Extraction_15mins\\\n",
      "Copied 58510_06012019_TSFEL_output.csv to D:\\Parkinson's\\Features_Extraction_15mins\\\n",
      "Copied 58550_09012019_TSFEL_output.csv to D:\\Parkinson's\\Features_Extraction_15mins\\\n",
      "Copied 58671_08012019_TSFEL_output.csv to D:\\Parkinson's\\Features_Extraction_15mins\\\n",
      "Copied 58680_08012019_TSFEL_output.csv to D:\\Parkinson's\\Features_Extraction_15mins\\\n",
      "Copied 58721_07182019_TSFEL_output.csv to D:\\Parkinson's\\Features_Extraction_15mins\\\n",
      "Copied 58783_08012019_TSFEL_output.csv to D:\\Parkinson's\\Features_Extraction_15mins\\\n",
      "Copied 58843_05012019_TSFEL_output.csv to D:\\Parkinson's\\Features_Extraction_15mins\\\n",
      "Copied 58916_10012019_TSFEL_output.csv to D:\\Parkinson's\\Features_Extraction_15mins\\\n",
      "Copied 59042_10032019_TSFEL_output.csv to D:\\Parkinson's\\Features_Extraction_15mins\\\n",
      "Copied 59121_10012019_TSFEL_output.csv to D:\\Parkinson's\\Features_Extraction_15mins\\\n",
      "Copied 59174_06012019_TSFEL_output.csv to D:\\Parkinson's\\Features_Extraction_15mins\\\n",
      "Copied 59178_07022019_TSFEL_output.csv to D:\\Parkinson's\\Features_Extraction_15mins\\\n",
      "Copied 59310_11012019_TSFEL_output.csv to D:\\Parkinson's\\Features_Extraction_15mins\\\n",
      "Copied 59409_08282019_TSFEL_output.csv to D:\\Parkinson's\\Features_Extraction_15mins\\\n",
      "Copied 59558_07012019_TSFEL_output.csv to D:\\Parkinson's\\Features_Extraction_15mins\\\n",
      "Copied 59724_08012019_TSFEL_output.csv to D:\\Parkinson's\\Features_Extraction_15mins\\\n",
      "Copied 59797_12012019_TSFEL_output.csv to D:\\Parkinson's\\Features_Extraction_15mins\\\n",
      "Copied 60013_10012019_TSFEL_output.csv to D:\\Parkinson's\\Features_Extraction_15mins\\\n",
      "Copied 65002_11012019_TSFEL_output.csv to D:\\Parkinson's\\Features_Extraction_15mins\\\n",
      "Copied 70035_07012019_TSFEL_output.csv to D:\\Parkinson's\\Features_Extraction_15mins\\\n",
      "Copied 70106_08012019_TSFEL_output.csv to D:\\Parkinson's\\Features_Extraction_15mins\\\n",
      "Copied 70179_01102019_TSFEL_output.csv to D:\\Parkinson's\\Features_Extraction_15mins\\\n",
      "Copied 70188_10012019_TSFEL_output.csv to D:\\Parkinson's\\Features_Extraction_15mins\\\n",
      "Copied 70326_08012019_TSFEL_output.csv to D:\\Parkinson's\\Features_Extraction_15mins\\\n",
      "Copied 70345_10012019_TSFEL_output.csv to D:\\Parkinson's\\Features_Extraction_15mins\\\n",
      "Copied 70378_12012019_TSFEL_output.csv to D:\\Parkinson's\\Features_Extraction_15mins\\\n",
      "Copied 70432_09092019_TSFEL_output.csv to D:\\Parkinson's\\Features_Extraction_15mins\\\n",
      "Copied 70519_11222019_TSFEL_output.csv to D:\\Parkinson's\\Features_Extraction_15mins\\\n",
      "Copied 70631_11012019_TSFEL_output.csv to D:\\Parkinson's\\Features_Extraction_15mins\\\n",
      "Copied 70645_09012019_TSFEL_output.csv to D:\\Parkinson's\\Features_Extraction_15mins\\\n",
      "Copied 70652_10012019_TSFEL_output.csv to D:\\Parkinson's\\Features_Extraction_15mins\\\n",
      "Copied 70659_11012019_TSFEL_output.csv to D:\\Parkinson's\\Features_Extraction_15mins\\\n",
      "Copied 70810_03272019_TSFEL_output.csv to D:\\Parkinson's\\Features_Extraction_15mins\\\n",
      "Copied 71065_01012019_TSFEL_output.csv to D:\\Parkinson's\\Features_Extraction_15mins\\\n",
      "Copied 71189_10102019_TSFEL_output.csv to D:\\Parkinson's\\Features_Extraction_15mins\\\n",
      "Copied 71215_05312019_TSFEL_output.csv to D:\\Parkinson's\\Features_Extraction_15mins\\\n",
      "Copied 71394_03012019_TSFEL_output.csv to D:\\Parkinson's\\Features_Extraction_15mins\\\n",
      "Copied 71658_11012019_TSFEL_output.csv to D:\\Parkinson's\\Features_Extraction_15mins\\\n",
      "Copied 71770_12012019_TSFEL_output.csv to D:\\Parkinson's\\Features_Extraction_15mins\\\n",
      "Copied 71809_11012019_TSFEL_output.csv to D:\\Parkinson's\\Features_Extraction_15mins\\\n",
      "Copied 72110_09012019_TSFEL_output.csv to D:\\Parkinson's\\Features_Extraction_15mins\\\n",
      "Copied 72138_12012019_TSFEL_output.csv to D:\\Parkinson's\\Features_Extraction_15mins\\\n",
      "Copied 72222_04012019_TSFEL_output.csv to D:\\Parkinson's\\Features_Extraction_15mins\\\n",
      "Copied 72352_01012019_TSFEL_output.csv to D:\\Parkinson's\\Features_Extraction_15mins\\\n",
      "Copied 72419_10012019_TSFEL_output.csv to D:\\Parkinson's\\Features_Extraction_15mins\\\n",
      "Copied 72651_09122019_TSFEL_output.csv to D:\\Parkinson's\\Features_Extraction_15mins\\\n",
      "Copied 72784_12122019_TSFEL_output.csv to D:\\Parkinson's\\Features_Extraction_15mins\\\n",
      "Copied 72877_11222019_TSFEL_output.csv to D:\\Parkinson's\\Features_Extraction_15mins\\\n",
      "Copied 73082_06012019_TSFEL_output.csv to D:\\Parkinson's\\Features_Extraction_15mins\\\n",
      "Copied 73134_01012019_TSFEL_output.csv to D:\\Parkinson's\\Features_Extraction_15mins\\\n",
      "Copied 73134_12012019_TSFEL_output.csv to D:\\Parkinson's\\Features_Extraction_15mins\\\n",
      "Copied 73397_10182019_TSFEL_output.csv to D:\\Parkinson's\\Features_Extraction_15mins\\\n",
      "Copied 73432_10012019_TSFEL_output.csv to D:\\Parkinson's\\Features_Extraction_15mins\\\n",
      "Copied 73614_02012019_TSFEL_output.csv to D:\\Parkinson's\\Features_Extraction_15mins\\\n",
      "Copied 73787_12012019_TSFEL_output.csv to D:\\Parkinson's\\Features_Extraction_15mins\\\n",
      "Copied 73887_07012019_TSFEL_output.csv to D:\\Parkinson's\\Features_Extraction_15mins\\\n",
      "Copied 73935_11012019_TSFEL_output.csv to D:\\Parkinson's\\Features_Extraction_15mins\\\n",
      "Copied 74034_04012019_TSFEL_output.csv to D:\\Parkinson's\\Features_Extraction_15mins\\\n",
      "Copied 74067_05012019_TSFEL_output.csv to D:\\Parkinson's\\Features_Extraction_15mins\\\n",
      "Copied 74251_12022019_TSFEL_output.csv to D:\\Parkinson's\\Features_Extraction_15mins\\\n",
      "Copied 74497_10012019_TSFEL_output.csv to D:\\Parkinson's\\Features_Extraction_15mins\\\n",
      "Copied 74696_11012019_TSFEL_output.csv to D:\\Parkinson's\\Features_Extraction_15mins\\\n",
      "Copied 75403_05312019_TSFEL_output.csv to D:\\Parkinson's\\Features_Extraction_15mins\\\n",
      "Copied 75411_11202019_TSFEL_output.csv to D:\\Parkinson's\\Features_Extraction_15mins\\\n",
      "Copied 75420_09012019_TSFEL_output.csv to D:\\Parkinson's\\Features_Extraction_15mins\\\n",
      "Copied 75421_10162019_TSFEL_output.csv to D:\\Parkinson's\\Features_Extraction_15mins\\\n",
      "Copied 75423_11012019_TSFEL_output.csv to D:\\Parkinson's\\Features_Extraction_15mins\\\n",
      "Copied 75434_11012019_TSFEL_output.csv to D:\\Parkinson's\\Features_Extraction_15mins\\\n",
      "Copied 75484_12022019_TSFEL_output.csv to D:\\Parkinson's\\Features_Extraction_15mins\\\n",
      "Copied 75492_10012019_TSFEL_output.csv to D:\\Parkinson's\\Features_Extraction_15mins\\\n",
      "Copied 75496_10012019_TSFEL_output.csv to D:\\Parkinson's\\Features_Extraction_15mins\\\n",
      "Copied 75508_11012019_TSFEL_output.csv to D:\\Parkinson's\\Features_Extraction_15mins\\\n",
      "Copied 75512_12012019_TSFEL_output.csv to D:\\Parkinson's\\Features_Extraction_15mins\\\n",
      "Copied 75547_12012019_TSFEL_output.csv to D:\\Parkinson's\\Features_Extraction_15mins\\\n",
      "Copied 90456_09012019_TSFEL_output.csv to D:\\Parkinson's\\Features_Extraction_15mins\\\n",
      "Copied 91097_07112019_TSFEL_output.csv to D:\\Parkinson's\\Features_Extraction_15mins\\\n"
     ]
    }
   ],
   "source": [
    "import os\n",
    "import shutil\n",
    "\n",
    "# Path to the text file containing the list of subdirectories\n",
    "list_file_path = \"D:\\\\Parkinson's\\\\Features_Extraction_15mins\\\\subdirectories_list.txt\"\n",
    "\n",
    "# Base directory where the subdirectories are located\n",
    "base_dir = \"D:\\\\Parkinson's\\\\Features_Extraction_15mins\\\\\"\n",
    "\n",
    "# Destination directory where files will be placed\n",
    "# Ensure this is what you want, as it copies files to the same directory as the subdirectories_list.txt\n",
    "destination_dir = base_dir\n",
    "\n",
    "# Read the list of subdirectories from the file\n",
    "with open(list_file_path, 'r') as file:\n",
    "    subdirectories = [line.strip() for line in file.readlines()]\n",
    "\n",
    "# Process each subdirectory listed in the text file\n",
    "for subdir in subdirectories:\n",
    "    # Full path to the current subdirectory\n",
    "    subdir_path = os.path.join(base_dir, subdir)\n",
    "    \n",
    "    # Check if the subdirectory exists\n",
    "    if os.path.exists(subdir_path) and os.path.isdir(subdir_path):\n",
    "        # List all files in the subdirectory\n",
    "        for file_name in os.listdir(subdir_path):\n",
    "            # Full path to the current file\n",
    "            file_path = os.path.join(subdir_path, file_name)\n",
    "            \n",
    "            # Check if it is a file (and not another directory)\n",
    "            if os.path.isfile(file_path):\n",
    "                # Full path to the destination file\n",
    "                destination_file_path = os.path.join(destination_dir, file_name)\n",
    "                \n",
    "                # Check to ensure no file overwriting\n",
    "                if not os.path.exists(destination_file_path):\n",
    "                    try:\n",
    "                        # Copy the file to the destination directory\n",
    "                        shutil.copy2(file_path, destination_file_path)\n",
    "                        print(f\"Copied {file_name} to {destination_dir}\")\n",
    "                    except Exception as e:\n",
    "                        print(f\"Failed to copy {file_name} due to: {e}\")\n",
    "                else:\n",
    "                    print(f\"File already exists at destination: {destination_file_path}\")\n",
    "    else:\n",
    "        print(f\"Subdirectory does not exist: {subdir_path}\")"
   ]
  },
  {
   "cell_type": "code",
   "execution_count": 5,
   "id": "8ec047ee",
   "metadata": {},
   "outputs": [
    {
     "name": "stdout",
     "output_type": "stream",
     "text": [
      "Processed and saved: 12593_03182019_TSFEL_output_stats.csv\n",
      "Processed and saved: 13039_10012019_TSFEL_output_stats.csv\n",
      "Processed and saved: 14281_02192019_TSFEL_output_stats.csv\n",
      "Processed and saved: 14331_06052019_TSFEL_output_stats.csv\n",
      "Processed and saved: 18567_03202019_TSFEL_output_stats.csv\n",
      "Processed and saved: 3002_03152019_TSFEL_output_stats.csv\n",
      "Processed and saved: 3003_03292019_TSFEL_output_stats.csv\n",
      "Processed and saved: 3004_03292019_TSFEL_output_stats.csv\n",
      "Processed and saved: 3013_12112019_TSFEL_output_stats.csv\n",
      "Processed and saved: 3020_04122019_TSFEL_output_stats.csv\n",
      "Processed and saved: 3023_06062019_TSFEL_output_stats.csv\n",
      "Processed and saved: 3028_03122019_TSFEL_output_stats.csv\n",
      "Processed and saved: 3029_05312019_TSFEL_output_stats.csv\n",
      "Processed and saved: 3050_03052019_TSFEL_output_stats.csv\n",
      "Processed and saved: 3055_12182019_TSFEL_output_stats.csv\n",
      "Processed and saved: 3057_02042019_TSFEL_output_stats.csv\n",
      "Processed and saved: 3061_04012019_TSFEL_output_stats.csv\n",
      "Processed and saved: 3062_02252019_TSFEL_output_stats.csv\n",
      "Processed and saved: 3064_05072019_TSFEL_output_stats.csv\n",
      "Processed and saved: 3066_06192019_TSFEL_output_stats.csv\n",
      "Processed and saved: 3068_06172019_TSFEL_output_stats.csv\n",
      "Processed and saved: 3072_11132019_TSFEL_output_stats.csv\n",
      "Processed and saved: 3074_10282019_TSFEL_output_stats.csv\n",
      "Processed and saved: 3077_04012019_TSFEL_output_stats.csv\n",
      "Processed and saved: 3078_06102019_TSFEL_output_stats.csv\n",
      "Processed and saved: 3085_01222019_TSFEL_output_stats.csv\n",
      "Processed and saved: 3086_03122019_TSFEL_output_stats.csv\n",
      "Processed and saved: 3169_12112019_TSFEL_output_stats.csv\n",
      "Processed and saved: 3181_10282019_TSFEL_output_stats.csv\n",
      "Processed and saved: 3207_03132019_TSFEL_output_stats.csv\n",
      "Processed and saved: 3216_10072019_TSFEL_output_stats.csv\n",
      "Processed and saved: 3218_10022019_TSFEL_output_stats.csv\n",
      "Processed and saved: 3223_01092019_TSFEL_output_stats.csv\n",
      "Processed and saved: 3224_04242019_TSFEL_output_stats.csv\n",
      "Processed and saved: 3227_05302019_TSFEL_output_stats.csv\n",
      "Processed and saved: 3234_04252019_TSFEL_output_stats.csv\n",
      "Processed and saved: 3237_04022019_TSFEL_output_stats.csv\n",
      "Processed and saved: 3354_05202019_TSFEL_output_stats.csv\n",
      "Processed and saved: 3366_11112019_TSFEL_output_stats.csv\n",
      "Processed and saved: 3367_08022019_TSFEL_output_stats.csv\n",
      "Processed and saved: 3403_07082019_TSFEL_output_stats.csv\n",
      "Processed and saved: 3404_07012019_TSFEL_output_stats.csv\n",
      "Processed and saved: 3407_10042019_TSFEL_output_stats.csv\n",
      "Processed and saved: 3415_03222019_TSFEL_output_stats.csv\n",
      "Processed and saved: 3417_06202019_TSFEL_output_stats.csv\n",
      "Processed and saved: 3424_07012019_TSFEL_output_stats.csv\n",
      "Processed and saved: 3428_07012019_TSFEL_output_stats.csv\n",
      "Processed and saved: 3429_07012019_TSFEL_output_stats.csv\n",
      "Processed and saved: 3431_09192019_TSFEL_output_stats.csv\n",
      "Processed and saved: 3433_11012019_TSFEL_output_stats.csv\n",
      "Processed and saved: 3434_10012019_TSFEL_output_stats.csv\n",
      "Processed and saved: 3435_10012019_TSFEL_output_stats.csv\n",
      "Processed and saved: 3439_01312019_TSFEL_output_stats.csv\n",
      "Processed and saved: 3443_03202019_TSFEL_output_stats.csv\n",
      "Processed and saved: 3444_04192019_TSFEL_output_stats.csv\n",
      "Processed and saved: 3446_05312019_TSFEL_output_stats.csv\n",
      "Processed and saved: 3448_05152019_TSFEL_output_stats.csv\n",
      "Processed and saved: 3451_12012019_TSFEL_output_stats.csv\n",
      "Processed and saved: 3453_11262019_TSFEL_output_stats.csv\n",
      "Processed and saved: 3459_05292019_TSFEL_output_stats.csv\n",
      "Processed and saved: 3460_05292019_TSFEL_output_stats.csv\n",
      "Processed and saved: 3461_05212019_TSFEL_output_stats.csv\n",
      "Processed and saved: 3464_10292019_TSFEL_output_stats.csv\n",
      "Processed and saved: 3465_10222019_TSFEL_output_stats.csv\n",
      "Processed and saved: 3467_12102019_TSFEL_output_stats.csv\n",
      "Processed and saved: 3472_06182019_TSFEL_output_stats.csv\n",
      "Processed and saved: 3503_02052019_TSFEL_output_stats.csv\n",
      "Processed and saved: 3517_10012019_TSFEL_output_stats.csv\n",
      "Processed and saved: 3521_12012019_TSFEL_output_stats.csv\n",
      "Processed and saved: 3522_12012019_TSFEL_output_stats.csv\n",
      "Processed and saved: 3528_01092019_TSFEL_output_stats.csv\n",
      "Processed and saved: 3532_03042019_TSFEL_output_stats.csv\n",
      "Processed and saved: 3540_10012019_TSFEL_output_stats.csv\n",
      "Processed and saved: 3565_07122019_TSFEL_output_stats.csv\n",
      "Processed and saved: 3567_07102019_TSFEL_output_stats.csv\n",
      "Processed and saved: 3570_07012019_TSFEL_output_stats.csv\n",
      "Processed and saved: 3572_08262019_TSFEL_output_stats.csv\n",
      "Processed and saved: 3577_12092019_TSFEL_output_stats.csv\n",
      "Processed and saved: 3585_07292019_TSFEL_output_stats.csv\n",
      "Processed and saved: 3586_07082019_TSFEL_output_stats.csv\n",
      "Processed and saved: 3619_11142019_TSFEL_output_stats.csv\n",
      "Processed and saved: 3654_04222019_TSFEL_output_stats.csv\n",
      "Processed and saved: 3666_04022019_TSFEL_output_stats.csv\n",
      "Processed and saved: 3959_10042019_TSFEL_output_stats.csv\n",
      "Processed and saved: 3960_12022019_TSFEL_output_stats.csv\n",
      "Processed and saved: 3966_03082019_TSFEL_output_stats.csv\n",
      "Processed and saved: 3969_03062019_TSFEL_output_stats.csv\n",
      "Processed and saved: 40067_12012019_TSFEL_output_stats.csv\n",
      "Processed and saved: 4051_05032019_TSFEL_output_stats.csv\n",
      "Processed and saved: 4052_07102019_TSFEL_output_stats.csv\n",
      "Processed and saved: 4054_06072019_TSFEL_output_stats.csv\n",
      "Processed and saved: 4055_07012019_TSFEL_output_stats.csv\n",
      "Processed and saved: 4056_07012019_TSFEL_output_stats.csv\n",
      "Processed and saved: 4057_07012019_TSFEL_output_stats.csv\n",
      "Processed and saved: 4071_08012019_TSFEL_output_stats.csv\n",
      "Processed and saved: 4073_09162019_TSFEL_output_stats.csv\n",
      "Processed and saved: 4074_10022019_TSFEL_output_stats.csv\n",
      "Processed and saved: 4091_08012019_TSFEL_output_stats.csv\n",
      "Processed and saved: 4096_09092019_TSFEL_output_stats.csv\n",
      "Processed and saved: 4098_11012019_TSFEL_output_stats.csv\n",
      "Processed and saved: 4099_12022019_TSFEL_output_stats.csv\n",
      "Processed and saved: 4101_11012019_TSFEL_output_stats.csv\n",
      "Processed and saved: 4102_12012019_TSFEL_output_stats.csv\n",
      "Processed and saved: 4104_01252019_TSFEL_output_stats.csv\n",
      "Processed and saved: 4106_01152019_TSFEL_output_stats.csv\n",
      "Processed and saved: 4108_01282019_TSFEL_output_stats.csv\n",
      "Processed and saved: 4111_02082019_TSFEL_output_stats.csv\n",
      "Processed and saved: 4115_03262019_TSFEL_output_stats.csv\n",
      "Processed and saved: 4117_05102019_TSFEL_output_stats.csv\n",
      "Processed and saved: 41184_04012019_TSFEL_output_stats.csv\n",
      "Processed and saved: 41749_07012019_TSFEL_output_stats.csv\n",
      "Processed and saved: 42724_01222019_TSFEL_output_stats.csv\n",
      "Processed and saved: 50009_04022019_TSFEL_output_stats.csv\n",
      "Processed and saved: 50192_06012019_TSFEL_output_stats.csv\n",
      "Processed and saved: 50222_08192019_TSFEL_output_stats.csv\n",
      "Processed and saved: 50225_08192019_TSFEL_output_stats.csv\n",
      "Processed and saved: 50621_06112019_TSFEL_output_stats.csv\n",
      "Processed and saved: 50670_02132019_TSFEL_output_stats.csv\n",
      "Processed and saved: 50860_11012019_TSFEL_output_stats.csv\n",
      "Processed and saved: 50901_12012019_TSFEL_output_stats.csv\n",
      "Processed and saved: 51186_05162019_TSFEL_output_stats.csv\n",
      "Processed and saved: 51252_07012019_TSFEL_output_stats.csv\n",
      "Processed and saved: 51311_06132019_TSFEL_output_stats.csv\n",
      "Processed and saved: 51518_07222019_TSFEL_output_stats.csv\n",
      "Processed and saved: 51540_10012019_TSFEL_output_stats.csv\n",
      "Processed and saved: 51625_08012019_TSFEL_output_stats.csv\n",
      "Processed and saved: 51731_10092019_TSFEL_output_stats.csv\n",
      "Processed and saved: 51867_09012019_TSFEL_output_stats.csv\n",
      "Processed and saved: 51971_10012019_TSFEL_output_stats.csv\n",
      "Processed and saved: 52062_01032019_TSFEL_output_stats.csv\n",
      "Processed and saved: 52353_11132019_TSFEL_output_stats.csv\n",
      "Processed and saved: 52355_02202019_TSFEL_output_stats.csv\n",
      "Processed and saved: 52400_10012019_TSFEL_output_stats.csv\n",
      "Processed and saved: 52752_03012019_TSFEL_output_stats.csv\n",
      "Processed and saved: 52872_07022019_TSFEL_output_stats.csv\n",
      "Processed and saved: 52874_11012019_TSFEL_output_stats.csv\n",
      "Processed and saved: 52888_06012019_TSFEL_output_stats.csv\n",
      "Processed and saved: 52982_02012019_TSFEL_output_stats.csv\n",
      "Processed and saved: 53054_05012019_TSFEL_output_stats.csv\n",
      "Processed and saved: 53308_06012019_TSFEL_output_stats.csv\n",
      "Processed and saved: 53595_07242019_TSFEL_output_stats.csv\n",
      "Processed and saved: 53600_09112019_TSFEL_output_stats.csv\n",
      "Processed and saved: 53866_05012019_TSFEL_output_stats.csv\n",
      "Processed and saved: 53988_02012019_TSFEL_output_stats.csv\n",
      "Processed and saved: 54110_12022019_TSFEL_output_stats.csv\n",
      "Processed and saved: 54144_03012019_TSFEL_output_stats.csv\n",
      "Processed and saved: 54161_10212019_TSFEL_output_stats.csv\n",
      "Processed and saved: 54196_08082019_TSFEL_output_stats.csv\n",
      "Processed and saved: 54197_06262019_TSFEL_output_stats.csv\n",
      "Processed and saved: 54266_05042019_TSFEL_output_stats.csv\n",
      "Processed and saved: 54309_08012019_TSFEL_output_stats.csv\n",
      "Processed and saved: 54391_10072019_TSFEL_output_stats.csv\n",
      "Processed and saved: 54991_11012019_TSFEL_output_stats.csv\n",
      "Processed and saved: 55098_06072019_TSFEL_output_stats.csv\n",
      "Processed and saved: 55124_08012019_TSFEL_output_stats.csv\n",
      "Processed and saved: 55151_07012019_TSFEL_output_stats.csv\n",
      "Processed and saved: 55251_09012019_TSFEL_output_stats.csv\n",
      "Processed and saved: 55282_07012019_TSFEL_output_stats.csv\n",
      "Processed and saved: 55349_07012019_TSFEL_output_stats.csv\n",
      "Processed and saved: 55441_06272019_TSFEL_output_stats.csv\n",
      "Processed and saved: 55560_08012019_TSFEL_output_stats.csv\n",
      "Processed and saved: 55615_06012019_TSFEL_output_stats.csv\n",
      "Processed and saved: 55822_08082019_TSFEL_output_stats.csv\n",
      "Processed and saved: 55842_08232019_TSFEL_output_stats.csv\n",
      "Processed and saved: 56048_02012019_TSFEL_output_stats.csv\n",
      "Processed and saved: 56136_11012019_TSFEL_output_stats.csv\n",
      "Processed and saved: 56405_05012019_TSFEL_output_stats.csv\n",
      "Processed and saved: 56435_10032019_TSFEL_output_stats.csv\n",
      "Processed and saved: 56492_10042019_TSFEL_output_stats.csv\n",
      "Processed and saved: 56582_04122019_TSFEL_output_stats.csv\n",
      "Processed and saved: 56744_08012019_TSFEL_output_stats.csv\n",
      "Processed and saved: 56779_04052019_TSFEL_output_stats.csv\n",
      "Processed and saved: 56800_03292019_TSFEL_output_stats.csv\n",
      "Processed and saved: 57127_08012019_TSFEL_output_stats.csv\n",
      "Processed and saved: 57234_09012019_TSFEL_output_stats.csv\n",
      "Processed and saved: 57277_01032019_TSFEL_output_stats.csv\n",
      "Processed and saved: 57398_09062019_TSFEL_output_stats.csv\n",
      "Processed and saved: 57887_02132019_TSFEL_output_stats.csv\n",
      "Processed and saved: 58026_08212019_TSFEL_output_stats.csv\n",
      "Processed and saved: 58030_05012019_TSFEL_output_stats.csv\n",
      "Processed and saved: 58074_06012019_TSFEL_output_stats.csv\n",
      "Processed and saved: 58138_03012019_TSFEL_output_stats.csv\n",
      "Processed and saved: 58164_06012019_TSFEL_output_stats.csv\n",
      "Processed and saved: 58342_10312019_TSFEL_output_stats.csv\n",
      "Processed and saved: 58454_07152019_TSFEL_output_stats.csv\n",
      "Processed and saved: 58510_06012019_TSFEL_output_stats.csv\n",
      "Processed and saved: 58550_09012019_TSFEL_output_stats.csv\n",
      "Processed and saved: 58671_08012019_TSFEL_output_stats.csv\n",
      "Processed and saved: 58680_08012019_TSFEL_output_stats.csv\n",
      "Processed and saved: 58721_07182019_TSFEL_output_stats.csv\n",
      "Processed and saved: 58783_08012019_TSFEL_output_stats.csv\n",
      "Processed and saved: 58843_05012019_TSFEL_output_stats.csv\n",
      "Processed and saved: 58916_10012019_TSFEL_output_stats.csv\n",
      "Processed and saved: 59042_10032019_TSFEL_output_stats.csv\n",
      "Processed and saved: 59121_10012019_TSFEL_output_stats.csv\n",
      "Processed and saved: 59174_06012019_TSFEL_output_stats.csv\n",
      "Processed and saved: 59178_07022019_TSFEL_output_stats.csv\n",
      "Processed and saved: 59310_11012019_TSFEL_output_stats.csv\n",
      "Processed and saved: 59409_08282019_TSFEL_output_stats.csv\n",
      "Processed and saved: 59558_07012019_TSFEL_output_stats.csv\n",
      "Processed and saved: 59724_08012019_TSFEL_output_stats.csv\n",
      "Processed and saved: 59797_12012019_TSFEL_output_stats.csv\n",
      "Processed and saved: 60013_10012019_TSFEL_output_stats.csv\n",
      "Processed and saved: 65002_11012019_TSFEL_output_stats.csv\n",
      "Processed and saved: 70035_07012019_TSFEL_output_stats.csv\n",
      "Processed and saved: 70106_08012019_TSFEL_output_stats.csv\n",
      "Processed and saved: 70179_01102019_TSFEL_output_stats.csv\n",
      "Processed and saved: 70188_10012019_TSFEL_output_stats.csv\n",
      "Processed and saved: 70326_08012019_TSFEL_output_stats.csv\n",
      "Processed and saved: 70345_10012019_TSFEL_output_stats.csv\n",
      "Processed and saved: 70378_12012019_TSFEL_output_stats.csv\n",
      "Processed and saved: 70432_09092019_TSFEL_output_stats.csv\n",
      "Processed and saved: 70519_11222019_TSFEL_output_stats.csv\n",
      "Processed and saved: 70631_11012019_TSFEL_output_stats.csv\n",
      "Processed and saved: 70645_09012019_TSFEL_output_stats.csv\n",
      "Processed and saved: 70652_10012019_TSFEL_output_stats.csv\n",
      "Processed and saved: 70659_11012019_TSFEL_output_stats.csv\n",
      "Processed and saved: 70810_03272019_TSFEL_output_stats.csv\n",
      "Processed and saved: 71065_01012019_TSFEL_output_stats.csv\n",
      "Processed and saved: 71189_10102019_TSFEL_output_stats.csv\n",
      "Processed and saved: 71215_05312019_TSFEL_output_stats.csv\n",
      "Processed and saved: 71394_03012019_TSFEL_output_stats.csv\n",
      "Processed and saved: 71658_11012019_TSFEL_output_stats.csv\n",
      "Processed and saved: 71770_12012019_TSFEL_output_stats.csv\n",
      "Processed and saved: 71809_11012019_TSFEL_output_stats.csv\n",
      "Processed and saved: 72110_09012019_TSFEL_output_stats.csv\n",
      "Processed and saved: 72138_12012019_TSFEL_output_stats.csv\n",
      "Processed and saved: 72222_04012019_TSFEL_output_stats.csv\n",
      "Processed and saved: 72352_01012019_TSFEL_output_stats.csv\n",
      "Processed and saved: 72419_10012019_TSFEL_output_stats.csv\n",
      "Processed and saved: 72651_09122019_TSFEL_output_stats.csv\n",
      "Processed and saved: 72784_12122019_TSFEL_output_stats.csv\n",
      "Processed and saved: 72877_11222019_TSFEL_output_stats.csv\n",
      "Processed and saved: 73082_06012019_TSFEL_output_stats.csv\n",
      "Processed and saved: 73134_01012019_TSFEL_output_stats.csv\n",
      "Processed and saved: 73134_12012019_TSFEL_output_stats.csv\n",
      "Processed and saved: 73397_10182019_TSFEL_output_stats.csv\n",
      "Processed and saved: 73432_10012019_TSFEL_output_stats.csv\n",
      "Processed and saved: 73614_02012019_TSFEL_output_stats.csv\n",
      "Processed and saved: 73787_12012019_TSFEL_output_stats.csv\n",
      "Processed and saved: 73887_07012019_TSFEL_output_stats.csv\n",
      "Processed and saved: 73935_11012019_TSFEL_output_stats.csv\n",
      "Processed and saved: 74034_04012019_TSFEL_output_stats.csv\n",
      "Processed and saved: 74067_05012019_TSFEL_output_stats.csv\n",
      "Processed and saved: 74251_12022019_TSFEL_output_stats.csv\n",
      "Processed and saved: 74497_10012019_TSFEL_output_stats.csv\n",
      "Processed and saved: 74696_11012019_TSFEL_output_stats.csv\n",
      "Processed and saved: 75403_05312019_TSFEL_output_stats.csv\n",
      "Processed and saved: 75411_11202019_TSFEL_output_stats.csv\n",
      "Processed and saved: 75420_09012019_TSFEL_output_stats.csv\n",
      "Processed and saved: 75421_10162019_TSFEL_output_stats.csv\n",
      "Processed and saved: 75423_11012019_TSFEL_output_stats.csv\n",
      "Processed and saved: 75434_11012019_TSFEL_output_stats.csv\n",
      "Processed and saved: 75484_12022019_TSFEL_output_stats.csv\n",
      "Processed and saved: 75492_10012019_TSFEL_output_stats.csv\n",
      "Processed and saved: 75496_10012019_TSFEL_output_stats.csv\n",
      "Processed and saved: 75508_11012019_TSFEL_output_stats.csv\n",
      "Processed and saved: 75512_12012019_TSFEL_output_stats.csv\n",
      "Processed and saved: 75547_12012019_TSFEL_output_stats.csv\n",
      "Processed and saved: 90456_09012019_TSFEL_output_stats.csv\n",
      "Processed and saved: 91097_07112019_TSFEL_output_stats.csv\n"
     ]
    }
   ],
   "source": [
    "import os\n",
    "import pandas as pd\n",
    "\n",
    "def process_files(input_directory, output_directory):\n",
    "    # Ensure the output directory exists\n",
    "    if not os.path.exists(output_directory):\n",
    "        os.makedirs(output_directory)\n",
    "\n",
    "    # Iterate over all files in the input directory\n",
    "    for filename in os.listdir(input_directory):\n",
    "        if filename.endswith(\".csv\"):\n",
    "            # Construct the full file path\n",
    "            file_path = os.path.join(input_directory, filename)\n",
    "            \n",
    "            # Load the CSV file\n",
    "            data = pd.read_csv(file_path)\n",
    "            \n",
    "            # Calculate descriptive statistics and drop 'count'\n",
    "            descriptive_stats = data.describe().drop('count')\n",
    "            \n",
    "            # Flatten the DataFrame to a single row per feature set\n",
    "            descriptive_stats_flat = descriptive_stats.unstack().to_frame().T\n",
    "            \n",
    "            # Create new column names by combining the statistic with the feature name\n",
    "            descriptive_stats_flat.columns = ['{}_{}'.format(stat, feature) for feature, stat in descriptive_stats_flat.columns]\n",
    "            \n",
    "            # Construct the output file path\n",
    "            base_filename = os.path.splitext(filename)[0]\n",
    "            output_filename = f\"{base_filename}_stats.csv\"\n",
    "            output_filepath = os.path.join(output_directory, output_filename)\n",
    "            \n",
    "            # Save the flattened descriptive statistics to CSV\n",
    "            descriptive_stats_flat.to_csv(output_filepath, index=False)\n",
    "            \n",
    "            print(f\"Processed and saved: {output_filename}\")\n",
    "\n",
    "# Define the input and output directories\n",
    "input_directory = 'D:\\\\Parkinson\\'s\\\\Feature extraction\\\\Features_Extraction_15mins'\n",
    "output_directory = 'D:\\\\Parkinson\\'s\\\\Feature extraction\\\\Features_Extraction_15mins\\\\Stats'\n",
    "\n",
    "# Process all files\n",
    "process_files(input_directory, output_directory)"
   ]
  },
  {
   "cell_type": "code",
   "execution_count": 6,
   "id": "3ef6bda5",
   "metadata": {},
   "outputs": [
    {
     "name": "stdout",
     "output_type": "stream",
     "text": [
      "Combined file with patient numbers saved as: D:\\Parkinson's\\Feature extraction\\Features_Extraction_15mins\\TSFEL_features_15Mins_Stats_combine.xlsx\n"
     ]
    }
   ],
   "source": [
    "import os\n",
    "import pandas as pd\n",
    "\n",
    "def combine_files_with_patient_number(input_directory, output_filename):\n",
    "    combined_df = pd.DataFrame()  # Initialize an empty DataFrame to hold combined data\n",
    "    \n",
    "    # Iterate over all files in the input directory\n",
    "    for filename in os.listdir(input_directory):\n",
    "        if filename.endswith(\".csv\"):  # Ensure we're only processing CSV files\n",
    "            file_path = os.path.join(input_directory, filename)\n",
    "            # Extract the patient number from the filename\n",
    "            patient_number = filename.split('_')[0]\n",
    "            # Read the current file into a DataFrame\n",
    "            temp_df = pd.read_csv(file_path)\n",
    "            # Add the patient number as a new column\n",
    "            temp_df['PatientNumber'] = patient_number\n",
    "            # Append the data from the current file to the combined DataFrame\n",
    "            combined_df = pd.concat([combined_df, temp_df], axis=0, ignore_index=True)\n",
    "    \n",
    "    # Save the combined DataFrame to an Excel file\n",
    "    combined_df.to_excel(output_filename, index=False)\n",
    "    print(f\"Combined file with patient numbers saved as: {output_filename}\")\n",
    "\n",
    "# Define the input directory and output filename\n",
    "input_directory = 'D:\\\\Parkinson\\'s\\\\Feature extraction\\\\Features_Extraction_15mins\\\\Stats'\n",
    "output_filename = 'D:\\\\Parkinson\\'s\\\\Feature extraction\\\\Features_Extraction_15mins\\\\TSFEL_features_15Mins_Stats_combine.xlsx'\n",
    "\n",
    "# Combine all files and include patient numbers\n",
    "combine_files_with_patient_number(input_directory, output_filename)"
   ]
  },
  {
   "cell_type": "code",
   "execution_count": 7,
   "id": "3d2e9044",
   "metadata": {},
   "outputs": [
    {
     "name": "stderr",
     "output_type": "stream",
     "text": [
      "C:\\Users\\upama\\AppData\\Local\\Temp\\ipykernel_23732\\3565203617.py:18: SettingWithCopyWarning: \n",
      "A value is trying to be set on a copy of a slice from a DataFrame.\n",
      "Try using .loc[row_indexer,col_indexer] = value instead\n",
      "\n",
      "See the caveats in the documentation: https://pandas.pydata.org/pandas-docs/stable/user_guide/indexing.html#returning-a-view-versus-a-copy\n",
      "  additional_df_filtered['PATNO'] = additional_df_filtered['PATNO'].astype(str)\n"
     ]
    },
    {
     "name": "stdout",
     "output_type": "stream",
     "text": [
      "Combined file has been updated and saved back to: D:\\Parkinson's\\Feature extraction\\Features_Extraction_15mins\\TSFEL_features_15Mins_Stats_combine.xlsx\n"
     ]
    }
   ],
   "source": [
    "import pandas as pd\n",
    "\n",
    "# Load the combined TSFEL features Excel file\n",
    "combined_path = 'D:\\\\Parkinson\\'s\\\\Feature extraction\\\\Features_Extraction_15mins\\\\TSFEL_features_15Mins_Stats_combine.xlsx'\n",
    "combined_df = pd.read_excel(combined_path)\n",
    "\n",
    "# Load the additional data Excel file and the specific sheet\n",
    "additional_data_path = 'D:\\\\Data Count (2).xlsx'\n",
    "additional_df = pd.read_excel(additional_data_path, sheet_name='2019 Data Match')\n",
    "\n",
    "# We're interested in the following columns from the additional data\n",
    "additional_columns = ['PATNO', 'MOCA(2019)', 'Age', 'Sex', 'EDUCATION YEARS', 'Parkinson\\'s Vs Control']\n",
    "\n",
    "# Filter the additional data DataFrame to only include these columns\n",
    "additional_df_filtered = additional_df[additional_columns]\n",
    "\n",
    "# Convert PATNO to string if it's not already, to ensure matching works correctly\n",
    "additional_df_filtered['PATNO'] = additional_df_filtered['PATNO'].astype(str)\n",
    "combined_df['PatientNumber'] = combined_df['PatientNumber'].astype(str)\n",
    "\n",
    "# Merge the combined DataFrame with the additional information\n",
    "# This assumes 'PatientNumber' in the combined_df matches 'PATNO' in the additional_df_filtered\n",
    "combined_updated_df = pd.merge(combined_df, additional_df_filtered, left_on='PatientNumber', right_on='PATNO', how='left')\n",
    "\n",
    "# Drop the PATNO column after the merge, as it's redundant\n",
    "combined_updated_df.drop('PATNO', axis=1, inplace=True)\n",
    "\n",
    "# Save the updated combined DataFrame back to Excel\n",
    "combined_updated_df.to_excel(combined_path, index=False)\n",
    "\n",
    "print(f\"Combined file has been updated and saved back to: {combined_path}\")"
   ]
  },
  {
   "cell_type": "code",
   "execution_count": null,
   "id": "119fb5cf",
   "metadata": {},
   "outputs": [],
   "source": []
  }
 ],
 "metadata": {
  "kernelspec": {
   "display_name": "Python 3 (ipykernel)",
   "language": "python",
   "name": "python3"
  },
  "language_info": {
   "codemirror_mode": {
    "name": "ipython",
    "version": 3
   },
   "file_extension": ".py",
   "mimetype": "text/x-python",
   "name": "python",
   "nbconvert_exporter": "python",
   "pygments_lexer": "ipython3",
   "version": "3.11.5"
  }
 },
 "nbformat": 4,
 "nbformat_minor": 5
}
